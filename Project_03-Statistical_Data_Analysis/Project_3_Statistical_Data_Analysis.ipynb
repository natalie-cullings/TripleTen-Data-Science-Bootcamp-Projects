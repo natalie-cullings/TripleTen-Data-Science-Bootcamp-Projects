{
 "cells": [
  {
   "cell_type": "markdown",
   "metadata": {},
   "source": [
    "# Project 3: Statistical Data Analysis\n",
    "#### *Telecommmunications Plan Revenue Analysis*"
   ]
  },
  {
   "cell_type": "markdown",
   "metadata": {},
   "source": [
    "## Initialization"
   ]
  },
  {
   "cell_type": "code",
   "execution_count": null,
   "metadata": {},
   "outputs": [],
   "source": [
    "# load the necessary libraries\n",
    "import pandas as pd\n",
    "import numpy as np\n",
    "import seaborn as sns\n",
    "import matplotlib.pyplot as plt\n",
    "\n",
    "from scipy import stats as st"
   ]
  },
  {
   "cell_type": "markdown",
   "metadata": {},
   "source": [
    "## Load the Data"
   ]
  },
  {
   "cell_type": "code",
   "execution_count": 3,
   "metadata": {},
   "outputs": [],
   "source": [
    "# load the data files into different DataFrames\n",
    "calls = pd.read_csv('megaline_calls.csv')\n",
    "\n",
    "internet = pd.read_csv('megaline_internet.csv')\n",
    "\n",
    "messages = pd.read_csv('megaline_messages.csv')\n",
    "\n",
    "plans = pd.read_csv('megaline_plans.csv')\n",
    "\n",
    "users = pd.read_csv('megaline_users.csv')"
   ]
  },
  {
   "cell_type": "markdown",
   "metadata": {},
   "source": [
    "## Plans"
   ]
  },
  {
   "cell_type": "markdown",
   "metadata": {},
   "source": [
    "### Prepare Data"
   ]
  },
  {
   "cell_type": "code",
   "execution_count": null,
   "metadata": {},
   "outputs": [
    {
     "name": "stdout",
     "output_type": "stream",
     "text": [
      "<class 'pandas.core.frame.DataFrame'>\n",
      "RangeIndex: 2 entries, 0 to 1\n",
      "Data columns (total 8 columns):\n",
      " #   Column                 Non-Null Count  Dtype  \n",
      "---  ------                 --------------  -----  \n",
      " 0   messages_included      2 non-null      int64  \n",
      " 1   mb_per_month_included  2 non-null      int64  \n",
      " 2   minutes_included       2 non-null      int64  \n",
      " 3   usd_monthly_pay        2 non-null      int64  \n",
      " 4   usd_per_gb             2 non-null      int64  \n",
      " 5   usd_per_message        2 non-null      float64\n",
      " 6   usd_per_minute         2 non-null      float64\n",
      " 7   plan_name              2 non-null      object \n",
      "dtypes: float64(2), int64(5), object(1)\n",
      "memory usage: 256.0+ bytes\n"
     ]
    }
   ],
   "source": [
    "# print info about the plans' DataFrame\n",
    "plans.info()"
   ]
  },
  {
   "cell_type": "code",
   "execution_count": 5,
   "metadata": {
    "scrolled": true
   },
   "outputs": [
    {
     "data": {
      "text/html": [
       "<div>\n",
       "<style scoped>\n",
       "    .dataframe tbody tr th:only-of-type {\n",
       "        vertical-align: middle;\n",
       "    }\n",
       "\n",
       "    .dataframe tbody tr th {\n",
       "        vertical-align: top;\n",
       "    }\n",
       "\n",
       "    .dataframe thead th {\n",
       "        text-align: right;\n",
       "    }\n",
       "</style>\n",
       "<table border=\"1\" class=\"dataframe\">\n",
       "  <thead>\n",
       "    <tr style=\"text-align: right;\">\n",
       "      <th></th>\n",
       "      <th>messages_included</th>\n",
       "      <th>mb_per_month_included</th>\n",
       "      <th>minutes_included</th>\n",
       "      <th>usd_monthly_pay</th>\n",
       "      <th>usd_per_gb</th>\n",
       "      <th>usd_per_message</th>\n",
       "      <th>usd_per_minute</th>\n",
       "      <th>plan_name</th>\n",
       "    </tr>\n",
       "  </thead>\n",
       "  <tbody>\n",
       "    <tr>\n",
       "      <th>1</th>\n",
       "      <td>1000</td>\n",
       "      <td>30720</td>\n",
       "      <td>3000</td>\n",
       "      <td>70</td>\n",
       "      <td>7</td>\n",
       "      <td>0.01</td>\n",
       "      <td>0.01</td>\n",
       "      <td>ultimate</td>\n",
       "    </tr>\n",
       "    <tr>\n",
       "      <th>0</th>\n",
       "      <td>50</td>\n",
       "      <td>15360</td>\n",
       "      <td>500</td>\n",
       "      <td>20</td>\n",
       "      <td>10</td>\n",
       "      <td>0.03</td>\n",
       "      <td>0.03</td>\n",
       "      <td>surf</td>\n",
       "    </tr>\n",
       "  </tbody>\n",
       "</table>\n",
       "</div>"
      ],
      "text/plain": [
       "   messages_included  mb_per_month_included  minutes_included  \\\n",
       "1               1000                  30720              3000   \n",
       "0                 50                  15360               500   \n",
       "\n",
       "   usd_monthly_pay  usd_per_gb  usd_per_message  usd_per_minute plan_name  \n",
       "1               70           7             0.01            0.01  ultimate  \n",
       "0               20          10             0.03            0.03      surf  "
      ]
     },
     "execution_count": 5,
     "metadata": {},
     "output_type": "execute_result"
    }
   ],
   "source": [
    "# print a sample of data for plans\n",
    "plans.sample(2)"
   ]
  },
  {
   "cell_type": "markdown",
   "metadata": {},
   "source": [
    "The columns `usd_monthly_pay` and `usd_per_gb` should be converted to float values to reflect the dollar amount with cents (and also for the sake of uniformity with the `usd_per_message` and `usd_per_minute` fields).\n",
    "\n",
    "Additionally, while perhaps not necessarily a problem, `usd_per_gb` is in terms of gb while `mb_per_month_included` are in terms of gb. It could be ideal to convert one metric or another into the same unit of measurement."
   ]
  },
  {
   "cell_type": "markdown",
   "metadata": {},
   "source": [
    "### Fix Data"
   ]
  },
  {
   "cell_type": "code",
   "execution_count": 6,
   "metadata": {},
   "outputs": [],
   "source": [
    "# convert usd_per_gb and usd_monthly_pay to float values\n",
    "plans['usd_monthly_pay'] = plans['usd_monthly_pay'].astype(float)\n",
    "plans['usd_per_gb'] = plans['usd_per_gb'].astype(float)"
   ]
  },
  {
   "cell_type": "markdown",
   "metadata": {},
   "source": [
    "### Enrich Data"
   ]
  },
  {
   "cell_type": "code",
   "execution_count": 7,
   "metadata": {},
   "outputs": [],
   "source": [
    "# create column to convert mb_per_month_included_to gb_per_month_included\n",
    "plans['gb_per_month_included'] = (plans['mb_per_month_included']/1024).astype(int)"
   ]
  },
  {
   "cell_type": "markdown",
   "metadata": {},
   "source": [
    "## Users"
   ]
  },
  {
   "cell_type": "markdown",
   "metadata": {},
   "source": [
    "### Prepare Data"
   ]
  },
  {
   "cell_type": "code",
   "execution_count": null,
   "metadata": {},
   "outputs": [
    {
     "name": "stdout",
     "output_type": "stream",
     "text": [
      "<class 'pandas.core.frame.DataFrame'>\n",
      "RangeIndex: 500 entries, 0 to 499\n",
      "Data columns (total 8 columns):\n",
      " #   Column      Non-Null Count  Dtype \n",
      "---  ------      --------------  ----- \n",
      " 0   user_id     500 non-null    int64 \n",
      " 1   first_name  500 non-null    object\n",
      " 2   last_name   500 non-null    object\n",
      " 3   age         500 non-null    int64 \n",
      " 4   city        500 non-null    object\n",
      " 5   reg_date    500 non-null    object\n",
      " 6   plan        500 non-null    object\n",
      " 7   churn_date  34 non-null     object\n",
      "dtypes: int64(2), object(6)\n",
      "memory usage: 31.4+ KB\n",
      "\n"
     ]
    },
    {
     "data": {
      "text/html": [
       "<div>\n",
       "<style scoped>\n",
       "    .dataframe tbody tr th:only-of-type {\n",
       "        vertical-align: middle;\n",
       "    }\n",
       "\n",
       "    .dataframe tbody tr th {\n",
       "        vertical-align: top;\n",
       "    }\n",
       "\n",
       "    .dataframe thead th {\n",
       "        text-align: right;\n",
       "    }\n",
       "</style>\n",
       "<table border=\"1\" class=\"dataframe\">\n",
       "  <thead>\n",
       "    <tr style=\"text-align: right;\">\n",
       "      <th></th>\n",
       "      <th>user_id</th>\n",
       "      <th>age</th>\n",
       "    </tr>\n",
       "  </thead>\n",
       "  <tbody>\n",
       "    <tr>\n",
       "      <th>count</th>\n",
       "      <td>500.000000</td>\n",
       "      <td>500.000000</td>\n",
       "    </tr>\n",
       "    <tr>\n",
       "      <th>mean</th>\n",
       "      <td>1249.500000</td>\n",
       "      <td>45.486000</td>\n",
       "    </tr>\n",
       "    <tr>\n",
       "      <th>std</th>\n",
       "      <td>144.481833</td>\n",
       "      <td>16.972269</td>\n",
       "    </tr>\n",
       "    <tr>\n",
       "      <th>min</th>\n",
       "      <td>1000.000000</td>\n",
       "      <td>18.000000</td>\n",
       "    </tr>\n",
       "    <tr>\n",
       "      <th>25%</th>\n",
       "      <td>1124.750000</td>\n",
       "      <td>30.000000</td>\n",
       "    </tr>\n",
       "    <tr>\n",
       "      <th>50%</th>\n",
       "      <td>1249.500000</td>\n",
       "      <td>46.000000</td>\n",
       "    </tr>\n",
       "    <tr>\n",
       "      <th>75%</th>\n",
       "      <td>1374.250000</td>\n",
       "      <td>61.000000</td>\n",
       "    </tr>\n",
       "    <tr>\n",
       "      <th>max</th>\n",
       "      <td>1499.000000</td>\n",
       "      <td>75.000000</td>\n",
       "    </tr>\n",
       "  </tbody>\n",
       "</table>\n",
       "</div>"
      ],
      "text/plain": [
       "           user_id         age\n",
       "count   500.000000  500.000000\n",
       "mean   1249.500000   45.486000\n",
       "std     144.481833   16.972269\n",
       "min    1000.000000   18.000000\n",
       "25%    1124.750000   30.000000\n",
       "50%    1249.500000   46.000000\n",
       "75%    1374.250000   61.000000\n",
       "max    1499.000000   75.000000"
      ]
     },
     "execution_count": 8,
     "metadata": {},
     "output_type": "execute_result"
    }
   ],
   "source": [
    "# print info about the users' DataFrame\n",
    "users.info()\n",
    "\n",
    "# check for duplicate values\n",
    "users.duplicated().sum()\n",
    "\n",
    "# describe the dataframe\n",
    "users.describe()"
   ]
  },
  {
   "cell_type": "code",
   "execution_count": 9,
   "metadata": {
    "scrolled": true
   },
   "outputs": [
    {
     "data": {
      "text/html": [
       "<div>\n",
       "<style scoped>\n",
       "    .dataframe tbody tr th:only-of-type {\n",
       "        vertical-align: middle;\n",
       "    }\n",
       "\n",
       "    .dataframe tbody tr th {\n",
       "        vertical-align: top;\n",
       "    }\n",
       "\n",
       "    .dataframe thead th {\n",
       "        text-align: right;\n",
       "    }\n",
       "</style>\n",
       "<table border=\"1\" class=\"dataframe\">\n",
       "  <thead>\n",
       "    <tr style=\"text-align: right;\">\n",
       "      <th></th>\n",
       "      <th>user_id</th>\n",
       "      <th>first_name</th>\n",
       "      <th>last_name</th>\n",
       "      <th>age</th>\n",
       "      <th>city</th>\n",
       "      <th>reg_date</th>\n",
       "      <th>plan</th>\n",
       "      <th>churn_date</th>\n",
       "    </tr>\n",
       "  </thead>\n",
       "  <tbody>\n",
       "    <tr>\n",
       "      <th>469</th>\n",
       "      <td>1469</td>\n",
       "      <td>Rory</td>\n",
       "      <td>Nixon</td>\n",
       "      <td>75</td>\n",
       "      <td>New York-Newark-Jersey City, NY-NJ-PA MSA</td>\n",
       "      <td>2018-06-04</td>\n",
       "      <td>surf</td>\n",
       "      <td>NaN</td>\n",
       "    </tr>\n",
       "    <tr>\n",
       "      <th>477</th>\n",
       "      <td>1477</td>\n",
       "      <td>Magaly</td>\n",
       "      <td>Rivas</td>\n",
       "      <td>52</td>\n",
       "      <td>Riverside-San Bernardino-Ontario, CA MSA</td>\n",
       "      <td>2018-08-24</td>\n",
       "      <td>ultimate</td>\n",
       "      <td>NaN</td>\n",
       "    </tr>\n",
       "    <tr>\n",
       "      <th>71</th>\n",
       "      <td>1071</td>\n",
       "      <td>Isa</td>\n",
       "      <td>Roy</td>\n",
       "      <td>29</td>\n",
       "      <td>New York-Newark-Jersey City, NY-NJ-PA MSA</td>\n",
       "      <td>2018-05-23</td>\n",
       "      <td>surf</td>\n",
       "      <td>NaN</td>\n",
       "    </tr>\n",
       "    <tr>\n",
       "      <th>3</th>\n",
       "      <td>1003</td>\n",
       "      <td>Reynaldo</td>\n",
       "      <td>Jenkins</td>\n",
       "      <td>52</td>\n",
       "      <td>Tulsa, OK MSA</td>\n",
       "      <td>2018-01-28</td>\n",
       "      <td>surf</td>\n",
       "      <td>NaN</td>\n",
       "    </tr>\n",
       "    <tr>\n",
       "      <th>491</th>\n",
       "      <td>1491</td>\n",
       "      <td>Terina</td>\n",
       "      <td>Jensen</td>\n",
       "      <td>22</td>\n",
       "      <td>Grand Rapids-Kentwood, MI MSA</td>\n",
       "      <td>2018-04-27</td>\n",
       "      <td>surf</td>\n",
       "      <td>2018-09-18</td>\n",
       "    </tr>\n",
       "  </tbody>\n",
       "</table>\n",
       "</div>"
      ],
      "text/plain": [
       "     user_id first_name last_name  age  \\\n",
       "469     1469       Rory     Nixon   75   \n",
       "477     1477     Magaly     Rivas   52   \n",
       "71      1071        Isa       Roy   29   \n",
       "3       1003   Reynaldo   Jenkins   52   \n",
       "491     1491     Terina    Jensen   22   \n",
       "\n",
       "                                          city    reg_date      plan  \\\n",
       "469  New York-Newark-Jersey City, NY-NJ-PA MSA  2018-06-04      surf   \n",
       "477   Riverside-San Bernardino-Ontario, CA MSA  2018-08-24  ultimate   \n",
       "71   New York-Newark-Jersey City, NY-NJ-PA MSA  2018-05-23      surf   \n",
       "3                                Tulsa, OK MSA  2018-01-28      surf   \n",
       "491              Grand Rapids-Kentwood, MI MSA  2018-04-27      surf   \n",
       "\n",
       "     churn_date  \n",
       "469         NaN  \n",
       "477         NaN  \n",
       "71          NaN  \n",
       "3           NaN  \n",
       "491  2018-09-18  "
      ]
     },
     "execution_count": 9,
     "metadata": {},
     "output_type": "execute_result"
    }
   ],
   "source": [
    "# print a sample of data for users\n",
    "users.sample(5)"
   ]
  },
  {
   "cell_type": "markdown",
   "metadata": {},
   "source": [
    "The `reg_date` and `churn_date` columns are both object data types but should be datetime data types.\n",
    "\n",
    "Only 6.8% of users in this sample had churned at the time when the sample was extracted. This means only 34 were churned at the point of the extraction and the rest of the values are NaN. This is to be expected, but we may have to replace the NaN values with a different value later.\n",
    "\n",
    "The median and mean value of the `age` column in this sample is 46 and 45.48, respectively. The distribution of customers by age is therefore just ever so slightly right-skewed (median > mean), but otherwise seems to be fairly normally distributed.\n",
    "\n",
    "The `city` object represents the MSA the customer lives in and therefore contains the names of multiple cities and even multiple states in some cases.\n"
   ]
  },
  {
   "cell_type": "markdown",
   "metadata": {},
   "source": [
    "### Fix Data"
   ]
  },
  {
   "cell_type": "code",
   "execution_count": 10,
   "metadata": {},
   "outputs": [],
   "source": [
    "# convert reg_date and churn_date to datetime data types\n",
    "users['reg_date'] = pd.to_datetime(users['reg_date'], format='%Y-%m-%d')\n",
    "users['churn_date'] = pd.to_datetime(users['churn_date'], format='%Y-%m-%d')"
   ]
  },
  {
   "cell_type": "markdown",
   "metadata": {},
   "source": [
    "### Enrich Data"
   ]
  },
  {
   "cell_type": "code",
   "execution_count": 11,
   "metadata": {},
   "outputs": [],
   "source": [
    "# create a column for the month the user registered in\n",
    "users['reg_month'] = (users['reg_date'].dt.month).astype('int')\n",
    "\n",
    "# create a column for whether the customer churned or not\n",
    "users['is_churned'] = ~users['churn_date'].isna()"
   ]
  },
  {
   "cell_type": "markdown",
   "metadata": {},
   "source": [
    "## Calls"
   ]
  },
  {
   "cell_type": "markdown",
   "metadata": {},
   "source": [
    "### Prepare Data"
   ]
  },
  {
   "cell_type": "code",
   "execution_count": 12,
   "metadata": {},
   "outputs": [
    {
     "name": "stdout",
     "output_type": "stream",
     "text": [
      "<class 'pandas.core.frame.DataFrame'>\n",
      "RangeIndex: 137735 entries, 0 to 137734\n",
      "Data columns (total 4 columns):\n",
      " #   Column     Non-Null Count   Dtype  \n",
      "---  ------     --------------   -----  \n",
      " 0   id         137735 non-null  object \n",
      " 1   user_id    137735 non-null  int64  \n",
      " 2   call_date  137735 non-null  object \n",
      " 3   duration   137735 non-null  float64\n",
      "dtypes: float64(1), int64(1), object(2)\n",
      "memory usage: 4.2+ MB\n",
      "\n"
     ]
    },
    {
     "data": {
      "text/plain": [
       "count    137735.000000\n",
       "mean          6.745927\n",
       "std           5.839241\n",
       "min           0.000000\n",
       "25%           1.290000\n",
       "50%           5.980000\n",
       "75%          10.690000\n",
       "max          37.600000\n",
       "Name: duration, dtype: float64"
      ]
     },
     "execution_count": 12,
     "metadata": {},
     "output_type": "execute_result"
    }
   ],
   "source": [
    "# print the general/summary information about the calls' DataFrame\n",
    "calls.info()\n",
    "\n",
    "# check for duplicate values\n",
    "calls.duplicated().sum()\n",
    "\n",
    "print()\n",
    "# describe the dataframe\n",
    "calls['duration'].describe()"
   ]
  },
  {
   "cell_type": "code",
   "execution_count": 13,
   "metadata": {},
   "outputs": [
    {
     "data": {
      "text/html": [
       "<div>\n",
       "<style scoped>\n",
       "    .dataframe tbody tr th:only-of-type {\n",
       "        vertical-align: middle;\n",
       "    }\n",
       "\n",
       "    .dataframe tbody tr th {\n",
       "        vertical-align: top;\n",
       "    }\n",
       "\n",
       "    .dataframe thead th {\n",
       "        text-align: right;\n",
       "    }\n",
       "</style>\n",
       "<table border=\"1\" class=\"dataframe\">\n",
       "  <thead>\n",
       "    <tr style=\"text-align: right;\">\n",
       "      <th></th>\n",
       "      <th>id</th>\n",
       "      <th>user_id</th>\n",
       "      <th>call_date</th>\n",
       "      <th>duration</th>\n",
       "    </tr>\n",
       "  </thead>\n",
       "  <tbody>\n",
       "    <tr>\n",
       "      <th>96896</th>\n",
       "      <td>1346_121</td>\n",
       "      <td>1346</td>\n",
       "      <td>2018-09-20</td>\n",
       "      <td>6.82</td>\n",
       "    </tr>\n",
       "    <tr>\n",
       "      <th>42380</th>\n",
       "      <td>1155_356</td>\n",
       "      <td>1155</td>\n",
       "      <td>2018-03-15</td>\n",
       "      <td>5.64</td>\n",
       "    </tr>\n",
       "    <tr>\n",
       "      <th>43816</th>\n",
       "      <td>1159_412</td>\n",
       "      <td>1159</td>\n",
       "      <td>2018-10-27</td>\n",
       "      <td>0.00</td>\n",
       "    </tr>\n",
       "    <tr>\n",
       "      <th>30183</th>\n",
       "      <td>1113_507</td>\n",
       "      <td>1113</td>\n",
       "      <td>2018-08-06</td>\n",
       "      <td>7.09</td>\n",
       "    </tr>\n",
       "    <tr>\n",
       "      <th>135228</th>\n",
       "      <td>1491_22</td>\n",
       "      <td>1491</td>\n",
       "      <td>2018-05-11</td>\n",
       "      <td>2.66</td>\n",
       "    </tr>\n",
       "  </tbody>\n",
       "</table>\n",
       "</div>"
      ],
      "text/plain": [
       "              id  user_id   call_date  duration\n",
       "96896   1346_121     1346  2018-09-20      6.82\n",
       "42380   1155_356     1155  2018-03-15      5.64\n",
       "43816   1159_412     1159  2018-10-27      0.00\n",
       "30183   1113_507     1113  2018-08-06      7.09\n",
       "135228   1491_22     1491  2018-05-11      2.66"
      ]
     },
     "execution_count": 13,
     "metadata": {},
     "output_type": "execute_result"
    }
   ],
   "source": [
    "# print a sample of data for calls\n",
    "calls.sample(5)"
   ]
  },
  {
   "cell_type": "markdown",
   "metadata": {},
   "source": [
    "The median and mean value of the `duration` (of a call) column is 5.98 minutes and 5.83 minutes, respectively. When rounded up (since users pay for the length of their call rounded up to the next minute), the duration data follows a normal distribution.\n",
    "\n",
    "The (call) `id` is an object because it has underscores within the otherwise numeric data. We can remove the underscores and convert the column to be type int to follow best practices for the data type that generally numeric ids should be.\n",
    "\n",
    "The `call_date` should be a datetime data type.\n",
    "\n",
    "The duration of a user's call is sometimes 0.00, which may reflect a call that was made but that didn't go through (perhaps the party being called did not answer). This shouldn't interfere with calculations related to the cost of a call since the call has no duration to round up to the next nearest minute. It would however, affect the call volume and average call duration rate. It may be intentional to include these calls in the calculation, however. Ideally, we would clarify with the relevant business partner(s) at Megaline if we should include calls of no duration in our volume of calls and avg. call duration metrics."
   ]
  },
  {
   "cell_type": "markdown",
   "metadata": {},
   "source": [
    "### Fix Data"
   ]
  },
  {
   "cell_type": "code",
   "execution_count": 14,
   "metadata": {},
   "outputs": [],
   "source": [
    "# convert call_date to a datetime data type\n",
    "calls['call_date'] = pd.to_datetime(calls['call_date'], format='%Y-%m-%d')\n",
    "\n",
    "# replace '_' with '' in the id column and convert the column to an int data type\n",
    "calls['id'] = calls['id'].replace('_','').astype(int)"
   ]
  },
  {
   "cell_type": "markdown",
   "metadata": {},
   "source": [
    "### Enrich Data"
   ]
  },
  {
   "cell_type": "code",
   "execution_count": 15,
   "metadata": {},
   "outputs": [],
   "source": [
    "# create a new version of duration that is rounded up to the next minute - store this value as an int\n",
    "calls['duration_rounded_up'] = np.ceil(calls['duration']).astype(int)\n",
    "\n",
    "# create column for the month that the call was made\n",
    "calls['call_month'] = calls['call_date'].dt.month"
   ]
  },
  {
   "cell_type": "markdown",
   "metadata": {},
   "source": [
    "We created a version of the duration field that is rounded up to the next minute since this is how customers are charged for the length of their calls."
   ]
  },
  {
   "cell_type": "markdown",
   "metadata": {},
   "source": [
    "## Messages"
   ]
  },
  {
   "cell_type": "markdown",
   "metadata": {},
   "source": [
    "### Prepare Data"
   ]
  },
  {
   "cell_type": "code",
   "execution_count": 16,
   "metadata": {},
   "outputs": [
    {
     "name": "stdout",
     "output_type": "stream",
     "text": [
      "<class 'pandas.core.frame.DataFrame'>\n",
      "RangeIndex: 76051 entries, 0 to 76050\n",
      "Data columns (total 3 columns):\n",
      " #   Column        Non-Null Count  Dtype \n",
      "---  ------        --------------  ----- \n",
      " 0   id            76051 non-null  object\n",
      " 1   user_id       76051 non-null  int64 \n",
      " 2   message_date  76051 non-null  object\n",
      "dtypes: int64(1), object(2)\n",
      "memory usage: 1.7+ MB\n"
     ]
    },
    {
     "data": {
      "text/html": [
       "<div>\n",
       "<style scoped>\n",
       "    .dataframe tbody tr th:only-of-type {\n",
       "        vertical-align: middle;\n",
       "    }\n",
       "\n",
       "    .dataframe tbody tr th {\n",
       "        vertical-align: top;\n",
       "    }\n",
       "\n",
       "    .dataframe thead th {\n",
       "        text-align: right;\n",
       "    }\n",
       "</style>\n",
       "<table border=\"1\" class=\"dataframe\">\n",
       "  <thead>\n",
       "    <tr style=\"text-align: right;\">\n",
       "      <th></th>\n",
       "      <th>user_id</th>\n",
       "    </tr>\n",
       "  </thead>\n",
       "  <tbody>\n",
       "    <tr>\n",
       "      <th>count</th>\n",
       "      <td>76051.000000</td>\n",
       "    </tr>\n",
       "    <tr>\n",
       "      <th>mean</th>\n",
       "      <td>1245.972768</td>\n",
       "    </tr>\n",
       "    <tr>\n",
       "      <th>std</th>\n",
       "      <td>139.843635</td>\n",
       "    </tr>\n",
       "    <tr>\n",
       "      <th>min</th>\n",
       "      <td>1000.000000</td>\n",
       "    </tr>\n",
       "    <tr>\n",
       "      <th>25%</th>\n",
       "      <td>1123.000000</td>\n",
       "    </tr>\n",
       "    <tr>\n",
       "      <th>50%</th>\n",
       "      <td>1251.000000</td>\n",
       "    </tr>\n",
       "    <tr>\n",
       "      <th>75%</th>\n",
       "      <td>1362.000000</td>\n",
       "    </tr>\n",
       "    <tr>\n",
       "      <th>max</th>\n",
       "      <td>1497.000000</td>\n",
       "    </tr>\n",
       "  </tbody>\n",
       "</table>\n",
       "</div>"
      ],
      "text/plain": [
       "            user_id\n",
       "count  76051.000000\n",
       "mean    1245.972768\n",
       "std      139.843635\n",
       "min     1000.000000\n",
       "25%     1123.000000\n",
       "50%     1251.000000\n",
       "75%     1362.000000\n",
       "max     1497.000000"
      ]
     },
     "execution_count": 16,
     "metadata": {},
     "output_type": "execute_result"
    }
   ],
   "source": [
    "# print the general/summary information about the messages' DataFrame\n",
    "messages.info()\n",
    "\n",
    "# check for duplicate values\n",
    "messages.duplicated().sum()\n",
    "\n",
    "# describe the data\n",
    "messages.describe()"
   ]
  },
  {
   "cell_type": "code",
   "execution_count": 17,
   "metadata": {},
   "outputs": [
    {
     "data": {
      "text/html": [
       "<div>\n",
       "<style scoped>\n",
       "    .dataframe tbody tr th:only-of-type {\n",
       "        vertical-align: middle;\n",
       "    }\n",
       "\n",
       "    .dataframe tbody tr th {\n",
       "        vertical-align: top;\n",
       "    }\n",
       "\n",
       "    .dataframe thead th {\n",
       "        text-align: right;\n",
       "    }\n",
       "</style>\n",
       "<table border=\"1\" class=\"dataframe\">\n",
       "  <thead>\n",
       "    <tr style=\"text-align: right;\">\n",
       "      <th></th>\n",
       "      <th>id</th>\n",
       "      <th>user_id</th>\n",
       "      <th>message_date</th>\n",
       "    </tr>\n",
       "  </thead>\n",
       "  <tbody>\n",
       "    <tr>\n",
       "      <th>42081</th>\n",
       "      <td>1271_59</td>\n",
       "      <td>1271</td>\n",
       "      <td>2018-12-08</td>\n",
       "    </tr>\n",
       "    <tr>\n",
       "      <th>66580</th>\n",
       "      <td>1434_105</td>\n",
       "      <td>1434</td>\n",
       "      <td>2018-09-11</td>\n",
       "    </tr>\n",
       "    <tr>\n",
       "      <th>11562</th>\n",
       "      <td>1078_29</td>\n",
       "      <td>1078</td>\n",
       "      <td>2018-11-08</td>\n",
       "    </tr>\n",
       "    <tr>\n",
       "      <th>17831</th>\n",
       "      <td>1115_655</td>\n",
       "      <td>1115</td>\n",
       "      <td>2018-12-16</td>\n",
       "    </tr>\n",
       "    <tr>\n",
       "      <th>72383</th>\n",
       "      <td>1470_11</td>\n",
       "      <td>1470</td>\n",
       "      <td>2018-09-18</td>\n",
       "    </tr>\n",
       "  </tbody>\n",
       "</table>\n",
       "</div>"
      ],
      "text/plain": [
       "             id  user_id message_date\n",
       "42081   1271_59     1271   2018-12-08\n",
       "66580  1434_105     1434   2018-09-11\n",
       "11562   1078_29     1078   2018-11-08\n",
       "17831  1115_655     1115   2018-12-16\n",
       "72383   1470_11     1470   2018-09-18"
      ]
     },
     "execution_count": 17,
     "metadata": {},
     "output_type": "execute_result"
    }
   ],
   "source": [
    "# print a sample of data for messages\n",
    "messages.sample(5)"
   ]
  },
  {
   "cell_type": "markdown",
   "metadata": {},
   "source": [
    "The message_date column should be a datetime data type. Similar to the calls dataframe, the message id is an object because it contains underscores within the otherwise numeric value. I can convert the id field to be an int data type after replacing the '_' value in the column with ''."
   ]
  },
  {
   "cell_type": "markdown",
   "metadata": {},
   "source": [
    "### Fix Data"
   ]
  },
  {
   "cell_type": "code",
   "execution_count": 18,
   "metadata": {},
   "outputs": [],
   "source": [
    "# convert message_date to datetime data type\n",
    "messages['message_date'] = pd.to_datetime(messages['message_date'], format='%Y-%m-%d')\n",
    "\n",
    "# replace '_' with '' for values within id and then convert column to int data type\n",
    "messages['id'] = messages['id'].replace('_','').astype(int)"
   ]
  },
  {
   "cell_type": "markdown",
   "metadata": {},
   "source": [
    "### Enrich Data"
   ]
  },
  {
   "cell_type": "code",
   "execution_count": 19,
   "metadata": {},
   "outputs": [],
   "source": [
    "# create column for the month that the message was sent\n",
    "messages['message_month'] = messages['message_date'].dt.month"
   ]
  },
  {
   "cell_type": "markdown",
   "metadata": {},
   "source": [
    "## Internet"
   ]
  },
  {
   "cell_type": "markdown",
   "metadata": {},
   "source": [
    "### Prepare Data"
   ]
  },
  {
   "cell_type": "code",
   "execution_count": 20,
   "metadata": {},
   "outputs": [
    {
     "name": "stdout",
     "output_type": "stream",
     "text": [
      "<class 'pandas.core.frame.DataFrame'>\n",
      "RangeIndex: 104825 entries, 0 to 104824\n",
      "Data columns (total 4 columns):\n",
      " #   Column        Non-Null Count   Dtype  \n",
      "---  ------        --------------   -----  \n",
      " 0   id            104825 non-null  object \n",
      " 1   user_id       104825 non-null  int64  \n",
      " 2   session_date  104825 non-null  object \n",
      " 3   mb_used       104825 non-null  float64\n",
      "dtypes: float64(1), int64(1), object(2)\n",
      "memory usage: 3.2+ MB\n"
     ]
    },
    {
     "data": {
      "text/html": [
       "<div>\n",
       "<style scoped>\n",
       "    .dataframe tbody tr th:only-of-type {\n",
       "        vertical-align: middle;\n",
       "    }\n",
       "\n",
       "    .dataframe tbody tr th {\n",
       "        vertical-align: top;\n",
       "    }\n",
       "\n",
       "    .dataframe thead th {\n",
       "        text-align: right;\n",
       "    }\n",
       "</style>\n",
       "<table border=\"1\" class=\"dataframe\">\n",
       "  <thead>\n",
       "    <tr style=\"text-align: right;\">\n",
       "      <th></th>\n",
       "      <th>user_id</th>\n",
       "      <th>mb_used</th>\n",
       "    </tr>\n",
       "  </thead>\n",
       "  <tbody>\n",
       "    <tr>\n",
       "      <th>count</th>\n",
       "      <td>104825.000000</td>\n",
       "      <td>104825.000000</td>\n",
       "    </tr>\n",
       "    <tr>\n",
       "      <th>mean</th>\n",
       "      <td>1242.496361</td>\n",
       "      <td>366.713701</td>\n",
       "    </tr>\n",
       "    <tr>\n",
       "      <th>std</th>\n",
       "      <td>142.053913</td>\n",
       "      <td>277.170542</td>\n",
       "    </tr>\n",
       "    <tr>\n",
       "      <th>min</th>\n",
       "      <td>1000.000000</td>\n",
       "      <td>0.000000</td>\n",
       "    </tr>\n",
       "    <tr>\n",
       "      <th>25%</th>\n",
       "      <td>1122.000000</td>\n",
       "      <td>136.080000</td>\n",
       "    </tr>\n",
       "    <tr>\n",
       "      <th>50%</th>\n",
       "      <td>1236.000000</td>\n",
       "      <td>343.980000</td>\n",
       "    </tr>\n",
       "    <tr>\n",
       "      <th>75%</th>\n",
       "      <td>1367.000000</td>\n",
       "      <td>554.610000</td>\n",
       "    </tr>\n",
       "    <tr>\n",
       "      <th>max</th>\n",
       "      <td>1499.000000</td>\n",
       "      <td>1693.470000</td>\n",
       "    </tr>\n",
       "  </tbody>\n",
       "</table>\n",
       "</div>"
      ],
      "text/plain": [
       "             user_id        mb_used\n",
       "count  104825.000000  104825.000000\n",
       "mean     1242.496361     366.713701\n",
       "std       142.053913     277.170542\n",
       "min      1000.000000       0.000000\n",
       "25%      1122.000000     136.080000\n",
       "50%      1236.000000     343.980000\n",
       "75%      1367.000000     554.610000\n",
       "max      1499.000000    1693.470000"
      ]
     },
     "execution_count": 20,
     "metadata": {},
     "output_type": "execute_result"
    }
   ],
   "source": [
    "# print the general/summary information about the internet DataFrame\n",
    "internet.info()\n",
    "\n",
    "# check for duplicate values\n",
    "internet.duplicated().sum()\n",
    "\n",
    "# describe internet\n",
    "internet.describe()"
   ]
  },
  {
   "cell_type": "code",
   "execution_count": 21,
   "metadata": {},
   "outputs": [
    {
     "data": {
      "text/html": [
       "<div>\n",
       "<style scoped>\n",
       "    .dataframe tbody tr th:only-of-type {\n",
       "        vertical-align: middle;\n",
       "    }\n",
       "\n",
       "    .dataframe tbody tr th {\n",
       "        vertical-align: top;\n",
       "    }\n",
       "\n",
       "    .dataframe thead th {\n",
       "        text-align: right;\n",
       "    }\n",
       "</style>\n",
       "<table border=\"1\" class=\"dataframe\">\n",
       "  <thead>\n",
       "    <tr style=\"text-align: right;\">\n",
       "      <th></th>\n",
       "      <th>id</th>\n",
       "      <th>user_id</th>\n",
       "      <th>session_date</th>\n",
       "      <th>mb_used</th>\n",
       "    </tr>\n",
       "  </thead>\n",
       "  <tbody>\n",
       "    <tr>\n",
       "      <th>30191</th>\n",
       "      <td>1138_427</td>\n",
       "      <td>1138</td>\n",
       "      <td>2018-05-08</td>\n",
       "      <td>467.03</td>\n",
       "    </tr>\n",
       "    <tr>\n",
       "      <th>43458</th>\n",
       "      <td>1193_349</td>\n",
       "      <td>1193</td>\n",
       "      <td>2018-12-24</td>\n",
       "      <td>174.01</td>\n",
       "    </tr>\n",
       "    <tr>\n",
       "      <th>98322</th>\n",
       "      <td>1465_194</td>\n",
       "      <td>1465</td>\n",
       "      <td>2018-11-15</td>\n",
       "      <td>26.44</td>\n",
       "    </tr>\n",
       "    <tr>\n",
       "      <th>93761</th>\n",
       "      <td>1438_3</td>\n",
       "      <td>1438</td>\n",
       "      <td>2018-10-14</td>\n",
       "      <td>936.05</td>\n",
       "    </tr>\n",
       "    <tr>\n",
       "      <th>94251</th>\n",
       "      <td>1439_304</td>\n",
       "      <td>1439</td>\n",
       "      <td>2018-12-09</td>\n",
       "      <td>40.75</td>\n",
       "    </tr>\n",
       "  </tbody>\n",
       "</table>\n",
       "</div>"
      ],
      "text/plain": [
       "             id  user_id session_date  mb_used\n",
       "30191  1138_427     1138   2018-05-08   467.03\n",
       "43458  1193_349     1193   2018-12-24   174.01\n",
       "98322  1465_194     1465   2018-11-15    26.44\n",
       "93761    1438_3     1438   2018-10-14   936.05\n",
       "94251  1439_304     1439   2018-12-09    40.75"
      ]
     },
     "execution_count": 21,
     "metadata": {},
     "output_type": "execute_result"
    }
   ],
   "source": [
    "# print a sample of data for the internet traffic\n",
    "internet.sample(5)"
   ]
  },
  {
   "cell_type": "markdown",
   "metadata": {},
   "source": [
    "Again, the (internet) `id` column is an object data type because there are '_' characters within otherwise numeric values. We replaced '_' with '' in the id field and convert it to be the int data type.\n",
    "\n",
    "The `session_date` column is an object data type but should be a datetime data type.\n",
    "\n",
    "The `mb_used` values should not rounded up at this point because they are only rounded up after they are totaled for the month."
   ]
  },
  {
   "cell_type": "markdown",
   "metadata": {},
   "source": [
    "### Fix Data"
   ]
  },
  {
   "cell_type": "code",
   "execution_count": 22,
   "metadata": {},
   "outputs": [],
   "source": [
    "# convert session_date to a datetime data type\n",
    "internet['session_date'] = pd.to_datetime(internet['session_date'], format='%Y-%m-%d')"
   ]
  },
  {
   "cell_type": "markdown",
   "metadata": {},
   "source": [
    "### Enrich Data"
   ]
  },
  {
   "cell_type": "code",
   "execution_count": 23,
   "metadata": {},
   "outputs": [],
   "source": [
    "# create column for the month that the session happened\n",
    "internet['session_month'] = internet['session_date'].dt.month\n",
    "\n",
    "# for the id column, replace '_' with '' and convert column to be an int data type\n",
    "internet['id'] = internet['id'].replace('_','').astype(int)\n",
    "\n",
    "# create a gb_used column from the converted mb_used field\n",
    "internet['gb_used'] = internet['mb_used']/1025"
   ]
  },
  {
   "cell_type": "markdown",
   "metadata": {},
   "source": [
    "## Study Plan Conditions"
   ]
  },
  {
   "cell_type": "code",
   "execution_count": 24,
   "metadata": {},
   "outputs": [
    {
     "name": "stdout",
     "output_type": "stream",
     "text": [
      "   messages_included  mb_per_month_included  minutes_included  \\\n",
      "0                 50                  15360               500   \n",
      "1               1000                  30720              3000   \n",
      "\n",
      "   usd_monthly_pay  usd_per_gb  usd_per_message  usd_per_minute plan_name  \\\n",
      "0             20.0        10.0             0.03            0.03      surf   \n",
      "1             70.0         7.0             0.01            0.01  ultimate   \n",
      "\n",
      "   gb_per_month_included  \n",
      "0                     15  \n",
      "1                     30  \n"
     ]
    }
   ],
   "source": [
    "# print out the plan conditions and make sure they are clear for you\n",
    "print(plans)"
   ]
  },
  {
   "cell_type": "markdown",
   "metadata": {},
   "source": [
    "## Aggregate Data Per User"
   ]
  },
  {
   "cell_type": "code",
   "execution_count": 25,
   "metadata": {},
   "outputs": [],
   "source": [
    "# calculate the number of calls and amount of minutes spent by each user per month. Save the result.\n",
    "num_calls_mins_per_user_mo = calls.groupby(['user_id', 'call_month'])['duration_rounded_up'].agg(['count', 'sum']).reset_index()\n",
    "\n",
    "# rename the columns\n",
    "num_calls_mins_per_user_mo.columns = ['user_id','month','num_calls','mins_spent']"
   ]
  },
  {
   "cell_type": "code",
   "execution_count": 27,
   "metadata": {},
   "outputs": [],
   "source": [
    "# calculate the number of messages sent by each user per month. Save the result.\n",
    "num_msg_per_user_mo = messages.groupby(['user_id','message_month'])['id'].count().reset_index()\n",
    "\n",
    "# rename columns to reflect transformed data\n",
    "num_msg_per_user_mo.columns = ['user_id','month','msgs_sent']"
   ]
  },
  {
   "cell_type": "code",
   "execution_count": 28,
   "metadata": {},
   "outputs": [],
   "source": [
    "# calculate the volume of internet traffic used by each user per month. Save the result.\n",
    "int_traffic_per_user_mo = internet.groupby(['user_id','session_month'])['gb_used'].sum().reset_index()\n",
    "\n",
    "# rename columns to reflect transformed data\n",
    "int_traffic_per_user_mo.columns = ['user_id','month','monthly_gb_used']\n",
    "\n",
    "# round monthly_gb_used up and store it as an int in a new col\n",
    "int_traffic_per_user_mo['monthly_gb_used'] = np.ceil(int_traffic_per_user_mo['monthly_gb_used']).astype(int)"
   ]
  },
  {
   "cell_type": "code",
   "execution_count": 29,
   "metadata": {
    "scrolled": false
   },
   "outputs": [],
   "source": [
    "# merge the data for calls, minutes, messages, internet based on user_id and month\n",
    "df = users.merge(num_calls_mins_per_user_mo, on='user_id', how='outer').merge(num_msg_per_user_mo, on=['user_id','month'], how='outer').merge(int_traffic_per_user_mo, on=['user_id','month'], how='outer')\n",
    "\n",
    "# fill missing values with 0\n",
    "df.fillna(0, inplace=True)"
   ]
  },
  {
   "cell_type": "code",
   "execution_count": 30,
   "metadata": {},
   "outputs": [],
   "source": [
    "# add the plan information\n",
    "df = plans.merge(df, how='inner', left_on='plan_name', right_on='plan')\n",
    "\n",
    "# drop the redundant column plan\n",
    "df.drop(columns=['plan'], inplace=True)"
   ]
  },
  {
   "cell_type": "code",
   "execution_count": null,
   "metadata": {
    "scrolled": true
   },
   "outputs": [
    {
     "name": "stdout",
     "output_type": "stream",
     "text": [
      "messages_included                                     50\n",
      "mb_per_month_included                              15360\n",
      "minutes_included                                     500\n",
      "usd_monthly_pay                                     20.0\n",
      "usd_per_gb                                          10.0\n",
      "usd_per_message                                     0.03\n",
      "usd_per_minute                                      0.03\n",
      "plan_name                                           surf\n",
      "gb_per_month_included                                 15\n",
      "user_id                                             1001\n",
      "first_name                                        Mickey\n",
      "last_name                                      Wilkerson\n",
      "age                                                 28.0\n",
      "city                     Seattle-Tacoma-Bellevue, WA MSA\n",
      "reg_date                             2018-08-13 00:00:00\n",
      "churn_date                                             0\n",
      "reg_month                                            8.0\n",
      "is_churned                                         False\n",
      "month                                                8.0\n",
      "num_calls                                           27.0\n",
      "mins_spent                                         182.0\n",
      "msgs_sent                                           30.0\n",
      "monthly_gb_used                                      7.0\n",
      "call_overage                                      -318.0\n",
      "msg_overage                                        -20.0\n",
      "session_overage                                     -8.0\n",
      "Name: 0, dtype: object\n",
      "20.0\n"
     ]
    }
   ],
   "source": [
    "# calculate the difference between actual plan usage and included usage across calls, messages, and sessions\n",
    "df['call_overage'] = df['mins_spent'] - df['minutes_included']\n",
    "df['msg_overage'] = df['msgs_sent'] - df['messages_included'] \n",
    "df['session_overage'] = df['monthly_gb_used'] - df['gb_per_month_included']\n",
    "\n",
    "#create function to calculate monthly revenue per row of the df\n",
    "def monthly_revenue(row):\n",
    "    \n",
    "    call_overage = row['call_overage']\n",
    "    usd_per_minute = row['usd_per_minute']\n",
    "    msg_overage = row['msg_overage']\n",
    "    usd_per_message = row['usd_per_message']\n",
    "    session_overage = row['session_overage']\n",
    "    usd_per_gb = row['usd_per_gb']\n",
    "    plan = row['plan_name']\n",
    "    usd_monthly_pay = row['usd_monthly_pay']\n",
    "    \n",
    "    if call_overage > 0:\n",
    "        call_overage_cost = call_overage * usd_per_minute\n",
    "    else: call_overage_cost = 0\n",
    "    if msg_overage > 0:\n",
    "        msg_overage_cost = msg_overage * usd_per_message\n",
    "    else: msg_overage_cost = 0\n",
    "    if session_overage > 0:\n",
    "        session_overage_cost = session_overage * usd_per_gb\n",
    "    else: session_overage_cost = 0\n",
    "    monthly_revenue = session_overage_cost + msg_overage_cost + call_overage_cost + usd_monthly_pay\n",
    "    return monthly_revenue\n",
    "\n",
    "# verify that the function operates as intended\n",
    "row = df.iloc[0]\n",
    "print(row)\n",
    "print(monthly_revenue(row))\n",
    "\n",
    "# apply the monthly_revenue function to the df and create a new monthly_revenue col to store the output of the function in for each row\n",
    "df['monthly_revenue'] = df.apply(monthly_revenue, axis=1)"
   ]
  },
  {
   "cell_type": "markdown",
   "metadata": {},
   "source": [
    "## Study Client Behavior"
   ]
  },
  {
   "cell_type": "markdown",
   "metadata": {},
   "source": [
    "### Calls"
   ]
  },
  {
   "cell_type": "code",
   "execution_count": null,
   "metadata": {
    "scrolled": false
   },
   "outputs": [
    {
     "data": {
      "image/png": "[encoded data removed]",
      "text/plain": [
       "<Figure size 1008x576 with 1 Axes>"
      ]
     },
     "metadata": {
      "needs_background": "light"
     },
     "output_type": "display_data"
    }
   ],
   "source": [
    "# sum totals of mins_spent and num_calls per plan, month\n",
    "summary_calls = df.groupby(['plan_name','month'])[['mins_spent', 'num_calls']].sum().reset_index()\n",
    "\n",
    "# rename columns\n",
    "summary_calls.columns = ['plan_name', 'month', 'total_mins', 'total_num_calls']\n",
    "\n",
    "# calculate average call duration\n",
    "summary_calls['avg_call_duration'] = summary_calls['total_mins']/summary_calls['total_num_calls']\n",
    "\n",
    "# plot the data\n",
    "plt.figure(figsize=(14, 8))\n",
    "sns.barplot(data=summary_calls, x='month', y='avg_call_duration', hue='plan_name')\n",
    "plt.title('Average Call Duration per Plan by Month')\n",
    "plt.xlabel('Month')\n",
    "plt.ylabel('Average Call Duration (minutes)')\n",
    "plt.legend(title='Plan Name')\n",
    "plt.show()"
   ]
  },
  {
   "cell_type": "markdown",
   "metadata": {},
   "source": [
    "The average duration of calls does not differ much by plan or month. Users of both plans therefore typically have a similar call duration length on average--around 7 minutes long."
   ]
  },
  {
   "cell_type": "code",
   "execution_count": 35,
   "metadata": {},
   "outputs": [
    {
     "data": {
      "image/png": "[encoded data removed]",
      "text/plain": [
       "<Figure size 1008x576 with 1 Axes>"
      ]
     },
     "metadata": {
      "needs_background": "light"
     },
     "output_type": "display_data"
    }
   ],
   "source": [
    "# compare the number of minutes users of each plan require each month\n",
    "df.groupby('plan_name')['mins_spent'].plot.hist(alpha=0.8, legend=True, bins=20, figsize=(14,8))\n",
    "\n",
    "# plot a histogram \n",
    "plt.title('Frequency of Monthly Minutes Spent by Users by Plan Name')\n",
    "plt.xlabel('Monthly Minutes Spent')\n",
    "plt.ylabel('Count of User-Month Combinations')\n",
    "plt.legend(['surf', 'ultimate'])\n",
    "plt.legend(title='Plan Name')\n",
    "plt.show()"
   ]
  },
  {
   "cell_type": "markdown",
   "metadata": {},
   "source": [
    "The median number of monthly minutes spent by users on both plans appears to be in a similar range of 420-450 minutes--the median of the ultimate plan is lower than that of the surf plan. \n",
    "\n",
    "The Surf plan appears to have slightly more variance in the monthly minutes spent and definitely has many more users on its plan given the comparative frequency of most all its values along the x-axis versus the Ultimate plan."
   ]
  },
  {
   "cell_type": "code",
   "execution_count": 36,
   "metadata": {
    "scrolled": true
   },
   "outputs": [
    {
     "data": {
      "text/html": [
       "<div>\n",
       "<style scoped>\n",
       "    .dataframe tbody tr th:only-of-type {\n",
       "        vertical-align: middle;\n",
       "    }\n",
       "\n",
       "    .dataframe tbody tr th {\n",
       "        vertical-align: top;\n",
       "    }\n",
       "\n",
       "    .dataframe thead th {\n",
       "        text-align: right;\n",
       "    }\n",
       "</style>\n",
       "<table border=\"1\" class=\"dataframe\">\n",
       "  <thead>\n",
       "    <tr style=\"text-align: right;\">\n",
       "      <th></th>\n",
       "      <th>mean</th>\n",
       "      <th>var</th>\n",
       "      <th>std</th>\n",
       "    </tr>\n",
       "    <tr>\n",
       "      <th>plan_name</th>\n",
       "      <th></th>\n",
       "      <th></th>\n",
       "      <th></th>\n",
       "    </tr>\n",
       "  </thead>\n",
       "  <tbody>\n",
       "    <tr>\n",
       "      <th>surf</th>\n",
       "      <td>432.877407</td>\n",
       "      <td>53709.823754</td>\n",
       "      <td>231.753800</td>\n",
       "    </tr>\n",
       "    <tr>\n",
       "      <th>ultimate</th>\n",
       "      <td>431.048679</td>\n",
       "      <td>57666.609048</td>\n",
       "      <td>240.138729</td>\n",
       "    </tr>\n",
       "  </tbody>\n",
       "</table>\n",
       "</div>"
      ],
      "text/plain": [
       "                 mean           var         std\n",
       "plan_name                                      \n",
       "surf       432.877407  53709.823754  231.753800\n",
       "ultimate   431.048679  57666.609048  240.138729"
      ]
     },
     "execution_count": 36,
     "metadata": {},
     "output_type": "execute_result"
    }
   ],
   "source": [
    "# calculate the mean, variance, and standard deviation of the monthly minutes spent on calls\n",
    "statistics = df.groupby('plan_name')['mins_spent'].agg(['mean', 'var', 'std'])\n",
    "statistics"
   ]
  },
  {
   "cell_type": "markdown",
   "metadata": {},
   "source": [
    "We can confirm that the Surf plan and Ultimate plan have very similar mean values for the monthly minutes spent (436.5 and 434.7, respectively). The Ultimate plan has a larger variation and a larger standard deviation. "
   ]
  },
  {
   "cell_type": "code",
   "execution_count": null,
   "metadata": {
    "scrolled": true
   },
   "outputs": [
    {
     "data": {
      "text/html": [
       "<div>\n",
       "<style scoped>\n",
       "    .dataframe tbody tr th:only-of-type {\n",
       "        vertical-align: middle;\n",
       "    }\n",
       "\n",
       "    .dataframe tbody tr th {\n",
       "        vertical-align: top;\n",
       "    }\n",
       "\n",
       "    .dataframe thead th {\n",
       "        text-align: right;\n",
       "    }\n",
       "</style>\n",
       "<table border=\"1\" class=\"dataframe\">\n",
       "  <thead>\n",
       "    <tr style=\"text-align: right;\">\n",
       "      <th></th>\n",
       "      <th>mean</th>\n",
       "      <th>var</th>\n",
       "      <th>std</th>\n",
       "    </tr>\n",
       "    <tr>\n",
       "      <th>plan_name</th>\n",
       "      <th></th>\n",
       "      <th></th>\n",
       "      <th></th>\n",
       "    </tr>\n",
       "  </thead>\n",
       "  <tbody>\n",
       "    <tr>\n",
       "      <th>surf</th>\n",
       "      <td>7.158130</td>\n",
       "      <td>1.227523</td>\n",
       "      <td>1.107936</td>\n",
       "    </tr>\n",
       "    <tr>\n",
       "      <th>ultimate</th>\n",
       "      <td>7.078557</td>\n",
       "      <td>0.915475</td>\n",
       "      <td>0.956804</td>\n",
       "    </tr>\n",
       "  </tbody>\n",
       "</table>\n",
       "</div>"
      ],
      "text/plain": [
       "               mean       var       std\n",
       "plan_name                              \n",
       "surf       7.158130  1.227523  1.107936\n",
       "ultimate   7.078557  0.915475  0.956804"
      ]
     },
     "execution_count": 37,
     "metadata": {},
     "output_type": "execute_result"
    }
   ],
   "source": [
    "# calculate the monthly call duration\n",
    "df['monthly_call_duration'] = df['mins_spent']/df['num_calls']\n",
    "\n",
    "# calculate the mean, variance, and standard deviation of the monthly call duration per plan\n",
    "statistics = df.groupby('plan_name')['monthly_call_duration'].agg(['mean', 'var', 'std'])\n",
    "statistics"
   ]
  },
  {
   "cell_type": "markdown",
   "metadata": {},
   "source": [
    "The mean of the average monthly call duration for both plans is about the same whereas the Surf plan has a slightly higher variance and standard deviation."
   ]
  },
  {
   "cell_type": "code",
   "execution_count": null,
   "metadata": {
    "scrolled": false
   },
   "outputs": [
    {
     "data": {
      "image/png": "[encoded data removed]",
      "text/plain": [
       "<Figure size 1008x576 with 1 Axes>"
      ]
     },
     "metadata": {
      "needs_background": "light"
     },
     "output_type": "display_data"
    }
   ],
   "source": [
    "# plot a boxplot to visualize the distribution of the monthly call duration\n",
    "plt.figure(figsize=(14, 8))\n",
    "sns.boxplot(x='plan_name', y='monthly_call_duration', data=df)\n",
    "\n",
    "plt.xlabel('Plan Name')\n",
    "plt.ylabel('Monthly Call Duration')\n",
    "plt.title('Box Plot of Monthly Call Duration by Plan Name')\n",
    "plt.show()"
   ]
  },
  {
   "cell_type": "markdown",
   "metadata": {},
   "source": [
    "The interquartile range of call duration for both plans are very similar while the Surf plan has more outlier values (hence its greater variance and standard deviation) vs. the Ultimate plan."
   ]
  },
  {
   "cell_type": "markdown",
   "metadata": {},
   "source": [
    "Ultimately, users on the Surf and Ultimate plan have very similar calling behavior, however there is greater variance in users of the Surf plan in avg. call duration while there is greater variance in users of the Ultimate plan in monthly minutes spent on calls. \n",
    "\n",
    "Users on the Surf plan often exceed the monthly included number of minutes on their plan while users on the Ultimate plan do not."
   ]
  },
  {
   "cell_type": "markdown",
   "metadata": {},
   "source": [
    "### Messages"
   ]
  },
  {
   "cell_type": "code",
   "execution_count": null,
   "metadata": {},
   "outputs": [
    {
     "data": {
      "image/png": "[encoded data removed]",
      "text/plain": [
       "<Figure size 1008x576 with 1 Axes>"
      ]
     },
     "metadata": {
      "needs_background": "light"
     },
     "output_type": "display_data"
    }
   ],
   "source": [
    "# compare the number of messages users of each plan send each month and plot a histogram\n",
    "df.groupby('plan_name')['msgs_sent'].plot.hist(alpha=0.8, \n",
    "                                               legend=True, \n",
    "                                               bins=25, \n",
    "                                               figsize=(14,8)\n",
    "                                               )\n",
    "plt.legend(['surf', 'ultimate'])\n",
    "plt.legend(title='Plan Name')\n",
    "plt.title('Frequency of Monthly Messages Sent by Users by Plan Name')\n",
    "plt.xlabel('Monthly Messages Sent')\n",
    "plt.ylabel('Count of User-Month Combinations')\n",
    "\n",
    "# show the plot\n",
    "plt.show()"
   ]
  },
  {
   "cell_type": "code",
   "execution_count": 41,
   "metadata": {
    "scrolled": true
   },
   "outputs": [
    {
     "data": {
      "text/html": [
       "<div>\n",
       "<style scoped>\n",
       "    .dataframe tbody tr th:only-of-type {\n",
       "        vertical-align: middle;\n",
       "    }\n",
       "\n",
       "    .dataframe tbody tr th {\n",
       "        vertical-align: top;\n",
       "    }\n",
       "\n",
       "    .dataframe thead th {\n",
       "        text-align: right;\n",
       "    }\n",
       "</style>\n",
       "<table border=\"1\" class=\"dataframe\">\n",
       "  <thead>\n",
       "    <tr style=\"text-align: right;\">\n",
       "      <th></th>\n",
       "      <th>plan_name</th>\n",
       "      <th>mean</th>\n",
       "      <th>var</th>\n",
       "      <th>std</th>\n",
       "    </tr>\n",
       "  </thead>\n",
       "  <tbody>\n",
       "    <tr>\n",
       "      <th>0</th>\n",
       "      <td>surf</td>\n",
       "      <td>30.639923</td>\n",
       "      <td>1130.402695</td>\n",
       "      <td>33.621462</td>\n",
       "    </tr>\n",
       "    <tr>\n",
       "      <th>1</th>\n",
       "      <td>ultimate</td>\n",
       "      <td>37.410292</td>\n",
       "      <td>1211.824462</td>\n",
       "      <td>34.811269</td>\n",
       "    </tr>\n",
       "  </tbody>\n",
       "</table>\n",
       "</div>"
      ],
      "text/plain": [
       "  plan_name       mean          var        std\n",
       "0      surf  30.639923  1130.402695  33.621462\n",
       "1  ultimate  37.410292  1211.824462  34.811269"
      ]
     },
     "execution_count": 41,
     "metadata": {},
     "output_type": "execute_result"
    }
   ],
   "source": [
    "# compare the number of messages users of each plan tend to send each month\n",
    "summary_msgs = df.groupby('plan_name')['msgs_sent'].agg(['mean','var', 'std']).reset_index()\n",
    "summary_msgs"
   ]
  },
  {
   "cell_type": "markdown",
   "metadata": {},
   "source": [
    "From the monthly messages sent histogram and relevant information about the mean, variance, and standard deviation of this metric between the two plans, we can conclude that the Ultimate plan has a higher average number of monthly messages sent, by about 6.5 messages, but there is a very similar variance and standard deviation between the two populations."
   ]
  },
  {
   "cell_type": "code",
   "execution_count": null,
   "metadata": {},
   "outputs": [
    {
     "data": {
      "image/png": "[encoded data removed]",
      "text/plain": [
       "<Figure size 1008x576 with 1 Axes>"
      ]
     },
     "metadata": {
      "needs_background": "light"
     },
     "output_type": "display_data"
    }
   ],
   "source": [
    "# plot a boxplot to visualize the distribution of the monthly messages sent\n",
    "plt.figure(figsize=(14, 8))\n",
    "sns.boxplot(x='plan_name', \n",
    "            y='msgs_sent', \n",
    "            data=df\n",
    "            )\n",
    "plt.xlabel('Plan Name')\n",
    "plt.ylabel('Monthly Messages Sent')\n",
    "plt.title('Box Plot of Monthly Messages Sent by Plan Name')\n",
    "\n",
    "# show the plot\n",
    "plt.show()"
   ]
  },
  {
   "cell_type": "markdown",
   "metadata": {},
   "source": [
    "Users of the Ultimate plan have a higher 25% quartile, median, and 75% quartile value than users of the Surf plan while Surf users have more outlier values than the users of the Ultimate plan. This reflects the higher variance seen among Surf plan users.\n",
    "\n",
    "Overall, users of both plans have similar messaging behavior, yet Surf users often exceed the the number of included messages in their plans while Ultimate users do not."
   ]
  },
  {
   "cell_type": "markdown",
   "metadata": {},
   "source": [
    "### Internet"
   ]
  },
  {
   "cell_type": "code",
   "execution_count": null,
   "metadata": {
    "scrolled": false
   },
   "outputs": [
    {
     "data": {
      "image/png": "[encoded data removed]",
      "text/plain": [
       "<Figure size 1008x576 with 1 Axes>"
      ]
     },
     "metadata": {
      "needs_background": "light"
     },
     "output_type": "display_data"
    }
   ],
   "source": [
    "# compare the number of internet traffic consumed by users each month by plan and plot a histogram\n",
    "df.groupby('plan_name')['monthly_gb_used'].plot.hist(alpha=0.8, \n",
    "                                                     legend=True, \n",
    "                                                     bins=20, \n",
    "                                                     figsize=(14,8)\n",
    "                                                     )\n",
    "plt.title('Frequency of Monthly Internet Traffic Consumed by Users by Plan Name')\n",
    "plt.xlabel('Monthly Internet Traffic Consumed')\n",
    "plt.ylabel('Count of User-Month Combinations')\n",
    "plt.legend(['surf', 'ultimate'])\n",
    "plt.legend(title='Plan Name')\n",
    "\n",
    "# show the plot\n",
    "plt.show()"
   ]
  },
  {
   "cell_type": "code",
   "execution_count": 44,
   "metadata": {
    "scrolled": true
   },
   "outputs": [
    {
     "data": {
      "text/html": [
       "<div>\n",
       "<style scoped>\n",
       "    .dataframe tbody tr th:only-of-type {\n",
       "        vertical-align: middle;\n",
       "    }\n",
       "\n",
       "    .dataframe tbody tr th {\n",
       "        vertical-align: top;\n",
       "    }\n",
       "\n",
       "    .dataframe thead th {\n",
       "        text-align: right;\n",
       "    }\n",
       "</style>\n",
       "<table border=\"1\" class=\"dataframe\">\n",
       "  <thead>\n",
       "    <tr style=\"text-align: right;\">\n",
       "      <th></th>\n",
       "      <th>plan_name</th>\n",
       "      <th>mean</th>\n",
       "      <th>var</th>\n",
       "      <th>std</th>\n",
       "    </tr>\n",
       "  </thead>\n",
       "  <tbody>\n",
       "    <tr>\n",
       "      <th>0</th>\n",
       "      <td>surf</td>\n",
       "      <td>16.464056</td>\n",
       "      <td>60.727994</td>\n",
       "      <td>7.792817</td>\n",
       "    </tr>\n",
       "    <tr>\n",
       "      <th>1</th>\n",
       "      <td>ultimate</td>\n",
       "      <td>17.208623</td>\n",
       "      <td>59.374243</td>\n",
       "      <td>7.705468</td>\n",
       "    </tr>\n",
       "  </tbody>\n",
       "</table>\n",
       "</div>"
      ],
      "text/plain": [
       "  plan_name       mean        var       std\n",
       "0      surf  16.464056  60.727994  7.792817\n",
       "1  ultimate  17.208623  59.374243  7.705468"
      ]
     },
     "execution_count": 44,
     "metadata": {},
     "output_type": "execute_result"
    }
   ],
   "source": [
    "# compare the amount of internet traffic consumed by users per plan\n",
    "summary_internet = df.groupby('plan_name')['monthly_gb_used'].agg(['mean','var', 'std']).reset_index()\n",
    "summary_internet"
   ]
  },
  {
   "cell_type": "markdown",
   "metadata": {},
   "source": [
    "The histogram of the frequency of monthly gb of internet traffic consumed, along with the metric's mean, variance, and standard deviation by plan, indicate that users' internet traffic consumption among plans is very similar. \n",
    "\n",
    "The distribution of monthly internet traffic consumed is slightly right-skewed for users of the Ultimate plan (median > mean)."
   ]
  },
  {
   "cell_type": "code",
   "execution_count": null,
   "metadata": {},
   "outputs": [
    {
     "data": {
      "image/png": "[encoded data removed]",
      "text/plain": [
       "<Figure size 1008x576 with 1 Axes>"
      ]
     },
     "metadata": {
      "needs_background": "light"
     },
     "output_type": "display_data"
    }
   ],
   "source": [
    "# plot a boxplot to visualize the distribution of the monthly internet traffic consumed\n",
    "plt.figure(figsize=(14, 8))\n",
    "sns.boxplot(x='plan_name', \n",
    "            y='monthly_gb_used', \n",
    "            data=df\n",
    "            )\n",
    "plt.xlabel('Plan Name')\n",
    "plt.ylabel('Monthly Internet Traffic Consumed')\n",
    "plt.title('Box Plot of Monthly Internet Traffic Consumed by Plan Name')\n",
    "\n",
    "# show the plot\n",
    "plt.show()"
   ]
  },
  {
   "cell_type": "markdown",
   "metadata": {},
   "source": [
    "Users' monthly internet traffic consumed (in gb) is very similar between plans although users' of the Surf plan often exceed the 15 gb of monthly data included in their plan while users of the Ultimate plan do not exceed their included 30 gb of monthly data."
   ]
  },
  {
   "cell_type": "markdown",
   "metadata": {},
   "source": [
    "## Revenue"
   ]
  },
  {
   "cell_type": "code",
   "execution_count": null,
   "metadata": {},
   "outputs": [
    {
     "data": {
      "image/png": "[encoded data removed]",
      "text/plain": [
       "<Figure size 1008x576 with 1 Axes>"
      ]
     },
     "metadata": {
      "needs_background": "light"
     },
     "output_type": "display_data"
    }
   ],
   "source": [
    "# compare the monthly revenue generated by users each month by plan and plot a histogram\n",
    "df.groupby('plan_name')['monthly_revenue'].plot.hist(alpha=0.8, \n",
    "                                                     legend=True, \n",
    "                                                     bins=16, \n",
    "                                                     figsize=(14,8))\n",
    "plt.title('Frequency of Monthly Revenue from Users by Plan Name')\n",
    "plt.xlabel('Monthly Revenue')\n",
    "plt.legend(['surf', 'ultimate'])\n",
    "plt.legend(title='Plan Name')\n",
    "\n",
    "# show the plot\n",
    "plt.show()"
   ]
  },
  {
   "cell_type": "code",
   "execution_count": 47,
   "metadata": {
    "scrolled": true
   },
   "outputs": [
    {
     "name": "stdout",
     "output_type": "stream",
     "text": [
      "  plan_name       mean          var        std\n",
      "0      surf  59.668755  2837.547385  53.268634\n",
      "1  ultimate  72.239221   126.282526  11.237550\n"
     ]
    }
   ],
   "source": [
    "# compare the amount of internet traffic consumed by users per plan\n",
    "summary_revenue = df.groupby('plan_name')['monthly_revenue'].agg(['mean','var', 'std']).reset_index()\n",
    "print(summary_revenue)"
   ]
  },
  {
   "cell_type": "markdown",
   "metadata": {},
   "source": [
    "From the histogram detailing monthly revenue by plan along with the mean, variance, and standard deviation of this metric by plan, we can see that the Ultimate plan has a higher mean revenue of about 12.25 dollars monthly, but has a significantly lower number users in on that plan. \n",
    "\n",
    "Additionally, users on the Surf plan have a significantly larger variance and standard deviation around the mean monthly revenue for their plan--it's very common for users to pay above the minimum monthly charge of $20 for that plan."
   ]
  },
  {
   "cell_type": "code",
   "execution_count": null,
   "metadata": {},
   "outputs": [
    {
     "data": {
      "image/png": "[encoded data removed]",
      "text/plain": [
       "<Figure size 1008x576 with 1 Axes>"
      ]
     },
     "metadata": {
      "needs_background": "light"
     },
     "output_type": "display_data"
    }
   ],
   "source": [
    "# plot a boxplot to visualize the distribution of the monthly internet traffic consumed\n",
    "plt.figure(figsize=(14, 8))\n",
    "sns.boxplot(x='plan_name', \n",
    "            y='monthly_revenue',\n",
    "            data=df\n",
    "            )\n",
    "plt.xlabel('Plan Name')\n",
    "plt.ylabel('Monthly Revenue')\n",
    "plt.title('Box Plot of Monthly Revenue by Plan Name')\n",
    "\n",
    "# show the plot\n",
    "plt.show()"
   ]
  },
  {
   "cell_type": "markdown",
   "metadata": {},
   "source": [
    "Building on the previous commentary, the higher mean monthly revenue value generated by Ultimate plan users is supported by the insight from the box plot that shows that the minimum monthly revenue amouont for the Ultimate plan is the $70 monthly charge for that plan. There isn't much much variance in the monthly revenue associated with Ultimate plan users (as evidenced by the flat nature of its box plot) while the upper quartile value for the Surf plan is aligned with the higher outliers for the Ultimate plan. \n",
    "\n",
    "We can conclude that while users on the Ultimate plan generate a higher amount of monthly revenue on average, the greater variance among monthly revenue generated by Surf plan users results in a monthly revenue value that exceeded the Ultimate plan's mean for around 25 percent of the Surf plan's sample population."
   ]
  },
  {
   "cell_type": "markdown",
   "metadata": {},
   "source": [
    "## Test Statistical Hypotheses"
   ]
  },
  {
   "cell_type": "markdown",
   "metadata": {},
   "source": [
    "#### Test 1"
   ]
  },
  {
   "cell_type": "markdown",
   "metadata": {},
   "source": [
    "*_Test the hypothesis that the average revenue from users on the surf calling plan is different from that of the users on the ultimate calling plan._*\n",
    "\n",
    "H0 (Null Hypothesis): The mean of monthly revenue from users of the Ultimate and Surf calling plans are equal.\n",
    "\n",
    "H1 (Alternative Hypothesis): The mean of monthly revenue from users of the Ultimate and Surf calling plans are not equal."
   ]
  },
  {
   "cell_type": "code",
   "execution_count": null,
   "metadata": {
    "scrolled": false
   },
   "outputs": [
    {
     "name": "stdout",
     "output_type": "stream",
     "text": [
      "p-value:  1.360830449414963e-18\n",
      "We reject the null hypothesis.\n"
     ]
    }
   ],
   "source": [
    "# store monthly revenue values for the surf plan in a variable\n",
    "surf_samp = df.loc[df['plan_name'] == 'surf', 'monthly_revenue']\n",
    "\n",
    "# store monthly revenue values for the ultimate plan in a variable\n",
    "ultimate_samp = df.loc[df['plan_name'] == 'ultimate', 'monthly_revenue']\n",
    "\n",
    "# set the critical statistical significance level\n",
    "alpha = 0.05  \n",
    "\n",
    "# apply the independent two-sample t-test method to surf_samp and ultimate_samp (which have unequal variances)\n",
    "results = st.ttest_ind(surf_samp, ultimate_samp, equal_var=False)\n",
    "\n",
    "# print the p-value\n",
    "print('p-value: ', results.pvalue)\n",
    "\n",
    "# if the p-value is less than alpha, we reject the hypothesis\n",
    "if results.pvalue < alpha:\n",
    "    print(\"We reject the null hypothesis.\")\n",
    "else:\n",
    "    print(\"We can't reject the null hypothesis.\")"
   ]
  },
  {
   "cell_type": "markdown",
   "metadata": {},
   "source": [
    "We reject the null hypothesis because the p-value is below the alpha value of 0.05. The avg. monthly revenue of users on the Ultimate and Surf plans are different (Ultimate plan users generate higher monthly revenue, on average, than Surf users) at statistical significance.\n",
    "\n",
    "An alpha value of 0.5 is the standard critical statistical significance level. Our hypothesis test accounts for statistical significance between the means of the two samples without specification as to how they may differ (i.e. it does not matter if one sample's mean is higher or lower than the other's at statistical significace)."
   ]
  },
  {
   "cell_type": "markdown",
   "metadata": {},
   "source": [
    "#### Test 2"
   ]
  },
  {
   "cell_type": "markdown",
   "metadata": {},
   "source": [
    "*_Test the hypothesis that the average revenue from users in the NY-NJ area is different from that of the users from the other regions._*\n",
    "\n",
    "H0 (Null Hypothesis): The mean of monthly revenue from users in the NY-NJ area is equal to that of users not in the NY-NJ area.\n",
    "\n",
    "H1 (Alternative Hypothesis): The mean of monthly revenue from users in the NY-NJ area is not equal to that of users not in the NY-NJ area."
   ]
  },
  {
   "cell_type": "code",
   "execution_count": 50,
   "metadata": {
    "scrolled": false
   },
   "outputs": [
    {
     "name": "stdout",
     "output_type": "stream",
     "text": [
      "NY-NJ Area Users:\n",
      "mean      58.73815\n",
      "var     1816.57806\n",
      "Name: monthly_revenue, dtype: float64\n",
      "\n",
      "Non-NY-NJ Area Users:\n",
      "mean      64.597999\n",
      "var     2049.392370\n",
      "Name: monthly_revenue, dtype: float64\n"
     ]
    }
   ],
   "source": [
    "# print the mean and variance of monthly revenue of users in the NY-NJ area\n",
    "print(\"NY-NJ Area Users:\")\n",
    "print(df[df.city.str.contains('NY-NJ')]['monthly_revenue'].agg(['mean','var']))\n",
    "\n",
    "print()\n",
    "print(\"Non-NY-NJ Area Users:\")\n",
    "# print the mean and variance of monthly revenue of users who are not in the NY-NJ area\n",
    "print(df[~df.city.str.contains('NY-NJ')]['monthly_revenue'].agg(['mean','var']))"
   ]
  },
  {
   "cell_type": "code",
   "execution_count": null,
   "metadata": {
    "scrolled": true
   },
   "outputs": [
    {
     "name": "stdout",
     "output_type": "stream",
     "text": [
      "p-value:  0.016591677315480956\n",
      "We reject the null hypothesis.\n"
     ]
    }
   ],
   "source": [
    "# store monthly revenue values for users in the NY-NJ area in a variable\n",
    "NY_NJ_samp = df.loc[df['city'] == 'New York-Newark-Jersey City, NY-NJ-PA MSA', 'monthly_revenue']\n",
    "\n",
    "# store monthly revenue values for users who are not in the NY-NJ area in a variable\n",
    "non_NY_NJ_samp = df.loc[df['city'] != 'New York-Newark-Jersey City, NY-NJ-PA MSA', 'monthly_revenue']\n",
    "\n",
    "# set the critical statistical significance level\n",
    "alpha = 0.05  \n",
    "\n",
    "# apply the independent two-sample t-test method to NY_NJ_samp and non_NY_NJ_samp (which have unequal variances)\n",
    "results = st.ttest_ind(NY_NJ_samp, non_NY_NJ_samp, equal_var=False)\n",
    "\n",
    "# print the p-value\n",
    "print('p-value: ', results.pvalue)\n",
    "\n",
    "# if the p-value is less than alpha, we reject the hypothesis\n",
    "if results.pvalue < alpha:\n",
    "    print(\"We reject the null hypothesis.\")\n",
    "else:\n",
    "    print(\"We can't reject the null hypothesis.\")"
   ]
  },
  {
   "cell_type": "markdown",
   "metadata": {},
   "source": [
    "We reject the null hypothesis because the p-value is below the alpha value of 0.05. \n",
    "\n",
    "The avg. monthly revenue of users in the NY-NJ area and users who are not in the NY-NJ area are different at statistical significance and, more specifically, the mean monthly revenue generated from non-NY-NJ area users was higher than that of NY-NJ users at 64.87 dollars vs. 58.81 dollars, respectively.\n",
    "\n",
    "Once again, an alpha value of 0.5 is the standard critical statistical significance level. Our hypothsis test accounts for statistical significance between the means of the two samples without specification as to how they may differ (i.e. it does not matter if one sample's mean is higher or lower than the other's at statistical significace)."
   ]
  },
  {
   "cell_type": "markdown",
   "metadata": {},
   "source": [
    "## Project Conclusion\n",
    "\n",
    "**By aggregating important plan usage information at the individual user and month grains, and by running hypothesis tests on the mean monthly revenue of our sample populations, we can be *statistically* confident in concluding that Ultimate plan users generate more monthly revenue on average.**\n",
    "\n",
    "It's interesting to note that between Megaline's two prepaid plans, users' avg. call duration, monthly minutes spent on calls, monthly messages sent, and monthly gb of internet traffic consumed are similar to one another--that is, users actually behave quite similarly in their usage between plans. \n",
    "\n",
    "Since the commercial team wishes to use the plan revenue information to adjust their advertising budget--with the goal of increasing the total revenue brought in by their entire client population--we should let them know that the Ultimate plan generates more revenue per user on average. *However*, we should also point out that a much larger share of the current client population is attracted to the Surf plan, which may indicate a desire for flexibility in their monthly plan usage needs and/or that the monthly charge of $70 for the Ultimate plan is simply too high for Surf users. \n",
    "\n",
    "Users on the Ultimate plan bring in more monthly revenue on average, by about 12.25 dollars. However, Surf users make up a much larger share of Megaline's user population and have a much larger variance in the monthly revenue amount they generate for Megaline. More than 50% of Surf users exceed the amount of call mins, messages, and internet traffic consumption (in gb) included in their plan and about 25% exceed usage to the degree that their monthly revenue surpasses the monthly/lowest possible charge of the Ultimate plan.\n",
    "\n",
    "**It is important that the team considers the quantity of users on each plan with the monthly revenue each plan typically generates to plan their advertising budget in a way that balances the value of the high volume of users on the Surf plan and the higher revenue generating tendency of users on the Ultimate plan.**\n",
    "\n",
    "We recommend conducting further analysis to better understand the demographics of users on the Ultimate plan so the commercial team can target prospective Ultimate clients more effectively via advertising. Alternatively, perhaps it's time to conduct research about prospective clients and gather feedback from existing clients in order to understand what they value most in their plan decisions. Perhaps, changes to the existing plans or a new plan entirely could strike the sweet spot between client volume and montly revenue to bring Megaline's revenue to new heights.\n",
    "\n",
    "\n",
    "\n",
    "\n",
    "\n",
    "\n",
    "\n"
   ]
  }
 ],
 "metadata": {
  "ExecuteTimeLog": [
   {
    "duration": 828,
    "start_time": "2021-11-16T09:21:11.304Z"
   },
   {
    "duration": 893,
    "start_time": "2021-11-16T09:21:17.728Z"
   },
   {
    "duration": 1150,
    "start_time": "2021-11-16T09:21:29.568Z"
   },
   {
    "duration": 3,
    "start_time": "2021-11-16T09:24:14.495Z"
   },
   {
    "duration": 120,
    "start_time": "2021-11-16T09:24:46.630Z"
   },
   {
    "duration": 3,
    "start_time": "2021-11-16T09:28:27.882Z"
   },
   {
    "duration": 4,
    "start_time": "2021-11-16T09:29:54.281Z"
   },
   {
    "duration": 3,
    "start_time": "2021-11-16T09:30:45.936Z"
   },
   {
    "duration": 4,
    "start_time": "2021-11-16T09:31:06.300Z"
   },
   {
    "duration": 113,
    "start_time": "2021-11-16T09:31:37.208Z"
   },
   {
    "duration": 143,
    "start_time": "2021-11-16T09:31:48.656Z"
   },
   {
    "duration": 98,
    "start_time": "2021-11-16T09:31:55.678Z"
   },
   {
    "duration": 3,
    "start_time": "2021-11-16T09:32:08.535Z"
   },
   {
    "duration": 111,
    "start_time": "2021-11-16T09:32:10.120Z"
   },
   {
    "duration": 3,
    "start_time": "2021-11-16T09:32:15.732Z"
   },
   {
    "duration": 4,
    "start_time": "2021-11-16T09:32:29.423Z"
   },
   {
    "duration": 3,
    "start_time": "2021-11-16T10:03:03.074Z"
   },
   {
    "duration": 3,
    "start_time": "2021-11-16T10:10:01.288Z"
   },
   {
    "duration": 3,
    "start_time": "2021-11-16T10:10:46.923Z"
   },
   {
    "duration": 121,
    "start_time": "2021-11-16T10:37:46.494Z"
   },
   {
    "duration": 125,
    "start_time": "2021-11-16T10:38:20.632Z"
   },
   {
    "duration": 112,
    "start_time": "2021-11-16T10:46:53.001Z"
   },
   {
    "duration": 110,
    "start_time": "2021-11-16T10:48:25.775Z"
   },
   {
    "duration": 3,
    "start_time": "2021-11-16T10:50:18.720Z"
   },
   {
    "duration": 4,
    "start_time": "2021-11-16T10:50:37.649Z"
   },
   {
    "duration": 2,
    "start_time": "2021-11-16T10:50:51.884Z"
   },
   {
    "duration": 3,
    "start_time": "2021-11-16T10:51:56.237Z"
   },
   {
    "duration": 101,
    "start_time": "2021-11-16T10:53:13.791Z"
   },
   {
    "duration": 3,
    "start_time": "2021-11-16T10:55:59.186Z"
   },
   {
    "duration": 3,
    "start_time": "2021-11-16T10:56:10.751Z"
   },
   {
    "duration": 3,
    "start_time": "2021-11-16T10:56:49.038Z"
   },
   {
    "duration": 3,
    "start_time": "2021-11-16T10:56:49.174Z"
   },
   {
    "duration": 4,
    "start_time": "2021-11-16T10:56:49.414Z"
   },
   {
    "duration": 3,
    "start_time": "2021-11-16T10:56:49.680Z"
   },
   {
    "duration": 3,
    "start_time": "2021-11-16T10:56:50.370Z"
   },
   {
    "duration": 114,
    "start_time": "2021-11-16T10:59:34.518Z"
   },
   {
    "duration": 3,
    "start_time": "2021-11-16T11:01:41.201Z"
   },
   {
    "duration": 116,
    "start_time": "2021-11-16T11:01:48.754Z"
   },
   {
    "duration": 3,
    "start_time": "2021-11-16T11:02:16.685Z"
   },
   {
    "duration": 3,
    "start_time": "2021-11-16T11:02:19.479Z"
   },
   {
    "duration": 3,
    "start_time": "2021-11-16T11:02:47.067Z"
   },
   {
    "duration": 3,
    "start_time": "2021-11-16T11:02:49.353Z"
   },
   {
    "duration": 3,
    "start_time": "2021-11-16T11:03:07.835Z"
   },
   {
    "duration": 3,
    "start_time": "2021-11-16T11:03:07.953Z"
   },
   {
    "duration": 112,
    "start_time": "2021-11-16T11:07:52.072Z"
   },
   {
    "duration": 187,
    "start_time": "2021-11-16T11:09:23.468Z"
   },
   {
    "duration": 4,
    "start_time": "2021-11-16T11:10:01.455Z"
   },
   {
    "duration": 3,
    "start_time": "2021-11-16T11:10:05.069Z"
   },
   {
    "duration": 4,
    "start_time": "2021-11-16T11:10:13.376Z"
   },
   {
    "duration": 3,
    "start_time": "2021-11-16T11:10:14.434Z"
   },
   {
    "duration": 3,
    "start_time": "2021-11-16T11:10:22.853Z"
   },
   {
    "duration": 4,
    "start_time": "2021-11-16T11:27:29.279Z"
   },
   {
    "duration": 4,
    "start_time": "2021-11-16T11:29:08.919Z"
   },
   {
    "duration": 118,
    "start_time": "2021-11-16T11:29:46.703Z"
   },
   {
    "duration": 437,
    "start_time": "2021-11-16T11:36:02.181Z"
   },
   {
    "duration": 157,
    "start_time": "2021-11-16T11:36:14.388Z"
   },
   {
    "duration": 207,
    "start_time": "2021-11-16T11:47:15.898Z"
   },
   {
    "duration": 3,
    "start_time": "2021-11-16T11:53:52.092Z"
   },
   {
    "duration": 3,
    "start_time": "2021-11-16T11:53:52.236Z"
   },
   {
    "duration": 3,
    "start_time": "2021-11-16T11:59:12.005Z"
   },
   {
    "duration": 112,
    "start_time": "2021-11-16T12:00:33.446Z"
   },
   {
    "duration": 3,
    "start_time": "2021-11-16T12:02:14.453Z"
   },
   {
    "duration": 3,
    "start_time": "2021-11-16T12:02:39.512Z"
   },
   {
    "duration": 106,
    "start_time": "2021-11-16T12:03:03.460Z"
   },
   {
    "duration": 3,
    "start_time": "2021-11-17T20:37:21.139Z"
   },
   {
    "duration": 3,
    "start_time": "2021-11-17T20:37:22.229Z"
   },
   {
    "duration": 3,
    "start_time": "2021-11-17T20:38:38.806Z"
   },
   {
    "duration": 3,
    "start_time": "2021-11-17T20:38:41.958Z"
   },
   {
    "duration": 3,
    "start_time": "2021-11-17T20:43:46.551Z"
   },
   {
    "duration": 4,
    "start_time": "2021-11-17T20:58:21.835Z"
   },
   {
    "duration": 3,
    "start_time": "2021-11-17T20:59:21.872Z"
   },
   {
    "duration": 4,
    "start_time": "2021-11-17T20:59:45.352Z"
   },
   {
    "duration": 4,
    "start_time": "2021-11-17T20:59:49.646Z"
   },
   {
    "duration": 159,
    "start_time": "2021-11-17T21:02:26.949Z"
   },
   {
    "duration": 3,
    "start_time": "2021-11-17T21:03:53.461Z"
   },
   {
    "duration": 3,
    "start_time": "2021-11-17T21:03:53.694Z"
   },
   {
    "duration": 3,
    "start_time": "2021-11-17T21:05:28.145Z"
   },
   {
    "duration": 116,
    "start_time": "2021-11-17T21:05:57.787Z"
   },
   {
    "duration": 3,
    "start_time": "2021-11-17T21:06:37.993Z"
   },
   {
    "duration": 3,
    "start_time": "2021-11-17T21:06:38.261Z"
   },
   {
    "duration": 3,
    "start_time": "2021-11-17T21:11:54.358Z"
   },
   {
    "duration": 3,
    "start_time": "2021-11-17T21:12:43.846Z"
   },
   {
    "duration": 4,
    "start_time": "2021-11-17T21:13:08.773Z"
   },
   {
    "duration": 3,
    "start_time": "2021-11-17T21:14:44.441Z"
   },
   {
    "duration": 3,
    "start_time": "2021-11-17T21:15:42.059Z"
   },
   {
    "duration": 4,
    "start_time": "2021-11-17T21:15:51.995Z"
   },
   {
    "duration": 3,
    "start_time": "2021-11-17T21:15:53.923Z"
   },
   {
    "duration": 3,
    "start_time": "2021-11-17T21:15:55.282Z"
   },
   {
    "duration": 3,
    "start_time": "2021-11-17T21:16:28.492Z"
   },
   {
    "duration": 3,
    "start_time": "2021-11-17T21:16:32.603Z"
   },
   {
    "duration": 3,
    "start_time": "2021-11-17T21:17:06.941Z"
   },
   {
    "duration": 98,
    "start_time": "2021-11-17T21:18:05.733Z"
   },
   {
    "duration": 4,
    "start_time": "2021-11-17T21:21:35.255Z"
   },
   {
    "duration": 3,
    "start_time": "2021-11-17T21:21:37.804Z"
   },
   {
    "duration": 4,
    "start_time": "2021-11-17T21:23:06.071Z"
   },
   {
    "duration": 3,
    "start_time": "2021-11-17T21:23:24.799Z"
   },
   {
    "duration": 3,
    "start_time": "2021-11-17T21:23:32.591Z"
   },
   {
    "duration": 98,
    "start_time": "2021-11-17T21:28:31.559Z"
   },
   {
    "duration": 3,
    "start_time": "2021-11-17T21:28:45.448Z"
   },
   {
    "duration": 3,
    "start_time": "2021-11-17T21:29:17.303Z"
   },
   {
    "duration": 3,
    "start_time": "2021-11-17T21:29:29.617Z"
   },
   {
    "duration": 3,
    "start_time": "2021-11-17T21:29:32.681Z"
   },
   {
    "duration": 3,
    "start_time": "2021-11-17T21:36:11.474Z"
   },
   {
    "duration": 3,
    "start_time": "2021-11-17T21:36:14.791Z"
   },
   {
    "duration": 3,
    "start_time": "2021-11-17T21:36:53.943Z"
   },
   {
    "duration": 3,
    "start_time": "2021-11-17T21:36:56.165Z"
   },
   {
    "duration": 4,
    "start_time": "2021-11-17T21:37:16.590Z"
   },
   {
    "duration": 3,
    "start_time": "2021-11-17T21:37:22.702Z"
   },
   {
    "duration": 4,
    "start_time": "2021-11-17T21:38:03.479Z"
   },
   {
    "duration": 3,
    "start_time": "2021-11-17T21:38:08.601Z"
   },
   {
    "duration": 3,
    "start_time": "2021-11-17T21:38:12.928Z"
   },
   {
    "duration": 3,
    "start_time": "2021-11-17T21:38:48.896Z"
   },
   {
    "duration": 2,
    "start_time": "2021-11-17T21:38:49.171Z"
   },
   {
    "duration": 4,
    "start_time": "2021-11-17T21:39:57.889Z"
   },
   {
    "duration": 3,
    "start_time": "2021-11-17T21:39:58.057Z"
   },
   {
    "duration": 3,
    "start_time": "2021-11-17T21:41:20.108Z"
   },
   {
    "duration": 3,
    "start_time": "2021-11-17T21:41:20.629Z"
   },
   {
    "duration": 3,
    "start_time": "2021-11-17T21:42:49.136Z"
   },
   {
    "duration": 3,
    "start_time": "2021-11-17T21:43:15.137Z"
   },
   {
    "duration": 4,
    "start_time": "2021-11-17T21:43:16.766Z"
   },
   {
    "duration": 4,
    "start_time": "2021-11-17T21:43:31.711Z"
   },
   {
    "duration": 3,
    "start_time": "2021-11-17T21:43:36.312Z"
   },
   {
    "duration": 4,
    "start_time": "2021-11-17T21:45:08.825Z"
   },
   {
    "duration": 4,
    "start_time": "2021-11-17T21:45:10.119Z"
   },
   {
    "duration": 4,
    "start_time": "2021-11-17T21:45:13.748Z"
   },
   {
    "duration": 3,
    "start_time": "2021-11-17T21:45:22.219Z"
   },
   {
    "duration": 3,
    "start_time": "2021-11-17T21:45:33.412Z"
   },
   {
    "duration": 2,
    "start_time": "2021-11-17T21:46:01.885Z"
   },
   {
    "duration": 3,
    "start_time": "2021-11-17T21:46:03.628Z"
   },
   {
    "duration": 107,
    "start_time": "2021-11-17T21:47:32.512Z"
   },
   {
    "duration": 103,
    "start_time": "2021-11-17T21:50:36.243Z"
   },
   {
    "duration": 3,
    "start_time": "2021-11-18T06:28:31.440Z"
   },
   {
    "duration": 3,
    "start_time": "2021-11-18T06:29:00.168Z"
   },
   {
    "duration": 3,
    "start_time": "2021-11-18T06:31:27.008Z"
   },
   {
    "duration": 2,
    "start_time": "2021-11-18T06:35:34.288Z"
   },
   {
    "duration": 2,
    "start_time": "2021-11-18T06:38:04.527Z"
   }
  ],
  "kernelspec": {
   "display_name": "Python 3 (ipykernel)",
   "language": "python",
   "name": "python3"
  },
  "language_info": {
   "codemirror_mode": {
    "name": "ipython",
    "version": 3
   },
   "file_extension": ".py",
   "mimetype": "text/x-python",
   "name": "python",
   "nbconvert_exporter": "python",
   "pygments_lexer": "ipython3",
   "version": "3.12.2"
  },
  "toc": {
   "base_numbering": 1,
   "nav_menu": {},
   "number_sections": true,
   "sideBar": true,
   "skip_h1_title": false,
   "title_cell": "Table of Contents",
   "title_sidebar": "Contents",
   "toc_cell": false,
   "toc_position": {
    "height": "calc(100% - 180px)",
    "left": "10px",
    "top": "150px",
    "width": "320px"
   },
   "toc_section_display": true,
   "toc_window_display": true
  }
 },
 "nbformat": 4,
 "nbformat_minor": 2
}
