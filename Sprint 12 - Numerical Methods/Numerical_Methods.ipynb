{
 "cells": [
  {
   "cell_type": "markdown",
   "metadata": {},
   "source": [
    "# Project Description"
   ]
  },
  {
   "cell_type": "markdown",
   "metadata": {},
   "source": [
    "Rusty Bargain used car sales service is developing an app to attract new customers. In that app, you can quickly find out the market value of your car. \n",
    "\n",
    "We have access to historical data including technical specifications, trim versions, and prices. \n",
    "\n",
    "Now, we need to build the model to determine the value. \n",
    "\n",
    "Rusty Bargain is interested in:\n",
    "- The quality of the prediction.\n",
    "- The speed of the prediction.\n",
    "- The time required for training."
   ]
  },
  {
   "cell_type": "markdown",
   "metadata": {},
   "source": [
    "# Data Overview"
   ]
  },
  {
   "cell_type": "markdown",
   "metadata": {},
   "source": [
    "**Features**\n",
    "- DateCrawled — date profile was downloaded from the database\n",
    "- VehicleType — vehicle body type\n",
    "- RegistrationYear — vehicle registration year\n",
    "- Gearbox — gearbox type\n",
    "- Power — power (hp)\n",
    "- Model — vehicle model\n",
    "- Mileage — mileage (measured in km due to dataset's regional specifics)\n",
    "- RegistrationMonth — vehicle registration month\n",
    "- FuelType — fuel type\n",
    "- Brand — vehicle brand\n",
    "- NotRepaired — vehicle repaired or not\n",
    "- DateCreated — date of profile creation\n",
    "- NumberOfPictures — number of vehicle pictures\n",
    "- PostalCode — postal code of profile owner (user)\n",
    "- LastSeen — date of the last activity of the user\n",
    "\n",
    "**Target**\n",
    "- Price — price (Euro)"
   ]
  },
  {
   "cell_type": "markdown",
   "metadata": {},
   "source": [
    "# Project Process"
   ]
  },
  {
   "cell_type": "markdown",
   "metadata": {},
   "source": [
    "1. Explore the data and address missing values, outliers, and other data issues.\n",
    "2. Perform data preprocessing.\n",
    "3. Split the data into training and test sets.\n",
    "4. Train different models (with various hyperparameters) including Linear Regression, Random Forest Regressor, CatBoost Regressor, XGBoost, and LightGBM models.\n",
    "5. Compare the models' performance and select the best one.\n",
    "5. Evaluate the best model on the test set.\n"
   ]
  },
  {
   "cell_type": "markdown",
   "metadata": {},
   "source": [
    "# EDA and Data Cleaning"
   ]
  },
  {
   "cell_type": "code",
   "execution_count": 1,
   "metadata": {},
   "outputs": [],
   "source": [
    "# import the necessary libraries\n",
    "import numpy as np\n",
    "import pandas as pd\n",
    "from matplotlib import pyplot as plt\n",
    "\n",
    "from sklearn.impute import KNNImputer\n",
    "from sklearn.model_selection import train_test_split, cross_val_predict, cross_val_score \n",
    "from sklearn.preprocessing import StandardScaler, OneHotEncoder\n",
    "from sklearn.linear_model import LinearRegression\n",
    "from sklearn.metrics import mean_squared_error\n",
    "from sklearn.preprocessing import OrdinalEncoder\n",
    "from sklearn.ensemble import RandomForestRegressor\n",
    "from catboost import CatBoostRegressor\n",
    "import optuna\n",
    "from sklearn.model_selection import GridSearchCV\n",
    "import lightgbm as lgb\n",
    "import xgboost as xgb"
   ]
  },
  {
   "cell_type": "code",
   "execution_count": 2,
   "metadata": {},
   "outputs": [],
   "source": [
    "# import the csv file into a dataframe and import date fields as datetime\n",
    "df = pd.read_csv('car_data.csv', parse_dates=['DateCrawled', 'DateCreated', 'LastSeen'], dayfirst=True)\n"
   ]
  },
  {
   "cell_type": "code",
   "execution_count": 3,
   "metadata": {},
   "outputs": [],
   "source": [
    "# convert column names to lowercase\n",
    "df.columns = df.columns.str.lower()"
   ]
  },
  {
   "cell_type": "code",
   "execution_count": 4,
   "metadata": {},
   "outputs": [
    {
     "data": {
      "text/html": [
       "<div>\n",
       "<style scoped>\n",
       "    .dataframe tbody tr th:only-of-type {\n",
       "        vertical-align: middle;\n",
       "    }\n",
       "\n",
       "    .dataframe tbody tr th {\n",
       "        vertical-align: top;\n",
       "    }\n",
       "\n",
       "    .dataframe thead th {\n",
       "        text-align: right;\n",
       "    }\n",
       "</style>\n",
       "<table border=\"1\" class=\"dataframe\">\n",
       "  <thead>\n",
       "    <tr style=\"text-align: right;\">\n",
       "      <th></th>\n",
       "      <th>datecrawled</th>\n",
       "      <th>price</th>\n",
       "      <th>vehicletype</th>\n",
       "      <th>registrationyear</th>\n",
       "      <th>gearbox</th>\n",
       "      <th>power</th>\n",
       "      <th>model</th>\n",
       "      <th>mileage</th>\n",
       "      <th>registrationmonth</th>\n",
       "      <th>fueltype</th>\n",
       "      <th>brand</th>\n",
       "      <th>notrepaired</th>\n",
       "      <th>datecreated</th>\n",
       "      <th>numberofpictures</th>\n",
       "      <th>postalcode</th>\n",
       "      <th>lastseen</th>\n",
       "    </tr>\n",
       "  </thead>\n",
       "  <tbody>\n",
       "    <tr>\n",
       "      <th>0</th>\n",
       "      <td>2016-03-24 11:52:00</td>\n",
       "      <td>480</td>\n",
       "      <td>NaN</td>\n",
       "      <td>1993</td>\n",
       "      <td>manual</td>\n",
       "      <td>0</td>\n",
       "      <td>golf</td>\n",
       "      <td>150000</td>\n",
       "      <td>0</td>\n",
       "      <td>petrol</td>\n",
       "      <td>volkswagen</td>\n",
       "      <td>NaN</td>\n",
       "      <td>2016-03-24</td>\n",
       "      <td>0</td>\n",
       "      <td>70435</td>\n",
       "      <td>2016-04-07 03:16:00</td>\n",
       "    </tr>\n",
       "    <tr>\n",
       "      <th>1</th>\n",
       "      <td>2016-03-24 10:58:00</td>\n",
       "      <td>18300</td>\n",
       "      <td>coupe</td>\n",
       "      <td>2011</td>\n",
       "      <td>manual</td>\n",
       "      <td>190</td>\n",
       "      <td>NaN</td>\n",
       "      <td>125000</td>\n",
       "      <td>5</td>\n",
       "      <td>gasoline</td>\n",
       "      <td>audi</td>\n",
       "      <td>yes</td>\n",
       "      <td>2016-03-24</td>\n",
       "      <td>0</td>\n",
       "      <td>66954</td>\n",
       "      <td>2016-04-07 01:46:00</td>\n",
       "    </tr>\n",
       "    <tr>\n",
       "      <th>2</th>\n",
       "      <td>2016-03-14 12:52:00</td>\n",
       "      <td>9800</td>\n",
       "      <td>suv</td>\n",
       "      <td>2004</td>\n",
       "      <td>auto</td>\n",
       "      <td>163</td>\n",
       "      <td>grand</td>\n",
       "      <td>125000</td>\n",
       "      <td>8</td>\n",
       "      <td>gasoline</td>\n",
       "      <td>jeep</td>\n",
       "      <td>NaN</td>\n",
       "      <td>2016-03-14</td>\n",
       "      <td>0</td>\n",
       "      <td>90480</td>\n",
       "      <td>2016-04-05 12:47:00</td>\n",
       "    </tr>\n",
       "    <tr>\n",
       "      <th>3</th>\n",
       "      <td>2016-03-17 16:54:00</td>\n",
       "      <td>1500</td>\n",
       "      <td>small</td>\n",
       "      <td>2001</td>\n",
       "      <td>manual</td>\n",
       "      <td>75</td>\n",
       "      <td>golf</td>\n",
       "      <td>150000</td>\n",
       "      <td>6</td>\n",
       "      <td>petrol</td>\n",
       "      <td>volkswagen</td>\n",
       "      <td>no</td>\n",
       "      <td>2016-03-17</td>\n",
       "      <td>0</td>\n",
       "      <td>91074</td>\n",
       "      <td>2016-03-17 17:40:00</td>\n",
       "    </tr>\n",
       "    <tr>\n",
       "      <th>4</th>\n",
       "      <td>2016-03-31 17:25:00</td>\n",
       "      <td>3600</td>\n",
       "      <td>small</td>\n",
       "      <td>2008</td>\n",
       "      <td>manual</td>\n",
       "      <td>69</td>\n",
       "      <td>fabia</td>\n",
       "      <td>90000</td>\n",
       "      <td>7</td>\n",
       "      <td>gasoline</td>\n",
       "      <td>skoda</td>\n",
       "      <td>no</td>\n",
       "      <td>2016-03-31</td>\n",
       "      <td>0</td>\n",
       "      <td>60437</td>\n",
       "      <td>2016-04-06 10:17:00</td>\n",
       "    </tr>\n",
       "  </tbody>\n",
       "</table>\n",
       "</div>"
      ],
      "text/plain": [
       "          datecrawled  price vehicletype  registrationyear gearbox  power  \\\n",
       "0 2016-03-24 11:52:00    480         NaN              1993  manual      0   \n",
       "1 2016-03-24 10:58:00  18300       coupe              2011  manual    190   \n",
       "2 2016-03-14 12:52:00   9800         suv              2004    auto    163   \n",
       "3 2016-03-17 16:54:00   1500       small              2001  manual     75   \n",
       "4 2016-03-31 17:25:00   3600       small              2008  manual     69   \n",
       "\n",
       "   model  mileage  registrationmonth  fueltype       brand notrepaired  \\\n",
       "0   golf   150000                  0    petrol  volkswagen         NaN   \n",
       "1    NaN   125000                  5  gasoline        audi         yes   \n",
       "2  grand   125000                  8  gasoline        jeep         NaN   \n",
       "3   golf   150000                  6    petrol  volkswagen          no   \n",
       "4  fabia    90000                  7  gasoline       skoda          no   \n",
       "\n",
       "  datecreated  numberofpictures  postalcode            lastseen  \n",
       "0  2016-03-24                 0       70435 2016-04-07 03:16:00  \n",
       "1  2016-03-24                 0       66954 2016-04-07 01:46:00  \n",
       "2  2016-03-14                 0       90480 2016-04-05 12:47:00  \n",
       "3  2016-03-17                 0       91074 2016-03-17 17:40:00  \n",
       "4  2016-03-31                 0       60437 2016-04-06 10:17:00  "
      ]
     },
     "execution_count": 4,
     "metadata": {},
     "output_type": "execute_result"
    }
   ],
   "source": [
    "# preview the data\n",
    "df.head()"
   ]
  },
  {
   "cell_type": "code",
   "execution_count": 5,
   "metadata": {},
   "outputs": [
    {
     "name": "stdout",
     "output_type": "stream",
     "text": [
      "<class 'pandas.core.frame.DataFrame'>\n",
      "RangeIndex: 354369 entries, 0 to 354368\n",
      "Data columns (total 16 columns):\n",
      " #   Column             Non-Null Count   Dtype         \n",
      "---  ------             --------------   -----         \n",
      " 0   datecrawled        354369 non-null  datetime64[ns]\n",
      " 1   price              354369 non-null  int64         \n",
      " 2   vehicletype        316879 non-null  object        \n",
      " 3   registrationyear   354369 non-null  int64         \n",
      " 4   gearbox            334536 non-null  object        \n",
      " 5   power              354369 non-null  int64         \n",
      " 6   model              334664 non-null  object        \n",
      " 7   mileage            354369 non-null  int64         \n",
      " 8   registrationmonth  354369 non-null  int64         \n",
      " 9   fueltype           321474 non-null  object        \n",
      " 10  brand              354369 non-null  object        \n",
      " 11  notrepaired        283215 non-null  object        \n",
      " 12  datecreated        354369 non-null  datetime64[ns]\n",
      " 13  numberofpictures   354369 non-null  int64         \n",
      " 14  postalcode         354369 non-null  int64         \n",
      " 15  lastseen           354369 non-null  datetime64[ns]\n",
      "dtypes: datetime64[ns](3), int64(7), object(6)\n",
      "memory usage: 43.3+ MB\n"
     ]
    }
   ],
   "source": [
    "# get information about the data\n",
    "df.info()"
   ]
  },
  {
   "cell_type": "markdown",
   "metadata": {},
   "source": [
    "There are many missing values for fueltype, notrepaired, model, gearbox, and vehicletype. Let's examine them and see if it makes sense to fill them in."
   ]
  },
  {
   "cell_type": "code",
   "execution_count": 6,
   "metadata": {},
   "outputs": [
    {
     "data": {
      "image/png": "[encoded data removed]",
      "text/plain": [
       "<Figure size 2000x1000 with 1 Axes>"
      ]
     },
     "metadata": {},
     "output_type": "display_data"
    }
   ],
   "source": [
    "# set the figure size\n",
    "plt.figure(figsize=(20,10))\n",
    "\n",
    "# plot a boxplot for all numerical columns\n",
    "df.boxplot()\n",
    "\n",
    "# show the plot\n",
    "plt.show()\n"
   ]
  },
  {
   "cell_type": "code",
   "execution_count": 7,
   "metadata": {},
   "outputs": [
    {
     "data": {
      "text/html": [
       "<div>\n",
       "<style scoped>\n",
       "    .dataframe tbody tr th:only-of-type {\n",
       "        vertical-align: middle;\n",
       "    }\n",
       "\n",
       "    .dataframe tbody tr th {\n",
       "        vertical-align: top;\n",
       "    }\n",
       "\n",
       "    .dataframe thead th {\n",
       "        text-align: right;\n",
       "    }\n",
       "</style>\n",
       "<table border=\"1\" class=\"dataframe\">\n",
       "  <thead>\n",
       "    <tr style=\"text-align: right;\">\n",
       "      <th></th>\n",
       "      <th>datecrawled</th>\n",
       "      <th>price</th>\n",
       "      <th>registrationyear</th>\n",
       "      <th>power</th>\n",
       "      <th>mileage</th>\n",
       "      <th>registrationmonth</th>\n",
       "      <th>datecreated</th>\n",
       "      <th>numberofpictures</th>\n",
       "      <th>postalcode</th>\n",
       "      <th>lastseen</th>\n",
       "    </tr>\n",
       "  </thead>\n",
       "  <tbody>\n",
       "    <tr>\n",
       "      <th>count</th>\n",
       "      <td>354369</td>\n",
       "      <td>354369.000000</td>\n",
       "      <td>354369.000000</td>\n",
       "      <td>354369.000000</td>\n",
       "      <td>354369.000000</td>\n",
       "      <td>354369.000000</td>\n",
       "      <td>354369</td>\n",
       "      <td>354369.0</td>\n",
       "      <td>354369.000000</td>\n",
       "      <td>354369</td>\n",
       "    </tr>\n",
       "    <tr>\n",
       "      <th>mean</th>\n",
       "      <td>2016-03-21 12:57:41.165057280</td>\n",
       "      <td>4416.656776</td>\n",
       "      <td>2004.234448</td>\n",
       "      <td>110.094337</td>\n",
       "      <td>128211.172535</td>\n",
       "      <td>5.714645</td>\n",
       "      <td>2016-03-20 19:12:07.753274112</td>\n",
       "      <td>0.0</td>\n",
       "      <td>50508.689087</td>\n",
       "      <td>2016-03-29 23:50:30.593703680</td>\n",
       "    </tr>\n",
       "    <tr>\n",
       "      <th>min</th>\n",
       "      <td>2016-03-05 14:06:00</td>\n",
       "      <td>0.000000</td>\n",
       "      <td>1000.000000</td>\n",
       "      <td>0.000000</td>\n",
       "      <td>5000.000000</td>\n",
       "      <td>0.000000</td>\n",
       "      <td>2014-03-10 00:00:00</td>\n",
       "      <td>0.0</td>\n",
       "      <td>1067.000000</td>\n",
       "      <td>2016-03-05 14:15:00</td>\n",
       "    </tr>\n",
       "    <tr>\n",
       "      <th>25%</th>\n",
       "      <td>2016-03-13 11:52:00</td>\n",
       "      <td>1050.000000</td>\n",
       "      <td>1999.000000</td>\n",
       "      <td>69.000000</td>\n",
       "      <td>125000.000000</td>\n",
       "      <td>3.000000</td>\n",
       "      <td>2016-03-13 00:00:00</td>\n",
       "      <td>0.0</td>\n",
       "      <td>30165.000000</td>\n",
       "      <td>2016-03-23 02:50:00</td>\n",
       "    </tr>\n",
       "    <tr>\n",
       "      <th>50%</th>\n",
       "      <td>2016-03-21 17:50:00</td>\n",
       "      <td>2700.000000</td>\n",
       "      <td>2003.000000</td>\n",
       "      <td>105.000000</td>\n",
       "      <td>150000.000000</td>\n",
       "      <td>6.000000</td>\n",
       "      <td>2016-03-21 00:00:00</td>\n",
       "      <td>0.0</td>\n",
       "      <td>49413.000000</td>\n",
       "      <td>2016-04-03 15:15:00</td>\n",
       "    </tr>\n",
       "    <tr>\n",
       "      <th>75%</th>\n",
       "      <td>2016-03-29 14:37:00</td>\n",
       "      <td>6400.000000</td>\n",
       "      <td>2008.000000</td>\n",
       "      <td>143.000000</td>\n",
       "      <td>150000.000000</td>\n",
       "      <td>9.000000</td>\n",
       "      <td>2016-03-29 00:00:00</td>\n",
       "      <td>0.0</td>\n",
       "      <td>71083.000000</td>\n",
       "      <td>2016-04-06 10:15:00</td>\n",
       "    </tr>\n",
       "    <tr>\n",
       "      <th>max</th>\n",
       "      <td>2016-04-07 14:36:00</td>\n",
       "      <td>20000.000000</td>\n",
       "      <td>9999.000000</td>\n",
       "      <td>20000.000000</td>\n",
       "      <td>150000.000000</td>\n",
       "      <td>12.000000</td>\n",
       "      <td>2016-04-07 00:00:00</td>\n",
       "      <td>0.0</td>\n",
       "      <td>99998.000000</td>\n",
       "      <td>2016-04-07 14:58:00</td>\n",
       "    </tr>\n",
       "    <tr>\n",
       "      <th>std</th>\n",
       "      <td>NaN</td>\n",
       "      <td>4514.158514</td>\n",
       "      <td>90.227958</td>\n",
       "      <td>189.850405</td>\n",
       "      <td>37905.341530</td>\n",
       "      <td>3.726421</td>\n",
       "      <td>NaN</td>\n",
       "      <td>0.0</td>\n",
       "      <td>25783.096248</td>\n",
       "      <td>NaN</td>\n",
       "    </tr>\n",
       "  </tbody>\n",
       "</table>\n",
       "</div>"
      ],
      "text/plain": [
       "                         datecrawled          price  registrationyear  \\\n",
       "count                         354369  354369.000000     354369.000000   \n",
       "mean   2016-03-21 12:57:41.165057280    4416.656776       2004.234448   \n",
       "min              2016-03-05 14:06:00       0.000000       1000.000000   \n",
       "25%              2016-03-13 11:52:00    1050.000000       1999.000000   \n",
       "50%              2016-03-21 17:50:00    2700.000000       2003.000000   \n",
       "75%              2016-03-29 14:37:00    6400.000000       2008.000000   \n",
       "max              2016-04-07 14:36:00   20000.000000       9999.000000   \n",
       "std                              NaN    4514.158514         90.227958   \n",
       "\n",
       "               power        mileage  registrationmonth  \\\n",
       "count  354369.000000  354369.000000      354369.000000   \n",
       "mean      110.094337  128211.172535           5.714645   \n",
       "min         0.000000    5000.000000           0.000000   \n",
       "25%        69.000000  125000.000000           3.000000   \n",
       "50%       105.000000  150000.000000           6.000000   \n",
       "75%       143.000000  150000.000000           9.000000   \n",
       "max     20000.000000  150000.000000          12.000000   \n",
       "std       189.850405   37905.341530           3.726421   \n",
       "\n",
       "                         datecreated  numberofpictures     postalcode  \\\n",
       "count                         354369          354369.0  354369.000000   \n",
       "mean   2016-03-20 19:12:07.753274112               0.0   50508.689087   \n",
       "min              2014-03-10 00:00:00               0.0    1067.000000   \n",
       "25%              2016-03-13 00:00:00               0.0   30165.000000   \n",
       "50%              2016-03-21 00:00:00               0.0   49413.000000   \n",
       "75%              2016-03-29 00:00:00               0.0   71083.000000   \n",
       "max              2016-04-07 00:00:00               0.0   99998.000000   \n",
       "std                              NaN               0.0   25783.096248   \n",
       "\n",
       "                            lastseen  \n",
       "count                         354369  \n",
       "mean   2016-03-29 23:50:30.593703680  \n",
       "min              2016-03-05 14:15:00  \n",
       "25%              2016-03-23 02:50:00  \n",
       "50%              2016-04-03 15:15:00  \n",
       "75%              2016-04-06 10:15:00  \n",
       "max              2016-04-07 14:58:00  \n",
       "std                              NaN  "
      ]
     },
     "execution_count": 7,
     "metadata": {},
     "output_type": "execute_result"
    }
   ],
   "source": [
    "# describe the data\n",
    "df.describe()"
   ]
  },
  {
   "cell_type": "markdown",
   "metadata": {},
   "source": [
    "The numberofpictures column seems to have useless data--every value is 0. We can drop it from our dataframe.\n",
    "\n",
    "Given that the latest datecreated value is in 2016, it doesn't make sense for the registration year to be greater than 2016. Likewise, it doesn't make much sense for the registration year to be before 1900. We'll address these values."
   ]
  },
  {
   "cell_type": "code",
   "execution_count": 8,
   "metadata": {},
   "outputs": [],
   "source": [
    "# drop the numberofpictures column\n",
    "df.drop('numberofpictures', axis=1, inplace=True)"
   ]
  },
  {
   "cell_type": "code",
   "execution_count": 9,
   "metadata": {},
   "outputs": [
    {
     "name": "stderr",
     "output_type": "stream",
     "text": [
      "/var/folders/6k/r1zgzskx1kd7_3xy_n5q44rm0000gn/T/ipykernel_1437/1492199979.py:2: FutureWarning: Setting an item of incompatible dtype is deprecated and will raise an error in a future version of pandas. Value '[2006. 2008. 2001. ... 2003. 2001. 2001.]' has dtype incompatible with int64, please explicitly cast to a compatible dtype first.\n",
      "  df.loc[(df['registrationyear'].notnull()) & (df['registrationyear'] > 2016), 'registrationyear'] = df.groupby(['brand', 'model'])['registrationyear'].transform('median')\n"
     ]
    }
   ],
   "source": [
    "# replace registrationyear values that aren't null and are greater than 2016 with the median value based on the brand and model\n",
    "df.loc[(df['registrationyear'].notnull()) & (df['registrationyear'] > 2016), 'registrationyear'] = df.groupby(['brand', 'model'])['registrationyear'].transform('median')\n",
    "\n",
    "# replace registrationyear values that aren't null and are less than 1900 with the median value based on the brand and model\n",
    "df.loc[(df['registrationyear'].notnull()) & (df['registrationyear'] < 1900), 'registrationyear'] = df.groupby(['brand', 'model'])['registrationyear'].transform('median')\n"
   ]
  },
  {
   "cell_type": "code",
   "execution_count": 10,
   "metadata": {},
   "outputs": [
    {
     "name": "stdout",
     "output_type": "stream",
     "text": [
      "model\n",
      "golf                  29232\n",
      "other                 24421\n",
      "3er                   19761\n",
      "polo                  13066\n",
      "corsa                 12570\n",
      "                      ...  \n",
      "i3                        8\n",
      "serie_3                   4\n",
      "rangerover                4\n",
      "range_rover_evoque        2\n",
      "serie_1                   2\n",
      "Name: count, Length: 250, dtype: int64\n"
     ]
    }
   ],
   "source": [
    "# count the values of model\n",
    "print(df['model'].value_counts(ascending=False))\n",
    "\n",
    "# replace model values of 'other' with NaN values\n",
    "df['model'] = df['model'].replace('other', np.nan)"
   ]
  },
  {
   "cell_type": "markdown",
   "metadata": {},
   "source": [
    "There are 24,421 rows where the model is 'other.' That's a lot of data to have vague information for so we'll replace these values with NaN and let our KNNImputer fill them in in the next step instead."
   ]
  },
  {
   "cell_type": "code",
   "execution_count": 11,
   "metadata": {},
   "outputs": [],
   "source": [
    "'''Impute missing model values using KNNImputer'''\n",
    "\n",
    "# select categorical columns\n",
    "categorical_cols = ['vehicletype', 'gearbox', 'fueltype', 'brand']\n",
    "\n",
    "# one-hot encode categorical columns using get_dummies\n",
    "df_encoded = pd.get_dummies(df[categorical_cols], drop_first=True)\n",
    "\n",
    "# replace missing 'model' with NaN (if they are not already NaN values)\n",
    "df_encoded['model'] = pd.factorize(df['model'])[0]\n",
    "\n",
    "# combine the encoded catgorical data with the numerical columns in one dataframe\n",
    "numerical_cols = ['price', 'registrationyear', 'power', 'mileage']\n",
    "impute_df = pd.concat([df[numerical_cols], df_encoded, df['model']], axis=1)\n",
    "\n",
    "# initialize the KNNImputer\n",
    "imputer = KNNImputer(n_neighbors=5)\n",
    "\n",
    "# perform the imputation\n",
    "imputed_array = imputer.fit_transform(df_encoded)\n",
    "\n",
    "# convert the imputed_array back to a dataframe\n",
    "imputed_df = pd.DataFrame(imputed_array, columns=df_encoded.columns)\n",
    "\n",
    "# convert the 'model' values in imputed_df back to their original categories\n",
    "model_labels = pd.factorize(df['model'])[1]\n",
    "imputed_df['model'] = imputed_df['model'].round().astype(int)\n",
    "imputed_df['model'] = imputed_df['model'].map(lambda x: model_labels[x] if x < len(model_labels) else None)\n",
    "\n",
    "# merge back the imputed 'model' values into the original DataFrame\n",
    "df['model'] = imputed_df['model']\n"
   ]
  },
  {
   "cell_type": "markdown",
   "metadata": {},
   "source": [
    "It's challenging to fill in the missing model values based on one or two other features' values alone. We can use a KNN model to impute the missing model values based their nearest 5 neighbors. Let's see how our missing values look now:"
   ]
  },
  {
   "cell_type": "code",
   "execution_count": 12,
   "metadata": {},
   "outputs": [
    {
     "name": "stdout",
     "output_type": "stream",
     "text": [
      "<class 'pandas.core.frame.DataFrame'>\n",
      "RangeIndex: 354369 entries, 0 to 354368\n",
      "Data columns (total 15 columns):\n",
      " #   Column             Non-Null Count   Dtype         \n",
      "---  ------             --------------   -----         \n",
      " 0   datecrawled        354369 non-null  datetime64[ns]\n",
      " 1   price              354369 non-null  int64         \n",
      " 2   vehicletype        316879 non-null  object        \n",
      " 3   registrationyear   352289 non-null  float64       \n",
      " 4   gearbox            334536 non-null  object        \n",
      " 5   power              354369 non-null  int64         \n",
      " 6   model              354369 non-null  object        \n",
      " 7   mileage            354369 non-null  int64         \n",
      " 8   registrationmonth  354369 non-null  int64         \n",
      " 9   fueltype           321474 non-null  object        \n",
      " 10  brand              354369 non-null  object        \n",
      " 11  notrepaired        283215 non-null  object        \n",
      " 12  datecreated        354369 non-null  datetime64[ns]\n",
      " 13  postalcode         354369 non-null  int64         \n",
      " 14  lastseen           354369 non-null  datetime64[ns]\n",
      "dtypes: datetime64[ns](3), float64(1), int64(5), object(6)\n",
      "memory usage: 40.6+ MB\n"
     ]
    }
   ],
   "source": [
    "df.info()"
   ]
  },
  {
   "cell_type": "code",
   "execution_count": 13,
   "metadata": {},
   "outputs": [
    {
     "name": "stdout",
     "output_type": "stream",
     "text": [
      "14        4177\n",
      "23        9526\n",
      "36        2943\n",
      "63        6242\n",
      "64        1129\n",
      "          ... \n",
      "354311    1217\n",
      "354337    4107\n",
      "354348    1217\n",
      "354353    4275\n",
      "354364    2694\n",
      "Name: postalcode, Length: 18159, dtype: int64\n"
     ]
    }
   ],
   "source": [
    "# get the rows where postalcode is < 5 digits and print them\n",
    "print(df[df['postalcode'].astype(str).str.len() < 5]['postalcode'])\n"
   ]
  },
  {
   "cell_type": "markdown",
   "metadata": {},
   "source": [
    "There are over 18k rows that have less than 5 digit postal codes. Zip code shouldn't be an input into our model anyway, but we can revisit this field if need be."
   ]
  },
  {
   "cell_type": "code",
   "execution_count": 14,
   "metadata": {},
   "outputs": [
    {
     "name": "stdout",
     "output_type": "stream",
     "text": [
      "0\n"
     ]
    }
   ],
   "source": [
    "# fill missing registration year values with the median value of the brand and model\n",
    "df['registrationyear'] = df.groupby(['brand', 'model'])['registrationyear'].transform(lambda x: x.fillna(x.median()))\n",
    "\n",
    "# print the count of rows where the registrationyear is still missing\n",
    "print(df['registrationyear'].isnull().sum())\n"
   ]
  },
  {
   "cell_type": "markdown",
   "metadata": {},
   "source": [
    "When we addressed illogical values in the registration year field, we removed some values. We will now fill them in based on the median registration year for a given brand and model.\n",
    "\n",
    "Now, there are 0 missing registration year values."
   ]
  },
  {
   "cell_type": "code",
   "execution_count": 15,
   "metadata": {},
   "outputs": [],
   "source": [
    "# fill missing gearbox values with the mode value based on the brand and model\n",
    "df['gearbox'] = df.groupby(['brand','model'])['gearbox'].transform(lambda x: x.fillna(x.mode()[0]))\n",
    "\n",
    "# fill missing vehicletype values with the mode value based on the brand and model\n",
    "df['vehicletype'] = df.groupby(['brand', 'model'])['vehicletype'].transform(lambda x: x.fillna(x.mode()[0]))\n",
    "\n",
    "# fill missing fueltype values with the mode value based on the brand and model\n",
    "df['fueltype'] = df.groupby(['brand', 'model'])['fueltype'].transform(lambda x: x.fillna(x.mode()[0]))\n",
    "\n",
    "# fill missing datecreated values with the mode value based lastseen and datecrawled values\n",
    "df['datecreated'] = df.groupby(['lastseen', 'datecrawled'])['datecreated'].transform(lambda x: x.fillna(x.mode()[0]))\n",
    "\n",
    "# fill missing mileage values with the median value based on the brand and model\n",
    "df['mileage'] = df.groupby(['brand', 'model'])['mileage'].transform(lambda x: x.fillna(x.median()))\n",
    "\n",
    "# fill missing lastseen values with the mode value based on the datecrawled and datecreated values\n",
    "df['lastseen'] = df.groupby(['datecrawled', 'datecreated'])['lastseen'].transform(lambda x: x.fillna(x.mode()[0]))\n",
    "\n",
    "# fill missing registrationmonth values with the mode value based on the model values\n",
    "df['registrationmonth'] = df.groupby(['model'])['registrationmonth'].transform(lambda x: x.fillna(x.mode()[0]))\n"
   ]
  },
  {
   "cell_type": "markdown",
   "metadata": {},
   "source": [
    "We can fill in the remaining missing values with the median for mode for a given feature grouped by associated features."
   ]
  },
  {
   "cell_type": "code",
   "execution_count": 16,
   "metadata": {},
   "outputs": [
    {
     "name": "stdout",
     "output_type": "stream",
     "text": [
      "Model: 1_reihe, Number of Distinct Brands: 2\n",
      "Model: 3_reihe, Number of Distinct Brands: 2\n",
      "Model: 5_reihe, Number of Distinct Brands: 2\n",
      "Model: defender, Number of Distinct Brands: 2\n",
      "Model: discovery, Number of Distinct Brands: 2\n",
      "Model: freelander, Number of Distinct Brands: 2\n",
      "Model: grand, Number of Distinct Brands: 3\n",
      "Model: matiz, Number of Distinct Brands: 2\n",
      "Model: serie_1, Number of Distinct Brands: 40\n",
      "Model: 1_reihe, Brands: ['mazda' 'peugeot']\n",
      "Model: 3_reihe, Brands: ['mazda' 'peugeot']\n",
      "Model: 5_reihe, Brands: ['mazda' 'peugeot']\n",
      "Model: defender, Brands: ['land_rover' 'rover']\n",
      "Model: discovery, Brands: ['land_rover' 'rover']\n",
      "Model: freelander, Brands: ['land_rover' 'rover']\n",
      "Model: grand, Brands: ['jeep' 'suzuki' 'chrysler']\n",
      "Model: matiz, Brands: ['chevrolet' 'daewoo']\n"
     ]
    }
   ],
   "source": [
    "# Group the dataframe by model and count the number of distinct brand values\n",
    "brand_model_counts = df.groupby('model')['brand'].nunique()\n",
    "\n",
    "# Filter the brand_model_counts dataframe to get the combinations where the count is greater than 1\n",
    "brand_model_combinations = brand_model_counts[brand_model_counts > 1]\n",
    "\n",
    "# display all the rows\n",
    "pd.set_option('display.max_rows', None)\n",
    "\n",
    "# Print the brand and model combinations\n",
    "for model, count in brand_model_combinations.items():\n",
    "    print(f\"Model: {model}, Number of Distinct Brands: {count}\")\n",
    "\n",
    "# print the brand and model combinations for the models 1_reihe, 3_reihe, 5_reihe, defender, discover, freelander, grand, and matiz\n",
    "for model in ['1_reihe', '3_reihe', '5_reihe', 'defender', 'discovery', 'freelander', 'grand', 'matiz']:\n",
    "    print(f\"Model: {model}, Brands: {df[df['model'] == model]['brand'].unique()}\")\n",
    "\n",
    "# where the model is defender, discovery, or freelander, replace the brand with land_rover\n",
    "df.loc[df['model'].isin(['defender', 'discovery', 'freelander']), 'brand'] = 'land_rover'\n"
   ]
  },
  {
   "cell_type": "markdown",
   "metadata": {},
   "source": [
    "There are a few models that have more than 1 distinct associated brand. Most make sense, but we can specify the correct brand for the defender, discovery, and feelander models. "
   ]
  },
  {
   "cell_type": "code",
   "execution_count": 17,
   "metadata": {},
   "outputs": [],
   "source": [
    "# convert registrationyear to integer\n",
    "df['registrationyear'] = df['registrationyear'].astype(int)"
   ]
  },
  {
   "cell_type": "markdown",
   "metadata": {},
   "source": [
    "The registration year should be an integer datatype instead of a float."
   ]
  },
  {
   "cell_type": "code",
   "execution_count": 18,
   "metadata": {},
   "outputs": [
    {
     "name": "stdout",
     "output_type": "stream",
     "text": [
      "notrepaired\n",
      "no     247161\n",
      "yes     36054\n",
      "Name: count, dtype: int64\n"
     ]
    }
   ],
   "source": [
    "# see the distribution of the notrepaired column\n",
    "print(df['notrepaired'].value_counts())\n",
    "\n",
    "# fill missing notrepaired values with 'unknown'\n",
    "df['notrepaired'] = df['notrepaired'].fillna('unknown')"
   ]
  },
  {
   "cell_type": "markdown",
   "metadata": {},
   "source": [
    "Often, it makes sense to fill missing values for a field with binary values with the mode, but whether a vehicle is repaired or not is very important ot the price and we don't want to make inaccurate assumptions here. We'll fill NaN values with 'other' instead."
   ]
  },
  {
   "cell_type": "code",
   "execution_count": 19,
   "metadata": {},
   "outputs": [
    {
     "name": "stdout",
     "output_type": "stream",
     "text": [
      "272\n"
     ]
    }
   ],
   "source": [
    "# check for duplicates\n",
    "print(df.duplicated().sum())\n",
    "\n",
    "# drop duplicates\n",
    "df.drop_duplicates(inplace=True)"
   ]
  },
  {
   "cell_type": "markdown",
   "metadata": {},
   "source": [
    "There are 271 duplicate values, which may have been a result of some of the data cleaning. We'll drop them since there are very few relative to the size of the dataset."
   ]
  },
  {
   "cell_type": "markdown",
   "metadata": {},
   "source": [
    "# Prepare the data for the models"
   ]
  },
  {
   "cell_type": "code",
   "execution_count": 20,
   "metadata": {},
   "outputs": [],
   "source": [
    "# set the target and features\n",
    "target = df['price']\n",
    "features = df.drop(columns=['price','datecreated','registrationmonth','postalcode','datecrawled','lastseen'], axis=1)\n",
    "\n",
    "# split the data into training and testing sets\n",
    "X_train, X_test_val, y_train, y_test_val = train_test_split(features, target, test_size=0.3, random_state=12345)\n",
    "\n",
    "# further split the testing data into testing data into validation and testing sets\n",
    "X_val, X_test, y_val, y_test = train_test_split(X_test_val, y_test_val, test_size=0.5, random_state=12345)\n"
   ]
  },
  {
   "cell_type": "markdown",
   "metadata": {},
   "source": [
    "# Linear Regression Model"
   ]
  },
  {
   "cell_type": "code",
   "execution_count": 21,
   "metadata": {},
   "outputs": [
    {
     "name": "stdout",
     "output_type": "stream",
     "text": [
      "RMSE of the linear regression model on the validation set: 2980.8737408591837\n"
     ]
    }
   ],
   "source": [
    "# initialize the OneHotEncoder\n",
    "encoder = OneHotEncoder(sparse_output=False) \n",
    "\n",
    "# specify the categorical columns for the training and validation sets\n",
    "categorical_cols_train = X_train[['vehicletype', 'gearbox', 'model', 'fueltype', 'brand', 'notrepaired']]\n",
    "categorical_cols_val = X_val[['vehicletype', 'gearbox', 'model', 'fueltype', 'brand', 'notrepaired']]\n",
    "\n",
    "# specify the numeric columns for the training set\n",
    "numeric_cols_train = X_train[['power','registrationyear','mileage']]\n",
    "numeric_cols_val = X_val[['power','registrationyear','mileage']]\n",
    "\n",
    "# Fit and transform the data\n",
    "encoded_cat_train = encoder.fit_transform(categorical_cols_train)\n",
    "encoded_cat_val = encoder.transform(categorical_cols_val)\n",
    "\n",
    "\n",
    "# Convert to DataFrame \n",
    "encoded_X_train = pd.DataFrame(\n",
    "    encoded_cat_train, \n",
    "    columns=encoder.get_feature_names_out(categorical_cols_train.columns)\n",
    ")\n",
    "\n",
    "encoded_X_val = pd.DataFrame(\n",
    "    encoded_cat_val,\n",
    "    columns=encoder.get_feature_names_out(categorical_cols_val.columns)\n",
    ")\n",
    "\n",
    "\n",
    "# combine the encoded categorical data with the numeric data\n",
    "encoded_df_X_train = pd.concat([encoded_X_train, numeric_cols_train.reset_index(drop=True)], axis=1)\n",
    "encoded_df_X_val = pd.concat([encoded_X_val, numeric_cols_val.reset_index(drop=True)], axis=1)\n",
    "\n",
    "# initialize the StandardScaler\n",
    "scaler = StandardScaler()\n",
    "\n",
    "# specify the numeric columns\n",
    "numeric = ['power','registrationyear','mileage']\n",
    "\n",
    "# fit the scaler on the training data\n",
    "scaler.fit(encoded_df_X_train[numeric])\n",
    "\n",
    "# transform the training and validation data\n",
    "encoded_df_X_train[numeric] = scaler.transform(encoded_df_X_train[numeric])\n",
    "\n",
    "# initialize model constructor\n",
    "model = LinearRegression() \n",
    "\n",
    "# train the model, get predictions, and score the predicted targets vs. the actual targets using neg RMSE through cross validation\n",
    "result = cross_val_score(model, encoded_df_X_train, y_train, scoring='neg_root_mean_squared_error')\n",
    "neg_result = -result\n",
    "\n",
    "# calculate the RMSE on the cross-validated predictions and print it\n",
    "print(\"RMSE of the linear regression model on the validation set:\", neg_result.mean())"
   ]
  },
  {
   "cell_type": "markdown",
   "metadata": {},
   "source": [
    "#### Get the time required to train the linear regression model"
   ]
  },
  {
   "cell_type": "code",
   "execution_count": 22,
   "metadata": {},
   "outputs": [
    {
     "name": "stdout",
     "output_type": "stream",
     "text": [
      "\n",
      "CPU times: user 5.83 s, sys: 354 ms, total: 6.18 s\n",
      "Wall time: 2.8 s\n"
     ]
    }
   ],
   "source": [
    "%%time\n",
    "\n",
    "# initialize model constructor\n",
    "model = LinearRegression() \n",
    "\n",
    "# train the model on the training set\n",
    "model.fit(encoded_df_X_train, y_train) \n",
    "print()"
   ]
  },
  {
   "cell_type": "markdown",
   "metadata": {},
   "source": [
    "#### Get the time required to make predictions on the validation set"
   ]
  },
  {
   "cell_type": "code",
   "execution_count": 23,
   "metadata": {},
   "outputs": [
    {
     "name": "stdout",
     "output_type": "stream",
     "text": [
      "CPU times: user 38.7 ms, sys: 23 ms, total: 61.6 ms\n",
      "Wall time: 46.1 ms\n"
     ]
    }
   ],
   "source": [
    "%%time\n",
    "\n",
    "# get the predictions on the validation set\n",
    "y_pred = model.predict(encoded_df_X_val)"
   ]
  },
  {
   "cell_type": "markdown",
   "metadata": {},
   "source": [
    "# Random Forest Regressor Model"
   ]
  },
  {
   "cell_type": "code",
   "execution_count": 24,
   "metadata": {},
   "outputs": [
    {
     "name": "stdout",
     "output_type": "stream",
     "text": [
      "RMSE of the model on the cross-validated predictions: 2039.521627514385 n_estimators: 50 best_depth: 10\n"
     ]
    }
   ],
   "source": [
    "# initialize the OrdinalEncoder\n",
    "encoder = OrdinalEncoder(handle_unknown='use_encoded_value', unknown_value=-1)\n",
    "\n",
    "# Fit the encoder on the training set\n",
    "encoder.fit(X_train)\n",
    "\n",
    "# Transform the training set and convert it to a dataframe with the original column names\n",
    "X_train_ordinal = pd.DataFrame(encoder.transform(X_train), columns=X_train.columns)\n",
    "X_val_ordinal = pd.DataFrame(encoder.transform(X_val), columns=X_val.columns)\n",
    "\n",
    "\n",
    "# loop through different values of n_estimators and max_depth\n",
    "best_result = 5000\n",
    "for est in range(30, 51, 10):\n",
    "    for depth in range (7, 11):\n",
    "        model = RandomForestRegressor(random_state=12345, n_estimators=est, max_depth=depth) # initialize the model\n",
    "        score_array = cross_val_score(model, X_train_ordinal, y_train, cv=3, scoring='neg_root_mean_squared_error') # calculate the negative RMSE scores from the cross-validated predictions\n",
    "        neg_result = -score_array # get the positive RMSE scores\n",
    "        result = neg_result.mean() # get the mean of the positive RMSE scores\n",
    "        if result < best_result: # if the result is better than the previous best result then update the best result, best_model, best_est, and best_depth variables\n",
    "            best_model = model\n",
    "            best_result = result\n",
    "            best_est = est\n",
    "            best_depth = depth\n",
    "\n",
    "print(\"RMSE of the model on the cross-validated predictions:\", best_result, \"n_estimators:\", best_est, \"best_depth:\", best_depth)"
   ]
  },
  {
   "cell_type": "markdown",
   "metadata": {},
   "source": [
    "#### Get the time required to train the Random Forest Regressor with our tuned hyperparameters from the previous step"
   ]
  },
  {
   "cell_type": "code",
   "execution_count": 25,
   "metadata": {},
   "outputs": [
    {
     "name": "stdout",
     "output_type": "stream",
     "text": [
      "\n",
      "CPU times: user 9.65 s, sys: 42 ms, total: 9.69 s\n",
      "Wall time: 9.93 s\n"
     ]
    }
   ],
   "source": [
    "%%time \n",
    "\n",
    "# initialize the random forest regressor model with the best hyperparameters from the previous step\n",
    "model = RandomForestRegressor(random_state=12345, n_estimators=50, max_depth=10)\n",
    "\n",
    "# train the model on the training set\n",
    "model.fit(X_train_ordinal, y_train)\n",
    "print()\n"
   ]
  },
  {
   "cell_type": "markdown",
   "metadata": {},
   "source": [
    "#### Get the time required to make predictions on the optimized Random Forest Regressor Model"
   ]
  },
  {
   "cell_type": "code",
   "execution_count": 26,
   "metadata": {},
   "outputs": [
    {
     "name": "stdout",
     "output_type": "stream",
     "text": [
      "CPU times: user 134 ms, sys: 2.91 ms, total: 137 ms\n",
      "Wall time: 137 ms\n"
     ]
    }
   ],
   "source": [
    "%%time\n",
    "\n",
    "# get model predictions on the validation set\n",
    "ypred_test = model.predict(X_val_ordinal)\n"
   ]
  },
  {
   "cell_type": "markdown",
   "metadata": {},
   "source": [
    "# CatBoost Regressor Model"
   ]
  },
  {
   "cell_type": "code",
   "execution_count": 27,
   "metadata": {},
   "outputs": [
    {
     "name": "stderr",
     "output_type": "stream",
     "text": [
      "[I 2024-11-05 07:12:23,126] A new study created in memory with name: no-name-5e9280ca-08e0-4020-b84a-47d4da2b906f\n",
      "[I 2024-11-05 07:14:58,680] Trial 0 finished with value: 1709.903305567409 and parameters: {'iterations': 1926, 'learning_rate': 0.11979211073890922, 'depth': 9}. Best is trial 0 with value: 1709.903305567409.\n",
      "[I 2024-11-05 07:17:08,222] Trial 1 finished with value: 1709.4436122981244 and parameters: {'iterations': 1079, 'learning_rate': 0.11861556942027081, 'depth': 11}. Best is trial 1 with value: 1709.4436122981244.\n",
      "[I 2024-11-05 07:18:53,257] Trial 2 finished with value: 1719.390025458997 and parameters: {'iterations': 1431, 'learning_rate': 0.16664058510130958, 'depth': 8}. Best is trial 1 with value: 1709.4436122981244.\n",
      "[I 2024-11-05 07:20:46,017] Trial 3 finished with value: 1717.053034558867 and parameters: {'iterations': 2091, 'learning_rate': 0.18432076409061954, 'depth': 14}. Best is trial 1 with value: 1709.4436122981244.\n",
      "[I 2024-11-05 07:22:55,376] Trial 4 finished with value: 1713.357396820983 and parameters: {'iterations': 2652, 'learning_rate': 0.17596682537328348, 'depth': 10}. Best is trial 1 with value: 1709.4436122981244.\n",
      "[I 2024-11-05 07:25:28,531] Trial 5 finished with value: 1715.5709751687773 and parameters: {'iterations': 1614, 'learning_rate': 0.08355303877511405, 'depth': 9}. Best is trial 1 with value: 1709.4436122981244.\n",
      "[I 2024-11-05 07:40:55,883] Trial 6 finished with value: 1710.816886147914 and parameters: {'iterations': 2296, 'learning_rate': 0.03669371302369601, 'depth': 16}. Best is trial 1 with value: 1709.4436122981244.\n",
      "[I 2024-11-05 07:44:49,422] Trial 7 finished with value: 1705.443859679999 and parameters: {'iterations': 2490, 'learning_rate': 0.09666951646998026, 'depth': 13}. Best is trial 7 with value: 1705.443859679999.\n",
      "[I 2024-11-05 07:51:13,322] Trial 8 finished with value: 1710.8327148061744 and parameters: {'iterations': 1307, 'learning_rate': 0.04467001792524616, 'depth': 12}. Best is trial 7 with value: 1705.443859679999.\n",
      "[I 2024-11-05 07:56:31,589] Trial 9 finished with value: 1719.69004014871 and parameters: {'iterations': 2807, 'learning_rate': 0.038201797492141164, 'depth': 9}. Best is trial 7 with value: 1705.443859679999.\n"
     ]
    },
    {
     "name": "stdout",
     "output_type": "stream",
     "text": [
      "Best parameters found by Optuna: {'iterations': 2490, 'learning_rate': 0.09666951646998026, 'depth': 13}\n"
     ]
    }
   ],
   "source": [
    "# specify the categorical features\n",
    "cat_features = ['vehicletype', 'gearbox', 'model', 'fueltype', 'brand', 'notrepaired']\n",
    "\n",
    "# define an objective function for Optuna to optimize\n",
    "def objective(trial):\n",
    "    # define the hyperparameter search space\n",
    "    params = {\n",
    "        'iterations': trial.suggest_int('iterations', 1000, 3000),\n",
    "        'learning_rate': trial.suggest_float('learning_rate', 0.03, 0.2),\n",
    "        'depth': trial.suggest_int('depth', 8, 16),\n",
    "        'random_seed': 12345,\n",
    "        'early_stopping_rounds': 50,\n",
    "        'use_best_model': True\n",
    "    }\n",
    "\n",
    "    # initialize the CatBoost Regressor\n",
    "    model = CatBoostRegressor(loss_function='RMSE', cat_features=cat_features, **params)\n",
    "    \n",
    "    # fit the model on the training set and evaluate it on the validation set\n",
    "    model.fit(X_train, y_train, eval_set=(X_val, y_val), verbose=False)    \n",
    "    \n",
    "    # get the predictions on the validation set\n",
    "    ypred_val = model.predict(X_val)\n",
    "\n",
    "    # calculate the RMSE on the validation set\n",
    "    rmse = mean_squared_error(y_val, ypred_val)**0.5\n",
    "\n",
    "    # return the RMSE on the validation set\n",
    "    return rmse\n",
    "\n",
    "\n",
    "# create an Optuna study and optimize the objective function\n",
    "study = optuna.create_study(direction='minimize')\n",
    "study.optimize(objective, n_trials=15, timeout=2400)  # 30 trials or 40 min max\n",
    "\n",
    "# output the best parameters found by Optuna\n",
    "best_params = study.best_params\n",
    "print(\"Best parameters found by Optuna:\", best_params)\n"
   ]
  },
  {
   "cell_type": "markdown",
   "metadata": {},
   "source": [
    "#### Get the time it takes to train CatBoost with the best parmeters from the previous step"
   ]
  },
  {
   "cell_type": "code",
   "execution_count": 28,
   "metadata": {},
   "outputs": [
    {
     "name": "stdout",
     "output_type": "stream",
     "text": [
      "CPU times: user 32min 55s, sys: 44.7 s, total: 33min 40s\n",
      "Wall time: 7min 4s\n"
     ]
    },
    {
     "data": {
      "text/plain": [
       "<catboost.core.CatBoostRegressor at 0x1531c45c0>"
      ]
     },
     "execution_count": 28,
     "metadata": {},
     "output_type": "execute_result"
    }
   ],
   "source": [
    "%%time\n",
    "\n",
    "model = CatBoostRegressor(loss_function='RMSE', cat_features=cat_features, iterations=2687, learning_rate=0.04276348758307158, depth=13, random_seed=12345, early_stopping_rounds=50)\n",
    "\n",
    "# train the model on the training set\n",
    "model.fit(X_train, y_train, eval_set=(X_val, y_val), verbose=False)"
   ]
  },
  {
   "cell_type": "markdown",
   "metadata": {},
   "source": [
    "#### Get the time it takes CatBoost to make predictions on the validation set"
   ]
  },
  {
   "cell_type": "code",
   "execution_count": 29,
   "metadata": {},
   "outputs": [
    {
     "name": "stdout",
     "output_type": "stream",
     "text": [
      "CPU times: user 1.9 s, sys: 91.3 ms, total: 1.99 s\n",
      "Wall time: 415 ms\n"
     ]
    },
    {
     "data": {
      "text/plain": [
       "array([7746.33236723, 5844.15202447, 3297.17313275, ..., 2772.50423576,\n",
       "       1922.71363669, 1707.14692162])"
      ]
     },
     "execution_count": 29,
     "metadata": {},
     "output_type": "execute_result"
    }
   ],
   "source": [
    "%%time\n",
    "\n",
    "model.predict(X_val)"
   ]
  },
  {
   "cell_type": "markdown",
   "metadata": {},
   "source": [
    "# XGBoost Model"
   ]
  },
  {
   "cell_type": "code",
   "execution_count": 30,
   "metadata": {},
   "outputs": [
    {
     "name": "stdout",
     "output_type": "stream",
     "text": [
      "Best parameters: {'learning_rate': 0.1, 'max_depth': 10, 'n_estimators': 500, 'subsample': 0.8}\n",
      "Best RMSE: 1741.1887497252371\n"
     ]
    }
   ],
   "source": [
    "# define the parameter grid for hyperparameter tuning\n",
    "param_grid = {\n",
    "    'n_estimators': [100, 500],\n",
    "    'learning_rate': [0.05, 0.1],\n",
    "    'max_depth': [7, 10],\n",
    "    'subsample': [0.8, 1.0]\n",
    "}\n",
    "\n",
    "# initialize the XGBoost Regressor\n",
    "model = xgb.XGBRegressor(objective='reg:squarederror', random_state=12345)\n",
    "\n",
    "# initialize GridSearchCV\n",
    "grid_search = GridSearchCV(estimator=model, param_grid=param_grid, \n",
    "                           cv=5, n_jobs=-1, verbose=0, scoring='neg_mean_squared_error')\n",
    "\n",
    "# fit the model using grid search\n",
    "grid_search.fit(encoded_df_X_train, y_train)\n",
    "\n",
    "# print the best parameters and the corresponding score\n",
    "print(f\"Best parameters: {grid_search.best_params_}\")\n",
    "print(f\"Best RMSE: {(-grid_search.best_score_) ** 0.5}\")"
   ]
  },
  {
   "cell_type": "markdown",
   "metadata": {},
   "source": [
    "#### Get the time required to train the XGBoost model using the best hyperparameter values from the previous step"
   ]
  },
  {
   "cell_type": "code",
   "execution_count": 31,
   "metadata": {},
   "outputs": [
    {
     "name": "stdout",
     "output_type": "stream",
     "text": [
      "[LightGBM] [Info] Auto-choosing row-wise multi-threading, the overhead of testing was 0.004105 seconds.\n",
      "You can set `force_row_wise=true` to remove the overhead.\n",
      "And if memory is not enough, you can set `force_col_wise=true`.\n",
      "[LightGBM] [Info] Total Bins 934\n",
      "[LightGBM] [Info] Number of data points in the train set: 247867, number of used features: 295\n",
      "[LightGBM] [Info] Start training from score 4421.965724\n",
      "CPU times: user 5.02 s, sys: 3.47 s, total: 8.49 s\n",
      "Wall time: 3.26 s\n"
     ]
    },
    {
     "data": {
      "text/html": [
       "<style>#sk-container-id-1 {\n",
       "  /* Definition of color scheme common for light and dark mode */\n",
       "  --sklearn-color-text: black;\n",
       "  --sklearn-color-line: gray;\n",
       "  /* Definition of color scheme for unfitted estimators */\n",
       "  --sklearn-color-unfitted-level-0: #fff5e6;\n",
       "  --sklearn-color-unfitted-level-1: #f6e4d2;\n",
       "  --sklearn-color-unfitted-level-2: #ffe0b3;\n",
       "  --sklearn-color-unfitted-level-3: chocolate;\n",
       "  /* Definition of color scheme for fitted estimators */\n",
       "  --sklearn-color-fitted-level-0: #f0f8ff;\n",
       "  --sklearn-color-fitted-level-1: #d4ebff;\n",
       "  --sklearn-color-fitted-level-2: #b3dbfd;\n",
       "  --sklearn-color-fitted-level-3: cornflowerblue;\n",
       "\n",
       "  /* Specific color for light theme */\n",
       "  --sklearn-color-text-on-default-background: var(--sg-text-color, var(--theme-code-foreground, var(--jp-content-font-color1, black)));\n",
       "  --sklearn-color-background: var(--sg-background-color, var(--theme-background, var(--jp-layout-color0, white)));\n",
       "  --sklearn-color-border-box: var(--sg-text-color, var(--theme-code-foreground, var(--jp-content-font-color1, black)));\n",
       "  --sklearn-color-icon: #696969;\n",
       "\n",
       "  @media (prefers-color-scheme: dark) {\n",
       "    /* Redefinition of color scheme for dark theme */\n",
       "    --sklearn-color-text-on-default-background: var(--sg-text-color, var(--theme-code-foreground, var(--jp-content-font-color1, white)));\n",
       "    --sklearn-color-background: var(--sg-background-color, var(--theme-background, var(--jp-layout-color0, #111)));\n",
       "    --sklearn-color-border-box: var(--sg-text-color, var(--theme-code-foreground, var(--jp-content-font-color1, white)));\n",
       "    --sklearn-color-icon: #878787;\n",
       "  }\n",
       "}\n",
       "\n",
       "#sk-container-id-1 {\n",
       "  color: var(--sklearn-color-text);\n",
       "}\n",
       "\n",
       "#sk-container-id-1 pre {\n",
       "  padding: 0;\n",
       "}\n",
       "\n",
       "#sk-container-id-1 input.sk-hidden--visually {\n",
       "  border: 0;\n",
       "  clip: rect(1px 1px 1px 1px);\n",
       "  clip: rect(1px, 1px, 1px, 1px);\n",
       "  height: 1px;\n",
       "  margin: -1px;\n",
       "  overflow: hidden;\n",
       "  padding: 0;\n",
       "  position: absolute;\n",
       "  width: 1px;\n",
       "}\n",
       "\n",
       "#sk-container-id-1 div.sk-dashed-wrapped {\n",
       "  border: 1px dashed var(--sklearn-color-line);\n",
       "  margin: 0 0.4em 0.5em 0.4em;\n",
       "  box-sizing: border-box;\n",
       "  padding-bottom: 0.4em;\n",
       "  background-color: var(--sklearn-color-background);\n",
       "}\n",
       "\n",
       "#sk-container-id-1 div.sk-container {\n",
       "  /* jupyter's `normalize.less` sets `[hidden] { display: none; }`\n",
       "     but bootstrap.min.css set `[hidden] { display: none !important; }`\n",
       "     so we also need the `!important` here to be able to override the\n",
       "     default hidden behavior on the sphinx rendered scikit-learn.org.\n",
       "     See: https://github.com/scikit-learn/scikit-learn/issues/21755 */\n",
       "  display: inline-block !important;\n",
       "  position: relative;\n",
       "}\n",
       "\n",
       "#sk-container-id-1 div.sk-text-repr-fallback {\n",
       "  display: none;\n",
       "}\n",
       "\n",
       "div.sk-parallel-item,\n",
       "div.sk-serial,\n",
       "div.sk-item {\n",
       "  /* draw centered vertical line to link estimators */\n",
       "  background-image: linear-gradient(var(--sklearn-color-text-on-default-background), var(--sklearn-color-text-on-default-background));\n",
       "  background-size: 2px 100%;\n",
       "  background-repeat: no-repeat;\n",
       "  background-position: center center;\n",
       "}\n",
       "\n",
       "/* Parallel-specific style estimator block */\n",
       "\n",
       "#sk-container-id-1 div.sk-parallel-item::after {\n",
       "  content: \"\";\n",
       "  width: 100%;\n",
       "  border-bottom: 2px solid var(--sklearn-color-text-on-default-background);\n",
       "  flex-grow: 1;\n",
       "}\n",
       "\n",
       "#sk-container-id-1 div.sk-parallel {\n",
       "  display: flex;\n",
       "  align-items: stretch;\n",
       "  justify-content: center;\n",
       "  background-color: var(--sklearn-color-background);\n",
       "  position: relative;\n",
       "}\n",
       "\n",
       "#sk-container-id-1 div.sk-parallel-item {\n",
       "  display: flex;\n",
       "  flex-direction: column;\n",
       "}\n",
       "\n",
       "#sk-container-id-1 div.sk-parallel-item:first-child::after {\n",
       "  align-self: flex-end;\n",
       "  width: 50%;\n",
       "}\n",
       "\n",
       "#sk-container-id-1 div.sk-parallel-item:last-child::after {\n",
       "  align-self: flex-start;\n",
       "  width: 50%;\n",
       "}\n",
       "\n",
       "#sk-container-id-1 div.sk-parallel-item:only-child::after {\n",
       "  width: 0;\n",
       "}\n",
       "\n",
       "/* Serial-specific style estimator block */\n",
       "\n",
       "#sk-container-id-1 div.sk-serial {\n",
       "  display: flex;\n",
       "  flex-direction: column;\n",
       "  align-items: center;\n",
       "  background-color: var(--sklearn-color-background);\n",
       "  padding-right: 1em;\n",
       "  padding-left: 1em;\n",
       "}\n",
       "\n",
       "\n",
       "/* Toggleable style: style used for estimator/Pipeline/ColumnTransformer box that is\n",
       "clickable and can be expanded/collapsed.\n",
       "- Pipeline and ColumnTransformer use this feature and define the default style\n",
       "- Estimators will overwrite some part of the style using the `sk-estimator` class\n",
       "*/\n",
       "\n",
       "/* Pipeline and ColumnTransformer style (default) */\n",
       "\n",
       "#sk-container-id-1 div.sk-toggleable {\n",
       "  /* Default theme specific background. It is overwritten whether we have a\n",
       "  specific estimator or a Pipeline/ColumnTransformer */\n",
       "  background-color: var(--sklearn-color-background);\n",
       "}\n",
       "\n",
       "/* Toggleable label */\n",
       "#sk-container-id-1 label.sk-toggleable__label {\n",
       "  cursor: pointer;\n",
       "  display: block;\n",
       "  width: 100%;\n",
       "  margin-bottom: 0;\n",
       "  padding: 0.5em;\n",
       "  box-sizing: border-box;\n",
       "  text-align: center;\n",
       "}\n",
       "\n",
       "#sk-container-id-1 label.sk-toggleable__label-arrow:before {\n",
       "  /* Arrow on the left of the label */\n",
       "  content: \"▸\";\n",
       "  float: left;\n",
       "  margin-right: 0.25em;\n",
       "  color: var(--sklearn-color-icon);\n",
       "}\n",
       "\n",
       "#sk-container-id-1 label.sk-toggleable__label-arrow:hover:before {\n",
       "  color: var(--sklearn-color-text);\n",
       "}\n",
       "\n",
       "/* Toggleable content - dropdown */\n",
       "\n",
       "#sk-container-id-1 div.sk-toggleable__content {\n",
       "  max-height: 0;\n",
       "  max-width: 0;\n",
       "  overflow: hidden;\n",
       "  text-align: left;\n",
       "  /* unfitted */\n",
       "  background-color: var(--sklearn-color-unfitted-level-0);\n",
       "}\n",
       "\n",
       "#sk-container-id-1 div.sk-toggleable__content.fitted {\n",
       "  /* fitted */\n",
       "  background-color: var(--sklearn-color-fitted-level-0);\n",
       "}\n",
       "\n",
       "#sk-container-id-1 div.sk-toggleable__content pre {\n",
       "  margin: 0.2em;\n",
       "  border-radius: 0.25em;\n",
       "  color: var(--sklearn-color-text);\n",
       "  /* unfitted */\n",
       "  background-color: var(--sklearn-color-unfitted-level-0);\n",
       "}\n",
       "\n",
       "#sk-container-id-1 div.sk-toggleable__content.fitted pre {\n",
       "  /* unfitted */\n",
       "  background-color: var(--sklearn-color-fitted-level-0);\n",
       "}\n",
       "\n",
       "#sk-container-id-1 input.sk-toggleable__control:checked~div.sk-toggleable__content {\n",
       "  /* Expand drop-down */\n",
       "  max-height: 200px;\n",
       "  max-width: 100%;\n",
       "  overflow: auto;\n",
       "}\n",
       "\n",
       "#sk-container-id-1 input.sk-toggleable__control:checked~label.sk-toggleable__label-arrow:before {\n",
       "  content: \"▾\";\n",
       "}\n",
       "\n",
       "/* Pipeline/ColumnTransformer-specific style */\n",
       "\n",
       "#sk-container-id-1 div.sk-label input.sk-toggleable__control:checked~label.sk-toggleable__label {\n",
       "  color: var(--sklearn-color-text);\n",
       "  background-color: var(--sklearn-color-unfitted-level-2);\n",
       "}\n",
       "\n",
       "#sk-container-id-1 div.sk-label.fitted input.sk-toggleable__control:checked~label.sk-toggleable__label {\n",
       "  background-color: var(--sklearn-color-fitted-level-2);\n",
       "}\n",
       "\n",
       "/* Estimator-specific style */\n",
       "\n",
       "/* Colorize estimator box */\n",
       "#sk-container-id-1 div.sk-estimator input.sk-toggleable__control:checked~label.sk-toggleable__label {\n",
       "  /* unfitted */\n",
       "  background-color: var(--sklearn-color-unfitted-level-2);\n",
       "}\n",
       "\n",
       "#sk-container-id-1 div.sk-estimator.fitted input.sk-toggleable__control:checked~label.sk-toggleable__label {\n",
       "  /* fitted */\n",
       "  background-color: var(--sklearn-color-fitted-level-2);\n",
       "}\n",
       "\n",
       "#sk-container-id-1 div.sk-label label.sk-toggleable__label,\n",
       "#sk-container-id-1 div.sk-label label {\n",
       "  /* The background is the default theme color */\n",
       "  color: var(--sklearn-color-text-on-default-background);\n",
       "}\n",
       "\n",
       "/* On hover, darken the color of the background */\n",
       "#sk-container-id-1 div.sk-label:hover label.sk-toggleable__label {\n",
       "  color: var(--sklearn-color-text);\n",
       "  background-color: var(--sklearn-color-unfitted-level-2);\n",
       "}\n",
       "\n",
       "/* Label box, darken color on hover, fitted */\n",
       "#sk-container-id-1 div.sk-label.fitted:hover label.sk-toggleable__label.fitted {\n",
       "  color: var(--sklearn-color-text);\n",
       "  background-color: var(--sklearn-color-fitted-level-2);\n",
       "}\n",
       "\n",
       "/* Estimator label */\n",
       "\n",
       "#sk-container-id-1 div.sk-label label {\n",
       "  font-family: monospace;\n",
       "  font-weight: bold;\n",
       "  display: inline-block;\n",
       "  line-height: 1.2em;\n",
       "}\n",
       "\n",
       "#sk-container-id-1 div.sk-label-container {\n",
       "  text-align: center;\n",
       "}\n",
       "\n",
       "/* Estimator-specific */\n",
       "#sk-container-id-1 div.sk-estimator {\n",
       "  font-family: monospace;\n",
       "  border: 1px dotted var(--sklearn-color-border-box);\n",
       "  border-radius: 0.25em;\n",
       "  box-sizing: border-box;\n",
       "  margin-bottom: 0.5em;\n",
       "  /* unfitted */\n",
       "  background-color: var(--sklearn-color-unfitted-level-0);\n",
       "}\n",
       "\n",
       "#sk-container-id-1 div.sk-estimator.fitted {\n",
       "  /* fitted */\n",
       "  background-color: var(--sklearn-color-fitted-level-0);\n",
       "}\n",
       "\n",
       "/* on hover */\n",
       "#sk-container-id-1 div.sk-estimator:hover {\n",
       "  /* unfitted */\n",
       "  background-color: var(--sklearn-color-unfitted-level-2);\n",
       "}\n",
       "\n",
       "#sk-container-id-1 div.sk-estimator.fitted:hover {\n",
       "  /* fitted */\n",
       "  background-color: var(--sklearn-color-fitted-level-2);\n",
       "}\n",
       "\n",
       "/* Specification for estimator info (e.g. \"i\" and \"?\") */\n",
       "\n",
       "/* Common style for \"i\" and \"?\" */\n",
       "\n",
       ".sk-estimator-doc-link,\n",
       "a:link.sk-estimator-doc-link,\n",
       "a:visited.sk-estimator-doc-link {\n",
       "  float: right;\n",
       "  font-size: smaller;\n",
       "  line-height: 1em;\n",
       "  font-family: monospace;\n",
       "  background-color: var(--sklearn-color-background);\n",
       "  border-radius: 1em;\n",
       "  height: 1em;\n",
       "  width: 1em;\n",
       "  text-decoration: none !important;\n",
       "  margin-left: 1ex;\n",
       "  /* unfitted */\n",
       "  border: var(--sklearn-color-unfitted-level-1) 1pt solid;\n",
       "  color: var(--sklearn-color-unfitted-level-1);\n",
       "}\n",
       "\n",
       ".sk-estimator-doc-link.fitted,\n",
       "a:link.sk-estimator-doc-link.fitted,\n",
       "a:visited.sk-estimator-doc-link.fitted {\n",
       "  /* fitted */\n",
       "  border: var(--sklearn-color-fitted-level-1) 1pt solid;\n",
       "  color: var(--sklearn-color-fitted-level-1);\n",
       "}\n",
       "\n",
       "/* On hover */\n",
       "div.sk-estimator:hover .sk-estimator-doc-link:hover,\n",
       ".sk-estimator-doc-link:hover,\n",
       "div.sk-label-container:hover .sk-estimator-doc-link:hover,\n",
       ".sk-estimator-doc-link:hover {\n",
       "  /* unfitted */\n",
       "  background-color: var(--sklearn-color-unfitted-level-3);\n",
       "  color: var(--sklearn-color-background);\n",
       "  text-decoration: none;\n",
       "}\n",
       "\n",
       "div.sk-estimator.fitted:hover .sk-estimator-doc-link.fitted:hover,\n",
       ".sk-estimator-doc-link.fitted:hover,\n",
       "div.sk-label-container:hover .sk-estimator-doc-link.fitted:hover,\n",
       ".sk-estimator-doc-link.fitted:hover {\n",
       "  /* fitted */\n",
       "  background-color: var(--sklearn-color-fitted-level-3);\n",
       "  color: var(--sklearn-color-background);\n",
       "  text-decoration: none;\n",
       "}\n",
       "\n",
       "/* Span, style for the box shown on hovering the info icon */\n",
       ".sk-estimator-doc-link span {\n",
       "  display: none;\n",
       "  z-index: 9999;\n",
       "  position: relative;\n",
       "  font-weight: normal;\n",
       "  right: .2ex;\n",
       "  padding: .5ex;\n",
       "  margin: .5ex;\n",
       "  width: min-content;\n",
       "  min-width: 20ex;\n",
       "  max-width: 50ex;\n",
       "  color: var(--sklearn-color-text);\n",
       "  box-shadow: 2pt 2pt 4pt #999;\n",
       "  /* unfitted */\n",
       "  background: var(--sklearn-color-unfitted-level-0);\n",
       "  border: .5pt solid var(--sklearn-color-unfitted-level-3);\n",
       "}\n",
       "\n",
       ".sk-estimator-doc-link.fitted span {\n",
       "  /* fitted */\n",
       "  background: var(--sklearn-color-fitted-level-0);\n",
       "  border: var(--sklearn-color-fitted-level-3);\n",
       "}\n",
       "\n",
       ".sk-estimator-doc-link:hover span {\n",
       "  display: block;\n",
       "}\n",
       "\n",
       "/* \"?\"-specific style due to the `<a>` HTML tag */\n",
       "\n",
       "#sk-container-id-1 a.estimator_doc_link {\n",
       "  float: right;\n",
       "  font-size: 1rem;\n",
       "  line-height: 1em;\n",
       "  font-family: monospace;\n",
       "  background-color: var(--sklearn-color-background);\n",
       "  border-radius: 1rem;\n",
       "  height: 1rem;\n",
       "  width: 1rem;\n",
       "  text-decoration: none;\n",
       "  /* unfitted */\n",
       "  color: var(--sklearn-color-unfitted-level-1);\n",
       "  border: var(--sklearn-color-unfitted-level-1) 1pt solid;\n",
       "}\n",
       "\n",
       "#sk-container-id-1 a.estimator_doc_link.fitted {\n",
       "  /* fitted */\n",
       "  border: var(--sklearn-color-fitted-level-1) 1pt solid;\n",
       "  color: var(--sklearn-color-fitted-level-1);\n",
       "}\n",
       "\n",
       "/* On hover */\n",
       "#sk-container-id-1 a.estimator_doc_link:hover {\n",
       "  /* unfitted */\n",
       "  background-color: var(--sklearn-color-unfitted-level-3);\n",
       "  color: var(--sklearn-color-background);\n",
       "  text-decoration: none;\n",
       "}\n",
       "\n",
       "#sk-container-id-1 a.estimator_doc_link.fitted:hover {\n",
       "  /* fitted */\n",
       "  background-color: var(--sklearn-color-fitted-level-3);\n",
       "}\n",
       "</style><div id=\"sk-container-id-1\" class=\"sk-top-container\"><div class=\"sk-text-repr-fallback\"><pre>LGBMRegressor(max_depth=10, n_estimators=500, random_state=12345, subsample=0.8)</pre><b>In a Jupyter environment, please rerun this cell to show the HTML representation or trust the notebook. <br />On GitHub, the HTML representation is unable to render, please try loading this page with nbviewer.org.</b></div><div class=\"sk-container\" hidden><div class=\"sk-item\"><div class=\"sk-estimator fitted sk-toggleable\"><input class=\"sk-toggleable__control sk-hidden--visually\" id=\"sk-estimator-id-1\" type=\"checkbox\" checked><label for=\"sk-estimator-id-1\" class=\"sk-toggleable__label fitted sk-toggleable__label-arrow fitted\">&nbsp;LGBMRegressor<span class=\"sk-estimator-doc-link fitted\">i<span>Fitted</span></span></label><div class=\"sk-toggleable__content fitted\"><pre>LGBMRegressor(max_depth=10, n_estimators=500, random_state=12345, subsample=0.8)</pre></div> </div></div></div></div>"
      ],
      "text/plain": [
       "LGBMRegressor(max_depth=10, n_estimators=500, random_state=12345, subsample=0.8)"
      ]
     },
     "execution_count": 31,
     "metadata": {},
     "output_type": "execute_result"
    }
   ],
   "source": [
    "%%time\n",
    "\n",
    "# initialize the LGBM Regressor\n",
    "model = lgb.LGBMRegressor(random_state=12345, n_estimators=500, learning_rate=0.1, max_depth=10, subsample=0.8)\n",
    "\n",
    "# train the model on the training set\n",
    "model.fit(encoded_df_X_train, y_train)"
   ]
  },
  {
   "cell_type": "markdown",
   "metadata": {},
   "source": [
    "#### Get the time required to make predictions on the validation set"
   ]
  },
  {
   "cell_type": "code",
   "execution_count": 32,
   "metadata": {},
   "outputs": [
    {
     "name": "stdout",
     "output_type": "stream",
     "text": [
      "CPU times: user 1.74 s, sys: 37.8 ms, total: 1.78 s\n",
      "Wall time: 321 ms\n"
     ]
    }
   ],
   "source": [
    "%%time\n",
    "\n",
    "ypred_val = model.predict(encoded_df_X_val)"
   ]
  },
  {
   "cell_type": "markdown",
   "metadata": {},
   "source": [
    "# LightGBM Model"
   ]
  },
  {
   "cell_type": "code",
   "execution_count": 33,
   "metadata": {},
   "outputs": [
    {
     "name": "stdout",
     "output_type": "stream",
     "text": [
      "Best parameters: {'learning_rate': 0.2, 'max_depth': 15, 'n_estimators': 300, 'num_leaves': 100}\n",
      "Best RMSE: 1736.4737745414427\n"
     ]
    }
   ],
   "source": [
    "\n",
    "# define the parameter grid for hyperparameter tuning\n",
    "param_grid = {\n",
    "    'n_estimators': [50, 300],\n",
    "    'learning_rate': [0.01, 0.2],\n",
    "    'max_depth': [15],\n",
    "    'num_leaves': [50, 100]\n",
    "}\n",
    "\n",
    "# convert categorical columns to appropriate data types\n",
    "X_train['vehicletype'] = X_train['vehicletype'].astype('category')\n",
    "X_train['gearbox'] = X_train['gearbox'].astype('category')\n",
    "X_train['model'] = X_train['model'].astype('category')\n",
    "X_train['fueltype'] = X_train['fueltype'].astype('category')\n",
    "X_train['brand'] = X_train['brand'].astype('category')\n",
    "X_train['notrepaired'] = X_train['notrepaired'].astype('category')\n",
    "\n",
    "# initialize the LightGBM Regressor\n",
    "model = lgb.LGBMRegressor(boosting_type='gbdt', objective='regression', random_state=12345, verbose=-1)\n",
    "\n",
    "# initialize GridSearchCV\n",
    "grid_search = GridSearchCV(estimator=model, param_grid=param_grid, \n",
    "                           cv=5, n_jobs=-1, verbose=0, scoring='neg_mean_squared_error')\n",
    "\n",
    "# fit the model using grid search\n",
    "grid_search.fit(X_train, y_train, categorical_feature=cat_features)\n",
    "\n",
    "# print the best parameters and the corresponding score\n",
    "print(f\"Best parameters: {grid_search.best_params_}\")\n",
    "print(f\"Best RMSE: {(-grid_search.best_score_) ** 0.5}\")\n"
   ]
  },
  {
   "cell_type": "markdown",
   "metadata": {},
   "source": [
    "#### Ensure the features are the same in the training and validation sets"
   ]
  },
  {
   "cell_type": "code",
   "execution_count": 34,
   "metadata": {},
   "outputs": [],
   "source": [
    "# ensure X_val has the same columns as X_train\n",
    "missing_cols = set(X_train.columns) - set(X_val.columns)\n",
    "\n",
    "# Create the columns with a value of 0 if they don't exist\n",
    "for col in missing_cols:\n",
    "    X_val[col] = 0\n",
    "\n",
    "# convert categorical columns to appropriate data types\n",
    "X_val['vehicletype'] = X_val['vehicletype'].astype('category')\n",
    "X_val['gearbox'] = X_val['gearbox'].astype('category')\n",
    "X_val['model'] = X_val['model'].astype('category')\n",
    "X_val['fueltype'] = X_val['fueltype'].astype('category')\n",
    "X_val['brand'] = X_val['brand'].astype('category')\n",
    "X_val['notrepaired'] = X_val['notrepaired'].astype('category')\n"
   ]
  },
  {
   "cell_type": "markdown",
   "metadata": {},
   "source": [
    "#### Get the time required to train the LightGBM model"
   ]
  },
  {
   "cell_type": "code",
   "execution_count": 35,
   "metadata": {},
   "outputs": [
    {
     "name": "stdout",
     "output_type": "stream",
     "text": [
      "\n",
      "CPU times: user 3.34 s, sys: 5.19 s, total: 8.53 s\n",
      "Wall time: 3.74 s\n"
     ]
    }
   ],
   "source": [
    "%%time\n",
    "\n",
    "# initialize the LightGBM Regressor with the best hyperparameters from the previous step\n",
    "model = lgb.LGBMRegressor(boosting_type='gbdt', objective='regression', random_state=12345, verbose=-1, \n",
    "                          n_estimators=300, learning_rate=0.2, max_depth=15, num_leaves=100)\n",
    "\n",
    "# train the model on the training set\n",
    "model.fit(X_train, y_train, categorical_feature=cat_features)\n",
    "print()"
   ]
  },
  {
   "cell_type": "markdown",
   "metadata": {},
   "source": [
    "#### Get the time required to make predictions on the validation set"
   ]
  },
  {
   "cell_type": "code",
   "execution_count": 36,
   "metadata": {},
   "outputs": [
    {
     "name": "stdout",
     "output_type": "stream",
     "text": [
      "CPU times: user 1.04 s, sys: 19.7 ms, total: 1.06 s\n",
      "Wall time: 173 ms\n"
     ]
    }
   ],
   "source": [
    "%%time\n",
    "\n",
    "# get model predictions on the validation set\n",
    "ypred_val = model.predict(X_val)"
   ]
  },
  {
   "cell_type": "markdown",
   "metadata": {},
   "source": [
    "Overall, Catboost achieved the best RMSE score of 1,700, however the scores of all three gradient boosting models performed very similarly. The LightGBM model had a RMSE of 1,736 while XGBoost had a RMSE of 1,741. \n",
    "\n",
    "However, since Rusty Bargain cares about the speed of the model training process and the time it takes to generate predictions in addition to the model performance, LightGBM performs the best in terms of the time to train the model (a wall time of 1.77 seconds) and the time to make predictions (a wall time of 161 milliseconds). Our best performing model, CatBoost, took over 6 minutes to train the model. XGBoost took a wall time of 2.84 seconds to train the model.\n",
    "\n",
    "We will select LightGBM as the best model for Rusty Bargain given its balance of performance and speed."
   ]
  },
  {
   "cell_type": "markdown",
   "metadata": {},
   "source": [
    "# Make predictions on the test set with the best model"
   ]
  },
  {
   "cell_type": "code",
   "execution_count": 37,
   "metadata": {},
   "outputs": [
    {
     "name": "stdout",
     "output_type": "stream",
     "text": [
      "\n",
      "RMSE on the testing set: 1709.4629694387668\n"
     ]
    }
   ],
   "source": [
    "# initialize the LightGBM Regressor with the best hyperparameters from the previous step\n",
    "model = lgb.LGBMRegressor(boosting_type='gbdt', objective='regression', random_state=12345, verbose=-1, \n",
    "                          n_estimators=300, learning_rate=0.2, max_depth=15, num_leaves=100)\n",
    "\n",
    "# train the model on the training set\n",
    "model.fit(X_train, y_train, categorical_feature=cat_features)\n",
    "print()\n",
    "\n",
    "# ensure X_test has the same columns as X_train\n",
    "missing_cols = set(X_train.columns) - set(X_test.columns)\n",
    "\n",
    "# Create the columns with a value of 0 if they don't exist\n",
    "for col in missing_cols:\n",
    "    X_test[col] = 0\n",
    "\n",
    "# convert categorical columns to appropriate data types\n",
    "X_test['vehicletype'] = X_test['vehicletype'].astype('category')\n",
    "X_test['gearbox'] = X_test['gearbox'].astype('category')\n",
    "X_test['model'] = X_test['model'].astype('category')\n",
    "X_test['fueltype'] = X_test['fueltype'].astype('category')\n",
    "X_test['brand'] = X_test['brand'].astype('category')\n",
    "X_test['notrepaired'] = X_test['notrepaired'].astype('category')\n",
    "\n",
    "# get model predictions on the testing set\n",
    "ypred_test = model.predict(X_test)\n",
    "\n",
    "# calculate the RMSE on the testing set\n",
    "rmse = mean_squared_error(y_test, ypred_test)**0.5\n",
    "\n",
    "# print the RMSE on the testing set\n",
    "print(\"RMSE on the testing set:\", rmse)"
   ]
  },
  {
   "cell_type": "markdown",
   "metadata": {},
   "source": [
    "# Project Conclusion"
   ]
  },
  {
   "cell_type": "markdown",
   "metadata": {},
   "source": [
    "Our testing set performed slightly better than our validation set with an RMSE of 1,709! This means that the LightGBM model is, on average, able to predict the value of a vehicle with accuracy within a range of $1,709.46 dollars.\n",
    "\n",
    "Our linear regression model was expected to perform the worst for Rusty Bargain's need and hence serves as a solid sanity check against the performance of our other models. The linear regression model achieved a RMSE of 2,980 so our other model are certainly an improvement. Lastly, our Random Forest Regressor model achieved a RMSE of 2,039, which was a solid improvement over linear regression, yet not as strong as our gradient boosting models (as expected)."
   ]
  }
 ],
 "metadata": {
  "kernelspec": {
   "display_name": "Python (env12)",
   "language": "python",
   "name": ".venv12"
  },
  "language_info": {
   "codemirror_mode": {
    "name": "ipython",
    "version": 3
   },
   "file_extension": ".py",
   "mimetype": "text/x-python",
   "name": "python",
   "nbconvert_exporter": "python",
   "pygments_lexer": "ipython3",
   "version": "3.12.2"
  },
  "toc": {
   "base_numbering": 1,
   "nav_menu": {},
   "number_sections": true,
   "sideBar": true,
   "skip_h1_title": true,
   "title_cell": "Table of Contents",
   "title_sidebar": "Contents",
   "toc_cell": false,
   "toc_position": {},
   "toc_section_display": true,
   "toc_window_display": false
  }
 },
 "nbformat": 4,
 "nbformat_minor": 2
}
