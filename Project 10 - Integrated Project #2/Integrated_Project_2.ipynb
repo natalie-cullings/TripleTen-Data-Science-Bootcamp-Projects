{
 "cells": [
  {
   "cell_type": "markdown",
   "metadata": {},
   "source": [
    "# Project Overview\n",
    "The objective of this project is to prepare a prototype of a machine learning model for [Zyfra](https://www.zyfra.com/), a company that develops efficiency solutions for heavy industry. \n",
    "\n",
    "The model should predict the amount of gold recovered from gold ore and therefore optimize production while elliminating unprofitable parameters."
   ]
  },
  {
   "cell_type": "markdown",
   "metadata": {},
   "source": [
    "## Ore Purification Process"
   ]
  },
  {
   "cell_type": "markdown",
   "metadata": {},
   "source": [
    "<div align=\"center\">\n",
    "<img src=\"https://practicum-content.s3.us-west-1.amazonaws.com/resources/moved_ore_1591699963.jpg\" alt=\"Gold Ore Purification Process\" width=\"600\" height=\"400\">\n",
    "</div>\n",
    "\n"
   ]
  },
  {
   "cell_type": "markdown",
   "metadata": {},
   "source": [
    "#### Process Stages:\n",
    "- **Rougher (floatation):** Gold ore mixture is fed into float banks to output rougher au (gold) concentrate and rougher tails (residual product with a low degress of valuable metals). This process is affected by the following rougher additions (reagents):\n",
    "  - **Xanthate** - The floatation activator that allows mineral particles to attach to air bubbles within the floatation cells, therefore forming a froth layer that can be skimmed off.\n",
    "  - **Sulphate** - A modifier in the floatation stage that regulates pH for optimtal levels of floatation.\n",
    "  -  **Sodium Silicate** - A depressant that prevents unwanted gangue (waste rock) minerals from floating by make them more hydrophilic (more water absorbant/easily bonded to water).\n",
    "- **Primary Cleaner:** The first purification stage following the rougher stage.\n",
    "- **Secondary Cleaner:** The second purification stage following the first purification stage.\n",
    "- **Final:** The final output of the process."
   ]
  },
  {
   "cell_type": "markdown",
   "metadata": {},
   "source": [
    "## Data Overview\n",
    "\n",
    "The data is stored in three files:\n",
    "- **gold_recovery_train.csv** — the training dataset \n",
    "- **gold_recovery_test.csv** — the test dataset \n",
    "- **gold_recovery_full.csv** — the source dataset \n",
    "\n",
    "\n",
    "We need to predict two values:\n",
    "- the gold recovered after the rougher process (rougher.output.recovery)\n",
    "- the gold recovered after the secondary cleaner process (final.output.recovery)\n",
    "\n",
    "The model targets are the gold recovery calculation after the rougher and final cleaning stages. \n",
    "\n",
    "\n",
    "The features in the dataset are named using the following convention:<br/>\n",
    "**[stage].[parameter_type].[parameter_name]**\n",
    "\n",
    "\n",
    "*Possible values for [stage]:*\n",
    "- **rougher** — flotation\n",
    "- **primary_cleaner** — primary purification\n",
    "- **secondary_cleaner** — secondary purification\n",
    "- **final** — final characteristics\n",
    "\n",
    "*Possible values for [parameter_type]:*\n",
    "- **input** — raw material parameters\n",
    "- **output** — product parameters\n",
    "- **state** — parameters characterizing the current state of the stage\n",
    "- **calculation** — calculation characteristics\n",
    "\n",
    "Data is indexed with the date and time of acquisition (date feature). Parameters that are next to each other in terms of time are often similar.\n",
    "\n",
    "Some parameters are not available because they were measured and/or calculated much later. As a result, some of the features in the training set aren't in the test set and the test set doesn't contain targets. However, the source dataset contrains both the training and test sets (including all the features) and can be merged on the index number.\n",
    "\n",
    "It's possible that there are errors in the data since we are working with raw data downloaded from the warehouse.\n",
    "\n"
   ]
  },
  {
   "cell_type": "markdown",
   "metadata": {},
   "source": [
    "## Project Process\n",
    "\n",
    "1. Prepare the data.\n",
    " - Open the files and look into the data.\n",
    " - Check that the gold recovery calculation following the rougher stage is correct by finding the MAE (mean absolute error) between the given rougher.output.recovery feature value and manually calculating its value.\n",
    " - Determine which features aren't available in the test set.\n",
    " - Clean and preprocess the data.\n",
    "\n",
    "2. Analyze the data.\n",
    " - Explore how the metal concentrations (Au, Ag (Silver), and Pb (Lead)) change after each purification stage.\n",
    " - Compare the feed particle size distributions between the training and test sets.\n",
    " - Analyze the total concentrations of all substances at the raw feed, rougher concentrate, and final concentrate stages.\n",
    "\n",
    " 3. Build and evaluate the model.\n",
    " - Write a function to calculate the final SMAPE (symmetrical mean absolute percentage error).\n",
    " - Train different models and evaluate them using cross-validation. \n",
    " - Test the best model (using the test sample)."
   ]
  },
  {
   "cell_type": "markdown",
   "metadata": {},
   "source": [
    "# Prepare the Data\n",
    "##### Import Needed Libraries and Datasets"
   ]
  },
  {
   "cell_type": "code",
   "execution_count": 1,
   "metadata": {},
   "outputs": [],
   "source": [
    "# import necessary libraries\n",
    "import pandas as pd\n",
    "import numpy as np\n",
    "from matplotlib import pyplot as plt\n",
    "\n",
    "from sklearn.metrics import mean_absolute_error\n",
    "from sklearn.preprocessing import StandardScaler\n",
    "from sklearn.model_selection import cross_val_score\n",
    "from sklearn.metrics import make_scorer\n",
    "\n",
    "from sklearn.linear_model import LinearRegression\n",
    "from sklearn.tree import DecisionTreeRegressor\n",
    "from sklearn.ensemble import RandomForestRegressor"
   ]
  },
  {
   "cell_type": "code",
   "execution_count": 2,
   "metadata": {},
   "outputs": [],
   "source": [
    "# read the data from the csv files and store them in dataframes\n",
    "train = pd.read_csv('gold_recovery_train.csv', parse_dates=['date'])\n",
    "test = pd.read_csv('gold_recovery_test.csv', parse_dates=['date'])\n",
    "full = pd.read_csv('gold_recovery_full.csv', parse_dates=['date'])"
   ]
  },
  {
   "cell_type": "code",
   "execution_count": 3,
   "metadata": {},
   "outputs": [
    {
     "name": "stdout",
     "output_type": "stream",
     "text": [
      "<class 'pandas.core.frame.DataFrame'>\n",
      "RangeIndex: 16860 entries, 0 to 16859\n",
      "Data columns (total 87 columns):\n",
      " #   Column                                              Non-Null Count  Dtype         \n",
      "---  ------                                              --------------  -----         \n",
      " 0   date                                                16860 non-null  datetime64[ns]\n",
      " 1   final.output.concentrate_ag                         16788 non-null  float64       \n",
      " 2   final.output.concentrate_pb                         16788 non-null  float64       \n",
      " 3   final.output.concentrate_sol                        16490 non-null  float64       \n",
      " 4   final.output.concentrate_au                         16789 non-null  float64       \n",
      " 5   final.output.recovery                               15339 non-null  float64       \n",
      " 6   final.output.tail_ag                                16794 non-null  float64       \n",
      " 7   final.output.tail_pb                                16677 non-null  float64       \n",
      " 8   final.output.tail_sol                               16715 non-null  float64       \n",
      " 9   final.output.tail_au                                16794 non-null  float64       \n",
      " 10  primary_cleaner.input.sulfate                       15553 non-null  float64       \n",
      " 11  primary_cleaner.input.depressant                    15598 non-null  float64       \n",
      " 12  primary_cleaner.input.feed_size                     16860 non-null  float64       \n",
      " 13  primary_cleaner.input.xanthate                      15875 non-null  float64       \n",
      " 14  primary_cleaner.output.concentrate_ag               16778 non-null  float64       \n",
      " 15  primary_cleaner.output.concentrate_pb               16502 non-null  float64       \n",
      " 16  primary_cleaner.output.concentrate_sol              16224 non-null  float64       \n",
      " 17  primary_cleaner.output.concentrate_au               16778 non-null  float64       \n",
      " 18  primary_cleaner.output.tail_ag                      16777 non-null  float64       \n",
      " 19  primary_cleaner.output.tail_pb                      16761 non-null  float64       \n",
      " 20  primary_cleaner.output.tail_sol                     16579 non-null  float64       \n",
      " 21  primary_cleaner.output.tail_au                      16777 non-null  float64       \n",
      " 22  primary_cleaner.state.floatbank8_a_air              16820 non-null  float64       \n",
      " 23  primary_cleaner.state.floatbank8_a_level            16827 non-null  float64       \n",
      " 24  primary_cleaner.state.floatbank8_b_air              16820 non-null  float64       \n",
      " 25  primary_cleaner.state.floatbank8_b_level            16833 non-null  float64       \n",
      " 26  primary_cleaner.state.floatbank8_c_air              16822 non-null  float64       \n",
      " 27  primary_cleaner.state.floatbank8_c_level            16833 non-null  float64       \n",
      " 28  primary_cleaner.state.floatbank8_d_air              16821 non-null  float64       \n",
      " 29  primary_cleaner.state.floatbank8_d_level            16833 non-null  float64       \n",
      " 30  rougher.calculation.sulfate_to_au_concentrate       16833 non-null  float64       \n",
      " 31  rougher.calculation.floatbank10_sulfate_to_au_feed  16833 non-null  float64       \n",
      " 32  rougher.calculation.floatbank11_sulfate_to_au_feed  16833 non-null  float64       \n",
      " 33  rougher.calculation.au_pb_ratio                     15618 non-null  float64       \n",
      " 34  rougher.input.feed_ag                               16778 non-null  float64       \n",
      " 35  rougher.input.feed_pb                               16632 non-null  float64       \n",
      " 36  rougher.input.feed_rate                             16347 non-null  float64       \n",
      " 37  rougher.input.feed_size                             16443 non-null  float64       \n",
      " 38  rougher.input.feed_sol                              16568 non-null  float64       \n",
      " 39  rougher.input.feed_au                               16777 non-null  float64       \n",
      " 40  rougher.input.floatbank10_sulfate                   15816 non-null  float64       \n",
      " 41  rougher.input.floatbank10_xanthate                  16514 non-null  float64       \n",
      " 42  rougher.input.floatbank11_sulfate                   16237 non-null  float64       \n",
      " 43  rougher.input.floatbank11_xanthate                  14956 non-null  float64       \n",
      " 44  rougher.output.concentrate_ag                       16778 non-null  float64       \n",
      " 45  rougher.output.concentrate_pb                       16778 non-null  float64       \n",
      " 46  rougher.output.concentrate_sol                      16698 non-null  float64       \n",
      " 47  rougher.output.concentrate_au                       16778 non-null  float64       \n",
      " 48  rougher.output.recovery                             14287 non-null  float64       \n",
      " 49  rougher.output.tail_ag                              14610 non-null  float64       \n",
      " 50  rougher.output.tail_pb                              16778 non-null  float64       \n",
      " 51  rougher.output.tail_sol                             14611 non-null  float64       \n",
      " 52  rougher.output.tail_au                              14611 non-null  float64       \n",
      " 53  rougher.state.floatbank10_a_air                     16807 non-null  float64       \n",
      " 54  rougher.state.floatbank10_a_level                   16807 non-null  float64       \n",
      " 55  rougher.state.floatbank10_b_air                     16807 non-null  float64       \n",
      " 56  rougher.state.floatbank10_b_level                   16807 non-null  float64       \n",
      " 57  rougher.state.floatbank10_c_air                     16807 non-null  float64       \n",
      " 58  rougher.state.floatbank10_c_level                   16814 non-null  float64       \n",
      " 59  rougher.state.floatbank10_d_air                     16802 non-null  float64       \n",
      " 60  rougher.state.floatbank10_d_level                   16809 non-null  float64       \n",
      " 61  rougher.state.floatbank10_e_air                     16257 non-null  float64       \n",
      " 62  rougher.state.floatbank10_e_level                   16809 non-null  float64       \n",
      " 63  rougher.state.floatbank10_f_air                     16802 non-null  float64       \n",
      " 64  rougher.state.floatbank10_f_level                   16802 non-null  float64       \n",
      " 65  secondary_cleaner.output.tail_ag                    16776 non-null  float64       \n",
      " 66  secondary_cleaner.output.tail_pb                    16764 non-null  float64       \n",
      " 67  secondary_cleaner.output.tail_sol                   14874 non-null  float64       \n",
      " 68  secondary_cleaner.output.tail_au                    16778 non-null  float64       \n",
      " 69  secondary_cleaner.state.floatbank2_a_air            16497 non-null  float64       \n",
      " 70  secondary_cleaner.state.floatbank2_a_level          16751 non-null  float64       \n",
      " 71  secondary_cleaner.state.floatbank2_b_air            16705 non-null  float64       \n",
      " 72  secondary_cleaner.state.floatbank2_b_level          16748 non-null  float64       \n",
      " 73  secondary_cleaner.state.floatbank3_a_air            16763 non-null  float64       \n",
      " 74  secondary_cleaner.state.floatbank3_a_level          16747 non-null  float64       \n",
      " 75  secondary_cleaner.state.floatbank3_b_air            16752 non-null  float64       \n",
      " 76  secondary_cleaner.state.floatbank3_b_level          16750 non-null  float64       \n",
      " 77  secondary_cleaner.state.floatbank4_a_air            16731 non-null  float64       \n",
      " 78  secondary_cleaner.state.floatbank4_a_level          16747 non-null  float64       \n",
      " 79  secondary_cleaner.state.floatbank4_b_air            16768 non-null  float64       \n",
      " 80  secondary_cleaner.state.floatbank4_b_level          16767 non-null  float64       \n",
      " 81  secondary_cleaner.state.floatbank5_a_air            16775 non-null  float64       \n",
      " 82  secondary_cleaner.state.floatbank5_a_level          16775 non-null  float64       \n",
      " 83  secondary_cleaner.state.floatbank5_b_air            16775 non-null  float64       \n",
      " 84  secondary_cleaner.state.floatbank5_b_level          16776 non-null  float64       \n",
      " 85  secondary_cleaner.state.floatbank6_a_air            16757 non-null  float64       \n",
      " 86  secondary_cleaner.state.floatbank6_a_level          16775 non-null  float64       \n",
      "dtypes: datetime64[ns](1), float64(86)\n",
      "memory usage: 11.2 MB\n"
     ]
    }
   ],
   "source": [
    "# get information about the train dataframe\n",
    "train.info()"
   ]
  },
  {
   "cell_type": "markdown",
   "metadata": {},
   "source": [
    "Our data types are as expected. Beside the date feature, all features have missing values. Some have up to over 2,000 missing values."
   ]
  },
  {
   "cell_type": "code",
   "execution_count": 4,
   "metadata": {},
   "outputs": [
    {
     "data": {
      "text/plain": [
       "'Describe rougher variables:'"
      ]
     },
     "metadata": {},
     "output_type": "display_data"
    },
    {
     "data": {
      "text/html": [
       "<div>\n",
       "<style scoped>\n",
       "    .dataframe tbody tr th:only-of-type {\n",
       "        vertical-align: middle;\n",
       "    }\n",
       "\n",
       "    .dataframe tbody tr th {\n",
       "        vertical-align: top;\n",
       "    }\n",
       "\n",
       "    .dataframe thead th {\n",
       "        text-align: right;\n",
       "    }\n",
       "</style>\n",
       "<table border=\"1\" class=\"dataframe\">\n",
       "  <thead>\n",
       "    <tr style=\"text-align: right;\">\n",
       "      <th></th>\n",
       "      <th>rougher.input.feed_au</th>\n",
       "      <th>rougher.output.concentrate_au</th>\n",
       "      <th>rougher.output.tail_au</th>\n",
       "      <th>rougher.input.feed_size</th>\n",
       "      <th>rougher.input.feed_rate</th>\n",
       "      <th>rougher.input.feed_ag</th>\n",
       "      <th>rougher.input.feed_pb</th>\n",
       "      <th>rougher.input.feed_sol</th>\n",
       "      <th>rougher.input.floatbank10_sulfate</th>\n",
       "      <th>rougher.input.floatbank10_xanthate</th>\n",
       "      <th>rougher.input.floatbank11_sulfate</th>\n",
       "      <th>rougher.input.floatbank11_xanthate</th>\n",
       "      <th>rougher.output.tail_ag</th>\n",
       "      <th>rougher.output.tail_pb</th>\n",
       "      <th>rougher.output.tail_sol</th>\n",
       "      <th>rougher.state.floatbank10_a_air</th>\n",
       "      <th>rougher.state.floatbank10_a_level</th>\n",
       "    </tr>\n",
       "  </thead>\n",
       "  <tbody>\n",
       "    <tr>\n",
       "      <th>count</th>\n",
       "      <td>16777.000000</td>\n",
       "      <td>16778.000000</td>\n",
       "      <td>14611.000000</td>\n",
       "      <td>16443.000000</td>\n",
       "      <td>16347.000000</td>\n",
       "      <td>16778.000000</td>\n",
       "      <td>16632.000000</td>\n",
       "      <td>16568.000000</td>\n",
       "      <td>15816.000000</td>\n",
       "      <td>16514.000000</td>\n",
       "      <td>16237.000000</td>\n",
       "      <td>14956.000000</td>\n",
       "      <td>14610.000000</td>\n",
       "      <td>16778.000000</td>\n",
       "      <td>14611.000000</td>\n",
       "      <td>16807.000000</td>\n",
       "      <td>16807.000000</td>\n",
       "    </tr>\n",
       "    <tr>\n",
       "      <th>mean</th>\n",
       "      <td>7.170717</td>\n",
       "      <td>17.401541</td>\n",
       "      <td>1.763930</td>\n",
       "      <td>58.676444</td>\n",
       "      <td>435.963431</td>\n",
       "      <td>7.832347</td>\n",
       "      <td>3.218931</td>\n",
       "      <td>32.636662</td>\n",
       "      <td>11.198142</td>\n",
       "      <td>5.366609</td>\n",
       "      <td>10.550080</td>\n",
       "      <td>5.792970</td>\n",
       "      <td>5.566579</td>\n",
       "      <td>0.596493</td>\n",
       "      <td>17.865309</td>\n",
       "      <td>1077.201302</td>\n",
       "      <td>-384.109359</td>\n",
       "    </tr>\n",
       "    <tr>\n",
       "      <th>std</th>\n",
       "      <td>3.002113</td>\n",
       "      <td>6.921875</td>\n",
       "      <td>0.731518</td>\n",
       "      <td>23.922591</td>\n",
       "      <td>156.592162</td>\n",
       "      <td>3.139014</td>\n",
       "      <td>1.477263</td>\n",
       "      <td>11.661981</td>\n",
       "      <td>3.964080</td>\n",
       "      <td>1.940766</td>\n",
       "      <td>4.560428</td>\n",
       "      <td>1.294180</td>\n",
       "      <td>1.045456</td>\n",
       "      <td>0.330819</td>\n",
       "      <td>3.455588</td>\n",
       "      <td>291.800894</td>\n",
       "      <td>112.408685</td>\n",
       "    </tr>\n",
       "    <tr>\n",
       "      <th>min</th>\n",
       "      <td>0.000000</td>\n",
       "      <td>0.000000</td>\n",
       "      <td>0.020676</td>\n",
       "      <td>9.659576</td>\n",
       "      <td>0.000044</td>\n",
       "      <td>0.000000</td>\n",
       "      <td>0.000000</td>\n",
       "      <td>0.000000</td>\n",
       "      <td>0.000002</td>\n",
       "      <td>0.000003</td>\n",
       "      <td>0.000049</td>\n",
       "      <td>0.000010</td>\n",
       "      <td>0.594562</td>\n",
       "      <td>0.000000</td>\n",
       "      <td>10.014648</td>\n",
       "      <td>-0.345168</td>\n",
       "      <td>-658.223080</td>\n",
       "    </tr>\n",
       "    <tr>\n",
       "      <th>25%</th>\n",
       "      <td>6.203083</td>\n",
       "      <td>17.443663</td>\n",
       "      <td>1.311610</td>\n",
       "      <td>47.575879</td>\n",
       "      <td>396.667936</td>\n",
       "      <td>6.889426</td>\n",
       "      <td>2.551143</td>\n",
       "      <td>32.170423</td>\n",
       "      <td>9.366078</td>\n",
       "      <td>4.802531</td>\n",
       "      <td>8.903492</td>\n",
       "      <td>5.097006</td>\n",
       "      <td>4.918713</td>\n",
       "      <td>0.413711</td>\n",
       "      <td>15.646980</td>\n",
       "      <td>999.636979</td>\n",
       "      <td>-499.908427</td>\n",
       "    </tr>\n",
       "    <tr>\n",
       "      <th>50%</th>\n",
       "      <td>7.443530</td>\n",
       "      <td>19.644663</td>\n",
       "      <td>1.747907</td>\n",
       "      <td>54.104257</td>\n",
       "      <td>488.629971</td>\n",
       "      <td>7.938193</td>\n",
       "      <td>3.297050</td>\n",
       "      <td>36.354079</td>\n",
       "      <td>11.179351</td>\n",
       "      <td>5.767015</td>\n",
       "      <td>11.001027</td>\n",
       "      <td>5.995942</td>\n",
       "      <td>5.718038</td>\n",
       "      <td>0.594959</td>\n",
       "      <td>17.996971</td>\n",
       "      <td>1001.310190</td>\n",
       "      <td>-300.233403</td>\n",
       "    </tr>\n",
       "    <tr>\n",
       "      <th>75%</th>\n",
       "      <td>8.965193</td>\n",
       "      <td>21.224486</td>\n",
       "      <td>2.190839</td>\n",
       "      <td>65.051064</td>\n",
       "      <td>540.548376</td>\n",
       "      <td>9.829857</td>\n",
       "      <td>4.181842</td>\n",
       "      <td>39.043343</td>\n",
       "      <td>13.203315</td>\n",
       "      <td>6.501621</td>\n",
       "      <td>13.004085</td>\n",
       "      <td>6.695277</td>\n",
       "      <td>6.308490</td>\n",
       "      <td>0.779544</td>\n",
       "      <td>19.933255</td>\n",
       "      <td>1299.577654</td>\n",
       "      <td>-299.976784</td>\n",
       "    </tr>\n",
       "    <tr>\n",
       "      <th>max</th>\n",
       "      <td>14.093363</td>\n",
       "      <td>28.522811</td>\n",
       "      <td>9.688980</td>\n",
       "      <td>484.967466</td>\n",
       "      <td>717.508837</td>\n",
       "      <td>14.869652</td>\n",
       "      <td>7.142594</td>\n",
       "      <td>48.363177</td>\n",
       "      <td>36.118275</td>\n",
       "      <td>31.493331</td>\n",
       "      <td>37.980648</td>\n",
       "      <td>9.698407</td>\n",
       "      <td>12.719177</td>\n",
       "      <td>3.778064</td>\n",
       "      <td>66.117188</td>\n",
       "      <td>1521.980372</td>\n",
       "      <td>-19.383282</td>\n",
       "    </tr>\n",
       "  </tbody>\n",
       "</table>\n",
       "</div>"
      ],
      "text/plain": [
       "       rougher.input.feed_au  rougher.output.concentrate_au  \\\n",
       "count           16777.000000                   16778.000000   \n",
       "mean                7.170717                      17.401541   \n",
       "std                 3.002113                       6.921875   \n",
       "min                 0.000000                       0.000000   \n",
       "25%                 6.203083                      17.443663   \n",
       "50%                 7.443530                      19.644663   \n",
       "75%                 8.965193                      21.224486   \n",
       "max                14.093363                      28.522811   \n",
       "\n",
       "       rougher.output.tail_au  rougher.input.feed_size  \\\n",
       "count            14611.000000             16443.000000   \n",
       "mean                 1.763930                58.676444   \n",
       "std                  0.731518                23.922591   \n",
       "min                  0.020676                 9.659576   \n",
       "25%                  1.311610                47.575879   \n",
       "50%                  1.747907                54.104257   \n",
       "75%                  2.190839                65.051064   \n",
       "max                  9.688980               484.967466   \n",
       "\n",
       "       rougher.input.feed_rate  rougher.input.feed_ag  rougher.input.feed_pb  \\\n",
       "count             16347.000000           16778.000000           16632.000000   \n",
       "mean                435.963431               7.832347               3.218931   \n",
       "std                 156.592162               3.139014               1.477263   \n",
       "min                   0.000044               0.000000               0.000000   \n",
       "25%                 396.667936               6.889426               2.551143   \n",
       "50%                 488.629971               7.938193               3.297050   \n",
       "75%                 540.548376               9.829857               4.181842   \n",
       "max                 717.508837              14.869652               7.142594   \n",
       "\n",
       "       rougher.input.feed_sol  rougher.input.floatbank10_sulfate  \\\n",
       "count            16568.000000                       15816.000000   \n",
       "mean                32.636662                          11.198142   \n",
       "std                 11.661981                           3.964080   \n",
       "min                  0.000000                           0.000002   \n",
       "25%                 32.170423                           9.366078   \n",
       "50%                 36.354079                          11.179351   \n",
       "75%                 39.043343                          13.203315   \n",
       "max                 48.363177                          36.118275   \n",
       "\n",
       "       rougher.input.floatbank10_xanthate  rougher.input.floatbank11_sulfate  \\\n",
       "count                        16514.000000                       16237.000000   \n",
       "mean                             5.366609                          10.550080   \n",
       "std                              1.940766                           4.560428   \n",
       "min                              0.000003                           0.000049   \n",
       "25%                              4.802531                           8.903492   \n",
       "50%                              5.767015                          11.001027   \n",
       "75%                              6.501621                          13.004085   \n",
       "max                             31.493331                          37.980648   \n",
       "\n",
       "       rougher.input.floatbank11_xanthate  rougher.output.tail_ag  \\\n",
       "count                        14956.000000            14610.000000   \n",
       "mean                             5.792970                5.566579   \n",
       "std                              1.294180                1.045456   \n",
       "min                              0.000010                0.594562   \n",
       "25%                              5.097006                4.918713   \n",
       "50%                              5.995942                5.718038   \n",
       "75%                              6.695277                6.308490   \n",
       "max                              9.698407               12.719177   \n",
       "\n",
       "       rougher.output.tail_pb  rougher.output.tail_sol  \\\n",
       "count            16778.000000             14611.000000   \n",
       "mean                 0.596493                17.865309   \n",
       "std                  0.330819                 3.455588   \n",
       "min                  0.000000                10.014648   \n",
       "25%                  0.413711                15.646980   \n",
       "50%                  0.594959                17.996971   \n",
       "75%                  0.779544                19.933255   \n",
       "max                  3.778064                66.117188   \n",
       "\n",
       "       rougher.state.floatbank10_a_air  rougher.state.floatbank10_a_level  \n",
       "count                     16807.000000                       16807.000000  \n",
       "mean                       1077.201302                        -384.109359  \n",
       "std                         291.800894                         112.408685  \n",
       "min                          -0.345168                        -658.223080  \n",
       "25%                         999.636979                        -499.908427  \n",
       "50%                        1001.310190                        -300.233403  \n",
       "75%                        1299.577654                        -299.976784  \n",
       "max                        1521.980372                         -19.383282  "
      ]
     },
     "metadata": {},
     "output_type": "display_data"
    },
    {
     "data": {
      "text/plain": [
       "'Describe rougher variables where rougher output concentrate au is 0:'"
      ]
     },
     "metadata": {},
     "output_type": "display_data"
    },
    {
     "data": {
      "text/html": [
       "<div>\n",
       "<style scoped>\n",
       "    .dataframe tbody tr th:only-of-type {\n",
       "        vertical-align: middle;\n",
       "    }\n",
       "\n",
       "    .dataframe tbody tr th {\n",
       "        vertical-align: top;\n",
       "    }\n",
       "\n",
       "    .dataframe thead th {\n",
       "        text-align: right;\n",
       "    }\n",
       "</style>\n",
       "<table border=\"1\" class=\"dataframe\">\n",
       "  <thead>\n",
       "    <tr style=\"text-align: right;\">\n",
       "      <th></th>\n",
       "      <th>rougher.input.feed_au</th>\n",
       "      <th>rougher.output.concentrate_au</th>\n",
       "      <th>rougher.output.tail_au</th>\n",
       "      <th>rougher.input.feed_size</th>\n",
       "      <th>rougher.input.feed_rate</th>\n",
       "      <th>rougher.input.feed_ag</th>\n",
       "      <th>rougher.input.feed_pb</th>\n",
       "      <th>rougher.input.feed_sol</th>\n",
       "      <th>rougher.input.floatbank10_sulfate</th>\n",
       "      <th>rougher.input.floatbank10_xanthate</th>\n",
       "      <th>rougher.input.floatbank11_sulfate</th>\n",
       "      <th>rougher.input.floatbank11_xanthate</th>\n",
       "      <th>rougher.output.tail_ag</th>\n",
       "      <th>rougher.output.tail_pb</th>\n",
       "      <th>rougher.output.tail_sol</th>\n",
       "      <th>rougher.state.floatbank10_a_air</th>\n",
       "      <th>rougher.state.floatbank10_a_level</th>\n",
       "    </tr>\n",
       "  </thead>\n",
       "  <tbody>\n",
       "    <tr>\n",
       "      <th>count</th>\n",
       "      <td>1492.000000</td>\n",
       "      <td>1493.0</td>\n",
       "      <td>354.000000</td>\n",
       "      <td>1305.000000</td>\n",
       "      <td>1292.000000</td>\n",
       "      <td>1493.000000</td>\n",
       "      <td>1486.000000</td>\n",
       "      <td>1462.000000</td>\n",
       "      <td>903.000000</td>\n",
       "      <td>1293.000000</td>\n",
       "      <td>1275.000000</td>\n",
       "      <td>468.000000</td>\n",
       "      <td>354.000000</td>\n",
       "      <td>1493.000000</td>\n",
       "      <td>354.000000</td>\n",
       "      <td>1480.000000</td>\n",
       "      <td>1480.000000</td>\n",
       "    </tr>\n",
       "    <tr>\n",
       "      <th>mean</th>\n",
       "      <td>1.987817</td>\n",
       "      <td>0.0</td>\n",
       "      <td>1.964536</td>\n",
       "      <td>48.761784</td>\n",
       "      <td>128.927126</td>\n",
       "      <td>2.177404</td>\n",
       "      <td>0.901401</td>\n",
       "      <td>8.366416</td>\n",
       "      <td>5.851301</td>\n",
       "      <td>1.593812</td>\n",
       "      <td>3.851936</td>\n",
       "      <td>4.069056</td>\n",
       "      <td>5.881566</td>\n",
       "      <td>0.189015</td>\n",
       "      <td>16.638754</td>\n",
       "      <td>705.806119</td>\n",
       "      <td>-489.789418</td>\n",
       "    </tr>\n",
       "    <tr>\n",
       "      <th>std</th>\n",
       "      <td>3.674207</td>\n",
       "      <td>0.0</td>\n",
       "      <td>0.682643</td>\n",
       "      <td>31.642698</td>\n",
       "      <td>197.889458</td>\n",
       "      <td>3.997045</td>\n",
       "      <td>1.694939</td>\n",
       "      <td>15.463059</td>\n",
       "      <td>7.211947</td>\n",
       "      <td>2.393511</td>\n",
       "      <td>6.543244</td>\n",
       "      <td>2.188912</td>\n",
       "      <td>0.677961</td>\n",
       "      <td>0.359475</td>\n",
       "      <td>2.751443</td>\n",
       "      <td>598.853707</td>\n",
       "      <td>165.503175</td>\n",
       "    </tr>\n",
       "    <tr>\n",
       "      <th>min</th>\n",
       "      <td>0.000000</td>\n",
       "      <td>0.0</td>\n",
       "      <td>0.638096</td>\n",
       "      <td>14.523920</td>\n",
       "      <td>0.000044</td>\n",
       "      <td>0.000000</td>\n",
       "      <td>0.000000</td>\n",
       "      <td>0.000000</td>\n",
       "      <td>0.000050</td>\n",
       "      <td>0.000003</td>\n",
       "      <td>0.000094</td>\n",
       "      <td>0.000010</td>\n",
       "      <td>3.764520</td>\n",
       "      <td>0.000000</td>\n",
       "      <td>10.014648</td>\n",
       "      <td>-0.345168</td>\n",
       "      <td>-658.223080</td>\n",
       "    </tr>\n",
       "    <tr>\n",
       "      <th>25%</th>\n",
       "      <td>0.000000</td>\n",
       "      <td>0.0</td>\n",
       "      <td>1.656829</td>\n",
       "      <td>30.649600</td>\n",
       "      <td>0.160013</td>\n",
       "      <td>0.000000</td>\n",
       "      <td>0.000000</td>\n",
       "      <td>0.000000</td>\n",
       "      <td>0.009692</td>\n",
       "      <td>0.003627</td>\n",
       "      <td>0.018588</td>\n",
       "      <td>3.736192</td>\n",
       "      <td>5.416152</td>\n",
       "      <td>0.000000</td>\n",
       "      <td>14.644193</td>\n",
       "      <td>-0.004404</td>\n",
       "      <td>-650.118377</td>\n",
       "    </tr>\n",
       "    <tr>\n",
       "      <th>50%</th>\n",
       "      <td>0.000000</td>\n",
       "      <td>0.0</td>\n",
       "      <td>1.969209</td>\n",
       "      <td>45.224529</td>\n",
       "      <td>0.308362</td>\n",
       "      <td>0.000000</td>\n",
       "      <td>0.000000</td>\n",
       "      <td>0.000000</td>\n",
       "      <td>0.122985</td>\n",
       "      <td>0.007721</td>\n",
       "      <td>0.031003</td>\n",
       "      <td>4.301610</td>\n",
       "      <td>6.051283</td>\n",
       "      <td>0.000000</td>\n",
       "      <td>16.534157</td>\n",
       "      <td>999.129109</td>\n",
       "      <td>-501.030700</td>\n",
       "    </tr>\n",
       "    <tr>\n",
       "      <th>75%</th>\n",
       "      <td>0.205576</td>\n",
       "      <td>0.0</td>\n",
       "      <td>2.235973</td>\n",
       "      <td>48.979395</td>\n",
       "      <td>311.135911</td>\n",
       "      <td>0.265291</td>\n",
       "      <td>0.000000</td>\n",
       "      <td>0.000000</td>\n",
       "      <td>11.367277</td>\n",
       "      <td>4.000279</td>\n",
       "      <td>7.735872</td>\n",
       "      <td>5.704319</td>\n",
       "      <td>6.401932</td>\n",
       "      <td>0.373995</td>\n",
       "      <td>19.069426</td>\n",
       "      <td>1299.891653</td>\n",
       "      <td>-300.232459</td>\n",
       "    </tr>\n",
       "    <tr>\n",
       "      <th>max</th>\n",
       "      <td>12.559249</td>\n",
       "      <td>0.0</td>\n",
       "      <td>6.067395</td>\n",
       "      <td>339.310813</td>\n",
       "      <td>600.568146</td>\n",
       "      <td>13.850236</td>\n",
       "      <td>5.941000</td>\n",
       "      <td>44.740039</td>\n",
       "      <td>29.990941</td>\n",
       "      <td>9.517497</td>\n",
       "      <td>30.006327</td>\n",
       "      <td>9.514789</td>\n",
       "      <td>7.523648</td>\n",
       "      <td>2.799132</td>\n",
       "      <td>22.284018</td>\n",
       "      <td>1502.409462</td>\n",
       "      <td>-19.383282</td>\n",
       "    </tr>\n",
       "  </tbody>\n",
       "</table>\n",
       "</div>"
      ],
      "text/plain": [
       "       rougher.input.feed_au  rougher.output.concentrate_au  \\\n",
       "count            1492.000000                         1493.0   \n",
       "mean                1.987817                            0.0   \n",
       "std                 3.674207                            0.0   \n",
       "min                 0.000000                            0.0   \n",
       "25%                 0.000000                            0.0   \n",
       "50%                 0.000000                            0.0   \n",
       "75%                 0.205576                            0.0   \n",
       "max                12.559249                            0.0   \n",
       "\n",
       "       rougher.output.tail_au  rougher.input.feed_size  \\\n",
       "count              354.000000              1305.000000   \n",
       "mean                 1.964536                48.761784   \n",
       "std                  0.682643                31.642698   \n",
       "min                  0.638096                14.523920   \n",
       "25%                  1.656829                30.649600   \n",
       "50%                  1.969209                45.224529   \n",
       "75%                  2.235973                48.979395   \n",
       "max                  6.067395               339.310813   \n",
       "\n",
       "       rougher.input.feed_rate  rougher.input.feed_ag  rougher.input.feed_pb  \\\n",
       "count              1292.000000            1493.000000            1486.000000   \n",
       "mean                128.927126               2.177404               0.901401   \n",
       "std                 197.889458               3.997045               1.694939   \n",
       "min                   0.000044               0.000000               0.000000   \n",
       "25%                   0.160013               0.000000               0.000000   \n",
       "50%                   0.308362               0.000000               0.000000   \n",
       "75%                 311.135911               0.265291               0.000000   \n",
       "max                 600.568146              13.850236               5.941000   \n",
       "\n",
       "       rougher.input.feed_sol  rougher.input.floatbank10_sulfate  \\\n",
       "count             1462.000000                         903.000000   \n",
       "mean                 8.366416                           5.851301   \n",
       "std                 15.463059                           7.211947   \n",
       "min                  0.000000                           0.000050   \n",
       "25%                  0.000000                           0.009692   \n",
       "50%                  0.000000                           0.122985   \n",
       "75%                  0.000000                          11.367277   \n",
       "max                 44.740039                          29.990941   \n",
       "\n",
       "       rougher.input.floatbank10_xanthate  rougher.input.floatbank11_sulfate  \\\n",
       "count                         1293.000000                        1275.000000   \n",
       "mean                             1.593812                           3.851936   \n",
       "std                              2.393511                           6.543244   \n",
       "min                              0.000003                           0.000094   \n",
       "25%                              0.003627                           0.018588   \n",
       "50%                              0.007721                           0.031003   \n",
       "75%                              4.000279                           7.735872   \n",
       "max                              9.517497                          30.006327   \n",
       "\n",
       "       rougher.input.floatbank11_xanthate  rougher.output.tail_ag  \\\n",
       "count                          468.000000              354.000000   \n",
       "mean                             4.069056                5.881566   \n",
       "std                              2.188912                0.677961   \n",
       "min                              0.000010                3.764520   \n",
       "25%                              3.736192                5.416152   \n",
       "50%                              4.301610                6.051283   \n",
       "75%                              5.704319                6.401932   \n",
       "max                              9.514789                7.523648   \n",
       "\n",
       "       rougher.output.tail_pb  rougher.output.tail_sol  \\\n",
       "count             1493.000000               354.000000   \n",
       "mean                 0.189015                16.638754   \n",
       "std                  0.359475                 2.751443   \n",
       "min                  0.000000                10.014648   \n",
       "25%                  0.000000                14.644193   \n",
       "50%                  0.000000                16.534157   \n",
       "75%                  0.373995                19.069426   \n",
       "max                  2.799132                22.284018   \n",
       "\n",
       "       rougher.state.floatbank10_a_air  rougher.state.floatbank10_a_level  \n",
       "count                      1480.000000                        1480.000000  \n",
       "mean                        705.806119                        -489.789418  \n",
       "std                         598.853707                         165.503175  \n",
       "min                          -0.345168                        -658.223080  \n",
       "25%                          -0.004404                        -650.118377  \n",
       "50%                         999.129109                        -501.030700  \n",
       "75%                        1299.891653                        -300.232459  \n",
       "max                        1502.409462                         -19.383282  "
      ]
     },
     "metadata": {},
     "output_type": "display_data"
    }
   ],
   "source": [
    "display('Describe rougher variables:',train[['rougher.input.feed_au', 'rougher.output.concentrate_au', 'rougher.output.tail_au','rougher.input.feed_size', 'rougher.input.feed_rate','rougher.input.feed_ag', 'rougher.input.feed_pb', 'rougher.input.feed_sol','rougher.input.floatbank10_sulfate','rougher.input.floatbank10_xanthate','rougher.input.floatbank11_sulfate','rougher.input.floatbank11_xanthate','rougher.output.tail_ag','rougher.output.tail_pb','rougher.output.tail_sol','rougher.state.floatbank10_a_air','rougher.state.floatbank10_a_level']].describe())\n",
    "\n",
    "display(\"Describe rougher variables where rougher output concentrate au is 0:\",train[train['rougher.output.concentrate_au'] == 0][['rougher.input.feed_au', 'rougher.output.concentrate_au', 'rougher.output.tail_au','rougher.input.feed_size', 'rougher.input.feed_rate','rougher.input.feed_ag', 'rougher.input.feed_pb', 'rougher.input.feed_sol','rougher.input.floatbank10_sulfate','rougher.input.floatbank10_xanthate','rougher.input.floatbank11_sulfate','rougher.input.floatbank11_xanthate','rougher.output.tail_ag','rougher.output.tail_pb','rougher.output.tail_sol','rougher.state.floatbank10_a_air','rougher.state.floatbank10_a_level']].describe())"
   ]
  },
  {
   "cell_type": "code",
   "execution_count": 5,
   "metadata": {},
   "outputs": [
    {
     "data": {
      "image/png": "[encoded data removed]",
      "text/plain": [
       "<Figure size 640x480 with 1 Axes>"
      ]
     },
     "metadata": {},
     "output_type": "display_data"
    }
   ],
   "source": [
    "# plot a histogram of rougher.output.concentrate_au\n",
    "train['rougher.output.concentrate_au'].hist(bins=28)\n",
    "plt.title('Histogram of rougher.output.concentrate_au')\n",
    "plt.xlabel('Concentration of Au')\n",
    "plt.ylabel('Frequency')\n",
    "plt.show()"
   ]
  },
  {
   "cell_type": "markdown",
   "metadata": {},
   "source": [
    "There are 1,493 rows with a rougher output concentrate au of 0. This seems suspicious--maybe these zeroes are a placeholder for missing values, the data/measurements are erroneous, or no gold resulted from the rougher process."
   ]
  },
  {
   "cell_type": "markdown",
   "metadata": {},
   "source": [
    "#### Investigate possible explanations for rows with a rougher output concentrate au of 0."
   ]
  },
  {
   "cell_type": "code",
   "execution_count": 6,
   "metadata": {},
   "outputs": [
    {
     "data": {
      "text/plain": [
       "0"
      ]
     },
     "execution_count": 6,
     "metadata": {},
     "output_type": "execute_result"
    }
   ],
   "source": [
    "# count rows in train where rougher.input.feed_au equals rougher.output.tail_au \n",
    "train[(train['rougher.input.feed_au'] == train['rougher.output.tail_au'])].shape[0]"
   ]
  },
  {
   "cell_type": "markdown",
   "metadata": {},
   "source": [
    "There are no rows where the rougher input feed au and the rougher output tail au equal one another so this doesn't explain why the rougher output concentrate au can have a value of 0."
   ]
  },
  {
   "cell_type": "code",
   "execution_count": 7,
   "metadata": {},
   "outputs": [
    {
     "name": "stdout",
     "output_type": "stream",
     "text": [
      "375\n"
     ]
    }
   ],
   "source": [
    "# count the number of rows in the training set where the rougher.output.concentrate_au is 0 and final.output.concentrate_au is > 0\n",
    "print(train[(train['rougher.output.concentrate_au'] == 0) & (train['final.output.concentrate_au'] > 0)].shape[0])\n",
    "\n",
    "# drop the inaccurate data from the training set\n",
    "train = train.drop(train[(train['rougher.output.concentrate_au'] == 0) & (train['final.output.concentrate_au'] > 0)].index)\n"
   ]
  },
  {
   "cell_type": "markdown",
   "metadata": {},
   "source": [
    "There are 375 rows of data where the final output concentrate of gold is greater than 0, yet the concentrate was 0 after the rougher stage. This can't be true, so this data is incorrect. We'll drop it from our training set."
   ]
  },
  {
   "cell_type": "code",
   "execution_count": 8,
   "metadata": {},
   "outputs": [
    {
     "name": "stdout",
     "output_type": "stream",
     "text": [
      "44\n"
     ]
    }
   ],
   "source": [
    "# count the number of rows in the training set where the rougher.input.feed_au is 0 and rougher.output.concentrate_au is > 0\n",
    "print(train[(train['rougher.input.feed_au'] == 0) & (train['rougher.output.concentrate_au'] > 0)].shape[0])\n",
    "\n",
    "# drop the inaccurate data from the training set\n",
    "train = train.drop(train[(train['rougher.input.feed_au'] == 0) & (train['rougher.output.concentrate_au'] > 0)].index)\n"
   ]
  },
  {
   "cell_type": "markdown",
   "metadata": {},
   "source": [
    "It also doesn't make sense that the the rougher input feed au is 0, yet the rougher output concentrate au is greater than 0. There are 44 rows of data like this that we'll also drop."
   ]
  },
  {
   "cell_type": "code",
   "execution_count": 9,
   "metadata": {},
   "outputs": [
    {
     "name": "stdout",
     "output_type": "stream",
     "text": [
      "102\n"
     ]
    }
   ],
   "source": [
    "# count the number of rows in the training set where the primary_cleaner.output.concentrate_au is 0 and final.output.concentrate_au is > 0\n",
    "print(train[(train['primary_cleaner.output.concentrate_au'] == 0) & (train['final.output.concentrate_au'] > 0)].shape[0])\n",
    "\n",
    "# drop the inaccurate data from the training set\n",
    "train = train.drop(train[(train['primary_cleaner.output.concentrate_au'] == 0) & (train['final.output.concentrate_au'] > 0)].index)"
   ]
  },
  {
   "cell_type": "markdown",
   "metadata": {},
   "source": [
    "There are 101 rows where the primary cleaner output concentrate au is 0 and the final output concentrate au is greater than 0. Once again, this data does not make sense so we will drop these rows from the training set too."
   ]
  },
  {
   "cell_type": "code",
   "execution_count": 10,
   "metadata": {},
   "outputs": [
    {
     "name": "stdout",
     "output_type": "stream",
     "text": [
      "0\n"
     ]
    }
   ],
   "source": [
    "# count the number of rows where the final output recovery is 0 and the final output concentrate au is > 0\n",
    "print(train[(train['final.output.recovery'] == 0) & (train['final.output.concentrate_au'] > 0)].shape[0])"
   ]
  },
  {
   "cell_type": "code",
   "execution_count": 11,
   "metadata": {},
   "outputs": [
    {
     "name": "stdout",
     "output_type": "stream",
     "text": [
      "0\n"
     ]
    }
   ],
   "source": [
    "# count the number of rows where the final output recovery is > 0 and the final output concentrate au is 0\n",
    "print(train[(train['final.output.recovery'] > 0) & (train['final.output.concentrate_au'] == 0)].shape[0])"
   ]
  },
  {
   "cell_type": "markdown",
   "metadata": {},
   "source": [
    "There are no rows where the values of final output recovery and final output concentrate au don't make sense together."
   ]
  },
  {
   "cell_type": "code",
   "execution_count": 12,
   "metadata": {},
   "outputs": [
    {
     "data": {
      "image/png": "[encoded data removed]",
      "text/plain": [
       "<Figure size 640x480 with 1 Axes>"
      ]
     },
     "metadata": {},
     "output_type": "display_data"
    },
    {
     "data": {
      "image/png": "[encoded data removed]",
      "text/plain": [
       "<Figure size 640x480 with 1 Axes>"
      ]
     },
     "metadata": {},
     "output_type": "display_data"
    }
   ],
   "source": [
    "# plot the distribution of rougher.input_feed_size\n",
    "train['rougher.input.feed_size'].hist(bins=40)\n",
    "plt.title('Histogram of rougher.input.feed_size')\n",
    "plt.xlabel('Feed Size')\n",
    "plt.ylabel('Frequency')\n",
    "plt.show()\n",
    "\n",
    "# plot the distribution of rougher.input_feed_size where the rougher.output.concentrate_au is 0\n",
    "train[train['rougher.output.concentrate_au'] == 0]['rougher.input.feed_size'].hist(bins=100)\n",
    "plt.title('Histogram of rougher.input.feed_size where rougher.output.concentrate_au is 0')\n",
    "plt.xlabel('Feed Size')\n",
    "plt.ylabel('Frequency')\n",
    "plt.show()"
   ]
  },
  {
   "cell_type": "markdown",
   "metadata": {},
   "source": [
    "When the rougher output concentrate au is 0, the rougher input feed size is mostly about 25-50. Given that the mode of input feed size is about 50 for the training data set in general, this seems reasonable."
   ]
  },
  {
   "cell_type": "code",
   "execution_count": 13,
   "metadata": {},
   "outputs": [
    {
     "data": {
      "image/png": "[encoded data removed]",
      "text/plain": [
       "<Figure size 640x480 with 1 Axes>"
      ]
     },
     "metadata": {},
     "output_type": "display_data"
    },
    {
     "data": {
      "image/png": "[encoded data removed]",
      "text/plain": [
       "<Figure size 640x480 with 1 Axes>"
      ]
     },
     "metadata": {},
     "output_type": "display_data"
    }
   ],
   "source": [
    "# plot the distribution of rougher.input_feed_rate \n",
    "train['rougher.input.feed_rate'].hist(bins=100)\n",
    "plt.title('Histogram of rougher.input.feed_rate')\n",
    "plt.xlabel('Feed Rate')\n",
    "plt.ylabel('Frequency')\n",
    "plt.show()\n",
    "\n",
    "# plot the distribution of rougher.input_feed_au where the rougher.output.concentrate_au is 0\n",
    "train[train['rougher.output.concentrate_au'] == 0]['rougher.input.feed_au'].hist(bins=20)\n",
    "plt.title('Histogram of rougher.input.feed_au where rougher.output.concentrate_au is 0')\n",
    "plt.xlabel('Feed Au')\n",
    "plt.ylabel('Frequency')\n",
    "plt.show()\n"
   ]
  },
  {
   "cell_type": "markdown",
   "metadata": {},
   "source": [
    "When the rougher output concentrate au is 0, the input feed rate is almost always about 0. In comparison to the distribution of the input feed rate overall, these values definitely seem off. Perhaps the near-0 input feed rate is an error or placeholder for missing data as well."
   ]
  },
  {
   "cell_type": "code",
   "execution_count": 14,
   "metadata": {},
   "outputs": [
    {
     "data": {
      "image/png": "[encoded data removed]",
      "text/plain": [
       "<Figure size 640x480 with 1 Axes>"
      ]
     },
     "metadata": {},
     "output_type": "display_data"
    },
    {
     "data": {
      "image/png": "[encoded data removed]",
      "text/plain": [
       "<Figure size 640x480 with 1 Axes>"
      ]
     },
     "metadata": {},
     "output_type": "display_data"
    }
   ],
   "source": [
    "# plot the distribution of input.feed_sol\n",
    "train['rougher.input.feed_sol'].hist(bins=100)\n",
    "plt.title('Histogram of rougher.input.feed_sol')\n",
    "plt.xlabel('Feed Sol')\n",
    "plt.ylabel('Frequency')\n",
    "plt.show()\n",
    "\n",
    "# plot the distribution of input.feed_sol where the rougher.output.concentrate_au is 0\n",
    "train[train['rougher.output.concentrate_au'] == 0]['rougher.input.feed_sol'].hist(bins=100)\n",
    "plt.title('Histogram of rougher.input.feed_sol where rougher.output.concentrate_au is 0')\n",
    "plt.xlabel('Feed Sol')\n",
    "plt.ylabel('Frequency')\n",
    "plt.show()"
   ]
  },
  {
   "cell_type": "code",
   "execution_count": 15,
   "metadata": {},
   "outputs": [
    {
     "data": {
      "text/plain": [
       "1060"
      ]
     },
     "execution_count": 15,
     "metadata": {},
     "output_type": "execute_result"
    }
   ],
   "source": [
    "# count the rows where the input rougher concentrate au is 0 and the rougher output concentrate au is 0\n",
    "train[(train['rougher.input.feed_au'] == 0) & (train['rougher.output.concentrate_au'] == 0)].shape[0]"
   ]
  },
  {
   "cell_type": "code",
   "execution_count": 16,
   "metadata": {},
   "outputs": [],
   "source": [
    "# replace values of 0 in the rougher.output.concentrate_au column with NaN\n",
    "train['rougher.output.concentrate_au'] = train['rougher.output.concentrate_au'].replace(0, np.nan)"
   ]
  },
  {
   "cell_type": "code",
   "execution_count": 17,
   "metadata": {},
   "outputs": [],
   "source": [
    "# drop all rows with NaN values for the rougher.output.concentrate_au, rougher.input.feed_au, and the rougher.output.tail_au columns\n",
    "train = train.dropna(subset=['rougher.output.concentrate_au', 'rougher.input.feed_au', 'rougher.output.tail_au', 'rougher.output.recovery', \n",
    "                              'final.output.recovery', 'final.output.concentrate_au'])"
   ]
  },
  {
   "cell_type": "markdown",
   "metadata": {},
   "source": [
    "It looks like there is a pattern that when rougher output concentrate au is 0, a high majority of each related column's values tend to be zero or near zero as well. It's fairly safe to say these rows are actually missing data or erroneous and we can drop them since they represent only about 6.3% of our original dataset size."
   ]
  },
  {
   "cell_type": "markdown",
   "metadata": {},
   "source": [
    "#### Confirm that the gold recovery calculation following the rougher stage is correct "
   ]
  },
  {
   "cell_type": "code",
   "execution_count": 18,
   "metadata": {},
   "outputs": [],
   "source": [
    "# define a function that calculates the recovery of gold\n",
    "def gold_recovery(row):\n",
    "    C = row['rougher.output.concentrate_au']\n",
    "    F = row['rougher.input.feed_au']\n",
    "    T = row['rougher.output.tail_au']\n",
    "    denominator = F*(C-T)\n",
    "    \n",
    "    # check if the denominator is zero\n",
    "    if denominator == 0:\n",
    "        # return 0 if the denominator in the recovery formula is 0 \n",
    "        return 0  # or return 0, or any other value that makes sense in your context\n",
    "    \n",
    "    return ((C*(F-T))/(denominator))*100\n",
    "\n",
    "# apply the function to the train dataframe and store the result in a new column\n",
    "train['rougher.output.recovery_calc'] = train.apply(gold_recovery, axis=1)\n"
   ]
  },
  {
   "cell_type": "code",
   "execution_count": 19,
   "metadata": {},
   "outputs": [
    {
     "name": "stdout",
     "output_type": "stream",
     "text": [
      "Mean Absolute Error: 9.420027279379386e-15\n"
     ]
    }
   ],
   "source": [
    "# calculate the mean absolute error between the calculated recovery and the actual recovery\n",
    "mae = mean_absolute_error(train['rougher.output.recovery'], train['rougher.output.recovery_calc'])\n",
    "\n",
    "# print the mean absolute error\n",
    "print('Mean Absolute Error:', mae)"
   ]
  },
  {
   "cell_type": "markdown",
   "metadata": {},
   "source": [
    "The mean absolute error of our rougher output recovery value (given vs. calculated) is extremely low; therefore, we can be confident in the accuracy of the provided rougher output recovery feature."
   ]
  },
  {
   "cell_type": "markdown",
   "metadata": {},
   "source": [
    "#### Get the missing target values for the testing set from the source data"
   ]
  },
  {
   "cell_type": "code",
   "execution_count": 20,
   "metadata": {},
   "outputs": [],
   "source": [
    "# get the missing target values from the full dataframe (along with the other missing features) and merge them with the test dataframe\n",
    "test = test.merge(full[['rougher.output.recovery', 'final.output.recovery']], left_index=True, right_index=True)\n"
   ]
  },
  {
   "cell_type": "markdown",
   "metadata": {},
   "source": [
    "#### Explore which features aren't in the testing set that are in the training set"
   ]
  },
  {
   "cell_type": "code",
   "execution_count": 21,
   "metadata": {},
   "outputs": [
    {
     "name": "stdout",
     "output_type": "stream",
     "text": [
      "Columns not in the test dataset:\n",
      "final.output.concentrate_ag\n",
      "final.output.concentrate_au\n",
      "final.output.concentrate_pb\n",
      "final.output.concentrate_sol\n",
      "final.output.tail_ag\n",
      "final.output.tail_au\n",
      "final.output.tail_pb\n",
      "final.output.tail_sol\n",
      "primary_cleaner.output.concentrate_ag\n",
      "primary_cleaner.output.concentrate_au\n",
      "primary_cleaner.output.concentrate_pb\n",
      "primary_cleaner.output.concentrate_sol\n",
      "primary_cleaner.output.tail_ag\n",
      "primary_cleaner.output.tail_au\n",
      "primary_cleaner.output.tail_pb\n",
      "primary_cleaner.output.tail_sol\n",
      "rougher.calculation.au_pb_ratio\n",
      "rougher.calculation.floatbank10_sulfate_to_au_feed\n",
      "rougher.calculation.floatbank11_sulfate_to_au_feed\n",
      "rougher.calculation.sulfate_to_au_concentrate\n",
      "rougher.output.concentrate_ag\n",
      "rougher.output.concentrate_au\n",
      "rougher.output.concentrate_pb\n",
      "rougher.output.concentrate_sol\n",
      "rougher.output.tail_ag\n",
      "rougher.output.tail_au\n",
      "rougher.output.tail_pb\n",
      "rougher.output.tail_sol\n",
      "secondary_cleaner.output.tail_ag\n",
      "secondary_cleaner.output.tail_au\n",
      "secondary_cleaner.output.tail_pb\n",
      "secondary_cleaner.output.tail_sol\n"
     ]
    }
   ],
   "source": [
    "# get the columns in each dataframe\n",
    "columns_full = set(full.columns)\n",
    "columns_test = set(test.columns)\n",
    "\n",
    "# find columns in the full dataframe that are not in the test dataframe\n",
    "columns_not_in_test = columns_full - columns_test\n",
    "\n",
    "# print the columns that are not in the test dataframe\n",
    "print(\"Columns not in the test dataset:\")\n",
    "columns_not_in_test = sorted(columns_not_in_test)\n",
    "for c in columns_not_in_test:\n",
    "    print(c)\n",
    "\n"
   ]
  },
  {
   "cell_type": "markdown",
   "metadata": {},
   "source": [
    "The features not available in the test data set are mostly output and calculation parameter. Their parameters names are concentrations of au, pb, sol, and ag, the product residues (tails) of ag, au, pb, and sol, and the recovery of au after each stage."
   ]
  },
  {
   "cell_type": "markdown",
   "metadata": {},
   "source": [
    "#### Check for and process erroneous data in the testing set (mirroring what was done to the training set)"
   ]
  },
  {
   "cell_type": "code",
   "execution_count": 22,
   "metadata": {},
   "outputs": [],
   "source": [
    "# merge missing columns from the full dataframe with the test dataframe\n",
    "test_full = test.merge(full[columns_not_in_test], left_index=True, right_index=True)"
   ]
  },
  {
   "cell_type": "code",
   "execution_count": 23,
   "metadata": {},
   "outputs": [
    {
     "data": {
      "text/plain": [
       "0"
      ]
     },
     "execution_count": 23,
     "metadata": {},
     "output_type": "execute_result"
    }
   ],
   "source": [
    "# count rows in test where rougher.input.feed_au equals rougher.output.tail_au \n",
    "test_full[(test_full['rougher.input.feed_au'] == test_full['rougher.output.tail_au'])].shape[0]"
   ]
  },
  {
   "cell_type": "markdown",
   "metadata": {},
   "source": [
    "There are no rows where the rougher input feed au and the rougher output tail au equal one another so this doesn't explain why the rougher output concentrate au can have a value of 0."
   ]
  },
  {
   "cell_type": "code",
   "execution_count": 24,
   "metadata": {},
   "outputs": [
    {
     "name": "stdout",
     "output_type": "stream",
     "text": [
      "109\n"
     ]
    }
   ],
   "source": [
    "# count the number of rows in the testing set where the rougher.output.concentrate_au is 0 and final.output.concentrate_au is > 0\n",
    "print(test_full[(test_full['rougher.output.concentrate_au'] == 0) & (test_full['final.output.concentrate_au'] > 0)].shape[0])\n",
    "\n",
    "# drop the inaccurate data from the testing set\n",
    "test = test.drop(test_full[(test_full['rougher.output.concentrate_au'] == 0) & (test_full['final.output.concentrate_au'] > 0)].index)"
   ]
  },
  {
   "cell_type": "markdown",
   "metadata": {},
   "source": [
    "There are 109 rows of data where the final output concentrate of gold is greater than 0, yet the concentrate was 0 after the rougher stage. This can't be true, so this data is incorrect. We'll drop it from our testing set."
   ]
  },
  {
   "cell_type": "code",
   "execution_count": 25,
   "metadata": {},
   "outputs": [
    {
     "name": "stdout",
     "output_type": "stream",
     "text": [
      "335\n"
     ]
    }
   ],
   "source": [
    "# count the number of rows in the testing set where the rougher.input.feed_au is 0 and rougher.output.concentrate_au is > 0\n",
    "print(test_full[(test_full['rougher.input.feed_au'] == 0) & (test_full['rougher.output.concentrate_au'] > 0)].shape[0])\n",
    "\n",
    "# drop the inaccurate data from the testing set\n",
    "test = test.drop(test_full[(test_full['rougher.input.feed_au'] == 0) & (test_full['rougher.output.concentrate_au'] > 0)].index)"
   ]
  },
  {
   "cell_type": "markdown",
   "metadata": {},
   "source": [
    "It also doesn't make sense that the the rougher input feed au is 0, yet the rougher output concentrate au is greater than 0. There are 335 rows of data like this that we'll also drop."
   ]
  },
  {
   "cell_type": "code",
   "execution_count": 26,
   "metadata": {},
   "outputs": [],
   "source": [
    "# get the rows where the rougher.output.concentrate_au is 0 in test_full\n",
    "zero_rougher_output_concentrate_au = test_full[test_full['rougher.output.concentrate_au'] == 0]\n",
    "\n",
    "# see if test.index exists in zero_rougher_output_concentrate_au.index and drop the rows that exist\n",
    "test = test.drop(test[test.index.isin(zero_rougher_output_concentrate_au.index)].index)\n"
   ]
  },
  {
   "cell_type": "code",
   "execution_count": 27,
   "metadata": {},
   "outputs": [],
   "source": [
    "# get all rows with NaN values for the rougher.output.concentrate_au, rougher.input.feed_au, and the rougher.output.tail_au columns in test_full\n",
    "nan_au_rows = test_full[test_full['rougher.output.concentrate_au'].isna() | test_full['rougher.input.feed_au'].isna() | test_full['rougher.output.tail_au'].isna() | test_full['rougher.output.recovery'].isna()]\n",
    "\n",
    "# drop rows in nan_au_rows from test \n",
    "test = test.drop(test[test.index.isin(nan_au_rows.index)].index)\n"
   ]
  },
  {
   "cell_type": "markdown",
   "metadata": {},
   "source": [
    "#### Check for duplicate rows in the train and test datasets"
   ]
  },
  {
   "cell_type": "code",
   "execution_count": 28,
   "metadata": {},
   "outputs": [
    {
     "name": "stdout",
     "output_type": "stream",
     "text": [
      "Duplicates in training set: 0\n",
      "Duplicates in testing set: 0\n"
     ]
    }
   ],
   "source": [
    "# check for duplicates in the train and test dataframes\n",
    "print(f\"Duplicates in training set: {train.duplicated().sum()}\")\n",
    "print(f\"Duplicates in testing set: {test.duplicated().sum()}\")"
   ]
  },
  {
   "cell_type": "markdown",
   "metadata": {},
   "source": [
    "#### Examine how the concentration of the metals change depending on the purification stage"
   ]
  },
  {
   "cell_type": "code",
   "execution_count": 29,
   "metadata": {},
   "outputs": [
    {
     "data": {
      "image/png": "[encoded data removed]",
      "text/plain": [
       "<Figure size 1000x500 with 1 Axes>"
      ]
     },
     "metadata": {},
     "output_type": "display_data"
    },
    {
     "name": "stdout",
     "output_type": "stream",
     "text": [
      "% change in au concentrate after primary purification: 63.77\n",
      "% change in au concentrate after secondary purification: 35.28\n",
      "\n"
     ]
    },
    {
     "data": {
      "image/png": "[encoded data removed]",
      "text/plain": [
       "<Figure size 1000x500 with 1 Axes>"
      ]
     },
     "metadata": {},
     "output_type": "display_data"
    },
    {
     "name": "stdout",
     "output_type": "stream",
     "text": [
      "% change in ag concentrate after primary purification: -31.52\n",
      "% change in ag concentrate after secondary purification: -37.59\n",
      "\n"
     ]
    },
    {
     "data": {
      "image/png": "[encoded data removed]",
      "text/plain": [
       "<Figure size 1000x500 with 1 Axes>"
      ]
     },
     "metadata": {},
     "output_type": "display_data"
    },
    {
     "name": "stdout",
     "output_type": "stream",
     "text": [
      "% change in pb concentrate after primary purification: 22.13\n",
      "% change in pb concentrate after secondary purification: 6.0\n",
      "\n"
     ]
    }
   ],
   "source": [
    "'''\n",
    "take note of how the concentration of the metals change depending on the purification stage\n",
    "'''\n",
    "\n",
    "# create a list of the metals\n",
    "metals = ['au', 'ag', 'pb']\n",
    "\n",
    "# create an empty dataframe to store the concentration of the metals after each purification stage in\n",
    "df = pd.DataFrame()\n",
    "\n",
    "# iterate through the metals, create a boxplot of the concentration of the metals after each purification stage, and summarize the percentage change after each stage\n",
    "for i in metals:\n",
    "    df['after_rougher_' + i] = train['rougher.output.concentrate_' + i]\n",
    "    df['after_primary_clean_' + i] = train['primary_cleaner.output.concentrate_' + i]\n",
    "    df['after_secondary_clean_' + i] = train['final.output.concentrate_' + i]\n",
    "    df.boxplot(column=['after_rougher_' + i, 'after_primary_clean_' + i, 'after_secondary_clean_' + i] # specify the columns to plot\n",
    "               , figsize=(10, 5) # specify the size of the plot\n",
    "                , grid=False) # remove the grid\n",
    "    plt.title(f'Concentration of {i} after each purification stage') # add a title to the plot\n",
    "    plt.ylabel(f'Concentration of {i}') # add a label to the y-axis\n",
    "    plt.show() # display the plot\n",
    "    print(f\"% change in {i} concentrate after primary purification: {round(((df['after_primary_clean_' + i].sum() - df['after_rougher_' + i].sum())/df['after_rougher_' + i].sum())*100,2)}\") # print the percentage change in the concentration of the metal after the primary purification stage\n",
    "    print(f\"% change in {i} concentrate after secondary purification: {round(((df['after_secondary_clean_' + i].sum() - df['after_primary_clean_' + i].sum())/df['after_primary_clean_' + i].sum())*100,2)}\\n\") # print the percentage change in the concentration of the metal after the secondary purification stage\n"
   ]
  },
  {
   "cell_type": "markdown",
   "metadata": {},
   "source": [
    "On average, the concentration of gold increases 63.8% after the primary purification step and then increases another 35.3% after the secondary purification step.\n",
    "\n",
    "Meanwhile, the silver (ag) concentration decreases 31.5% and 37.6%, on average, after the primary and secondary purification stages, respectively.\n",
    "\n",
    "The concentration of lead (pb) actually increases 22.1% after the primary purificationo stage and then increases just 6% more after the secondary purification step."
   ]
  },
  {
   "cell_type": "markdown",
   "metadata": {},
   "source": [
    "#### Compare the feed particle size distributions between the training and test sets"
   ]
  },
  {
   "cell_type": "code",
   "execution_count": 30,
   "metadata": {},
   "outputs": [
    {
     "name": "stdout",
     "output_type": "stream",
     "text": [
      "Describe the training set rougher input feed size feature:\n",
      " count    13639.000000\n",
      "mean        60.174517\n",
      "std         22.513025\n",
      "min          9.659576\n",
      "25%         49.016018\n",
      "50%         55.460450\n",
      "75%         66.102470\n",
      "max        484.967466\n",
      "Name: rougher.input.feed_size, dtype: float64\n",
      "\n",
      "Describe the testing set rougher input feed size feature:\n",
      " count    4578.000000\n",
      "mean       57.480086\n",
      "std        23.307785\n",
      "min         0.046369\n",
      "25%        43.953860\n",
      "50%        53.062286\n",
      "75%        63.729337\n",
      "max       477.445473\n",
      "Name: rougher.input.feed_size, dtype: float64\n"
     ]
    },
    {
     "data": {
      "image/png": "[encoded data removed]",
      "text/plain": [
       "<Figure size 640x480 with 1 Axes>"
      ]
     },
     "metadata": {},
     "output_type": "display_data"
    }
   ],
   "source": [
    "print(f\"Describe the training set rougher input feed size feature:\\n {train['rougher.input.feed_size'].describe()}\")\n",
    "print(f\"\\nDescribe the testing set rougher input feed size feature:\\n {test['rougher.input.feed_size'].describe()}\")\n",
    "\n",
    "\n",
    "# plot the distribution of the rougher.input.feed_size in the train and test dataframes\n",
    "train['rougher.input.feed_size'].hist(bins=200, alpha=0.5, label='Train')\n",
    "test['rougher.input.feed_size'].hist(bins=200, alpha=0.5, label='Test')\n",
    "plt.title('Histogram of rougher.input.feed_size in Train and Test')\n",
    "plt.xlim(0, 200)\n",
    "plt.xlabel('Feed Size')\n",
    "plt.ylabel('Frequency')\n",
    "plt.legend()\n",
    "plt.show()"
   ]
  },
  {
   "cell_type": "markdown",
   "metadata": {},
   "source": [
    "The feed particle size distributions between the training and testing sets are similar. They have a similar distribution skew, mean, median, and max value."
   ]
  },
  {
   "cell_type": "markdown",
   "metadata": {},
   "source": [
    "#### Plot the distribution of all substances at the raw feed, rougher concentrate, and final concentrate stages of the process"
   ]
  },
  {
   "cell_type": "code",
   "execution_count": 31,
   "metadata": {
    "scrolled": false
   },
   "outputs": [
    {
     "data": {
      "image/png": "[encoded data removed]",
      "text/plain": [
       "<Figure size 640x480 with 1 Axes>"
      ]
     },
     "metadata": {},
     "output_type": "display_data"
    },
    {
     "data": {
      "image/png": "[encoded data removed]",
      "text/plain": [
       "<Figure size 640x480 with 1 Axes>"
      ]
     },
     "metadata": {},
     "output_type": "display_data"
    },
    {
     "data": {
      "image/png": "[encoded data removed]",
      "text/plain": [
       "<Figure size 640x480 with 1 Axes>"
      ]
     },
     "metadata": {},
     "output_type": "display_data"
    }
   ],
   "source": [
    "# plot the distribution of all substances at the raw feed, rougher concentrate, and final concentrate stages of the process\n",
    "substances = ['au', 'ag', 'pb', 'sol']\n",
    "\n",
    "# create an empty dataframe to store the total concentration of the substances at each stage\n",
    "total_concentrate = pd.DataFrame()\n",
    "\n",
    "# add all the substances together at each stage of the process\n",
    "total_concentrate['Raw_Feed'] = train['rougher.input.feed_au'] + train['rougher.input.feed_ag'] + train['rougher.input.feed_pb'] + train['rougher.input.feed_sol']\n",
    "total_concentrate['Rougher_Concentrate'] = train['rougher.output.concentrate_au'] + train['rougher.output.concentrate_ag'] + train['rougher.output.concentrate_pb'] + train['rougher.output.concentrate_sol']\n",
    "total_concentrate['Final_Concentrate'] = train['final.output.concentrate_au'] + train['final.output.concentrate_ag'] + train['final.output.concentrate_pb'] + train['final.output.concentrate_sol']\n",
    "\n",
    "# create a list of the stages to iterate through\n",
    "stages = ['Raw_Feed', 'Rougher_Concentrate', 'Final_Concentrate']\n",
    "\n",
    "# iterate through the stages and plot the histogram of the total concentrate at each stage\n",
    "for i in stages:\n",
    "    total_concentrate[i].hist(bins=100, alpha=0.5, label=i) # plot the histogram of the summed concentrate at each stage\n",
    "    plt.title(f'Distribution of Total Concentrates at the {i.replace('_',' ')} Stage') # add a title to the plot\n",
    "    plt.xlabel(f'Concentration of Total Substances') # add a label to the x-axis\n",
    "    plt.ylabel('Frequency') # add a label to the y-axis \n",
    "    plt.legend() # add a legend to the plot\n",
    "    plt.show() # display the plot"
   ]
  },
  {
   "cell_type": "markdown",
   "metadata": {},
   "source": [
    "#### The mode of total concentrate increases after the raw feed stage. The mode of total concentrate is similar between the rougher and final stages (around 70), yet the dispersion of total concentrate narrows significantly; there are over double the number of instances where the total concentrate is around 70 in the final stage compared to the rougher stage.\n",
    "\n",
    "There are a small number of samples where the concentrate of each substance is 0 within a stage. Next, we'll take a closer look at those to see if the data is erroneous or not. If it is, we'll remove those values from the training and testing sets to protect our model from bad data."
   ]
  },
  {
   "cell_type": "code",
   "execution_count": 32,
   "metadata": {},
   "outputs": [
    {
     "name": "stdout",
     "output_type": "stream",
     "text": [
      "       final.output.recovery  final.output.concentrate_au  \\\n",
      "707                      0.0                          0.0   \n",
      "1354                     0.0                          0.0   \n",
      "1355                     0.0                          0.0   \n",
      "1356                     0.0                          0.0   \n",
      "1357                     0.0                          0.0   \n",
      "2592                     0.0                          0.0   \n",
      "2593                     0.0                          0.0   \n",
      "2810                     0.0                          0.0   \n",
      "4157                     0.0                          0.0   \n",
      "4158                     0.0                          0.0   \n",
      "4159                     0.0                          0.0   \n",
      "4161                     0.0                          0.0   \n",
      "4165                     0.0                          0.0   \n",
      "5037                     0.0                          0.0   \n",
      "5136                     0.0                          0.0   \n",
      "5397                     0.0                          0.0   \n",
      "5491                     0.0                          0.0   \n",
      "5492                     0.0                          0.0   \n",
      "5561                     0.0                          0.0   \n",
      "5562                     0.0                          0.0   \n",
      "5563                     0.0                          0.0   \n",
      "5942                     0.0                          0.0   \n",
      "5943                     0.0                          0.0   \n",
      "5944                     0.0                          0.0   \n",
      "5945                     0.0                          0.0   \n",
      "5949                     0.0                          0.0   \n",
      "6130                     0.0                          0.0   \n",
      "6131                     0.0                          0.0   \n",
      "6820                     0.0                          0.0   \n",
      "6927                     0.0                          0.0   \n",
      "6928                     0.0                          0.0   \n",
      "7074                     0.0                          0.0   \n",
      "7075                     0.0                          0.0   \n",
      "7076                     0.0                          0.0   \n",
      "7077                     0.0                          0.0   \n",
      "7331                     0.0                          0.0   \n",
      "7587                     0.0                          0.0   \n",
      "8224                     0.0                          0.0   \n",
      "8225                     0.0                          0.0   \n",
      "8226                     0.0                          0.0   \n",
      "8227                     0.0                          0.0   \n",
      "8228                     0.0                          0.0   \n",
      "8597                     0.0                          0.0   \n",
      "8879                     0.0                          0.0   \n",
      "8880                     0.0                          0.0   \n",
      "8948                     0.0                          0.0   \n",
      "10186                    0.0                          0.0   \n",
      "10416                    0.0                          0.0   \n",
      "10430                    0.0                          0.0   \n",
      "10448                    0.0                          0.0   \n",
      "10449                    0.0                          0.0   \n",
      "10468                    0.0                          0.0   \n",
      "10469                    0.0                          0.0   \n",
      "10876                    0.0                          0.0   \n",
      "11709                    0.0                          0.0   \n",
      "11710                    0.0                          0.0   \n",
      "11939                    0.0                          0.0   \n",
      "\n",
      "       secondary_cleaner.output.tail_au  \\\n",
      "707                            2.283842   \n",
      "1354                           3.627020   \n",
      "1355                           3.462723   \n",
      "1356                           3.488992   \n",
      "1357                           3.401284   \n",
      "2592                           2.812519   \n",
      "2593                           4.876796   \n",
      "2810                           4.092656   \n",
      "4157                           7.874867   \n",
      "4158                           6.470240   \n",
      "4159                           5.663305   \n",
      "4161                           8.237183   \n",
      "4165                           4.990350   \n",
      "5037                           2.695243   \n",
      "5136                           4.710154   \n",
      "5397                           5.411465   \n",
      "5491                           8.229818   \n",
      "5492                           8.143670   \n",
      "5561                           4.147615   \n",
      "5562                           5.071298   \n",
      "5563                           2.913460   \n",
      "5942                           1.722123   \n",
      "5943                           3.691427   \n",
      "5944                           1.492520   \n",
      "5945                           8.067142   \n",
      "5949                           0.000000   \n",
      "6130                           3.021740   \n",
      "6131                           3.146709   \n",
      "6820                           4.682343   \n",
      "6927                           0.000000   \n",
      "6928                           0.000000   \n",
      "7074                           0.000000   \n",
      "7075                           0.000000   \n",
      "7076                           0.000000   \n",
      "7077                           0.000000   \n",
      "7331                           8.223872   \n",
      "7587                           0.000000   \n",
      "8224                           3.555470   \n",
      "8225                           3.534540   \n",
      "8226                           3.429505   \n",
      "8227                           3.637629   \n",
      "8228                           4.010236   \n",
      "8597                           6.328183   \n",
      "8879                           5.813531   \n",
      "8880                           0.000000   \n",
      "8948                           7.951684   \n",
      "10186                          4.669549   \n",
      "10416                          0.000000   \n",
      "10430                          3.846137   \n",
      "10448                          5.334285   \n",
      "10449                          7.750522   \n",
      "10468                          5.488020   \n",
      "10469                          4.882490   \n",
      "10876                          7.054461   \n",
      "11709                          0.000000   \n",
      "11710                          4.382470   \n",
      "11939                          9.284310   \n",
      "\n",
      "       primary_cleaner.output.concentrate_au  rougher.input.feed_au  \\\n",
      "707                                26.238846               5.598971   \n",
      "1354                               34.564456               7.786147   \n",
      "1355                               34.399450               7.499248   \n",
      "1356                               34.303756               7.032278   \n",
      "1357                               33.956378               7.021635   \n",
      "2592                               41.784729               9.148310   \n",
      "2593                               39.052645               8.738722   \n",
      "2810                               33.208192               7.390769   \n",
      "4157                               43.223572               6.194810   \n",
      "4158                               41.364399               7.289615   \n",
      "4159                               40.639613               7.880026   \n",
      "4161                               38.714830               7.865187   \n",
      "4165                               22.421795               7.637576   \n",
      "5037                                7.035295              11.118669   \n",
      "5136                               33.036174               9.719719   \n",
      "5397                               34.564235               8.577988   \n",
      "5491                               35.558554               7.149506   \n",
      "5492                               34.974734               6.995078   \n",
      "5561                               38.779771               6.891943   \n",
      "5562                               34.317170               6.927000   \n",
      "5563                               34.987525               6.649982   \n",
      "5942                                4.265764               7.984763   \n",
      "5943                               34.492190               8.519387   \n",
      "5944                               30.937968               6.986427   \n",
      "5945                               24.966280               8.370855   \n",
      "5949                               31.271703               7.667220   \n",
      "6130                               34.250017               9.641182   \n",
      "6131                               34.310454               9.663061   \n",
      "6820                               31.889241              11.436133   \n",
      "6927                               36.979106               9.844394   \n",
      "6928                               38.705449              10.230897   \n",
      "7074                               35.761241               9.075034   \n",
      "7075                               34.516481               9.396508   \n",
      "7076                               33.763934               9.755104   \n",
      "7077                               33.724546               9.633636   \n",
      "7331                               35.696877               7.394084   \n",
      "7587                               29.382436               9.925026   \n",
      "8224                               30.590081               7.058794   \n",
      "8225                               29.904965               7.133998   \n",
      "8226                               28.812689               7.152067   \n",
      "8227                               31.302910               6.929134   \n",
      "8228                               23.387005               6.937035   \n",
      "8597                               33.568093               8.144367   \n",
      "8879                               31.826788               8.020925   \n",
      "8880                               32.285829               7.215307   \n",
      "8948                               33.256604               9.823534   \n",
      "10186                              36.563577               5.501463   \n",
      "10416                              33.079340               6.109481   \n",
      "10430                              33.238894               6.299272   \n",
      "10448                              38.243075               6.444222   \n",
      "10449                              39.273456               6.158481   \n",
      "10468                              36.104627               6.145458   \n",
      "10469                              36.390572               6.024148   \n",
      "10876                               0.000000               5.741317   \n",
      "11709                               2.635256               7.345464   \n",
      "11710                              32.702605               7.687805   \n",
      "11939                               8.144001               6.009365   \n",
      "\n",
      "       rougher.output.concentrate_au  final.output.concentrate_ag  \\\n",
      "707                        15.935190                          0.0   \n",
      "1354                       18.682162                          0.0   \n",
      "1355                       18.231121                          0.0   \n",
      "1356                       18.190655                          0.0   \n",
      "1357                       18.194323                          0.0   \n",
      "2592                       25.064809                          0.0   \n",
      "2593                       24.285916                          0.0   \n",
      "2810                       21.700017                          0.0   \n",
      "4157                       21.299152                          0.0   \n",
      "4158                       23.855433                          0.0   \n",
      "4159                       26.261571                          0.0   \n",
      "4161                       27.690006                          0.0   \n",
      "4165                       23.575300                          0.0   \n",
      "5037                       22.047007                          0.0   \n",
      "5136                       20.879875                          0.0   \n",
      "5397                       12.219908                          0.0   \n",
      "5491                        8.194259                          0.0   \n",
      "5492                       11.111640                          0.0   \n",
      "5561                       20.343034                          0.0   \n",
      "5562                       20.130395                          0.0   \n",
      "5563                       20.898669                          0.0   \n",
      "5942                       25.315241                          0.0   \n",
      "5943                       24.453405                          0.0   \n",
      "5944                       20.461828                          0.0   \n",
      "5945                       19.934353                          0.0   \n",
      "5949                       23.666261                          0.0   \n",
      "6130                       23.710651                          0.0   \n",
      "6131                       23.927417                          0.0   \n",
      "6820                       22.207900                          0.0   \n",
      "6927                       24.621715                          0.0   \n",
      "6928                       24.273015                          0.0   \n",
      "7074                       19.833395                          0.0   \n",
      "7075                       20.178619                          0.0   \n",
      "7076                       20.519776                          0.0   \n",
      "7077                       20.868793                          0.0   \n",
      "7331                       21.343779                          0.0   \n",
      "7587                       22.174052                          0.0   \n",
      "8224                       19.884573                          0.0   \n",
      "8225                       19.025876                          0.0   \n",
      "8226                       19.698002                          0.0   \n",
      "8227                       20.863102                          0.0   \n",
      "8228                       20.703875                          0.0   \n",
      "8597                       24.363674                          0.0   \n",
      "8879                       17.371664                          0.0   \n",
      "8880                       17.371148                          0.0   \n",
      "8948                       20.244848                          0.0   \n",
      "10186                      23.348021                          0.0   \n",
      "10416                      14.892873                          0.0   \n",
      "10430                      22.426579                          0.0   \n",
      "10448                      13.610776                          0.0   \n",
      "10449                       8.673748                          0.0   \n",
      "10468                      21.447548                          0.0   \n",
      "10469                      21.565663                          0.0   \n",
      "10876                      20.818637                          0.0   \n",
      "11709                      20.047747                          0.0   \n",
      "11710                      22.632637                          0.0   \n",
      "11939                      13.743304                          0.0   \n",
      "\n",
      "       secondary_cleaner.output.tail_ag  \\\n",
      "707                           11.838086   \n",
      "1354                          11.644152   \n",
      "1355                          11.344059   \n",
      "1356                           9.964582   \n",
      "1357                           8.665906   \n",
      "2592                          10.017291   \n",
      "2593                          15.860198   \n",
      "2810                          12.861509   \n",
      "4157                          10.444641   \n",
      "4158                          11.245075   \n",
      "4159                          11.233938   \n",
      "4161                          10.303046   \n",
      "4165                           6.656537   \n",
      "5037                           4.035225   \n",
      "5136                          14.493593   \n",
      "5397                          12.769610   \n",
      "5491                          11.280946   \n",
      "5492                          10.959901   \n",
      "5561                          18.791017   \n",
      "5562                          18.024604   \n",
      "5563                          16.121990   \n",
      "5942                                NaN   \n",
      "5943                           8.593200   \n",
      "5944                           4.355701   \n",
      "5945                           8.611684   \n",
      "5949                           0.000000   \n",
      "6130                          17.483441   \n",
      "6131                          17.421130   \n",
      "6820                          13.733418   \n",
      "6927                           0.000000   \n",
      "6928                           0.000000   \n",
      "7074                           0.000000   \n",
      "7075                           0.000000   \n",
      "7076                           0.000000   \n",
      "7077                           0.000000   \n",
      "7331                          13.982962   \n",
      "7587                           0.000000   \n",
      "8224                          10.345944   \n",
      "8225                          10.466746   \n",
      "8226                          10.059299   \n",
      "8227                          10.728388   \n",
      "8228                          11.151195   \n",
      "8597                          15.692357   \n",
      "8879                           8.592600   \n",
      "8880                           0.000000   \n",
      "8948                          14.813378   \n",
      "10186                         17.254752   \n",
      "10416                          0.000000   \n",
      "10430                         17.621022   \n",
      "10448                         16.780774   \n",
      "10449                         16.247507   \n",
      "10468                         16.759048   \n",
      "10469                         16.932146   \n",
      "10876                         11.447753   \n",
      "11709                          0.000000   \n",
      "11710                          8.972295   \n",
      "11939                         10.707514   \n",
      "\n",
      "       primary_cleaner.output.concentrate_ag  final.output.concentrate_pb  \\\n",
      "707                                 8.986696                          0.0   \n",
      "1354                                8.701237                          0.0   \n",
      "1355                                8.697952                          0.0   \n",
      "1356                                8.921656                          0.0   \n",
      "1357                                9.239378                          0.0   \n",
      "2592                                6.247977                          0.0   \n",
      "2593                                7.502587                          0.0   \n",
      "2810                                8.741594                          0.0   \n",
      "4157                                4.317737                          0.0   \n",
      "4158                                4.843594                          0.0   \n",
      "4159                                5.304686                          0.0   \n",
      "4161                                6.923996                          0.0   \n",
      "4165                                4.396326                          0.0   \n",
      "5037                                3.825324                          0.0   \n",
      "5136                                9.878725                          0.0   \n",
      "5397                                6.657734                          0.0   \n",
      "5491                                5.704264                          0.0   \n",
      "5492                                5.834950                          0.0   \n",
      "5561                                7.401109                          0.0   \n",
      "5562                                9.605411                          0.0   \n",
      "5563                                9.243609                          0.0   \n",
      "5942                                0.765107                          0.0   \n",
      "5943                                7.317808                          0.0   \n",
      "5944                                9.153628                          0.0   \n",
      "5945                               11.418712                          0.0   \n",
      "5949                                8.153960                          0.0   \n",
      "6130                                8.746604                          0.0   \n",
      "6131                                8.738263                          0.0   \n",
      "6820                                8.872463                          0.0   \n",
      "6927                                5.325233                          0.0   \n",
      "6928                                5.219714                          0.0   \n",
      "7074                                7.391303                          0.0   \n",
      "7075                                7.917047                          0.0   \n",
      "7076                                8.271720                          0.0   \n",
      "7077                                8.270655                          0.0   \n",
      "7331                                5.287898                          0.0   \n",
      "7587                               11.147629                          0.0   \n",
      "8224                                7.846418                          0.0   \n",
      "8225                                8.104067                          0.0   \n",
      "8226                                8.731299                          0.0   \n",
      "8227                                7.529880                          0.0   \n",
      "8228                                5.090135                          0.0   \n",
      "8597                                5.642464                          0.0   \n",
      "8879                                7.657030                          0.0   \n",
      "8880                                7.877000                          0.0   \n",
      "8948                                7.431352                          0.0   \n",
      "10186                               5.105704                          0.0   \n",
      "10416                               5.933491                          0.0   \n",
      "10430                               8.042991                          0.0   \n",
      "10448                               5.756389                          0.0   \n",
      "10449                               5.534799                          0.0   \n",
      "10468                               6.884463                          0.0   \n",
      "10469                               6.815047                          0.0   \n",
      "10876                               0.000000                          0.0   \n",
      "11709                               0.634975                          0.0   \n",
      "11710                               8.735761                          0.0   \n",
      "11939                               1.834584                          0.0   \n",
      "\n",
      "       secondary_cleaner.output.tail_pb  \\\n",
      "707                            3.905472   \n",
      "1354                           4.028016   \n",
      "1355                           3.795803   \n",
      "1356                           3.606678   \n",
      "1357                           3.729378   \n",
      "2592                           2.442170   \n",
      "2593                           3.719221   \n",
      "2810                           4.920895   \n",
      "4157                           3.217883   \n",
      "4158                           3.997890   \n",
      "4159                           3.986422   \n",
      "4161                           3.686222   \n",
      "4165                           2.387363   \n",
      "5037                           1.425309   \n",
      "5136                           3.308744   \n",
      "5397                           4.633489   \n",
      "5491                           5.459706   \n",
      "5492                           5.576170   \n",
      "5561                           2.928408   \n",
      "5562                           2.789098   \n",
      "5563                           2.142662   \n",
      "5942                                NaN   \n",
      "5943                           3.746043   \n",
      "5944                           2.139524   \n",
      "5945                           4.369976   \n",
      "5949                           0.000000   \n",
      "6130                           3.820290   \n",
      "6131                           3.882082   \n",
      "6820                           4.997127   \n",
      "6927                           0.000000   \n",
      "6928                           0.000000   \n",
      "7074                           0.000000   \n",
      "7075                           0.000000   \n",
      "7076                           0.000000   \n",
      "7077                           0.000000   \n",
      "7331                           5.092571   \n",
      "7587                           0.000000   \n",
      "8224                           3.385844   \n",
      "8225                           3.451734   \n",
      "8226                           3.238355   \n",
      "8227                           3.385387   \n",
      "8228                           4.187707   \n",
      "8597                           4.893687   \n",
      "8879                           3.700541   \n",
      "8880                           0.000000   \n",
      "8948                           5.746800   \n",
      "10186                          6.375838   \n",
      "10416                          0.000000   \n",
      "10430                          6.488053   \n",
      "10448                          6.927107   \n",
      "10449                          7.151949   \n",
      "10468                          7.795300   \n",
      "10469                          7.854686   \n",
      "10876                          6.441925   \n",
      "11709                          0.000000   \n",
      "11710                          3.586880   \n",
      "11939                          5.407973   \n",
      "\n",
      "       primary_cleaner.output.concentrate_pb  final.output.concentrate_sol  \\\n",
      "707                                 6.530607                           0.0   \n",
      "1354                                7.234158                           0.0   \n",
      "1355                                7.119325                           0.0   \n",
      "1356                                6.637383                           0.0   \n",
      "1357                                6.249012                           0.0   \n",
      "2592                                4.671465                           0.0   \n",
      "2593                                3.914861                           0.0   \n",
      "2810                                6.307746                           0.0   \n",
      "4157                                9.272130                           0.0   \n",
      "4158                                8.009416                           0.0   \n",
      "4159                               10.610192                           0.0   \n",
      "4161                               10.445860                           0.0   \n",
      "4165                                6.795214                           0.0   \n",
      "5037                                0.982103                           0.0   \n",
      "5136                               10.268410                           0.0   \n",
      "5397                                9.946745                           0.0   \n",
      "5491                                     NaN                           0.0   \n",
      "5492                                2.342006                           0.0   \n",
      "5561                                6.250471                           0.0   \n",
      "5562                                6.230412                           0.0   \n",
      "5563                                6.180422                           0.0   \n",
      "5942                                0.791542                           0.0   \n",
      "5943                                8.691474                           0.0   \n",
      "5944                               10.533492                           0.0   \n",
      "5945                               10.288788                           0.0   \n",
      "5949                                6.329851                           0.0   \n",
      "6130                                9.751090                           0.0   \n",
      "6131                                9.693294                           0.0   \n",
      "6820                                9.091929                           0.0   \n",
      "6927                                     NaN                           0.0   \n",
      "6928                                3.585647                           0.0   \n",
      "7074                                8.622195                           0.0   \n",
      "7075                                9.256101                           0.0   \n",
      "7076                                9.430565                           0.0   \n",
      "7077                                9.606662                           0.0   \n",
      "7331                                     NaN                           0.0   \n",
      "7587                                9.119654                           0.0   \n",
      "8224                                8.545464                           0.0   \n",
      "8225                                8.502417                           0.0   \n",
      "8226                                8.874624                           0.0   \n",
      "8227                                8.364934                           0.0   \n",
      "8228                                5.637620                           0.0   \n",
      "8597                                     NaN                           0.0   \n",
      "8879                                5.347334                           0.0   \n",
      "8880                                6.940058                           0.0   \n",
      "8948                                8.980590                           0.0   \n",
      "10186                                    NaN                           0.0   \n",
      "10416                                    NaN                           0.0   \n",
      "10430                              12.448879                           0.0   \n",
      "10448                               7.187065                           0.0   \n",
      "10449                               7.590975                           0.0   \n",
      "10468                              11.448085                           0.0   \n",
      "10469                              11.985265                           0.0   \n",
      "10876                               0.000000                           0.0   \n",
      "11709                               0.090132                           0.0   \n",
      "11710                               7.265347                           0.0   \n",
      "11939                               2.338291                           0.0   \n",
      "\n",
      "       secondary_cleaner.output.tail_sol  \\\n",
      "707                            10.651508   \n",
      "1354                           11.880836   \n",
      "1355                           11.783571   \n",
      "1356                           10.664451   \n",
      "1357                            9.578744   \n",
      "2592                            5.379891   \n",
      "2593                           10.285006   \n",
      "2810                           10.341535   \n",
      "4157                                 NaN   \n",
      "4158                            0.319432   \n",
      "4159                                 NaN   \n",
      "4161                            2.765470   \n",
      "4165                            2.582391   \n",
      "5037                            0.648390   \n",
      "5136                           11.048855   \n",
      "5397                            2.303106   \n",
      "5491                            5.273201   \n",
      "5492                            5.560214   \n",
      "5561                           13.164367   \n",
      "5562                           13.298677   \n",
      "5563                           11.578002   \n",
      "5942                            4.909769   \n",
      "5943                            1.211522   \n",
      "5944                            2.514154   \n",
      "5945                            8.798617   \n",
      "5949                            0.000000   \n",
      "6130                            9.597531   \n",
      "6131                            9.424996   \n",
      "6820                            6.062690   \n",
      "6927                            0.000000   \n",
      "6928                            0.000000   \n",
      "7074                            0.000000   \n",
      "7075                            0.000000   \n",
      "7076                            0.000000   \n",
      "7077                            0.000000   \n",
      "7331                                 NaN   \n",
      "7587                            0.000000   \n",
      "8224                            9.588534   \n",
      "8225                            9.032751   \n",
      "8226                            8.837989   \n",
      "8227                           10.433168   \n",
      "8228                            9.173924   \n",
      "8597                                 NaN   \n",
      "8879                            1.554628   \n",
      "8880                            0.000000   \n",
      "8948                            6.148417   \n",
      "10186                                NaN   \n",
      "10416                           0.000000   \n",
      "10430                           5.256022   \n",
      "10448                                NaN   \n",
      "10449                           1.449226   \n",
      "10468                           6.338903   \n",
      "10469                           6.243836   \n",
      "10876                                NaN   \n",
      "11709                           0.000000   \n",
      "11710                                NaN   \n",
      "11939                                NaN   \n",
      "\n",
      "       primary_cleaner.output.concentrate_sol  \n",
      "707                                 11.969464  \n",
      "1354                                10.754321  \n",
      "1355                                10.194141  \n",
      "1356                                10.291689  \n",
      "1357                                10.464946  \n",
      "2592                                 8.750579  \n",
      "2593                                 8.445747  \n",
      "2810                                 9.960048  \n",
      "4157                                 6.385551  \n",
      "4158                                 3.505131  \n",
      "4159                                 8.031979  \n",
      "4161                                11.765456  \n",
      "4165                                 8.072074  \n",
      "5037                                      NaN  \n",
      "5136                                14.509035  \n",
      "5397                                 3.263066  \n",
      "5491                                      NaN  \n",
      "5492                                      NaN  \n",
      "5561                                 8.262530  \n",
      "5562                                10.108790  \n",
      "5563                                 9.750407  \n",
      "5942                                 0.121220  \n",
      "5943                                 4.302209  \n",
      "5944                                 7.953031  \n",
      "5945                                 7.056899  \n",
      "5949                                      NaN  \n",
      "6130                                11.673988  \n",
      "6131                                11.731298  \n",
      "6820                                 6.804414  \n",
      "6927                                      NaN  \n",
      "6928                                      NaN  \n",
      "7074                                 6.460789  \n",
      "7075                                 7.727860  \n",
      "7076                                 7.936418  \n",
      "7077                                 8.386211  \n",
      "7331                                      NaN  \n",
      "7587                                12.420483  \n",
      "8224                                 2.829467  \n",
      "8225                                 2.785622  \n",
      "8226                                 4.131996  \n",
      "8227                                 2.611400  \n",
      "8228                                 1.170473  \n",
      "8597                                      NaN  \n",
      "8879                                      NaN  \n",
      "8880                                      NaN  \n",
      "8948                                 3.479431  \n",
      "10186                                     NaN  \n",
      "10416                                     NaN  \n",
      "10430                               10.027917  \n",
      "10448                                     NaN  \n",
      "10449                                3.118502  \n",
      "10468                                8.746563  \n",
      "10469                                9.735047  \n",
      "10876                                0.000000  \n",
      "11709                                     NaN  \n",
      "11710                                     NaN  \n",
      "11939                                2.807720  \n"
     ]
    }
   ],
   "source": [
    "# store values where the final output concentrate of all substances is 0 and display all columns\n",
    "zero_final_output = train[(train['final.output.concentrate_au'] == 0) & (train['final.output.concentrate_ag'] == 0) & (train['final.output.concentrate_pb'] == 0) & (train['final.output.concentrate_sol'] == 0)]\n",
    "\n",
    "# compare the the values of au, ag, pb, and sol throughout the process where the final output of all concentrations is 0\n",
    "print(zero_final_output[['final.output.recovery', 'final.output.concentrate_au', 'secondary_cleaner.output.tail_au', 'primary_cleaner.output.concentrate_au', 'rougher.input.feed_au', 'rougher.output.concentrate_au', 'final.output.concentrate_ag', 'secondary_cleaner.output.tail_ag', 'primary_cleaner.output.concentrate_ag', 'final.output.concentrate_pb', 'secondary_cleaner.output.tail_pb', 'primary_cleaner.output.concentrate_pb', 'final.output.concentrate_sol', 'secondary_cleaner.output.tail_sol', 'primary_cleaner.output.concentrate_sol']])"
   ]
  },
  {
   "cell_type": "markdown",
   "metadata": {},
   "source": [
    "These values largely don't make logical sense so we'll drop them from the training set and infer values to drop in the testing set that would represent a final total concentrate of 0."
   ]
  },
  {
   "cell_type": "code",
   "execution_count": 33,
   "metadata": {},
   "outputs": [],
   "source": [
    "# drop values from the training set where the final output concentrate of all substances is 0\n",
    "train = train.drop(zero_final_output.index)"
   ]
  },
  {
   "cell_type": "code",
   "execution_count": 34,
   "metadata": {},
   "outputs": [],
   "source": [
    "# get the rows in the testing set where the final output concentrate of all substances is 0\n",
    "zero_final_output_test = test_full[(test_full['final.output.concentrate_au'] == 0) & (test_full['final.output.concentrate_ag'] == 0) & (test_full['final.output.concentrate_pb'] == 0) & (test_full['final.output.concentrate_sol'] == 0)]\n",
    "\n",
    "# drop the rows from the testing set where the final output concentrate of all substances is 0 and the index exists in the test dataframe\n",
    "test = test.drop(test[test.index.isin(zero_final_output_test.index)].index)\n",
    "\n"
   ]
  },
  {
   "cell_type": "markdown",
   "metadata": {},
   "source": [
    "#### Fill in the remaining missing values in the training and testing sets"
   ]
  },
  {
   "cell_type": "code",
   "execution_count": 35,
   "metadata": {},
   "outputs": [],
   "source": [
    "# sort the training set by date\n",
    "train = train.sort_values('date')\n",
    "\n",
    "# fill the remaining missing values using the forward fill method\n",
    "train = train.ffill()\n",
    "\n",
    "# sort the testing set by date\n",
    "test = test.sort_values('date')\n",
    "\n",
    "# fill the remaining missing values using the forward fill method\n",
    "test = test.ffill()"
   ]
  },
  {
   "cell_type": "markdown",
   "metadata": {},
   "source": [
    "We can fill the remaining missing values in the training and testing sets using the forward fill method which will fill missing values of our features based on the value from the previous row. We know values are similar based on date of the extraction so once we sort our dataframe by date, the forward fill method is a reliable way to fill in these missing values since we have already cleaned up erroneous and placeholder values in both our training and testing datasets."
   ]
  },
  {
   "cell_type": "markdown",
   "metadata": {},
   "source": [
    "# Build the Model"
   ]
  },
  {
   "cell_type": "markdown",
   "metadata": {},
   "source": [
    "#### Remove Features That Don't Exist in the Testing Set from the Training Set"
   ]
  },
  {
   "cell_type": "code",
   "execution_count": 36,
   "metadata": {},
   "outputs": [
    {
     "name": "stdout",
     "output_type": "stream",
     "text": [
      "Index(['date', 'final.output.recovery', 'primary_cleaner.input.sulfate',\n",
      "       'primary_cleaner.input.depressant', 'primary_cleaner.input.feed_size',\n",
      "       'primary_cleaner.input.xanthate',\n",
      "       'primary_cleaner.state.floatbank8_a_air',\n",
      "       'primary_cleaner.state.floatbank8_a_level',\n",
      "       'primary_cleaner.state.floatbank8_b_air',\n",
      "       'primary_cleaner.state.floatbank8_b_level',\n",
      "       'primary_cleaner.state.floatbank8_c_air',\n",
      "       'primary_cleaner.state.floatbank8_c_level',\n",
      "       'primary_cleaner.state.floatbank8_d_air',\n",
      "       'primary_cleaner.state.floatbank8_d_level', 'rougher.input.feed_ag',\n",
      "       'rougher.input.feed_pb', 'rougher.input.feed_rate',\n",
      "       'rougher.input.feed_size', 'rougher.input.feed_sol',\n",
      "       'rougher.input.feed_au', 'rougher.input.floatbank10_sulfate',\n",
      "       'rougher.input.floatbank10_xanthate',\n",
      "       'rougher.input.floatbank11_sulfate',\n",
      "       'rougher.input.floatbank11_xanthate', 'rougher.output.recovery',\n",
      "       'rougher.state.floatbank10_a_air', 'rougher.state.floatbank10_a_level',\n",
      "       'rougher.state.floatbank10_b_air', 'rougher.state.floatbank10_b_level',\n",
      "       'rougher.state.floatbank10_c_air', 'rougher.state.floatbank10_c_level',\n",
      "       'rougher.state.floatbank10_d_air', 'rougher.state.floatbank10_d_level',\n",
      "       'rougher.state.floatbank10_e_air', 'rougher.state.floatbank10_e_level',\n",
      "       'rougher.state.floatbank10_f_air', 'rougher.state.floatbank10_f_level',\n",
      "       'secondary_cleaner.state.floatbank2_a_air',\n",
      "       'secondary_cleaner.state.floatbank2_a_level',\n",
      "       'secondary_cleaner.state.floatbank2_b_air',\n",
      "       'secondary_cleaner.state.floatbank2_b_level',\n",
      "       'secondary_cleaner.state.floatbank3_a_air',\n",
      "       'secondary_cleaner.state.floatbank3_a_level',\n",
      "       'secondary_cleaner.state.floatbank3_b_air',\n",
      "       'secondary_cleaner.state.floatbank3_b_level',\n",
      "       'secondary_cleaner.state.floatbank4_a_air',\n",
      "       'secondary_cleaner.state.floatbank4_a_level',\n",
      "       'secondary_cleaner.state.floatbank4_b_air',\n",
      "       'secondary_cleaner.state.floatbank4_b_level',\n",
      "       'secondary_cleaner.state.floatbank5_a_air',\n",
      "       'secondary_cleaner.state.floatbank5_a_level',\n",
      "       'secondary_cleaner.state.floatbank5_b_air',\n",
      "       'secondary_cleaner.state.floatbank5_b_level',\n",
      "       'secondary_cleaner.state.floatbank6_a_air',\n",
      "       'secondary_cleaner.state.floatbank6_a_level',\n",
      "       'rougher.output.recovery_calc'],\n",
      "      dtype='object')\n"
     ]
    }
   ],
   "source": [
    "# drop columns that aren't in the test set from the training set\n",
    "train_aligned = train.drop(columns=columns_not_in_test)\n",
    "\n",
    "print(train_aligned.columns)\n",
    "\n",
    "# drop the date feature from the training set\n",
    "train_aligned = train_aligned.drop(columns=['date','rougher.output.recovery_calc'], axis=1)\n"
   ]
  },
  {
   "cell_type": "markdown",
   "metadata": {},
   "source": [
    "We can only use the features that exist in the production (test) dataset to train our model with so we can drop columns that don't exist in the testing set from our training set features."
   ]
  },
  {
   "cell_type": "markdown",
   "metadata": {},
   "source": [
    "### Remove Outliers"
   ]
  },
  {
   "cell_type": "code",
   "execution_count": 37,
   "metadata": {},
   "outputs": [],
   "source": [
    "# salculate IQR-based outlier bounds on the training set\n",
    "def calculate_iqr_bounds(df):\n",
    "    bounds = {}\n",
    "    for column in df.columns:\n",
    "        Q1 = df[column].quantile(0.25)\n",
    "        Q3 = df[column].quantile(0.75)\n",
    "        IQR = Q3 - Q1\n",
    "        lower_bound = Q1 - 1.5 * IQR\n",
    "        upper_bound = Q3 + 1.5 * IQR\n",
    "        bounds[column] = (lower_bound, upper_bound)\n",
    "    return bounds\n",
    "\n",
    "# apply outlier bounds to filter rows\n",
    "def remove_outliers(df, bounds):\n",
    "    for column, (lower_bound, upper_bound) in bounds.items():\n",
    "        df = df[(df[column] >= lower_bound) & (df[column] <= upper_bound)]\n",
    "    return df\n",
    "\n",
    "# calculate IQR bounds from the training set\n",
    "iqr_bounds = calculate_iqr_bounds(train_aligned)\n",
    "\n",
    "# remove outliers from training set\n",
    "train = remove_outliers(train_aligned, iqr_bounds)\n",
    "\n",
    "# remove outliers from test set based on training set IQR bounds\n",
    "test = remove_outliers(test, iqr_bounds)\n"
   ]
  },
  {
   "cell_type": "markdown",
   "metadata": {},
   "source": [
    "#### Specify the features and target for the training and testing sets"
   ]
  },
  {
   "cell_type": "code",
   "execution_count": 38,
   "metadata": {},
   "outputs": [],
   "source": [
    "# set the train target to the rougher output recovery and final output recovery columns\n",
    "train_target = train[['rougher.output.recovery','final.output.recovery']]\n",
    "\n",
    "# drop the targets from train_features\n",
    "train_features = train.drop(columns=['rougher.output.recovery','final.output.recovery'], axis=1)\n",
    "\n",
    "# set the target to the final output recovery column and the features to the remaining columns\n",
    "test_target = test[['rougher.output.recovery','final.output.recovery']]\n",
    "test_features = test.drop(columns=['rougher.output.recovery','final.output.recovery','date'], axis=1)\n"
   ]
  },
  {
   "cell_type": "markdown",
   "metadata": {},
   "source": [
    "#### Scale the features"
   ]
  },
  {
   "cell_type": "code",
   "execution_count": 39,
   "metadata": {},
   "outputs": [
    {
     "name": "stdout",
     "output_type": "stream",
     "text": [
      "(3110, 52)\n",
      "(1088, 52)\n"
     ]
    }
   ],
   "source": [
    "# specify the numeric features\n",
    "features_numeric = list(test_features.columns)\n",
    "\n",
    "# initialize the standard scaler\n",
    "scaler = StandardScaler()\n",
    "\n",
    "# fit and transform the training and testing features using the standard scaler\n",
    "train_features_scaled = scaler.fit_transform(train_features[features_numeric])\n",
    "test_features_scaled = scaler.fit_transform(test_features[features_numeric])\n",
    "\n",
    "# convert the scaled features to dataframes\n",
    "train_features_scaled = pd.DataFrame(train_features_scaled, columns=features_numeric)\n",
    "test_features_scaled = pd.DataFrame(test_features_scaled, columns=features_numeric)\n",
    "\n",
    "# check the shape of the scaled features\n",
    "print(train_features_scaled.shape)\n",
    "print(test_features_scaled.shape)"
   ]
  },
  {
   "cell_type": "markdown",
   "metadata": {},
   "source": [
    "The testing set represents ~25% of the total rows in the training and testing set added together. This is an good relative ratio of data between our training and testing sets. "
   ]
  },
  {
   "cell_type": "markdown",
   "metadata": {},
   "source": [
    "#### Create a function to calculate the SMAPE"
   ]
  },
  {
   "cell_type": "code",
   "execution_count": 40,
   "metadata": {},
   "outputs": [],
   "source": [
    "# define a function to calculate the symmetric mean absolute percentage error (smape)\n",
    "def smape(target, prediction):\n",
    "    return 100/len(target) * np.sum(2 * np.abs(prediction - target) / (np.abs(target) + np.abs(prediction)))\n"
   ]
  },
  {
   "cell_type": "markdown",
   "metadata": {},
   "source": [
    "The symmetric mean absolute percentage error (smape) is an accuracy measure based on percentage errors. It normalizes the absolute error by taking the absolute difference between the actual and predicted values' averages. It is symmetric because it is always non-negative and does change depending on whether the predicted values are lower or higher than the actual ones, and is hence scaled by the same factor regardless of the error direction.\n",
    "\n",
    "SMAPE can take values of 0% to 200% where 0% represents a perfect prediction capability and 200% represents the worst prediction capability. A score of 100% is also a relatively poor reflection of model performance--it means, on average, the predictions are just as far from the actual values as the actual values are from zero."
   ]
  },
  {
   "cell_type": "markdown",
   "metadata": {},
   "source": [
    "#### Build a Linear Regression Model"
   ]
  },
  {
   "cell_type": "code",
   "execution_count": 44,
   "metadata": {},
   "outputs": [
    {
     "name": "stdout",
     "output_type": "stream",
     "text": [
      "Cross Validation Linear Regression Final Weighted SMAPE Score: 8.29152254205303\n"
     ]
    }
   ],
   "source": [
    "# initialize model constructor\n",
    "lr_model = LinearRegression() \n",
    "\n",
    "# define the smape scorer\n",
    "smape_scorer = make_scorer(smape, greater_is_better=False)\n",
    "\n",
    "# initialize the scores dictionary\n",
    "scores = {}\n",
    "positive_scores = {}\n",
    "\n",
    "# calculate the cross validation scores for the linear regression model\n",
    "for target_column in ['rougher.output.recovery', 'final.output.recovery']:\n",
    "    scores[target_column] = cross_val_score(lr_model, train_features_scaled, train_target[target_column], cv=5, scoring=smape_scorer)\n",
    "    positive_scores[target_column] = -scores[target_column]\n",
    "\n",
    "# calculate and print the final smape score\n",
    "final_score = (positive_scores['rougher.output.recovery'].mean() * 0.25) + (positive_scores['final.output.recovery'].mean() * 0.75)\n",
    "print('Cross Validation Linear Regression Final Weighted SMAPE Score:', final_score)"
   ]
  },
  {
   "cell_type": "markdown",
   "metadata": {},
   "source": [
    "#### Build a Decision Tree Regressor Model"
   ]
  },
  {
   "cell_type": "code",
   "execution_count": 45,
   "metadata": {},
   "outputs": [
    {
     "name": "stdout",
     "output_type": "stream",
     "text": [
      "Cross-validation Decision Tree Regressor Final Weighted SMAPE Score with depth 1: 7.1320316269592325\n",
      "Cross-validation Decision Tree Regressor Final Weighted SMAPE Score with depth 2: 6.665816911421026\n",
      "Cross-validation Decision Tree Regressor Final Weighted SMAPE Score with depth 3: 7.1193157406433\n",
      "Cross-validation Decision Tree Regressor Final Weighted SMAPE Score with depth 4: 7.24492824495611\n",
      "Cross-validation Decision Tree Regressor Final Weighted SMAPE Score with depth 5: 7.974643574395582\n",
      "Cross-validation Decision Tree Regressor Final Weighted SMAPE Score with depth 6: 8.142522202826884\n",
      "Cross-validation Decision Tree Regressor Final Weighted SMAPE Score with depth 7: 8.04701393203293\n",
      "Cross-validation Decision Tree Regressor Final Weighted SMAPE Score with depth 8: 8.572068048373435\n",
      "Cross-validation Decision Tree Regressor Final Weighted SMAPE Score with depth 9: 8.892145247221293\n",
      "Cross-validation Decision Tree Regressor Final Weighted SMAPE Score with depth 10: 9.004426610244883\n",
      "Cross-validation Decision Tree Regressor Final Weighted SMAPE Score with depth 11: 8.901404392659604\n",
      "Cross-validation Decision Tree Regressor Final Weighted SMAPE Score with depth 12: 8.941964817126596\n",
      "Cross-validation Decision Tree Regressor Final Weighted SMAPE Score with depth 13: 8.855103556308764\n",
      "Cross-validation Decision Tree Regressor Final Weighted SMAPE Score with depth 14: 9.029584184085676\n"
     ]
    }
   ],
   "source": [
    "# choose hyperparameter range\n",
    "depth_range = range(1, 15)  \n",
    "\n",
    "# loop through the hyperparameter range and calculate the final smape score for each depth\n",
    "for depth in depth_range:\n",
    "    # initialize model constructor\n",
    "    dt_model = DecisionTreeRegressor(max_depth=depth, random_state=12345) \n",
    "    \n",
    "    # initialize the scores dictionary\n",
    "    scores = {}\n",
    "    positive_scores = {}\n",
    "    \n",
    "    # calculate the cross validation scores for the decision tree model\n",
    "    for target_column in ['rougher.output.recovery', 'final.output.recovery']:\n",
    "        scores[target_column] = cross_val_score(dt_model, train_features_scaled, train_target[target_column], cv=5, scoring=smape_scorer)\n",
    "        positive_scores[target_column] = -scores[target_column]\n",
    "    \n",
    "    # calculate and print the final smape score\n",
    "    final_score = (positive_scores['rougher.output.recovery'].mean() * 0.25) + (positive_scores['final.output.recovery'].mean() * 0.75)\n",
    "    print(f'Cross-validation Decision Tree Regressor Final Weighted SMAPE Score with depth {depth}:', final_score)"
   ]
  },
  {
   "cell_type": "markdown",
   "metadata": {},
   "source": [
    "#### Build a Random Forest Regressor Model"
   ]
  },
  {
   "cell_type": "code",
   "execution_count": 46,
   "metadata": {},
   "outputs": [
    {
     "name": "stdout",
     "output_type": "stream",
     "text": [
      "Cross-validation Random Forest Regressor Final Weighted SMAPE Score with depth 1 and 30 n_estimators: 7.042248056677602\n",
      "Cross-validation Random Forest Regressor Final Weighted SMAPE Score with depth 2 and 30 n_estimators: 6.477902383396611\n",
      "Cross-validation Random Forest Regressor Final Weighted SMAPE Score with depth 3 and 30 n_estimators: 6.497134165546894\n",
      "Cross-validation Random Forest Regressor Final Weighted SMAPE Score with depth 4 and 30 n_estimators: 6.404064173114712\n",
      "Cross-validation Random Forest Regressor Final Weighted SMAPE Score with depth 5 and 30 n_estimators: 6.414025513021418\n",
      "Cross-validation Random Forest Regressor Final Weighted SMAPE Score with depth 6 and 30 n_estimators: 6.387695518535898\n",
      "Cross-validation Random Forest Regressor Final Weighted SMAPE Score with depth 7 and 30 n_estimators: 6.343958991820569\n",
      "Cross-validation Random Forest Regressor Final Weighted SMAPE Score with depth 8 and 30 n_estimators: 6.336267683337242\n",
      "Cross-validation Random Forest Regressor Final Weighted SMAPE Score with depth 9 and 30 n_estimators: 6.336872660376702\n",
      "Cross-validation Random Forest Regressor Final Weighted SMAPE Score with depth 1 and 50 n_estimators: 7.061482739564402\n",
      "Cross-validation Random Forest Regressor Final Weighted SMAPE Score with depth 2 and 50 n_estimators: 6.495521924110493\n",
      "Cross-validation Random Forest Regressor Final Weighted SMAPE Score with depth 3 and 50 n_estimators: 6.520992050932543\n",
      "Cross-validation Random Forest Regressor Final Weighted SMAPE Score with depth 4 and 50 n_estimators: 6.402349726896636\n",
      "Cross-validation Random Forest Regressor Final Weighted SMAPE Score with depth 5 and 50 n_estimators: 6.402054423109101\n",
      "Cross-validation Random Forest Regressor Final Weighted SMAPE Score with depth 6 and 50 n_estimators: 6.397195717828431\n",
      "Cross-validation Random Forest Regressor Final Weighted SMAPE Score with depth 7 and 50 n_estimators: 6.376224709720272\n",
      "Cross-validation Random Forest Regressor Final Weighted SMAPE Score with depth 8 and 50 n_estimators: 6.370845767063262\n",
      "Cross-validation Random Forest Regressor Final Weighted SMAPE Score with depth 9 and 50 n_estimators: 6.3854277523580265\n",
      "Cross-validation Random Forest Regressor Final Weighted SMAPE Score with depth 1 and 100 n_estimators: 7.053717283778832\n",
      "Cross-validation Random Forest Regressor Final Weighted SMAPE Score with depth 2 and 100 n_estimators: 6.497260367278895\n",
      "Cross-validation Random Forest Regressor Final Weighted SMAPE Score with depth 3 and 100 n_estimators: 6.515729979459332\n",
      "Cross-validation Random Forest Regressor Final Weighted SMAPE Score with depth 4 and 100 n_estimators: 6.4018234340493105\n",
      "Cross-validation Random Forest Regressor Final Weighted SMAPE Score with depth 5 and 100 n_estimators: 6.393844793231691\n",
      "Cross-validation Random Forest Regressor Final Weighted SMAPE Score with depth 6 and 100 n_estimators: 6.374137392383816\n",
      "Cross-validation Random Forest Regressor Final Weighted SMAPE Score with depth 7 and 100 n_estimators: 6.363049354906687\n",
      "Cross-validation Random Forest Regressor Final Weighted SMAPE Score with depth 8 and 100 n_estimators: 6.359250453251141\n",
      "Cross-validation Random Forest Regressor Final Weighted SMAPE Score with depth 9 and 100 n_estimators: 6.376929484950962\n"
     ]
    }
   ],
   "source": [
    "# loop through the hyperparameter range\n",
    "for est in [30, 50, 100]:\n",
    "    for depth in range (1, 10):\n",
    "        # initialize model constructor\n",
    "        rf_model = RandomForestRegressor(random_state=12345, n_estimators=est, max_depth=depth)\n",
    "        \n",
    "        # initialize the scores dictionary\n",
    "        scores = {}\n",
    "        positive_scores = {}\n",
    "\n",
    "        # specify the target colums to loop through\n",
    "        target_columns = ['rougher.output.recovery', 'final.output.recovery']\n",
    "\n",
    "        # loop through each target column and calculate the scores\n",
    "        for target_column in target_columns:\n",
    "            scores[target_column] = cross_val_score(rf_model, train_features_scaled, train_target[target_column], cv=5, scoring=smape_scorer)\n",
    "            positive_scores[target_column] = -scores[target_column]\n",
    "        \n",
    "        # calculate and print the final weighted smape score for each depth and n_estimators combination\n",
    "        final_score = (positive_scores['rougher.output.recovery'].mean() * 0.25) + (positive_scores['final.output.recovery'].mean() * 0.75)\n",
    "        print(f'Cross-validation Random Forest Regressor Final Weighted SMAPE Score with depth {depth} and {est} n_estimators:', final_score)\n"
   ]
  },
  {
   "cell_type": "markdown",
   "metadata": {},
   "source": [
    "#### Test the Best Model with the Test Set"
   ]
  },
  {
   "cell_type": "code",
   "execution_count": 47,
   "metadata": {},
   "outputs": [
    {
     "name": "stdout",
     "output_type": "stream",
     "text": [
      "Testing Set Random Forest Regressor Final Weighted SMAPE Score: 9.342322333687115\n"
     ]
    }
   ],
   "source": [
    "# initialize the smape scores dictionary\n",
    "smape_values = {}\n",
    "\n",
    "# specify the target columns to loop through\n",
    "for target_column in target_columns:\n",
    "\n",
    "    # initialize the random forest regressor model\n",
    "    rf_model = RandomForestRegressor(random_state=12345, n_estimators=30, max_depth=8)\n",
    "\n",
    "    # fit the model to the training features and target\n",
    "    rf_model.fit(train_features_scaled, train_target[target_column])\n",
    "\n",
    "    # calculate the smape score for the target column\n",
    "    smape_values[target_column] = smape(test_target[target_column], rf_model.predict(test_features_scaled))\n",
    "    \n",
    "# calculate the final weighted smape score and print it\n",
    "final_score = (smape_values['rougher.output.recovery'].mean() * 0.25) + (smape_values['final.output.recovery'].mean() * 0.75)\n",
    "print(f'Testing Set Random Forest Regressor Final Weighted SMAPE Score: {final_score}')"
   ]
  },
  {
   "cell_type": "markdown",
   "metadata": {},
   "source": [
    "#### Apply a Common Sense Check on the Model's Performance (Baseline Comparison with Mean Prediction)"
   ]
  },
  {
   "cell_type": "markdown",
   "metadata": {},
   "source": [
    "##### Training Set Baseline Model"
   ]
  },
  {
   "cell_type": "code",
   "execution_count": 52,
   "metadata": {},
   "outputs": [
    {
     "name": "stdout",
     "output_type": "stream",
     "text": [
      "Random Forest Regressor Final SMAPE Score for the Sanity Check: 7.540372929061904\n"
     ]
    }
   ],
   "source": [
    "# initialize the smape scores and predictions dictionary\n",
    "smape_values = {}\n",
    "predictions = {}\n",
    "\n",
    "# specify the target columns to loop through\n",
    "for target_column in target_columns:\n",
    "    # create a series of the training set median values of the target column with the same index as the training set\n",
    "    predictions[target_column] = pd.Series(train_target[target_column].median(), index=train_target.index)\n",
    "\n",
    "    # calculate the smape score for the target column and the median-based predictions\n",
    "    smape_values[target_column] = smape(train_target[target_column], predictions[target_column])\n",
    "    \n",
    "# calculate the final weighted smape score and print it\n",
    "final_score = (smape_values['rougher.output.recovery'].mean() * 0.25) + (smape_values['final.output.recovery'].mean() * 0.75)\n",
    "print(f'Random Forest Regressor Final SMAPE Score for the Sanity Check: {final_score}')\n"
   ]
  },
  {
   "cell_type": "markdown",
   "metadata": {},
   "source": [
    "Our best model is the random forest regressor model with a max_depth hyperparameter value of 8 and a n_estimator hyperparameter value of 30.\n",
    "\n",
    "This model achieved a final weighted smape score of 6.33% for the training set (through cross-validation), which performed better than the constant or baseline model's score of 7.54% for the training set; we can confirm that our best performing model passes the performance common sense check."
   ]
  },
  {
   "cell_type": "markdown",
   "metadata": {},
   "source": [
    "##### Testing Set Baseline Model"
   ]
  },
  {
   "cell_type": "code",
   "execution_count": 50,
   "metadata": {},
   "outputs": [
    {
     "name": "stdout",
     "output_type": "stream",
     "text": [
      "Random Forest Regressor Final SMAPE Score for the Sanity Check: 9.939339966616599\n"
     ]
    }
   ],
   "source": [
    "# initialize the smape scores and predictions dictionary\n",
    "smape_values = {}\n",
    "predictions = {}\n",
    "\n",
    "# specify the target columns to loop through\n",
    "for target_column in target_columns:\n",
    "    # create a series of the training set median values of the target column with the same index as the test set\n",
    "    predictions[target_column] = pd.Series(train_target[target_column].median(), index=test_target.index)\n",
    "\n",
    "    # calculate the smape score for the target column and the median-based predictions\n",
    "    smape_values[target_column] = smape(test_target[target_column], predictions[target_column])\n",
    "    \n",
    "# calculate the final weighted smape score and print it\n",
    "final_score = (smape_values['rougher.output.recovery'].mean() * 0.25) + (smape_values['final.output.recovery'].mean() * 0.75)\n",
    "print(f'Random Forest Regressor Final SMAPE Score for the Sanity Check: {final_score}')\n"
   ]
  },
  {
   "cell_type": "markdown",
   "metadata": {},
   "source": [
    "We can also confirm that our best model performs better better on the testing set than our baseline model does.\n",
    "\n",
    "Our model's predictions achieved a final smape score of 9.34 while the constant value model (our sanity check) produced a final smape score of 9.93 and therefore also passes the performance common sense check."
   ]
  },
  {
   "cell_type": "markdown",
   "metadata": {},
   "source": [
    "# Project Conclusion"
   ]
  },
  {
   "cell_type": "markdown",
   "metadata": {},
   "source": [
    "The Random Forest Regressor model resulted in the best final SMAPE score based on our training set (cross-validated) data. After testing it on the test set, we achieved a final SMAPE score (25% of the SMAPE score of the rougher.output.recovery target and 75% of the SMAPE score of the final.output.recovery target) of 9.93%. We also confirmed that our final model performs better than a simple constant or baseline model for both the training and testing sets.\n",
    "\n",
    "Our final SMAPE score reflects a model that has a relatively low average error relative to the actual values, which indicates good predictive accuracy. It also indicates that the model's errors are reasonably balanced between underestimating and overestimating. Moving forward, Zyfra can leverage our machine learning model to optimize its gold extraction process and therefore optimize its profits through more efficient extraction and the elimination of unprofitable/costly process parameters."
   ]
  }
 ],
 "metadata": {
  "ExecuteTimeLog": [
   {
    "duration": 1426,
    "start_time": "2024-07-25T11:57:06.705Z"
   },
   {
    "duration": 956,
    "start_time": "2024-07-25T11:57:08.134Z"
   },
   {
    "duration": 97,
    "start_time": "2024-07-25T11:57:09.093Z"
   },
   {
    "duration": 164,
    "start_time": "2024-07-25T11:57:09.194Z"
   },
   {
    "duration": 262,
    "start_time": "2024-07-25T11:57:09.361Z"
   },
   {
    "duration": 8,
    "start_time": "2024-07-25T11:57:09.630Z"
   },
   {
    "duration": 15,
    "start_time": "2024-07-25T11:57:09.778Z"
   },
   {
    "duration": 14,
    "start_time": "2024-07-25T11:57:09.948Z"
   },
   {
    "duration": 15,
    "start_time": "2024-07-25T11:57:10.112Z"
   },
   {
    "duration": 6,
    "start_time": "2024-07-25T11:57:10.288Z"
   },
   {
    "duration": 6,
    "start_time": "2024-07-25T11:57:10.362Z"
   },
   {
    "duration": 640,
    "start_time": "2024-07-25T11:57:10.531Z"
   },
   {
    "duration": 623,
    "start_time": "2024-07-25T11:57:11.175Z"
   },
   {
    "duration": 844,
    "start_time": "2024-07-25T11:57:11.801Z"
   },
   {
    "duration": 8,
    "start_time": "2024-07-25T11:57:12.649Z"
   },
   {
    "duration": 5,
    "start_time": "2024-07-25T11:57:12.660Z"
   },
   {
    "duration": 10,
    "start_time": "2024-07-25T11:57:12.668Z"
   },
   {
    "duration": 5,
    "start_time": "2024-07-25T11:57:22.417Z"
   },
   {
    "duration": 317,
    "start_time": "2024-07-27T12:30:24.811Z"
   },
   {
    "duration": 5159,
    "start_time": "2024-07-27T12:30:43.996Z"
   },
   {
    "duration": 971,
    "start_time": "2024-07-27T12:30:49.168Z"
   },
   {
    "duration": 36,
    "start_time": "2024-07-27T12:30:50.142Z"
   },
   {
    "duration": 165,
    "start_time": "2024-07-27T12:30:50.183Z"
   },
   {
    "duration": 268,
    "start_time": "2024-07-27T12:30:50.352Z"
   },
   {
    "duration": 10,
    "start_time": "2024-07-27T12:30:50.623Z"
   },
   {
    "duration": 34,
    "start_time": "2024-07-27T12:30:50.637Z"
   },
   {
    "duration": 15,
    "start_time": "2024-07-27T12:30:50.674Z"
   },
   {
    "duration": 14,
    "start_time": "2024-07-27T12:30:50.692Z"
   },
   {
    "duration": 6,
    "start_time": "2024-07-27T12:30:50.709Z"
   },
   {
    "duration": 50,
    "start_time": "2024-07-27T12:30:50.718Z"
   },
   {
    "duration": 730,
    "start_time": "2024-07-27T12:30:50.771Z"
   },
   {
    "duration": 605,
    "start_time": "2024-07-27T12:30:51.504Z"
   },
   {
    "duration": 739,
    "start_time": "2024-07-27T12:30:52.116Z"
   },
   {
    "duration": 14,
    "start_time": "2024-07-27T12:30:52.859Z"
   },
   {
    "duration": 6,
    "start_time": "2024-07-27T12:30:52.876Z"
   },
   {
    "duration": 13,
    "start_time": "2024-07-27T12:30:52.886Z"
   },
   {
    "duration": 457,
    "start_time": "2024-07-27T12:30:52.903Z"
   },
   {
    "duration": 7,
    "start_time": "2024-07-27T12:30:53.363Z"
   },
   {
    "duration": 7,
    "start_time": "2024-07-27T12:30:53.373Z"
   },
   {
    "duration": 9,
    "start_time": "2024-07-27T12:30:53.383Z"
   },
   {
    "duration": 19,
    "start_time": "2024-07-27T12:30:53.396Z"
   },
   {
    "duration": 1409,
    "start_time": "2024-07-27T12:30:53.418Z"
   },
   {
    "duration": 0,
    "start_time": "2024-07-27T12:30:54.831Z"
   },
   {
    "duration": 0,
    "start_time": "2024-07-27T12:30:54.833Z"
   },
   {
    "duration": 0,
    "start_time": "2024-07-27T12:30:54.837Z"
   },
   {
    "duration": 0,
    "start_time": "2024-07-27T12:30:54.839Z"
   },
   {
    "duration": 0,
    "start_time": "2024-07-27T12:30:54.842Z"
   },
   {
    "duration": 0,
    "start_time": "2024-07-27T12:30:54.869Z"
   },
   {
    "duration": 0,
    "start_time": "2024-07-27T12:30:54.871Z"
   },
   {
    "duration": 0,
    "start_time": "2024-07-27T12:30:54.874Z"
   },
   {
    "duration": 0,
    "start_time": "2024-07-27T12:30:54.876Z"
   },
   {
    "duration": 0,
    "start_time": "2024-07-27T12:30:54.878Z"
   },
   {
    "duration": 0,
    "start_time": "2024-07-27T12:30:54.883Z"
   },
   {
    "duration": 0,
    "start_time": "2024-07-27T12:30:54.885Z"
   },
   {
    "duration": 0,
    "start_time": "2024-07-27T12:30:54.887Z"
   },
   {
    "duration": 0,
    "start_time": "2024-07-27T12:30:54.889Z"
   },
   {
    "duration": 0,
    "start_time": "2024-07-27T12:30:54.891Z"
   },
   {
    "duration": 0,
    "start_time": "2024-07-27T12:30:54.893Z"
   },
   {
    "duration": 0,
    "start_time": "2024-07-27T12:30:54.895Z"
   },
   {
    "duration": 0,
    "start_time": "2024-07-27T12:30:54.897Z"
   },
   {
    "duration": 0,
    "start_time": "2024-07-27T12:30:54.899Z"
   },
   {
    "duration": 85,
    "start_time": "2024-07-27T12:31:39.478Z"
   },
   {
    "duration": 86,
    "start_time": "2024-07-27T12:32:03.128Z"
   },
   {
    "duration": 88,
    "start_time": "2024-07-27T12:32:07.234Z"
   },
   {
    "duration": 40,
    "start_time": "2024-07-27T12:32:12.854Z"
   },
   {
    "duration": 8,
    "start_time": "2024-07-27T12:32:42.699Z"
   },
   {
    "duration": 174,
    "start_time": "2024-07-27T12:32:51.664Z"
   },
   {
    "duration": 1416,
    "start_time": "2024-07-27T12:33:40.051Z"
   },
   {
    "duration": 827,
    "start_time": "2024-07-27T12:33:41.471Z"
   },
   {
    "duration": 96,
    "start_time": "2024-07-27T12:33:42.301Z"
   },
   {
    "duration": 168,
    "start_time": "2024-07-27T12:33:42.401Z"
   },
   {
    "duration": 261,
    "start_time": "2024-07-27T12:33:42.572Z"
   },
   {
    "duration": 7,
    "start_time": "2024-07-27T12:33:42.836Z"
   },
   {
    "duration": 34,
    "start_time": "2024-07-27T12:33:42.846Z"
   },
   {
    "duration": 15,
    "start_time": "2024-07-27T12:33:42.884Z"
   },
   {
    "duration": 15,
    "start_time": "2024-07-27T12:33:42.902Z"
   },
   {
    "duration": 44,
    "start_time": "2024-07-27T12:33:42.924Z"
   },
   {
    "duration": 8,
    "start_time": "2024-07-27T12:33:42.971Z"
   },
   {
    "duration": 665,
    "start_time": "2024-07-27T12:33:42.983Z"
   },
   {
    "duration": 608,
    "start_time": "2024-07-27T12:33:43.651Z"
   },
   {
    "duration": 849,
    "start_time": "2024-07-27T12:33:44.267Z"
   },
   {
    "duration": 10,
    "start_time": "2024-07-27T12:33:45.119Z"
   },
   {
    "duration": 5,
    "start_time": "2024-07-27T12:33:45.132Z"
   },
   {
    "duration": 12,
    "start_time": "2024-07-27T12:33:45.167Z"
   },
   {
    "duration": 417,
    "start_time": "2024-07-27T12:33:45.182Z"
   },
   {
    "duration": 6,
    "start_time": "2024-07-27T12:33:45.602Z"
   },
   {
    "duration": 7,
    "start_time": "2024-07-27T12:33:45.611Z"
   },
   {
    "duration": 8,
    "start_time": "2024-07-27T12:33:45.623Z"
   },
   {
    "duration": 53,
    "start_time": "2024-07-27T12:33:45.634Z"
   },
   {
    "duration": 10,
    "start_time": "2024-07-27T12:33:45.690Z"
   },
   {
    "duration": 210,
    "start_time": "2024-07-27T12:33:45.704Z"
   },
   {
    "duration": 24,
    "start_time": "2024-07-27T12:33:45.918Z"
   },
   {
    "duration": 1156,
    "start_time": "2024-07-27T12:33:45.969Z"
   },
   {
    "duration": 4130,
    "start_time": "2024-07-27T12:33:47.128Z"
   },
   {
    "duration": 38,
    "start_time": "2024-07-27T12:33:51.269Z"
   },
   {
    "duration": 1310,
    "start_time": "2024-07-27T12:33:51.310Z"
   },
   {
    "duration": 0,
    "start_time": "2024-07-27T12:33:52.623Z"
   },
   {
    "duration": 0,
    "start_time": "2024-07-27T12:33:52.625Z"
   },
   {
    "duration": 0,
    "start_time": "2024-07-27T12:33:52.627Z"
   },
   {
    "duration": 0,
    "start_time": "2024-07-27T12:33:52.629Z"
   },
   {
    "duration": 0,
    "start_time": "2024-07-27T12:33:52.631Z"
   },
   {
    "duration": 0,
    "start_time": "2024-07-27T12:33:52.633Z"
   },
   {
    "duration": 0,
    "start_time": "2024-07-27T12:33:52.635Z"
   },
   {
    "duration": 0,
    "start_time": "2024-07-27T12:33:52.638Z"
   },
   {
    "duration": 0,
    "start_time": "2024-07-27T12:33:52.668Z"
   }
  ],
  "kernelspec": {
   "display_name": "Python (env10)",
   "language": "python",
   "name": ".venv10"
  },
  "language_info": {
   "codemirror_mode": {
    "name": "ipython",
    "version": 3
   },
   "file_extension": ".py",
   "mimetype": "text/x-python",
   "name": "python",
   "nbconvert_exporter": "python",
   "pygments_lexer": "ipython3",
   "version": "3.12.2"
  },
  "toc": {
   "base_numbering": 1,
   "nav_menu": {},
   "number_sections": true,
   "sideBar": true,
   "skip_h1_title": true,
   "title_cell": "Table of Contents",
   "title_sidebar": "Contents",
   "toc_cell": false,
   "toc_position": {},
   "toc_section_display": true,
   "toc_window_display": false
  }
 },
 "nbformat": 4,
 "nbformat_minor": 2
}
