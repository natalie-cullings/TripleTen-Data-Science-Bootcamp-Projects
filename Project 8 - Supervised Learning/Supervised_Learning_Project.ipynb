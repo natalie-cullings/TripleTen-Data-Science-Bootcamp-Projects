{
 "cells": [
  {
   "cell_type": "markdown",
   "metadata": {},
   "source": [
    "# Project Overview\n",
    "\n",
    "Beta Bank customers are leaving the bank little by little, chipping away every month. The bankers have figured out that it’s cheaper to save the existing customers rather than to attract new ones.\n",
    "\n",
    "We need to predict whether a customer will leave the bank soon. We have the data on clients’ past behavior and termination of contracts with the bank."
   ]
  },
  {
   "cell_type": "markdown",
   "metadata": {},
   "source": [
    "### Project Goal\n",
    "\n",
    "Build a model with the maximum possible F1 score. The model's F1 score for the test set must be at least 0.59. \n",
    "\n",
    "Additionally, we will compare the AUC-ROC metric to the F1 score and interpret the comparison."
   ]
  },
  {
   "cell_type": "markdown",
   "metadata": {},
   "source": [
    "### Data Description\n",
    "Here\\'s an overview of the fields in the dataset:\n",
    "- Features\n",
    "    - RowNumber — the data string index\n",
    "    - CustomerId — the unique customer identifier\n",
    "    - Surname — the surname of the customer\n",
    "    - CreditScore — the credit score of the customer\n",
    "    - Geography — the customer's country of residence\n",
    "    - Gender — the customer's gender\n",
    "    - Age — the customer's age\n",
    "    - Tenure — the period of maturation for a customer’s fixed deposit (years)\n",
    "    - Balance — the customer's account balance\n",
    "    - NumOfProducts — the number of banking products used by the customer\n",
    "    - HasCrCard — whether or not the customer has a credit card\n",
    "    - IsActiveMember — whether or not the customer is active\n",
    "    - EstimatedSalary — the customer's estimated salary\n",
    "- Target\n",
    "    - Exited — whether or not the сustomer has left the bank"
   ]
  },
  {
   "cell_type": "markdown",
   "metadata": {},
   "source": [
    "### Project Plan\n",
    "\n",
    "1. Import the necessary libraries for the project.\n",
    "2. Load and inspect the data set.\n",
    "3. Drop unnecessary columns and fill missing values in.\n",
    "4. Preprocess the data by encoding categorical variables.\n",
    "5. Define the features and target for the model.\n",
    "6. Study the class balance of the target.\n",
    "7. Split the source data into training, validation, and testing sets.\n",
    "8. Optimize the model's hyperparameters.\n",
    "9. Train and fit the model. Calculate its f1 score.\n",
    "10. Address the class imbalance, re-train and fit the model, and calculate the new f1 score.\n",
    "11. Calculate the score for the testing set.\n",
    "12. Calculate the AUC ROC score."
   ]
  },
  {
   "cell_type": "code",
   "execution_count": 1,
   "metadata": {},
   "outputs": [],
   "source": [
    "# import the necessary libraries\n",
    "import pandas as pd\n",
    "import numpy as np\n",
    "from matplotlib import pyplot as plt\n",
    "from sklearn.preprocessing import OrdinalEncoder\n",
    "from sklearn.model_selection import train_test_split\n",
    "from sklearn.ensemble import RandomForestClassifier\n",
    "from sklearn.utils import shuffle\n",
    "from sklearn.metrics import f1_score, mean_squared_error, precision_recall_curve, roc_curve, roc_auc_score"
   ]
  },
  {
   "cell_type": "markdown",
   "metadata": {},
   "source": [
    "### Load and Inspect the Data Set"
   ]
  },
  {
   "cell_type": "code",
   "execution_count": 2,
   "metadata": {},
   "outputs": [
    {
     "name": "stdout",
     "output_type": "stream",
     "text": [
      "   RowNumber  CustomerId   Surname  CreditScore Geography  Gender  Age  \\\n",
      "0          1    15634602  Hargrave          619    France  Female   42   \n",
      "1          2    15647311      Hill          608     Spain  Female   41   \n",
      "2          3    15619304      Onio          502    France  Female   42   \n",
      "3          4    15701354      Boni          699    France  Female   39   \n",
      "4          5    15737888  Mitchell          850     Spain  Female   43   \n",
      "\n",
      "   Tenure    Balance  NumOfProducts  HasCrCard  IsActiveMember  \\\n",
      "0     2.0       0.00              1          1               1   \n",
      "1     1.0   83807.86              1          0               1   \n",
      "2     8.0  159660.80              3          1               0   \n",
      "3     1.0       0.00              2          0               0   \n",
      "4     2.0  125510.82              1          1               1   \n",
      "\n",
      "   EstimatedSalary  Exited  \n",
      "0        101348.88       1  \n",
      "1        112542.58       0  \n",
      "2        113931.57       1  \n",
      "3         93826.63       0  \n",
      "4         79084.10       0  \n",
      "<class 'pandas.core.frame.DataFrame'>\n",
      "RangeIndex: 10000 entries, 0 to 9999\n",
      "Data columns (total 14 columns):\n",
      " #   Column           Non-Null Count  Dtype  \n",
      "---  ------           --------------  -----  \n",
      " 0   RowNumber        10000 non-null  int64  \n",
      " 1   CustomerId       10000 non-null  int64  \n",
      " 2   Surname          10000 non-null  object \n",
      " 3   CreditScore      10000 non-null  int64  \n",
      " 4   Geography        10000 non-null  object \n",
      " 5   Gender           10000 non-null  object \n",
      " 6   Age              10000 non-null  int64  \n",
      " 7   Tenure           9091 non-null   float64\n",
      " 8   Balance          10000 non-null  float64\n",
      " 9   NumOfProducts    10000 non-null  int64  \n",
      " 10  HasCrCard        10000 non-null  int64  \n",
      " 11  IsActiveMember   10000 non-null  int64  \n",
      " 12  EstimatedSalary  10000 non-null  float64\n",
      " 13  Exited           10000 non-null  int64  \n",
      "dtypes: float64(3), int64(8), object(3)\n",
      "memory usage: 1.1+ MB\n",
      "\n",
      " None\n",
      "\n",
      "          RowNumber    CustomerId   CreditScore           Age       Tenure  \\\n",
      "count  10000.00000  1.000000e+04  10000.000000  10000.000000  9091.000000   \n",
      "mean    5000.50000  1.569094e+07    650.528800     38.921800     4.997690   \n",
      "std     2886.89568  7.193619e+04     96.653299     10.487806     2.894723   \n",
      "min        1.00000  1.556570e+07    350.000000     18.000000     0.000000   \n",
      "25%     2500.75000  1.562853e+07    584.000000     32.000000     2.000000   \n",
      "50%     5000.50000  1.569074e+07    652.000000     37.000000     5.000000   \n",
      "75%     7500.25000  1.575323e+07    718.000000     44.000000     7.000000   \n",
      "max    10000.00000  1.581569e+07    850.000000     92.000000    10.000000   \n",
      "\n",
      "             Balance  NumOfProducts    HasCrCard  IsActiveMember  \\\n",
      "count   10000.000000   10000.000000  10000.00000    10000.000000   \n",
      "mean    76485.889288       1.530200      0.70550        0.515100   \n",
      "std     62397.405202       0.581654      0.45584        0.499797   \n",
      "min         0.000000       1.000000      0.00000        0.000000   \n",
      "25%         0.000000       1.000000      0.00000        0.000000   \n",
      "50%     97198.540000       1.000000      1.00000        1.000000   \n",
      "75%    127644.240000       2.000000      1.00000        1.000000   \n",
      "max    250898.090000       4.000000      1.00000        1.000000   \n",
      "\n",
      "       EstimatedSalary        Exited  \n",
      "count     10000.000000  10000.000000  \n",
      "mean     100090.239881      0.203700  \n",
      "std       57510.492818      0.402769  \n",
      "min          11.580000      0.000000  \n",
      "25%       51002.110000      0.000000  \n",
      "50%      100193.915000      0.000000  \n",
      "75%      149388.247500      0.000000  \n",
      "max      199992.480000      1.000000  \n"
     ]
    }
   ],
   "source": [
    "# load the csv file to a dataframe named churn\n",
    "churn = pd.read_csv('/datasets/Churn.csv')\n",
    "\n",
    "# preview the first 5 rows of the dataframe\n",
    "print(churn.head())\n",
    "\n",
    "# get info about churn\n",
    "print('\\n',churn.info())\n",
    "\n",
    "# describe churn\n",
    "print('\\n',churn.describe())"
   ]
  },
  {
   "cell_type": "markdown",
   "metadata": {},
   "source": [
    "The RowNumber column doesn't serve any practical purpose so I will drop it from the dataframe. \n",
    "\n",
    "The CustomerId column also should be removed because it is just an identifier and will not inform the model in any meaningful way.\n",
    "\n",
    "Lastly, Surname should also be removed because it is also an identifier (although not unique) that will not inform the mdoel in any meaningful way; instead, it would add noise to the model and introduce high cardinality if attempted to be converted to numeric values for the model to use.\n",
    "\n",
    "Tenure is the only column with obvious missing values. I can logically fill those in based on the medin value of the Age column. (The mean and median for the Tenure column are just about equal so it doesn't really matter if we use the mean or median value to fill missing values in.)"
   ]
  },
  {
   "cell_type": "code",
   "execution_count": 3,
   "metadata": {},
   "outputs": [
    {
     "name": "stdout",
     "output_type": "stream",
     "text": [
      "0\n"
     ]
    }
   ],
   "source": [
    "# check for duplicates in churn\n",
    "print(churn.duplicated().sum())"
   ]
  },
  {
   "cell_type": "markdown",
   "metadata": {},
   "source": [
    "There are no explicit duplicate data in the dataframe."
   ]
  },
  {
   "cell_type": "markdown",
   "metadata": {},
   "source": [
    "### Drop Unneccesary Columns and Fill Missing Values"
   ]
  },
  {
   "cell_type": "code",
   "execution_count": 4,
   "metadata": {},
   "outputs": [],
   "source": [
    "# drop columns RowNumber and CustomerId\n",
    "churn = churn.drop(columns=['RowNumber', 'CustomerId', 'Surname'], axis=1)"
   ]
  },
  {
   "cell_type": "code",
   "execution_count": 5,
   "metadata": {},
   "outputs": [],
   "source": [
    "# replace missing Tenure values with the median tenure value based on age\n",
    "churn['Tenure'] = churn['Tenure'].fillna(0)"
   ]
  },
  {
   "cell_type": "code",
   "execution_count": 6,
   "metadata": {},
   "outputs": [
    {
     "name": "stdout",
     "output_type": "stream",
     "text": [
      "True\n"
     ]
    }
   ],
   "source": [
    "# check if converting the 'Tenure' column to int will cause any issues\n",
    "print(np.array_equal(churn['Tenure'], churn['Tenure'].astype(int)))\n",
    "\n",
    "# convert the 'Tenure' column to an int data type\n",
    "churn['Tenure'] = churn['Tenure'].astype(int)"
   ]
  },
  {
   "cell_type": "markdown",
   "metadata": {},
   "source": [
    "The 'Tenure' column can safely be converted to an integer data type without losing data."
   ]
  },
  {
   "cell_type": "markdown",
   "metadata": {},
   "source": [
    "### Data Preprocessing - Encode the Categorical Labels"
   ]
  },
  {
   "cell_type": "code",
   "execution_count": 7,
   "metadata": {},
   "outputs": [],
   "source": [
    "# initialize the label encoder\n",
    "encoder = OrdinalEncoder()\n",
    "\n",
    "# fit the encoder to the data, transform it, add column names, and store it in a new dataframe\n",
    "data_ordinal = pd.DataFrame(encoder.fit_transform(churn), \n",
    "                                columns=churn.columns)\n"
   ]
  },
  {
   "cell_type": "markdown",
   "metadata": {},
   "source": [
    "I chose to use label encoding to encode my categorical variables because label encoding works better for tree-based algorithms. There are no ordinal variables so I was able to use label encoding to encode dataframe's categorical variables all at once."
   ]
  },
  {
   "cell_type": "markdown",
   "metadata": {},
   "source": [
    "### Define the Target and Features for the Model"
   ]
  },
  {
   "cell_type": "code",
   "execution_count": 8,
   "metadata": {},
   "outputs": [],
   "source": [
    "# store the 'Exited' column as our target\n",
    "target = data_ordinal['Exited']\n",
    "\n",
    "# store the remaining columns as our features\n",
    "features = data_ordinal.drop('Exited', axis=1)"
   ]
  },
  {
   "cell_type": "markdown",
   "metadata": {},
   "source": [
    "I'm predicting whether a bank customer will churn or not so the 'Exited' column will be the target variable I am trying to predict (0 meaning the customer stayed a customer and 1 meaning the customer churned).\n",
    "\n",
    "The remaining features, our predictors, will be stored in a features variable."
   ]
  },
  {
   "cell_type": "markdown",
   "metadata": {},
   "source": [
    "### Study the Class Balance of the Target"
   ]
  },
  {
   "cell_type": "code",
   "execution_count": 9,
   "metadata": {},
   "outputs": [
    {
     "name": "stdout",
     "output_type": "stream",
     "text": [
      "0.0    0.7963\n",
      "1.0    0.2037\n",
      "Name: Exited, dtype: float64\n"
     ]
    },
    {
     "data": {
      "text/plain": [
       "<AxesSubplot:>"
      ]
     },
     "execution_count": 9,
     "metadata": {},
     "output_type": "execute_result"
    },
    {
     "data": {
      "image/png": "[encoded data removed]",
      "text/plain": [
       "<Figure size 640x480 with 1 Axes>"
      ]
     },
     "metadata": {},
     "output_type": "display_data"
    }
   ],
   "source": [
    "# store the relative frequencies of the target classes in the class_frequency variable then print it\n",
    "class_frequency = target.value_counts(normalize=True) \n",
    "print(class_frequency)\n",
    "\n",
    "# plot the relative frequencies of the target classes\n",
    "class_frequency.plot(kind='bar')"
   ]
  },
  {
   "cell_type": "markdown",
   "metadata": {},
   "source": [
    "There's quite a class imbalance in our target. About 80% of customers have never churned (Exited = 0) while about 20% have churned (Exited = 1)."
   ]
  },
  {
   "cell_type": "markdown",
   "metadata": {},
   "source": [
    "### Split the Source Data into Training, Validation, and Testing Sets"
   ]
  },
  {
   "cell_type": "code",
   "execution_count": 10,
   "metadata": {},
   "outputs": [],
   "source": [
    "# split the source data into a training set and validation/testing set\n",
    "features_train, features_valid_test, target_train, target_valid_test = train_test_split(features, target, test_size=0.4, random_state=12345)\n",
    "\n",
    "# split the validation/testing df into a separate validation set and testing set\n",
    "features_valid, features_test, target_valid, target_test = train_test_split(features_valid_test, target_valid_test, test_size=0.5, random_state=12345)"
   ]
  },
  {
   "cell_type": "markdown",
   "metadata": {},
   "source": [
    "The test set doesn't exist yet so the source data (df) has to be split into three parts: training, validation, and test. The sizes of the validation set and test set are usually equal so that gives us source data split in a 3:1:1 ratio.\n",
    "\n",
    "Consequently, I split the source data into two parts: 60% training data and 40% validation/testing data.\n",
    "Next, I split the validation/testing data in two equal 50% parts.\n",
    "Overall, this leaves me with a 3:1:1 ratio as desired with a majority of the data (a sufficient amount) available to train my models with."
   ]
  },
  {
   "cell_type": "markdown",
   "metadata": {},
   "source": [
    "### Optimize the Model's Hyperparameters"
   ]
  },
  {
   "cell_type": "code",
   "execution_count": 11,
   "metadata": {},
   "outputs": [
    {
     "name": "stdout",
     "output_type": "stream",
     "text": [
      "Accuracy of the best model on the validation set (n_estimators = 24, max_depth = 10): 0.8625\n"
     ]
    }
   ],
   "source": [
    "# inititialize the best_score, best_depth, and best_est variables\n",
    "best_score = 0\n",
    "best_est = 0\n",
    "best_depth = 0\n",
    "\n",
    "# loop through the n_estimators hyperparameter find the best score\n",
    "for est in range(1, 30):\n",
    "    for depth in range (1, 11): # choose hyperparameter range\n",
    "        model = RandomForestClassifier(random_state=12345, n_estimators=est, max_depth=depth) # set number of trees\n",
    "        model.fit(features_train, target_train) # train model on training set\n",
    "    score = model.score(features_valid, target_valid) # calculate accuracy score on validation set\n",
    "    if score > best_score:\n",
    "        best_score = score # save best accuracy score on validation set\n",
    "        best_est = est # save number of estimators corresponding to best accuracy score\n",
    "        best_depth = depth # save max depth corresponding to best accuracy score\n",
    "\n",
    "print(\"Accuracy of the best model on the validation set (n_estimators = {}, max_depth = {}): {}\".format(best_est, best_depth, best_score))"
   ]
  },
  {
   "cell_type": "markdown",
   "metadata": {},
   "source": [
    "Above, the best model (including its optimal values for the n_estimators and max_depth hyperparameters) was determined by looping through various combinations of its hyperparmeters and outputting these values for use in optimizing the model further below."
   ]
  },
  {
   "cell_type": "code",
   "execution_count": 12,
   "metadata": {},
   "outputs": [
    {
     "name": "stdout",
     "output_type": "stream",
     "text": [
      "F1: 0.5736434108527132\n"
     ]
    }
   ],
   "source": [
    "# initialize the  Random Forest Regressor model without taking the class imbalance into account\n",
    "model = RandomForestClassifier(random_state=12345, n_estimators=best_est, max_depth=best_depth)\n",
    "\n",
    "# train the model using the training set\n",
    "model.fit(features_train, target_train)\n",
    "\n",
    "# make predictions on the validation set\n",
    "predictions_valid = model.predict(features_valid)\n",
    "\n",
    "# calculate the f1 score and print it\n",
    "print('F1:', f1_score(target_valid, predictions_valid))\n"
   ]
  },
  {
   "cell_type": "markdown",
   "metadata": {},
   "source": [
    "The random forest classifier model doesn't produce a strong enough f1 score when we don't take the class imbalance into account. Let's take it into account and try again."
   ]
  },
  {
   "cell_type": "code",
   "execution_count": 13,
   "metadata": {},
   "outputs": [
    {
     "name": "stdout",
     "output_type": "stream",
     "text": [
      "0.6062052505966585\n"
     ]
    }
   ],
   "source": [
    "model = RandomForestClassifier(random_state=12345, n_estimators=best_est, max_depth=best_depth, class_weight='balanced') # initialize the model rameter set to 'balanced'\n",
    "model.fit(features_train, target_train) # fit the model to the downsampled training set\n",
    "predicted_valid = model.predict(features_valid) # make predictions on the validation set\n",
    "\n",
    "print(f1_score(target_valid, predicted_valid)) # calculate the f1 score and print "
   ]
  },
  {
   "cell_type": "markdown",
   "metadata": {},
   "source": [
    "Using the class_weight='balanced' hyperparameter, we instructed the RandomForestClassifier model to give equal weight to each target.\n",
    "\n",
    "Now our score is about 0.60, which beats our f1 score requirement, but it could still use some improvement.\n",
    "\n",
    "Let's see what the f1 score is after applying downsampling instead."
   ]
  },
  {
   "cell_type": "code",
   "execution_count": 14,
   "metadata": {},
   "outputs": [
    {
     "name": "stdout",
     "output_type": "stream",
     "text": [
      "0.6128654970760233\n"
     ]
    }
   ],
   "source": [
    "# define the (class) downsample function  \n",
    "def downsample(features, target, fraction):\n",
    "    features_zeros = features[target == 0] # store the features of the target class 0\n",
    "    features_ones = features[target == 1] # store the features of the target class 1\n",
    "    target_zeros = target[target == 0] # store the target class 0\n",
    "    target_ones = target[target == 1] # store the target class 1\n",
    "\n",
    "    features_downsampled = pd.concat(\n",
    "        [features_zeros.sample(frac=fraction, random_state=12345)]  # downsample the features with a class of 0 and concatenate the features data\n",
    "        + [features_ones]\n",
    "    )\n",
    "    target_downsampled = pd.concat(\n",
    "        [target_zeros.sample(frac=fraction, random_state=12345)] # downsample the target with a class of 0 and concatenate the target data\n",
    "        + [target_ones]\n",
    "    )\n",
    "\n",
    "    features_downsampled, target_downsampled = shuffle(\n",
    "        features_downsampled, target_downsampled, random_state=12345 # shuffle the features and target\n",
    "    )\n",
    "    \n",
    "    return features_downsampled, target_downsampled # return the downsampled features and target\n",
    "\n",
    "\n",
    "features_downsampled, target_downsampled = downsample( # downsample the training set's 1 class by a fraction\n",
    "    features_train, target_train, 0.40\n",
    ")\n",
    "\n",
    "model = RandomForestClassifier(random_state=12345, n_estimators=best_est, max_depth=best_depth) # initialize the model rameter set to 'balanced'\n",
    "model.fit(features_downsampled, target_downsampled) # fit the model to the downsampled training set\n",
    "predicted_valid = model.predict(features_valid) # make predictions on the validation set\n",
    "\n",
    "print(f1_score(target_valid, predicted_valid)) # calculate the f1 score and print it"
   ]
  },
  {
   "cell_type": "markdown",
   "metadata": {},
   "source": [
    "The f1 score still beats our model's required score of 0.59. \n",
    "\n",
    "We downsampled the training set's negative class (giving the model 40% of the negative class data it had to work with before) to help overcome the class imbalance (only ~20% of the target field had a positive class in the original dataset). This modification helped improve the model's f1 a little more than balancing the class weights.\n",
    "\n",
    "Let's see how this model translates to our testing set!"
   ]
  },
  {
   "cell_type": "markdown",
   "metadata": {},
   "source": [
    "### Evaluate the Model on the Testing Set"
   ]
  },
  {
   "cell_type": "code",
   "execution_count": 15,
   "metadata": {},
   "outputs": [
    {
     "name": "stdout",
     "output_type": "stream",
     "text": [
      "0.6013986013986014\n"
     ]
    }
   ],
   "source": [
    "predicted_test = model.predict(features_test) # make predictions on the test set\n",
    "\n",
    "print(f1_score(target_test, predicted_test)) # calculate the f1 score and print it"
   ]
  },
  {
   "cell_type": "markdown",
   "metadata": {},
   "source": [
    "Great news! The f1 score for the testing set is still above 0.59. Our model has officially surpassed the project's f1 score requirements."
   ]
  },
  {
   "cell_type": "code",
   "execution_count": 16,
   "metadata": {},
   "outputs": [
    {
     "data": {
      "image/png": "[encoded data removed]",
      "text/plain": [
       "<Figure size 640x480 with 1 Axes>"
      ]
     },
     "metadata": {},
     "output_type": "display_data"
    }
   ],
   "source": [
    "# predict the probabilities of the target classes\n",
    "probabilities_test = model.predict_proba(features_test)\n",
    "\n",
    "# calculate the probability of the positive class\n",
    "probabilities_one_test = probabilities_test[:, 1]\n",
    "\n",
    "# store the false positive rate, true positive rate, and thresholds of the ROC curve\n",
    "fpr, tpr, thresholds = roc_curve(target_test, probabilities_one_test)\n",
    "\n",
    "# plot the ROC curve\n",
    "plt.figure()\n",
    "plt.plot(fpr, tpr)\n",
    "plt.plot([0, 1], [0, 1], linestyle='--')\n",
    "plt.xlim([0.0, 1.0])\n",
    "plt.ylim([0.0, 1.0])\n",
    "plt.xlabel('False Positive Rate')\n",
    "plt.ylabel('True Positive Rate')\n",
    "plt.title('ROC curve')\n",
    "plt.show()"
   ]
  },
  {
   "cell_type": "code",
   "execution_count": 17,
   "metadata": {},
   "outputs": [
    {
     "name": "stdout",
     "output_type": "stream",
     "text": [
      "0.8472493932429981\n"
     ]
    }
   ],
   "source": [
    "# calculate the AUC-ROC score and store it in a variable\n",
    "auc_roc = roc_auc_score(target_test, probabilities_one_test)\n",
    "\n",
    "# print the AUC-ROC score\n",
    "print(auc_roc)"
   ]
  },
  {
   "cell_type": "markdown",
   "metadata": {},
   "source": [
    "The model produced an ROC AUC score of about 0.84, which is a good score.\n",
    "\n",
    "This score reflects how well a model can distinguish between positive or negative classes across all classification thresholds and ranges from 0 to 1 (a score of 0.5 would represent random guessing while a score of 1 would represent perfect performance.)"
   ]
  },
  {
   "cell_type": "markdown",
   "metadata": {},
   "source": [
    "# Project Conclusion"
   ]
  },
  {
   "cell_type": "markdown",
   "metadata": {},
   "source": [
    "Ultimately, the Random Forest Classifier model delivered the performance our project demanded. This model typically performs at a high degree of accuracy because it uses an ensemble of trees instead of just one, which also helps to avoid overfitting. However, as a drawback, it often runs slower compared to a Logistic Regression or Decision Tree model. \n",
    "\n",
    "Accuracy is important here because the bank must be able to predict customer churn, and therefore hopefully take the adequate action to prevent it, as accurately as possible. \n",
    "\n",
    "With an imbalanced dataset, such as this one, accuracy can be misleading because a model that accurately predicts the majority class can have a high accuracy score but still a low F1 score because is cannot predict the minority class well. \n",
    "\n",
    "The f1 score is a more balanced and informative score since it considers both precision (true positives out of predicted positives) and recall (true positive rate), which better measures the model's performance on the minority (positive) class--this is of particular importance in this project. The f1 score is based on a specific threshold whereas the AUC-ROC score considers the performance of the model across all possible thresholds and therefore provies a more robust evaluation of the model.\n"
   ]
  }
 ],
 "metadata": {
  "ExecuteTimeLog": [
   {
    "duration": 334,
    "start_time": "2024-06-28T11:58:04.158Z"
   },
   {
    "duration": 5015,
    "start_time": "2024-06-28T11:58:14.885Z"
   },
   {
    "duration": 94,
    "start_time": "2024-06-28T11:58:19.904Z"
   },
   {
    "duration": 13,
    "start_time": "2024-06-28T11:58:20.001Z"
   },
   {
    "duration": 15,
    "start_time": "2024-06-28T11:58:20.018Z"
   },
   {
    "duration": 6,
    "start_time": "2024-06-28T11:58:20.035Z"
   },
   {
    "duration": 5,
    "start_time": "2024-06-28T11:58:20.044Z"
   },
   {
    "duration": 32,
    "start_time": "2024-06-28T11:58:20.052Z"
   },
   {
    "duration": 45,
    "start_time": "2024-06-28T11:58:20.087Z"
   },
   {
    "duration": 203,
    "start_time": "2024-06-28T11:58:20.136Z"
   },
   {
    "duration": 10,
    "start_time": "2024-06-28T11:58:20.344Z"
   },
   {
    "duration": 25301,
    "start_time": "2024-06-28T11:58:20.358Z"
   },
   {
    "duration": 221,
    "start_time": "2024-06-28T11:58:45.662Z"
   },
   {
    "duration": 1150,
    "start_time": "2024-06-28T11:58:45.887Z"
   },
   {
    "duration": 21,
    "start_time": "2024-06-28T11:58:47.040Z"
   },
   {
    "duration": 221,
    "start_time": "2024-06-28T11:58:47.064Z"
   },
   {
    "duration": 9,
    "start_time": "2024-06-28T11:58:47.288Z"
   },
   {
    "duration": 8,
    "start_time": "2024-06-28T12:02:16.343Z"
   },
   {
    "duration": 6,
    "start_time": "2024-06-28T12:10:58.891Z"
   },
   {
    "duration": 1406,
    "start_time": "2024-06-28T12:11:50.458Z"
   },
   {
    "duration": 153,
    "start_time": "2024-06-28T12:11:51.867Z"
   },
   {
    "duration": 20,
    "start_time": "2024-06-28T12:11:52.024Z"
   },
   {
    "duration": 6,
    "start_time": "2024-06-28T12:11:52.051Z"
   },
   {
    "duration": 6,
    "start_time": "2024-06-28T12:11:52.061Z"
   },
   {
    "duration": 8,
    "start_time": "2024-06-28T12:11:52.071Z"
   },
   {
    "duration": 71,
    "start_time": "2024-06-28T12:11:52.083Z"
   },
   {
    "duration": 5,
    "start_time": "2024-06-28T12:11:52.157Z"
   },
   {
    "duration": 220,
    "start_time": "2024-06-28T12:11:52.165Z"
   },
   {
    "duration": 11,
    "start_time": "2024-06-28T12:11:52.390Z"
   },
   {
    "duration": 25150,
    "start_time": "2024-06-28T12:11:52.404Z"
   },
   {
    "duration": 238,
    "start_time": "2024-06-28T12:12:17.557Z"
   },
   {
    "duration": 1153,
    "start_time": "2024-06-28T12:12:17.798Z"
   },
   {
    "duration": 20,
    "start_time": "2024-06-28T12:12:18.953Z"
   },
   {
    "duration": 218,
    "start_time": "2024-06-28T12:12:18.976Z"
   },
   {
    "duration": 8,
    "start_time": "2024-06-28T12:12:19.197Z"
   },
   {
    "duration": 108,
    "start_time": "2024-06-28T12:18:19.435Z"
   },
   {
    "duration": 104,
    "start_time": "2024-06-28T12:19:25.986Z"
   },
   {
    "duration": 1440,
    "start_time": "2024-06-28T12:20:16.527Z"
   },
   {
    "duration": 145,
    "start_time": "2024-06-28T12:20:17.971Z"
   },
   {
    "duration": 21,
    "start_time": "2024-06-28T12:20:18.119Z"
   },
   {
    "duration": 6,
    "start_time": "2024-06-28T12:20:18.143Z"
   },
   {
    "duration": 5,
    "start_time": "2024-06-28T12:20:18.154Z"
   },
   {
    "duration": 7,
    "start_time": "2024-06-28T12:20:18.164Z"
   },
   {
    "duration": 68,
    "start_time": "2024-06-28T12:20:18.174Z"
   },
   {
    "duration": 6,
    "start_time": "2024-06-28T12:20:18.245Z"
   },
   {
    "duration": 213,
    "start_time": "2024-06-28T12:20:18.255Z"
   },
   {
    "duration": 14,
    "start_time": "2024-06-28T12:20:18.471Z"
   },
   {
    "duration": 24771,
    "start_time": "2024-06-28T12:20:18.492Z"
   },
   {
    "duration": 225,
    "start_time": "2024-06-28T12:20:43.267Z"
   },
   {
    "duration": 123,
    "start_time": "2024-06-28T12:20:43.495Z"
   },
   {
    "duration": 108,
    "start_time": "2024-06-28T12:20:43.630Z"
   },
   {
    "duration": 19,
    "start_time": "2024-06-28T12:20:43.741Z"
   },
   {
    "duration": 222,
    "start_time": "2024-06-28T12:20:43.762Z"
   },
   {
    "duration": 8,
    "start_time": "2024-06-28T12:20:43.988Z"
   },
   {
    "duration": 120,
    "start_time": "2024-06-28T12:21:18.875Z"
   },
   {
    "duration": 146,
    "start_time": "2024-06-28T12:21:21.778Z"
   },
   {
    "duration": 168,
    "start_time": "2024-06-28T12:21:24.646Z"
   },
   {
    "duration": 174,
    "start_time": "2024-06-28T12:21:33.728Z"
   },
   {
    "duration": 150,
    "start_time": "2024-06-28T12:21:37.036Z"
   },
   {
    "duration": 147,
    "start_time": "2024-06-28T12:21:44.055Z"
   },
   {
    "duration": 142,
    "start_time": "2024-06-28T12:21:48.167Z"
   },
   {
    "duration": 149,
    "start_time": "2024-06-28T12:21:51.781Z"
   },
   {
    "duration": 141,
    "start_time": "2024-06-28T12:21:54.441Z"
   },
   {
    "duration": 19,
    "start_time": "2024-06-28T12:25:42.199Z"
   },
   {
    "duration": 1389,
    "start_time": "2024-06-28T12:26:36.446Z"
   },
   {
    "duration": 148,
    "start_time": "2024-06-28T12:26:37.840Z"
   },
   {
    "duration": 14,
    "start_time": "2024-06-28T12:26:37.994Z"
   },
   {
    "duration": 6,
    "start_time": "2024-06-28T12:26:38.033Z"
   },
   {
    "duration": 5,
    "start_time": "2024-06-28T12:26:38.042Z"
   },
   {
    "duration": 6,
    "start_time": "2024-06-28T12:26:38.050Z"
   },
   {
    "duration": 29,
    "start_time": "2024-06-28T12:26:38.059Z"
   },
   {
    "duration": 42,
    "start_time": "2024-06-28T12:26:38.091Z"
   },
   {
    "duration": 225,
    "start_time": "2024-06-28T12:26:38.137Z"
   },
   {
    "duration": 11,
    "start_time": "2024-06-28T12:26:38.365Z"
   },
   {
    "duration": 24888,
    "start_time": "2024-06-28T12:26:38.378Z"
   },
   {
    "duration": 221,
    "start_time": "2024-06-28T12:27:03.270Z"
   },
   {
    "duration": 150,
    "start_time": "2024-06-28T12:27:03.496Z"
   },
   {
    "duration": 117,
    "start_time": "2024-06-28T12:27:03.649Z"
   },
   {
    "duration": 18,
    "start_time": "2024-06-28T12:27:03.769Z"
   },
   {
    "duration": 227,
    "start_time": "2024-06-28T12:27:03.790Z"
   },
   {
    "duration": 15,
    "start_time": "2024-06-28T12:27:04.021Z"
   },
   {
    "duration": 205,
    "start_time": "2024-06-28T12:31:46.395Z"
   },
   {
    "duration": 220,
    "start_time": "2024-06-28T12:32:33.199Z"
   },
   {
    "duration": 21,
    "start_time": "2024-06-28T12:32:43.058Z"
   },
   {
    "duration": 1414,
    "start_time": "2024-06-28T12:33:54.216Z"
   },
   {
    "duration": 150,
    "start_time": "2024-06-28T12:33:55.634Z"
   },
   {
    "duration": 13,
    "start_time": "2024-06-28T12:33:55.788Z"
   },
   {
    "duration": 6,
    "start_time": "2024-06-28T12:33:55.804Z"
   },
   {
    "duration": 5,
    "start_time": "2024-06-28T12:33:55.833Z"
   },
   {
    "duration": 7,
    "start_time": "2024-06-28T12:33:55.841Z"
   },
   {
    "duration": 31,
    "start_time": "2024-06-28T12:33:55.851Z"
   },
   {
    "duration": 6,
    "start_time": "2024-06-28T12:33:55.885Z"
   },
   {
    "duration": 212,
    "start_time": "2024-06-28T12:33:55.932Z"
   },
   {
    "duration": 11,
    "start_time": "2024-06-28T12:33:56.147Z"
   },
   {
    "duration": 24650,
    "start_time": "2024-06-28T12:33:56.160Z"
   },
   {
    "duration": 219,
    "start_time": "2024-06-28T12:34:20.813Z"
   },
   {
    "duration": 222,
    "start_time": "2024-06-28T12:34:21.034Z"
   },
   {
    "duration": 147,
    "start_time": "2024-06-28T12:34:21.262Z"
   },
   {
    "duration": 27,
    "start_time": "2024-06-28T12:34:21.412Z"
   },
   {
    "duration": 217,
    "start_time": "2024-06-28T12:34:21.442Z"
   },
   {
    "duration": 7,
    "start_time": "2024-06-28T12:34:21.662Z"
   },
   {
    "duration": 158,
    "start_time": "2024-06-28T12:36:40.103Z"
   },
   {
    "duration": 105,
    "start_time": "2024-06-28T12:36:50.079Z"
   },
   {
    "duration": 158,
    "start_time": "2024-06-28T12:36:53.359Z"
   },
   {
    "duration": 163,
    "start_time": "2024-06-28T12:36:56.360Z"
   },
   {
    "duration": 138,
    "start_time": "2024-06-28T12:36:59.634Z"
   },
   {
    "duration": 120,
    "start_time": "2024-06-28T12:37:07.319Z"
   },
   {
    "duration": 19,
    "start_time": "2024-06-28T12:37:14.342Z"
   },
   {
    "duration": 25,
    "start_time": "2024-06-28T12:37:25.589Z"
   },
   {
    "duration": 225,
    "start_time": "2024-06-28T12:38:10.275Z"
   },
   {
    "duration": 113,
    "start_time": "2024-06-28T12:38:20.181Z"
   },
   {
    "duration": 180,
    "start_time": "2024-06-28T12:38:24.096Z"
   },
   {
    "duration": 130,
    "start_time": "2024-06-28T12:38:27.088Z"
   },
   {
    "duration": 143,
    "start_time": "2024-06-28T12:38:30.897Z"
   },
   {
    "duration": 150,
    "start_time": "2024-06-28T12:38:34.215Z"
   },
   {
    "duration": 140,
    "start_time": "2024-06-28T12:38:37.055Z"
   },
   {
    "duration": 18,
    "start_time": "2024-06-28T12:38:43.404Z"
   },
   {
    "duration": 151,
    "start_time": "2024-06-28T12:38:48.471Z"
   },
   {
    "duration": 18,
    "start_time": "2024-06-28T12:38:53.185Z"
   },
   {
    "duration": 144,
    "start_time": "2024-06-28T12:38:56.787Z"
   },
   {
    "duration": 19,
    "start_time": "2024-06-28T12:39:02.762Z"
   },
   {
    "duration": 168,
    "start_time": "2024-06-28T12:39:09.409Z"
   },
   {
    "duration": 24,
    "start_time": "2024-06-28T12:39:12.366Z"
   },
   {
    "duration": 18,
    "start_time": "2024-06-28T12:41:14.902Z"
   },
   {
    "duration": 195,
    "start_time": "2024-06-28T12:41:16.473Z"
   },
   {
    "duration": 6,
    "start_time": "2024-06-28T12:41:56.029Z"
   },
   {
    "duration": 6,
    "start_time": "2024-06-28T12:41:59.967Z"
   },
   {
    "duration": 1424,
    "start_time": "2024-06-28T12:44:57.023Z"
   },
   {
    "duration": 146,
    "start_time": "2024-06-28T12:44:58.451Z"
   },
   {
    "duration": 13,
    "start_time": "2024-06-28T12:44:58.601Z"
   },
   {
    "duration": 6,
    "start_time": "2024-06-28T12:44:58.632Z"
   },
   {
    "duration": 5,
    "start_time": "2024-06-28T12:44:58.641Z"
   },
   {
    "duration": 8,
    "start_time": "2024-06-28T12:44:58.648Z"
   },
   {
    "duration": 31,
    "start_time": "2024-06-28T12:44:58.659Z"
   },
   {
    "duration": 42,
    "start_time": "2024-06-28T12:44:58.693Z"
   },
   {
    "duration": 213,
    "start_time": "2024-06-28T12:44:58.739Z"
   },
   {
    "duration": 11,
    "start_time": "2024-06-28T12:44:58.958Z"
   },
   {
    "duration": 25275,
    "start_time": "2024-06-28T12:44:58.972Z"
   },
   {
    "duration": 228,
    "start_time": "2024-06-28T12:45:24.250Z"
   },
   {
    "duration": 241,
    "start_time": "2024-06-28T12:45:24.482Z"
   },
   {
    "duration": 165,
    "start_time": "2024-06-28T12:45:24.731Z"
   },
   {
    "duration": 34,
    "start_time": "2024-06-28T12:45:24.899Z"
   },
   {
    "duration": 233,
    "start_time": "2024-06-28T12:45:24.936Z"
   },
   {
    "duration": 10,
    "start_time": "2024-06-28T12:45:25.175Z"
   },
   {
    "duration": 1389,
    "start_time": "2024-06-28T12:45:37.295Z"
   },
   {
    "duration": 147,
    "start_time": "2024-06-28T12:45:38.688Z"
   },
   {
    "duration": 13,
    "start_time": "2024-06-28T12:45:38.838Z"
   },
   {
    "duration": 6,
    "start_time": "2024-06-28T12:45:38.856Z"
   },
   {
    "duration": 5,
    "start_time": "2024-06-28T12:45:38.865Z"
   },
   {
    "duration": 7,
    "start_time": "2024-06-28T12:45:38.874Z"
   },
   {
    "duration": 72,
    "start_time": "2024-06-28T12:45:38.885Z"
   },
   {
    "duration": 5,
    "start_time": "2024-06-28T12:45:38.960Z"
   },
   {
    "duration": 241,
    "start_time": "2024-06-28T12:45:38.969Z"
   },
   {
    "duration": 20,
    "start_time": "2024-06-28T12:45:39.216Z"
   },
   {
    "duration": 24586,
    "start_time": "2024-06-28T12:45:39.239Z"
   },
   {
    "duration": 218,
    "start_time": "2024-06-28T12:46:03.831Z"
   },
   {
    "duration": 222,
    "start_time": "2024-06-28T12:46:04.052Z"
   },
   {
    "duration": 156,
    "start_time": "2024-06-28T12:46:04.277Z"
   },
   {
    "duration": 19,
    "start_time": "2024-06-28T12:46:04.436Z"
   },
   {
    "duration": 223,
    "start_time": "2024-06-28T12:46:04.459Z"
   },
   {
    "duration": 10,
    "start_time": "2024-06-28T12:46:04.685Z"
   }
  ],
  "kernelspec": {
   "display_name": "Python 3 (ipykernel)",
   "language": "python",
   "name": "python3"
  },
  "language_info": {
   "codemirror_mode": {
    "name": "ipython",
    "version": 3
   },
   "file_extension": ".py",
   "mimetype": "text/x-python",
   "name": "python",
   "nbconvert_exporter": "python",
   "pygments_lexer": "ipython3",
   "version": "3.9.19"
  },
  "toc": {
   "base_numbering": 1,
   "nav_menu": {},
   "number_sections": true,
   "sideBar": true,
   "skip_h1_title": true,
   "title_cell": "Table of Contents",
   "title_sidebar": "Contents",
   "toc_cell": false,
   "toc_position": {},
   "toc_section_display": true,
   "toc_window_display": false
  }
 },
 "nbformat": 4,
 "nbformat_minor": 2
}
