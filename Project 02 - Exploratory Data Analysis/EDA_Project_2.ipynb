{
 "cells": [
  {
   "cell_type": "markdown",
   "id": "dfb4dc86",
   "metadata": {},
   "source": [
    "# Project Introduction\n",
    "\n",
    "This objective of this project is to uncover insights into the shopping habits of Instacart customers. It is an explotatory data analysis (EDA) that I conducted as part of my coursework in TripleTen's Data Science Bootcamp Program.\n",
    "\n",
    "These data sources were originally published by Instacart on Kaggle for a public competition. A description of the data sources this project utilizes is provided below:\n",
    "\n",
    "**Orders**\n",
    "*instacart_orders.csv: each row corresponds to one order on the Instacart app*\n",
    "- 'order_id': ID number that uniquely identifies each order\n",
    "- 'user_id': ID number that uniquely identifies each customer account\n",
    "- 'order_number': the number of times this customer has placed an order\n",
    "- 'order_dow': day of the week that the order placed (which day is 0 is uncertain)\n",
    "- 'order_hour_of_day': hour of the day that the order was placed\n",
    "- 'days_since_prior_order': number of days since this customer placed their previous order\n",
    "\n",
    "**Products**\n",
    "*products.csv: each row corresponds to a unique product that customers can buy*\n",
    "- 'product_id': ID number that uniquely identifies each product\n",
    "- 'product_name': name of the product\n",
    "- 'aisle_id': ID number that uniquely identifies each grocery aisle category\n",
    "- 'department_id': ID number that uniquely identifies each grocery department category\n",
    "\n",
    "**Order_products**\n",
    "*order_products.csv: each row corresponds to one item placed in an order*\n",
    "- 'order_id': ID number that uniquely identifies each order\n",
    "- 'product_id': ID number that uniquely identifies each product\n",
    "- 'add_to_cart_order': the sequential order in which each item was placed in the cart\n",
    "- 'reordered': 0 if the customer has never ordered this product before, 1 if they have\n",
    "\n",
    "\n",
    "**Aisles**\n",
    "*aisles.csv*\n",
    "- 'aisle_id': ID number that uniquely identifies each grocery aisle category\n",
    "- 'aisle': name of the aisle\n",
    "\n",
    "**Departments**\n",
    "*departments.csv*\n",
    "- 'department_id': ID number that uniquely identifies each grocery department category\n",
    "- 'department': name of the department"
   ]
  },
  {
   "cell_type": "markdown",
   "id": "404888e5",
   "metadata": {},
   "source": [
    "# Load Files and Explore Data"
   ]
  },
  {
   "cell_type": "markdown",
   "id": "c282f1f4",
   "metadata": {},
   "source": [
    "### Read CSV Files and Import Libraries"
   ]
  },
  {
   "cell_type": "code",
   "execution_count": 1,
   "id": "b26674eb",
   "metadata": {},
   "outputs": [],
   "source": [
    "#import libraries needed for project\n",
    "import pandas as pd\n",
    "from matplotlib import pyplot as plt\n",
    "import numpy as np\n",
    "\n",
    "# read instacart_orders csv\n",
    "orders_df = pd.read_csv('instacart_orders.csv',sep=';')\n",
    "\n",
    "# read products csv\n",
    "products_df = pd.read_csv('products.csv', sep=';')\n",
    "\n",
    "# read order_products csv\n",
    "order_products_df = pd.read_csv('order_products.csv',sep=';')\n",
    "\n",
    "# read departments csv\n",
    "departments_df = pd.read_csv('departments.csv',sep=';')\n",
    "\n",
    "# read aisles csv\n",
    "aisles_df = pd.read_csv('aisles.csv',sep=';')"
   ]
  },
  {
   "cell_type": "markdown",
   "id": "867c1edb",
   "metadata": {},
   "source": [
    "### Explore Orders Table"
   ]
  },
  {
   "cell_type": "code",
   "execution_count": 2,
   "id": "fbf1adab",
   "metadata": {},
   "outputs": [
    {
     "name": "stdout",
     "output_type": "stream",
     "text": [
      "Five sample rows of orders_df data:\n",
      "\n",
      "         order_id  user_id  order_number  order_dow  order_hour_of_day  \\\n",
      "72992    3341132    29058            32          2                 12   \n",
      "8932      557823   180861             3          0                 11   \n",
      "157686   2805966   141248             2          5                  9   \n",
      "229066   2860447   152305             9          3                 11   \n",
      "321982   2519497   167862            28          1                  8   \n",
      "\n",
      "        days_since_prior_order  \n",
      "72992                      1.0  \n",
      "8932                      30.0  \n",
      "157686                     7.0  \n",
      "229066                     2.0  \n",
      "321982                     7.0   \n",
      "\n",
      "<class 'pandas.core.frame.DataFrame'>\n",
      "RangeIndex: 478967 entries, 0 to 478966\n",
      "Data columns (total 6 columns):\n",
      " #   Column                  Non-Null Count   Dtype  \n",
      "---  ------                  --------------   -----  \n",
      " 0   order_id                478967 non-null  int64  \n",
      " 1   user_id                 478967 non-null  int64  \n",
      " 2   order_number            478967 non-null  int64  \n",
      " 3   order_dow               478967 non-null  int64  \n",
      " 4   order_hour_of_day       478967 non-null  int64  \n",
      " 5   days_since_prior_order  450148 non-null  float64\n",
      "dtypes: float64(1), int64(5)\n",
      "memory usage: 21.9 MB\n"
     ]
    },
    {
     "data": {
      "text/plain": [
       "None"
      ]
     },
     "metadata": {},
     "output_type": "display_data"
    }
   ],
   "source": [
    "# look at a sample of orders_df\n",
    "print(f\"Five sample rows of orders_df data:\\n\\n\", orders_df.sample(5),\"\\n\")\n",
    "\n",
    "# get info about order_df\n",
    "display(orders_df.info()) "
   ]
  },
  {
   "cell_type": "markdown",
   "id": "001b2313",
   "metadata": {},
   "source": [
    "The only column with (clear) missing values is days_since_prior_order, which may make sense given that there is no real value for this if it was a customer's first order.\n"
   ]
  },
  {
   "cell_type": "markdown",
   "id": "364ae303",
   "metadata": {},
   "source": [
    "### Explore Products Table"
   ]
  },
  {
   "cell_type": "code",
   "execution_count": 45,
   "id": "4c20386e",
   "metadata": {},
   "outputs": [
    {
     "name": "stdout",
     "output_type": "stream",
     "text": [
      "Five sample rows of products_df data:\n",
      "        product_id                            product_name  aisle_id  \\\n",
      "41007       41008           Original Moisture Body Lotion       127   \n",
      "21454       21455          Perfect Postnatal Multivitamin        47   \n",
      "22570       22571  100% Whole Wheat Cinnamon with Raisins       112   \n",
      "42928       42929                  Shredded Asiago Cheese        21   \n",
      "35408       35409            Chardonnay- California- 2012        62   \n",
      "\n",
      "       department_id  \n",
      "41007             11  \n",
      "21454             11  \n",
      "22570              3  \n",
      "42928             16  \n",
      "35408              5  \n",
      "\n",
      "Info about products_df:\n",
      "<class 'pandas.core.frame.DataFrame'>\n",
      "RangeIndex: 49694 entries, 0 to 49693\n",
      "Data columns (total 4 columns):\n",
      " #   Column         Non-Null Count  Dtype \n",
      "---  ------         --------------  ----- \n",
      " 0   product_id     49694 non-null  int64 \n",
      " 1   product_name   49694 non-null  object\n",
      " 2   aisle_id       49694 non-null  int64 \n",
      " 3   department_id  49694 non-null  int64 \n",
      "dtypes: int64(3), object(1)\n",
      "memory usage: 1.5+ MB\n",
      "\n",
      "Describe products_df:\n"
     ]
    },
    {
     "data": {
      "text/html": [
       "<div>\n",
       "<style scoped>\n",
       "    .dataframe tbody tr th:only-of-type {\n",
       "        vertical-align: middle;\n",
       "    }\n",
       "\n",
       "    .dataframe tbody tr th {\n",
       "        vertical-align: top;\n",
       "    }\n",
       "\n",
       "    .dataframe thead th {\n",
       "        text-align: right;\n",
       "    }\n",
       "</style>\n",
       "<table border=\"1\" class=\"dataframe\">\n",
       "  <thead>\n",
       "    <tr style=\"text-align: right;\">\n",
       "      <th></th>\n",
       "      <th>product_id</th>\n",
       "      <th>aisle_id</th>\n",
       "      <th>department_id</th>\n",
       "    </tr>\n",
       "  </thead>\n",
       "  <tbody>\n",
       "    <tr>\n",
       "      <th>count</th>\n",
       "      <td>49694.000000</td>\n",
       "      <td>49694.000000</td>\n",
       "      <td>49694.000000</td>\n",
       "    </tr>\n",
       "    <tr>\n",
       "      <th>mean</th>\n",
       "      <td>24847.500000</td>\n",
       "      <td>67.773192</td>\n",
       "      <td>11.728478</td>\n",
       "    </tr>\n",
       "    <tr>\n",
       "      <th>std</th>\n",
       "      <td>14345.566475</td>\n",
       "      <td>38.317265</td>\n",
       "      <td>5.850314</td>\n",
       "    </tr>\n",
       "    <tr>\n",
       "      <th>min</th>\n",
       "      <td>1.000000</td>\n",
       "      <td>1.000000</td>\n",
       "      <td>1.000000</td>\n",
       "    </tr>\n",
       "    <tr>\n",
       "      <th>25%</th>\n",
       "      <td>12424.250000</td>\n",
       "      <td>35.000000</td>\n",
       "      <td>7.000000</td>\n",
       "    </tr>\n",
       "    <tr>\n",
       "      <th>50%</th>\n",
       "      <td>24847.500000</td>\n",
       "      <td>69.000000</td>\n",
       "      <td>13.000000</td>\n",
       "    </tr>\n",
       "    <tr>\n",
       "      <th>75%</th>\n",
       "      <td>37270.750000</td>\n",
       "      <td>100.000000</td>\n",
       "      <td>17.000000</td>\n",
       "    </tr>\n",
       "    <tr>\n",
       "      <th>max</th>\n",
       "      <td>49694.000000</td>\n",
       "      <td>134.000000</td>\n",
       "      <td>21.000000</td>\n",
       "    </tr>\n",
       "  </tbody>\n",
       "</table>\n",
       "</div>"
      ],
      "text/plain": [
       "         product_id      aisle_id  department_id\n",
       "count  49694.000000  49694.000000   49694.000000\n",
       "mean   24847.500000     67.773192      11.728478\n",
       "std    14345.566475     38.317265       5.850314\n",
       "min        1.000000      1.000000       1.000000\n",
       "25%    12424.250000     35.000000       7.000000\n",
       "50%    24847.500000     69.000000      13.000000\n",
       "75%    37270.750000    100.000000      17.000000\n",
       "max    49694.000000    134.000000      21.000000"
      ]
     },
     "execution_count": 45,
     "metadata": {},
     "output_type": "execute_result"
    }
   ],
   "source": [
    "#  look at a sample of products_ df\n",
    "print(f\"Five sample rows of products_df data:\\n\", products_df.sample(5))\n",
    "\n",
    "# get info about products_df\n",
    "print(f\"\\nInfo about products_df:\")\n",
    "products_df.info() \n",
    "\n",
    "# describe products_df\n",
    "print(f\"\\nDescribe products_df:\")\n",
    "products_df.describe() "
   ]
  },
  {
   "cell_type": "markdown",
   "id": "d84f57f1",
   "metadata": {},
   "source": [
    "I got info about the products_df and confirmed that the product_name column is the only column with missing values. I also described products_df and can confirm that the min value for product_id, aisle_id, and department_id are all greater than 0 since a value of 0 could have potentially represented missing values."
   ]
  },
  {
   "cell_type": "markdown",
   "id": "79d56b2a",
   "metadata": {},
   "source": [
    "### Explore Order_products Table"
   ]
  },
  {
   "cell_type": "code",
   "execution_count": 4,
   "id": "554a609d",
   "metadata": {},
   "outputs": [
    {
     "name": "stdout",
     "output_type": "stream",
     "text": [
      "Five sample rows of order_products data:\n",
      "          order_id  product_id  add_to_cart_order  reordered\n",
      "1282130     64536       19057                2.0          1\n",
      "2656836   1615808       16254                5.0          0\n",
      "1830694    169944       17173                8.0          0\n",
      "3751220   1727077       16215                3.0          0\n",
      "4475965   1816942        6532                1.0          1\n",
      "\n",
      "Info about order_products_df:\n",
      "<class 'pandas.core.frame.DataFrame'>\n",
      "RangeIndex: 4545007 entries, 0 to 4545006\n",
      "Data columns (total 4 columns):\n",
      " #   Column             Non-Null Count    Dtype  \n",
      "---  ------             --------------    -----  \n",
      " 0   order_id           4545007 non-null  int64  \n",
      " 1   product_id         4545007 non-null  int64  \n",
      " 2   add_to_cart_order  4544171 non-null  float64\n",
      " 3   reordered          4545007 non-null  int64  \n",
      "dtypes: float64(1), int64(3)\n",
      "memory usage: 138.7 MB\n",
      "\n",
      "Describe order_products_df:\n"
     ]
    },
    {
     "data": {
      "text/html": [
       "<div>\n",
       "<style scoped>\n",
       "    .dataframe tbody tr th:only-of-type {\n",
       "        vertical-align: middle;\n",
       "    }\n",
       "\n",
       "    .dataframe tbody tr th {\n",
       "        vertical-align: top;\n",
       "    }\n",
       "\n",
       "    .dataframe thead th {\n",
       "        text-align: right;\n",
       "    }\n",
       "</style>\n",
       "<table border=\"1\" class=\"dataframe\">\n",
       "  <thead>\n",
       "    <tr style=\"text-align: right;\">\n",
       "      <th></th>\n",
       "      <th>order_id</th>\n",
       "      <th>product_id</th>\n",
       "      <th>add_to_cart_order</th>\n",
       "      <th>reordered</th>\n",
       "    </tr>\n",
       "  </thead>\n",
       "  <tbody>\n",
       "    <tr>\n",
       "      <th>count</th>\n",
       "      <td>4.545007e+06</td>\n",
       "      <td>4.545007e+06</td>\n",
       "      <td>4.544171e+06</td>\n",
       "      <td>4.545007e+06</td>\n",
       "    </tr>\n",
       "    <tr>\n",
       "      <th>mean</th>\n",
       "      <td>1.711166e+06</td>\n",
       "      <td>2.558084e+04</td>\n",
       "      <td>8.351669e+00</td>\n",
       "      <td>5.905025e-01</td>\n",
       "    </tr>\n",
       "    <tr>\n",
       "      <th>std</th>\n",
       "      <td>9.850955e+05</td>\n",
       "      <td>1.409552e+04</td>\n",
       "      <td>7.080368e+00</td>\n",
       "      <td>4.917411e-01</td>\n",
       "    </tr>\n",
       "    <tr>\n",
       "      <th>min</th>\n",
       "      <td>4.000000e+00</td>\n",
       "      <td>1.000000e+00</td>\n",
       "      <td>1.000000e+00</td>\n",
       "      <td>0.000000e+00</td>\n",
       "    </tr>\n",
       "    <tr>\n",
       "      <th>25%</th>\n",
       "      <td>8.608170e+05</td>\n",
       "      <td>1.353500e+04</td>\n",
       "      <td>3.000000e+00</td>\n",
       "      <td>0.000000e+00</td>\n",
       "    </tr>\n",
       "    <tr>\n",
       "      <th>50%</th>\n",
       "      <td>1.711530e+06</td>\n",
       "      <td>2.527200e+04</td>\n",
       "      <td>6.000000e+00</td>\n",
       "      <td>1.000000e+00</td>\n",
       "    </tr>\n",
       "    <tr>\n",
       "      <th>75%</th>\n",
       "      <td>2.561311e+06</td>\n",
       "      <td>3.793500e+04</td>\n",
       "      <td>1.100000e+01</td>\n",
       "      <td>1.000000e+00</td>\n",
       "    </tr>\n",
       "    <tr>\n",
       "      <th>max</th>\n",
       "      <td>3.421079e+06</td>\n",
       "      <td>4.969400e+04</td>\n",
       "      <td>6.400000e+01</td>\n",
       "      <td>1.000000e+00</td>\n",
       "    </tr>\n",
       "  </tbody>\n",
       "</table>\n",
       "</div>"
      ],
      "text/plain": [
       "           order_id    product_id  add_to_cart_order     reordered\n",
       "count  4.545007e+06  4.545007e+06       4.544171e+06  4.545007e+06\n",
       "mean   1.711166e+06  2.558084e+04       8.351669e+00  5.905025e-01\n",
       "std    9.850955e+05  1.409552e+04       7.080368e+00  4.917411e-01\n",
       "min    4.000000e+00  1.000000e+00       1.000000e+00  0.000000e+00\n",
       "25%    8.608170e+05  1.353500e+04       3.000000e+00  0.000000e+00\n",
       "50%    1.711530e+06  2.527200e+04       6.000000e+00  1.000000e+00\n",
       "75%    2.561311e+06  3.793500e+04       1.100000e+01  1.000000e+00\n",
       "max    3.421079e+06  4.969400e+04       6.400000e+01  1.000000e+00"
      ]
     },
     "execution_count": 4,
     "metadata": {},
     "output_type": "execute_result"
    }
   ],
   "source": [
    "#  look at a sample of order_products_df \n",
    "print(f\"Five sample rows of order_products data:\\n\", order_products_df.sample(5))\n",
    "\n",
    "# get info about the df\n",
    "print(f\"\\nInfo about order_products_df:\") \n",
    "order_products_df.info(show_counts=True)\n",
    "\n",
    "# describe order_products_df\n",
    "print(f\"\\nDescribe order_products_df:\")\n",
    "order_products_df.describe()"
   ]
  },
  {
   "cell_type": "markdown",
   "id": "7d72dbad",
   "metadata": {},
   "source": [
    "I got information about the order_products_df and looked at rows that had missing values for the add_to_cart_order_column. While missing values represent less than 0.02% of total values, and therefore it would be not harm this analysis to drop rows with missing values, I decided to keep them so that I could get an accurate count of total products ordered, by product, if needed later in my analysis."
   ]
  },
  {
   "cell_type": "markdown",
   "id": "eace67d7",
   "metadata": {},
   "source": [
    "### Explore Departments Table"
   ]
  },
  {
   "cell_type": "code",
   "execution_count": 5,
   "id": "f1ec441d",
   "metadata": {},
   "outputs": [
    {
     "name": "stdout",
     "output_type": "stream",
     "text": [
      "Five sample rows of departments_df data:\n",
      "     department_id     department\n",
      "20             21        missing\n",
      "3               4        produce\n",
      "14             15   canned goods\n",
      "6               7      beverages\n",
      "5               6  international\n",
      "\n",
      "Info about departments_df:\n",
      "<class 'pandas.core.frame.DataFrame'>\n",
      "RangeIndex: 21 entries, 0 to 20\n",
      "Data columns (total 2 columns):\n",
      " #   Column         Non-Null Count  Dtype \n",
      "---  ------         --------------  ----- \n",
      " 0   department_id  21 non-null     int64 \n",
      " 1   department     21 non-null     object\n",
      "dtypes: int64(1), object(1)\n",
      "memory usage: 468.0+ bytes\n"
     ]
    }
   ],
   "source": [
    "# look at a sample of departments_df \n",
    "print(f\"Five sample rows of departments_df data:\\n\", departments_df.sample(5))\n",
    "\n",
    "# get info about departments_df\n",
    "print(f\"\\nInfo about departments_df:\")\n",
    "departments_df.info()"
   ]
  },
  {
   "cell_type": "markdown",
   "id": "49cf7757",
   "metadata": {},
   "source": [
    "The departments_df DataFrame is as expected with no missing values."
   ]
  },
  {
   "cell_type": "markdown",
   "id": "5243aeb6",
   "metadata": {},
   "source": [
    "### Explore Aisles Table"
   ]
  },
  {
   "cell_type": "code",
   "execution_count": 6,
   "id": "83597c37",
   "metadata": {},
   "outputs": [
    {
     "name": "stdout",
     "output_type": "stream",
     "text": [
      "Five sample rows of aisles_df data:\n",
      "      aisle_id                         aisle\n",
      "69         70                     digestion\n",
      "76         77                   soft drinks\n",
      "44         45               candy chocolate\n",
      "67         68  bulk grains rice dried goods\n",
      "108       109                     skin care\n",
      "\n",
      "Info about aisles_df:\n",
      "<class 'pandas.core.frame.DataFrame'>\n",
      "RangeIndex: 134 entries, 0 to 133\n",
      "Data columns (total 2 columns):\n",
      " #   Column    Non-Null Count  Dtype \n",
      "---  ------    --------------  ----- \n",
      " 0   aisle_id  134 non-null    int64 \n",
      " 1   aisle     134 non-null    object\n",
      "dtypes: int64(1), object(1)\n",
      "memory usage: 2.2+ KB\n"
     ]
    }
   ],
   "source": [
    "# look at a sample of aisles_df \n",
    "print(f\"Five sample rows of aisles_df data:\\n\", aisles_df.sample(5))\n",
    "\n",
    "# get info about aisles_df\n",
    "print(f\"\\nInfo about aisles_df:\")\n",
    "aisles_df.info()"
   ]
  },
  {
   "cell_type": "markdown",
   "id": "3f847f66",
   "metadata": {},
   "source": [
    "The aisles_df DataFrame is as expected with no missing values."
   ]
  },
  {
   "cell_type": "markdown",
   "id": "07357848-dc64-4156-9cc3-01ff4365226d",
   "metadata": {},
   "source": [
    "## Find and remove duplicate values"
   ]
  },
  {
   "cell_type": "markdown",
   "id": "f179f0a9",
   "metadata": {},
   "source": [
    "### `orders` data frame"
   ]
  },
  {
   "cell_type": "code",
   "execution_count": 7,
   "id": "b99297a5-405a-463d-8535-9adc3da4ad74",
   "metadata": {},
   "outputs": [
    {
     "name": "stdout",
     "output_type": "stream",
     "text": [
      "Number of duplicated orders: 15\n"
     ]
    }
   ],
   "source": [
    "# Check for duplicated orders\n",
    "print(\"Number of duplicated orders:\",orders_df.duplicated().sum())"
   ]
  },
  {
   "cell_type": "code",
   "execution_count": 8,
   "id": "0d44de5d",
   "metadata": {},
   "outputs": [
    {
     "name": "stdout",
     "output_type": "stream",
     "text": [
      "There are 136 orders placed Wednesday at 2:00 AM.\n"
     ]
    }
   ],
   "source": [
    "# Check for all orders placed Wednesday at 2:00 AM\n",
    "wed_twoam_orders = orders_df[(orders_df['order_hour_of_day'] == 2) & (orders_df['order_dow'] == 2)]\n",
    "n_rows_wed_2am, n_cols_wed_2am = wed_twoam_orders.shape\n",
    "\n",
    "print(f\"There are {n_rows_wed_2am} orders placed Wednesday at 2:00 AM.\")"
   ]
  },
  {
   "cell_type": "markdown",
   "id": "b50435e7",
   "metadata": {},
   "source": [
    "I determined that the day of the week value for Wednesday was 2 after consulting [this pandas documentation about datetime components](https://pandas.pydata.org/pandas-docs/stable/user_guide/timeseries.html#time-date-components)."
   ]
  },
  {
   "cell_type": "code",
   "execution_count": 9,
   "id": "480563c7",
   "metadata": {},
   "outputs": [],
   "source": [
    "# Remove duplicate orders\n",
    "orders_df = orders_df.drop_duplicates().reset_index(drop=True)"
   ]
  },
  {
   "cell_type": "markdown",
   "id": "705c1df8",
   "metadata": {},
   "source": [
    "I dropped these duplicates because they were clear duplicates that impacted the quality of the dataset."
   ]
  },
  {
   "cell_type": "code",
   "execution_count": 10,
   "id": "0b2396a2",
   "metadata": {},
   "outputs": [
    {
     "name": "stdout",
     "output_type": "stream",
     "text": [
      "Now there are 0 duplicate orders.\n"
     ]
    }
   ],
   "source": [
    "# Double check for duplicate rows\n",
    "print(\"Now there are\",orders_df.duplicated().sum(),\"duplicate orders.\")"
   ]
  },
  {
   "cell_type": "code",
   "execution_count": 11,
   "id": "f6113ef1",
   "metadata": {},
   "outputs": [
    {
     "name": "stdout",
     "output_type": "stream",
     "text": [
      "Number of duplicate order IDs: 0\n"
     ]
    }
   ],
   "source": [
    "# Double check for duplicate order IDs only\n",
    "print(\"Number of duplicate order IDs:\",orders_df['order_id'].duplicated().sum())"
   ]
  },
  {
   "cell_type": "markdown",
   "id": "45e6bc46",
   "metadata": {},
   "source": [
    "### `products` data frame"
   ]
  },
  {
   "cell_type": "code",
   "execution_count": 12,
   "id": "5f526b5b-8175-46fa-a0fd-441767d50e64",
   "metadata": {},
   "outputs": [
    {
     "name": "stdout",
     "output_type": "stream",
     "text": [
      "Number of duplicate rows: 0\n"
     ]
    }
   ],
   "source": [
    "# Check for fully duplicate rows\n",
    "print(\"Number of duplicate rows:\",products_df.duplicated().sum())"
   ]
  },
  {
   "cell_type": "code",
   "execution_count": 13,
   "id": "88daa4f4",
   "metadata": {},
   "outputs": [
    {
     "name": "stdout",
     "output_type": "stream",
     "text": [
      "Number of duplicate product IDs: 0\n"
     ]
    }
   ],
   "source": [
    "# Check for just duplicate product IDs\n",
    "print(\"Number of duplicate product IDs:\",products_df['product_id'].duplicated().sum())"
   ]
  },
  {
   "cell_type": "code",
   "execution_count": 14,
   "id": "c773f0bf",
   "metadata": {},
   "outputs": [
    {
     "name": "stdout",
     "output_type": "stream",
     "text": [
      "Number of duplicate product_name values: 1361\n"
     ]
    }
   ],
   "source": [
    "# Check for just duplicate product names (convert names to lowercase to compare better)\n",
    "unq_products = products_df['product_name'].str.lower().duplicated().sum()\n",
    "print(\"Number of duplicate product_name values:\",unq_products)"
   ]
  },
  {
   "cell_type": "code",
   "execution_count": 15,
   "id": "01efd02e",
   "metadata": {
    "scrolled": true
   },
   "outputs": [
    {
     "name": "stdout",
     "output_type": "stream",
     "text": [
      "There are 103 non-missing duplicate product names.\n",
      "\n",
      "Here are the duplicate product names: \n",
      "\n",
      "product_name\n",
      "green tea with ginseng and honey                                        3\n",
      "carrot and celery sticks                                                2\n",
      "apricot energy bar                                                      2\n",
      "top the tater chive & onion sour cream                                  2\n",
      "proactive health indoor weight & hairball care with chicken cat food    2\n",
      "                                                                       ..\n",
      "cauliflower head                                                        2\n",
      "half and half                                                           2\n",
      "original bbq sauce                                                      2\n",
      "spreadable butter with canola oil                                       2\n",
      "mandarin oranges in light syrup                                         2\n",
      "Name: count, Length: 103, dtype: int64\n"
     ]
    }
   ],
   "source": [
    "# Check for duplicate product names that aren't missing\n",
    "non_na_prod_names = products_df['product_name'].str.lower().value_counts()\n",
    "dup_prod_names = non_na_prod_names[non_na_prod_names > 1]\n",
    "\n",
    "print(f\"There are {dup_prod_names.count()} non-missing duplicate product names.\\n\\nHere are the duplicate product names: \\n\\n{dup_prod_names}\")"
   ]
  },
  {
   "cell_type": "markdown",
   "id": "83757ca0",
   "metadata": {},
   "source": [
    "I decided not to process the non-missing, duplicate product names since each value has a unique product_id associated with it. It is very possible that each non-missing, duplicate product name could be meaningfully differentiated across instances. For example, the 'bag of oranges' product name occurs twice, but may be produced by different brands or contain different quantities i.e. a bag or ten oranges vs. a bag of twenty oranges."
   ]
  },
  {
   "cell_type": "markdown",
   "id": "60f30db1",
   "metadata": {},
   "source": [
    "### `departments` data frame"
   ]
  },
  {
   "cell_type": "code",
   "execution_count": 16,
   "id": "fb410ad4-0fbf-4b80-bb09-23fdea79afe3",
   "metadata": {},
   "outputs": [
    {
     "name": "stdout",
     "output_type": "stream",
     "text": [
      "Number of duplicate rows: 0\n"
     ]
    }
   ],
   "source": [
    "# Check for fullly duplicate rows\n",
    "print(\"Number of duplicate rows:\",departments_df.duplicated().sum())"
   ]
  },
  {
   "cell_type": "code",
   "execution_count": 17,
   "id": "332b12bb",
   "metadata": {},
   "outputs": [
    {
     "data": {
      "text/plain": [
       "department\n",
       "frozen             1\n",
       "meat seafood       1\n",
       "deli               1\n",
       "snacks             1\n",
       "babies             1\n",
       "household          1\n",
       "dairy eggs         1\n",
       "canned goods       1\n",
       "breakfast          1\n",
       "pantry             1\n",
       "personal care      1\n",
       "other              1\n",
       "bulk               1\n",
       "dry goods pasta    1\n",
       "pets               1\n",
       "beverages          1\n",
       "international      1\n",
       "alcohol            1\n",
       "produce            1\n",
       "bakery             1\n",
       "missing            1\n",
       "Name: count, dtype: int64"
      ]
     },
     "execution_count": 17,
     "metadata": {},
     "output_type": "execute_result"
    }
   ],
   "source": [
    "# Double check for any other tricky duplicates\n",
    "departments_df['department'].str.lower().value_counts()\n",
    "                     "
   ]
  },
  {
   "cell_type": "markdown",
   "id": "c3c6ce05",
   "metadata": {},
   "source": [
    "While there aren't any obvious tricky duplicates, I see departments 'missing' and 'other' which both represent unknown/non-specific departments. I could replace the value 'missing' to also be 'other' but am choosing not to unless it makes sense to do so later in my analysis--it doesn't seem important to do this now and it could remove the ability to identify an issue in the data quality i.e. the prevalence of missing department values."
   ]
  },
  {
   "cell_type": "markdown",
   "id": "889349c1",
   "metadata": {},
   "source": [
    "### `aisles` data frame"
   ]
  },
  {
   "cell_type": "code",
   "execution_count": 18,
   "id": "9da89fb9-4679-40f5-ad0d-c34df753a3f8",
   "metadata": {},
   "outputs": [
    {
     "name": "stdout",
     "output_type": "stream",
     "text": [
      "Number of duplicate rows: 0\n"
     ]
    }
   ],
   "source": [
    "# Check for fullly duplicate rows\n",
    "print(\"Number of duplicate rows:\",aisles_df.duplicated().sum())"
   ]
  },
  {
   "cell_type": "code",
   "execution_count": 19,
   "id": "da7c2822",
   "metadata": {
    "scrolled": true
   },
   "outputs": [
    {
     "data": {
      "text/plain": [
       "np.int64(0)"
      ]
     },
     "execution_count": 19,
     "metadata": {},
     "output_type": "execute_result"
    }
   ],
   "source": [
    "# Double check for any other tricky duplicates - count unique aisle values after converting to lowercase string\n",
    "aisles_df['aisle'].str.lower().duplicated().sum()"
   ]
  },
  {
   "cell_type": "markdown",
   "id": "822c1b36",
   "metadata": {},
   "source": [
    "While some values for the column aisle appear slightly redundant, they are not clearly implicit duplicates and order some differentiated level of specificity from one another. There are values of 'missing' and 'other' as well--I could replace the value 'missing' to also be 'other' but am choosing not to unless it makes sense to do so later in my analysis. It doesn't seem important to do this now and and it could remove the ability to identify an issue in the data quality i.e. the prevalence of missing aisle values."
   ]
  },
  {
   "cell_type": "markdown",
   "id": "274cd06a",
   "metadata": {},
   "source": [
    "### `order_products` data frame"
   ]
  },
  {
   "cell_type": "code",
   "execution_count": 20,
   "id": "52326689-84a8-4b8f-a881-7c68780f62c9",
   "metadata": {},
   "outputs": [
    {
     "name": "stdout",
     "output_type": "stream",
     "text": [
      "Number of duplicate rows: 0\n"
     ]
    }
   ],
   "source": [
    "# Check for fullly duplicate rows\n",
    "print(\"Number of duplicate rows:\",order_products_df.duplicated().sum())"
   ]
  },
  {
   "cell_type": "code",
   "execution_count": 21,
   "id": "7b861391",
   "metadata": {},
   "outputs": [
    {
     "data": {
      "text/plain": [
       "np.int64(0)"
      ]
     },
     "execution_count": 21,
     "metadata": {},
     "output_type": "execute_result"
    }
   ],
   "source": [
    "# Double check for any other tricky duplicates\n",
    "order_products_df[['order_id','product_id']].duplicated().sum()"
   ]
  },
  {
   "cell_type": "markdown",
   "id": "7fa03af1",
   "metadata": {},
   "source": [
    "There are no tricky duplicates present."
   ]
  },
  {
   "cell_type": "markdown",
   "id": "1e46de76",
   "metadata": {},
   "source": [
    "## Find and remove missing values\n"
   ]
  },
  {
   "cell_type": "markdown",
   "id": "c0aebd78",
   "metadata": {},
   "source": [
    "### `products` data frame"
   ]
  },
  {
   "cell_type": "code",
   "execution_count": 22,
   "id": "e96167bc",
   "metadata": {
    "scrolled": true
   },
   "outputs": [
    {
     "name": "stdout",
     "output_type": "stream",
     "text": [
      "Total missing values in products_df:\n"
     ]
    },
    {
     "data": {
      "text/plain": [
       "product_id          0\n",
       "product_name     1258\n",
       "aisle_id            0\n",
       "department_id       0\n",
       "dtype: int64"
      ]
     },
     "metadata": {},
     "output_type": "display_data"
    },
    {
     "name": "stdout",
     "output_type": "stream",
     "text": [
      "Total missing product_name values by aisle_id:\n"
     ]
    },
    {
     "data": {
      "text/plain": [
       "aisle_id  product_name\n",
       "100       NaN             1258\n",
       "Name: count, dtype: int64"
      ]
     },
     "execution_count": 22,
     "metadata": {},
     "output_type": "execute_result"
    }
   ],
   "source": [
    "'''\n",
    "Are all of the missing product names associated with aisle ID 100?\n",
    "'''\n",
    "\n",
    "# show missing values in the dataframe\n",
    "print(\"Total missing values in products_df:\")\n",
    "display(products_df.isna().sum())\n",
    "\n",
    "#get rows with missing product_name values\n",
    "miss_product_name = products_df[products_df['product_name'].isna()]\n",
    "\n",
    "# get total number of missing product_name values\n",
    "print(\"Total missing product_name values by aisle_id:\")\n",
    "miss_product_name.groupby('aisle_id')['product_name'].value_counts(dropna=False)"
   ]
  },
  {
   "cell_type": "markdown",
   "id": "9143131f",
   "metadata": {},
   "source": [
    "All of the missing product names are associated with aisle ID 100. I summed the total number of missing values in the df and saw there were 1,258 missing product_name values. I then filtered the df to get rows where product_name had missing values and assigned it to the variable miss_product_name. Lastly, I grouped the count of missing product_name values using value_counts(dropna=False) and grouped them by aisle_id to confirm all 1,258 missing values are associated with aisle_id 100."
   ]
  },
  {
   "cell_type": "code",
   "execution_count": 23,
   "id": "8fd0a541",
   "metadata": {},
   "outputs": [
    {
     "name": "stdout",
     "output_type": "stream",
     "text": [
      "Total missing product_name values by department_id:\n"
     ]
    },
    {
     "data": {
      "text/plain": [
       "department_id  product_name\n",
       "21             NaN             1258\n",
       "Name: count, dtype: int64"
      ]
     },
     "execution_count": 23,
     "metadata": {},
     "output_type": "execute_result"
    }
   ],
   "source": [
    "'''\n",
    "Are all of the missing product names associated with department ID 21?\n",
    "'''\n",
    "\n",
    "# get total number of missing product_name values\n",
    "print(\"Total missing product_name values by department_id:\")\n",
    "miss_product_name.groupby('department_id')['product_name'].value_counts(dropna=False)"
   ]
  },
  {
   "cell_type": "markdown",
   "id": "e80e2dcd",
   "metadata": {},
   "source": [
    "I used the same approach as I did with aisle_id above to confirm that all 1,258 missing product_name values were associated with department_id 21 except that I grouped by department_id instead."
   ]
  },
  {
   "cell_type": "code",
   "execution_count": 24,
   "id": "325c3464",
   "metadata": {},
   "outputs": [
    {
     "name": "stdout",
     "output_type": "stream",
     "text": [
      "Aisle ID 100 is the missing aisle. Department ID 21 is the missing department.\n"
     ]
    }
   ],
   "source": [
    "'''\n",
    "What is this aisle and department?\n",
    "'''\n",
    "\n",
    "# get aisle name from aisles_df\n",
    "aisle100 = aisles_df[aisles_df['aisle_id'] == 100].iloc[0,1]\n",
    "\n",
    "# get department name from departments_df\n",
    "department21 = departments_df[departments_df['department_id'] == 21].iloc[0,1]\n",
    "\n",
    "print(f\"Aisle ID 100 is the {aisle100} aisle. Department ID 21 is the {department21} department.\")"
   ]
  },
  {
   "cell_type": "code",
   "execution_count": 25,
   "id": "6b295120",
   "metadata": {},
   "outputs": [],
   "source": [
    "# Fill missing product names with 'Unknown'\n",
    "products_df['product_name'] = products_df['product_name'].fillna('Unknown')\n",
    "\n",
    "#verify product_name no longer has missing values\n",
    "# products_df.info() # did not print due to notebook data rate limits"
   ]
  },
  {
   "cell_type": "markdown",
   "id": "fb5b68ef",
   "metadata": {},
   "source": [
    "I used the fillna() method to fill in missing product_name values with the string 'Unknown' and assigned the result back to the product_name col in the products_df dataframe."
   ]
  },
  {
   "cell_type": "markdown",
   "id": "7eb45c86",
   "metadata": {},
   "source": [
    "### `orders` data frame"
   ]
  },
  {
   "cell_type": "code",
   "execution_count": 26,
   "id": "166e5a86",
   "metadata": {
    "scrolled": true
   },
   "outputs": [
    {
     "data": {
      "text/plain": [
       "order_id                  0\n",
       "user_id                   0\n",
       "order_number              0\n",
       "order_dow                 0\n",
       "order_hour_of_day         0\n",
       "days_since_prior_order    0\n",
       "dtype: int64"
      ]
     },
     "metadata": {},
     "output_type": "display_data"
    },
    {
     "name": "stdout",
     "output_type": "stream",
     "text": [
      "There are not any missing values for repeat orders (order_number != 1).\n"
     ]
    }
   ],
   "source": [
    "'''\n",
    "Are there any missing values where it's not a customer's first order?\n",
    "'''\n",
    "\n",
    "\n",
    "# check for missing values among repeat orders\n",
    "display(orders_df[(orders_df['order_number'] != 1)].isna().sum())\n",
    "print(\"There are not any missing values for repeat orders (order_number != 1).\")"
   ]
  },
  {
   "cell_type": "markdown",
   "id": "54adb430",
   "metadata": {},
   "source": [
    "To confirm, I filtered orders_df to only look at orders that weren't a customer's first order and then checked if there were any missing rows within the filtered df using the sum of the isna() method since it can sum boolean values (in this case, a missing value would register as 1 or True)."
   ]
  },
  {
   "cell_type": "markdown",
   "id": "69dc9ca4",
   "metadata": {},
   "source": [
    "### `order_products` data frame"
   ]
  },
  {
   "cell_type": "code",
   "execution_count": 27,
   "id": "9a78e5ee",
   "metadata": {
    "scrolled": true
   },
   "outputs": [
    {
     "name": "stdout",
     "output_type": "stream",
     "text": [
      "           order_id    product_id  add_to_cart_order     reordered\n",
      "count  4.545007e+06  4.545007e+06       4.544171e+06  4.545007e+06\n",
      "mean   1.711166e+06  2.558084e+04       8.351669e+00  5.905025e-01\n",
      "std    9.850955e+05  1.409552e+04       7.080368e+00  4.917411e-01\n",
      "min    4.000000e+00  1.000000e+00       1.000000e+00  0.000000e+00\n",
      "25%    8.608170e+05  1.353500e+04       3.000000e+00  0.000000e+00\n",
      "50%    1.711530e+06  2.527200e+04       6.000000e+00  1.000000e+00\n",
      "75%    2.561311e+06  3.793500e+04       1.100000e+01  1.000000e+00\n",
      "max    3.421079e+06  4.969400e+04       6.400000e+01  1.000000e+00\n"
     ]
    }
   ],
   "source": [
    "'''\n",
    "What are the min and max values in this column?\n",
    "'''\n",
    "\n",
    "# describe order_products DataFrame\n",
    "print(order_products_df.describe())"
   ]
  },
  {
   "cell_type": "markdown",
   "id": "23c2294f",
   "metadata": {},
   "source": [
    "For add_to_cart_order, the min value is 1 and the max value is 64.\n",
    "For reordered, the min value is 0 and the max value is 1."
   ]
  },
  {
   "cell_type": "code",
   "execution_count": 28,
   "id": "ab9d0c2b",
   "metadata": {},
   "outputs": [],
   "source": [
    "# Save all order IDs with at least one missing value in 'add_to_cart_order'\n",
    "na_atc_orderids = order_products_df[order_products_df['add_to_cart_order'].isna()]['order_id']"
   ]
  },
  {
   "cell_type": "code",
   "execution_count": 29,
   "id": "54c31695",
   "metadata": {
    "scrolled": true
   },
   "outputs": [
    {
     "data": {
      "text/plain": [
       "order_id\n",
       "9310        65\n",
       "747668      65\n",
       "1598369     65\n",
       "1677118     65\n",
       "2170451     65\n",
       "          ... \n",
       "1959075     98\n",
       "171934     104\n",
       "2136777    108\n",
       "3308010    115\n",
       "61355      127\n",
       "Name: count_products, Length: 70, dtype: int64"
      ]
     },
     "metadata": {},
     "output_type": "display_data"
    }
   ],
   "source": [
    "'''\n",
    "Do all orders with missing values have more than 64 products?\n",
    "'''\n",
    "\n",
    "# find rows in order_products_df where order_id is in na_atc_orderids\n",
    "ordrs_with_missing_atc = order_products_df[order_products_df['order_id'].isin(na_atc_orderids)]\n",
    "\n",
    "# count number of products in ordrs_with_missing_atc grouped by order_id\n",
    "ordrs_with_missing_atc = ordrs_with_missing_atc.groupby('order_id')['product_id'].count().sort_values()\n",
    "ordrs_with_missing_atc.name = 'count_products'\n",
    "display(ordrs_with_missing_atc)"
   ]
  },
  {
   "cell_type": "markdown",
   "id": "ac720543",
   "metadata": {},
   "source": [
    "Yes, all orders with missing add_to_cart_order values have more than 64 products. First, I got unique order_id values from the dataframe that had 1+ NaN add_to_cart_order values. Then I found rows in the order_products dataframe where order_id was was in the list of unique values found before. Then I grouped by order_id,counted the number of products per order, and sorted the result. The minimum value was 65 so I know all of the orders with missing add_to_cart_order values have more than 64 products."
   ]
  },
  {
   "cell_type": "code",
   "execution_count": 30,
   "id": "7a987d08",
   "metadata": {
    "scrolled": true
   },
   "outputs": [
    {
     "name": "stdout",
     "output_type": "stream",
     "text": [
      "<class 'pandas.core.frame.DataFrame'>\n",
      "RangeIndex: 4545007 entries, 0 to 4545006\n",
      "Data columns (total 4 columns):\n",
      " #   Column             Non-Null Count    Dtype\n",
      "---  ------             --------------    -----\n",
      " 0   order_id           4545007 non-null  int64\n",
      " 1   product_id         4545007 non-null  int64\n",
      " 2   add_to_cart_order  4545007 non-null  int64\n",
      " 3   reordered          4545007 non-null  int64\n",
      "dtypes: int64(4)\n",
      "memory usage: 138.7 MB\n"
     ]
    }
   ],
   "source": [
    "# Replace missing values with 999 and convert column to integer type\n",
    "order_products_df['add_to_cart_order'] = order_products_df['add_to_cart_order'].fillna(999).astype('int')\n",
    "\n",
    "# Verify missing values were filled\n",
    "order_products_df['add_to_cart_order'].sort_values(ascending=False)\n",
    "\n",
    "# Verify missing values were converted as expected\n",
    "order_products_df.info(show_counts=True) "
   ]
  },
  {
   "cell_type": "markdown",
   "id": "22e18a26",
   "metadata": {},
   "source": [
    "I used the fillna() method to fill missing values for the add_to_cart_order col with the int value 999 instead."
   ]
  },
  {
   "cell_type": "markdown",
   "id": "236a8080",
   "metadata": {},
   "source": [
    "## Conclusion About Missing Data in the Data Set\n",
    "\n",
    "*Conclusions about missing data in the data set and what was done to address the missing data:*\n",
    "- The products_df has missing product_name values, but they are all associated with aisle_id 100 and department_id 21, which are the ‘missing’ aisle and ‘missing’ department, respectively. This was addressed, but filling missing product_name values with a value of ‘Unknown’ instead.\n",
    "\n",
    "\n",
    "- In the orders_df, there are missing days_since_prior_order values, but this would be expected if it was a customer’s first order. I confirmed there were no missing values where it wasn’t a customer’s first order.\n",
    "\n",
    "\n",
    "- In the order_products_df, I confirmed that the values for order_dow and order_hour_of_day were logical and as expected. There were missing values for add_to_cart_order, but I confirmed these values were only missing for order_ids with more than 64 products, which is an uncommon use case; perhaps Instacart did not track add_to_cart order beyond this value for a specific business reason. I replaced the missing values in add_to_cart_order with 999 to work with the data more easily with a value I could easily exclude as an outlier if necessary."
   ]
  },
  {
   "cell_type": "markdown",
   "id": "short-capability",
   "metadata": {},
   "source": [
    "### Verify that the `'order_hour_of_day'` and `'order_dow'` values in the `orders` tables are sensible (i.e. `'order_hour_of_day'` ranges from 0 to 23 and `'order_dow'` ranges from 0 to 6)"
   ]
  },
  {
   "cell_type": "code",
   "execution_count": 31,
   "id": "growing-fruit",
   "metadata": {},
   "outputs": [
    {
     "name": "stdout",
     "output_type": "stream",
     "text": [
      "For the 'order_hour_of_day' column, the min value is 0 and the max value is 0.\n"
     ]
    }
   ],
   "source": [
    "print(f\"For the 'order_hour_of_day' column, the min value is {orders_df['order_hour_of_day'].min()} and the max value is {orders_df['order_hour_of_day'].min()}.\")"
   ]
  },
  {
   "cell_type": "code",
   "execution_count": 32,
   "id": "accessory-malaysia",
   "metadata": {
    "scrolled": true
   },
   "outputs": [
    {
     "name": "stdout",
     "output_type": "stream",
     "text": [
      "For the 'order_dow' column, the min value is 0 and the max value is 6.\n"
     ]
    }
   ],
   "source": [
    "print(f\"For the 'order_dow' column, the min value is {orders_df['order_dow'].min()} and the max value is {orders_df['order_dow'].max()}.\")"
   ]
  },
  {
   "cell_type": "markdown",
   "id": "c44ff77d",
   "metadata": {},
   "source": [
    "The min and max values for order_hour_of_day and order_dow are sensible and as expected."
   ]
  },
  {
   "cell_type": "markdown",
   "id": "a6743a70",
   "metadata": {},
   "source": [
    "### What time of day do people shop for groceries?"
   ]
  },
  {
   "cell_type": "code",
   "execution_count": 33,
   "id": "a36cca27",
   "metadata": {},
   "outputs": [
    {
     "data": {
      "image/png": "[encoded data removed]",
      "text/plain": [
       "<Figure size 1000x500 with 1 Axes>"
      ]
     },
     "metadata": {},
     "output_type": "display_data"
    }
   ],
   "source": [
    "# count orders by grouped 'order_hour_of_day'\n",
    "orders_by_hod = orders_df.groupby('order_hour_of_day')['order_id'].nunique()\n",
    "\n",
    "# create list of order_hour_of_day in 12hr am/pm str format\n",
    "order_hour_of_day_12hr = ['12 AM', '1 AM', '2 AM', '3 AM', '4 AM', '5 AM', '6 AM', '7 AM', '8 AM', '9 AM', '10 AM', '11 AM', '12 PM', '1 PM', '2 PM', '3 PM', '4 PM', '5 PM', '6 PM', '7 PM', '8 PM', '9 PM', '10 PM', '11 PM']\n",
    "\n",
    "# replace orders_by_hod index with values from list order_hour_of_day_12hr for use as non-numeric xlabels in bar chart\n",
    "orders_by_hod.index = order_hour_of_day_12hr\n",
    "\n",
    "orders_by_hod.plot(x=orders_by_hod.index,\n",
    "                   kind='bar',\n",
    "                   xlabel='Hour of Day (AM/PM)',\n",
    "                   ylabel='Number of Orders Placed',\n",
    "                   title='What\\'s the Most Poplular Time to Order Groceries on Instacart?',\n",
    "                   rot=65,\n",
    "                   figsize=(10,5),\n",
    "                   color='green'\n",
    "                  )\n",
    "\n",
    "plt.show()"
   ]
  },
  {
   "cell_type": "markdown",
   "id": "e0ff0717",
   "metadata": {},
   "source": [
    "10 AM is the most popular hour. However, 9AM - 5PM are all relatively popular times."
   ]
  },
  {
   "cell_type": "markdown",
   "id": "documented-command",
   "metadata": {},
   "source": [
    "### What day of the week do people shop for groceries?"
   ]
  },
  {
   "cell_type": "code",
   "execution_count": 46,
   "id": "chief-digit",
   "metadata": {},
   "outputs": [
    {
     "data": {
      "image/png": "[encoded data removed]",
      "text/plain": [
       "<Figure size 1000x500 with 1 Axes>"
      ]
     },
     "metadata": {},
     "output_type": "display_data"
    }
   ],
   "source": [
    "# group order count by order_dow\n",
    "orders_by_dow = orders_df.groupby('order_dow')['order_id'].count()\n",
    "\n",
    "# create list of order_dow names\n",
    "order_dow_name = ['Monday', 'Tuesday', 'Wednesday', 'Thursday', 'Friday', 'Saturday', 'Sunday']\n",
    "\n",
    "# replace orders_by_dow index with order_dow_name list so bar chart x-axis has non-numeric dow labels\n",
    "orders_by_dow.index = order_dow_name\n",
    "\n",
    "# plot bar chart\n",
    "orders_by_dow.plot(x=orders_by_dow.index,\n",
    "                   kind='bar',\n",
    "                   xlabel='Day of Week',\n",
    "                   ylabel='Number of Orders Placed',\n",
    "                   title='What\\'s the Most Poplular Day to Order Groceries on Instacart?',\n",
    "                   rot=65,\n",
    "                   figsize=(10,5),\n",
    "                   color='green'\n",
    "                  )\n",
    "\n",
    "plt.show()"
   ]
  },
  {
   "cell_type": "markdown",
   "id": "e0d0012f",
   "metadata": {},
   "source": [
    "Monday is the most popular day to order, yet Tuesday is a close second!\n",
    "\n",
    "\n",
    "It looks consumers tend to place their Instacart orders toward the start of the week."
   ]
  },
  {
   "cell_type": "markdown",
   "id": "cutting-concert",
   "metadata": {},
   "source": [
    "### How long do people wait until placing another order?"
   ]
  },
  {
   "cell_type": "code",
   "execution_count": 35,
   "id": "c231f523",
   "metadata": {},
   "outputs": [
    {
     "data": {
      "image/png": "[encoded data removed]",
      "text/plain": [
       "<Figure size 1000x500 with 1 Axes>"
      ]
     },
     "metadata": {},
     "output_type": "display_data"
    }
   ],
   "source": [
    "# group order count by 'days_since_prior_order'\n",
    "orders_by_days_prior = orders_df.groupby('days_since_prior_order')['order_id'].count()\n",
    "\n",
    "# set index ('days_since_prior_order') to int\n",
    "orders_by_days_prior.index = orders_by_days_prior.index.astype('int')\n",
    "\n",
    "# plot bar chart\n",
    "orders_by_days_prior.plot(x=orders_by_days_prior.index,\n",
    "                   kind='bar',\n",
    "                   xlabel='Count of Days since Previous Order',\n",
    "                   ylabel='Number of Orders Placed',\n",
    "                   title='How Long do People Wait Until Placing Another Instacart Order?',\n",
    "                   rot=55,\n",
    "                   figsize=(10,5),\n",
    "                   color='green'\n",
    "                  )\n",
    "\n",
    "plt.show()"
   ]
  },
  {
   "cell_type": "markdown",
   "id": "80959b3b",
   "metadata": {},
   "source": [
    "- Most people wait 30 days (about a month) to place a subsequent Instacart order.\n",
    "- Waiting 7 days (a week) is the second most common occurrence.\n",
    "- The maximum time between two orders is 30 days while the mimimum time is 0 days.\n",
    "  - In this case, 0 represents customers placing multiple orders in a day.**"
   ]
  },
  {
   "cell_type": "markdown",
   "id": "packed-classic",
   "metadata": {},
   "source": [
    "### Is there a difference in `'order_hour_of_day'` distributions on Wednesdays and Saturdays? Plot the histograms for both days and describe the differences that you see."
   ]
  },
  {
   "cell_type": "code",
   "execution_count": 36,
   "id": "d89b8403",
   "metadata": {},
   "outputs": [
    {
     "data": {
      "image/png": "[encoded data removed]",
      "text/plain": [
       "<Figure size 1000x500 with 1 Axes>"
      ]
     },
     "metadata": {},
     "output_type": "display_data"
    }
   ],
   "source": [
    "# plot histogram showing distribution of order count by order hour of day on Wednesday\n",
    "orders_df[orders_df['order_dow'] == 2]['order_hour_of_day'].plot(\n",
    "    kind='hist',\n",
    "    alpha=.8,\n",
    "    xlim=[0,23],\n",
    "    figsize=(10,5),\n",
    "    color='blue',\n",
    "    bins=24)\n",
    "\n",
    "# plot histogram showing distribution of order count by order hour of day on Saturday\n",
    "orders_df[orders_df['order_dow'] == 5]['order_hour_of_day'].plot(\n",
    "    kind='hist',\n",
    "    alpha=.65, \n",
    "    edgecolor='black',\n",
    "    color='orange',\n",
    "    bins=24)\n",
    "\n",
    "# set y-axis label\n",
    "plt.ylabel('Number of Orders')\n",
    "\n",
    "# set x-axis label\n",
    "plt.xlabel('Hour of Day')\n",
    "\n",
    "# set x-axis ticks to display order_hour_of_day in a reader-friendly, 12hr am/pm format \n",
    "plt.xticks(ticks=[0, 5, 10, 15, 20], labels=['12 AM', '5 AM', '10 AM', '3 PM', '8 PM'])\n",
    "\n",
    "# set legend\n",
    "plt.legend(['Wednesday','Saturday'])\n",
    "\n",
    "# set title\n",
    "plt.title('Do Customers Order at Different Times on Wednesday vs. Saturday?')\n",
    "\n",
    "plt.show()"
   ]
  },
  {
   "cell_type": "markdown",
   "id": "32370c37",
   "metadata": {},
   "source": [
    "Overall, customers typically place more orders each hour on Wednesdays compared to Saturdays.\n",
    "\n",
    "Wednesday's increased ordering behavior is driven by the hours 8 AM through 10 PM, however\n",
    "Saturday has more orders than Wednesday across several hours including 5 AM, 7 AM, and 3 PM."
   ]
  },
  {
   "cell_type": "markdown",
   "id": "e3891143",
   "metadata": {},
   "source": [
    "### What's the distribution for the number of orders per customer?"
   ]
  },
  {
   "cell_type": "code",
   "execution_count": 37,
   "id": "d8c26c23",
   "metadata": {},
   "outputs": [
    {
     "data": {
      "image/png": "[encoded data removed]",
      "text/plain": [
       "<Figure size 1000x500 with 1 Axes>"
      ]
     },
     "metadata": {},
     "output_type": "display_data"
    },
    {
     "name": "stdout",
     "output_type": "stream",
     "text": [
      "35.2% of users place 1 order while 86.2% (a high majority) of customers place 5 or fewer orders.\n"
     ]
    }
   ],
   "source": [
    "# group user_ids by count of orders\n",
    "orders_per_cust = orders_df.groupby('user_id')['order_id'].count()\n",
    "\n",
    "# rename series column\n",
    "orders_per_cust.name = 'orders_per_user'\n",
    "\n",
    "# get count of users by orders_per_cust\n",
    "num_users_per_ordercnt = orders_per_cust.value_counts()\n",
    "\n",
    "# create new df from series -> make current index a new column and then reset the index of the df\n",
    "percent_users_dist = num_users_per_ordercnt.reset_index()\n",
    "\n",
    "# rename df columns\n",
    "percent_users_dist.columns = ['orders_per_customer','count_users']\n",
    "\n",
    "# create % distibution of total users column for use in summary analysis\n",
    "percent_users_dist['percent_total_users'] = (percent_users_dist['count_users']/percent_users_dist['count_users'].sum())\n",
    "\n",
    "# plot distribution of order count per customer\n",
    "orders_per_cust.plot(\n",
    "    kind='hist',\n",
    "    figsize=(10,5),\n",
    "    color='green',\n",
    "    edgecolor='black',\n",
    "    xlim=(1,28),\n",
    "    bins=28)\n",
    "\n",
    "# set y-axis label\n",
    "plt.ylabel('Count of Customers')\n",
    "\n",
    "# set x-axis label\n",
    "plt.xlabel('Number of Orders per Customer')\n",
    "\n",
    "# set title\n",
    "plt.title('How Many Orders Does Each Customer Place?')\n",
    "\n",
    "plt.show()\n",
    "print(f\"{percent_users_dist.iloc[0,2]:.1%} of users place 1 order while {percent_users_dist.iloc[0:5,2].sum():.1%} (a high majority) of customers place 5 or fewer orders.\")"
   ]
  },
  {
   "cell_type": "markdown",
   "id": "268b5b03",
   "metadata": {},
   "source": [
    "In the above graph, I created a bin for every possible value of orders per user since there is a meaningful differentiation between users with 1 order and 2 orders, for example. I made my x axis extend up to the max tick value of orders per user (28 orders) to showcase the range of orders per customer, but also could have cut it off after somewhere between 15 and 20 to only highlight the majority of easily visible data."
   ]
  },
  {
   "cell_type": "markdown",
   "id": "54a0319c",
   "metadata": {},
   "source": [
    "### What are the top 20 popular products? Display their id and name."
   ]
  },
  {
   "cell_type": "code",
   "execution_count": 38,
   "id": "exterior-arizona",
   "metadata": {},
   "outputs": [
    {
     "name": "stdout",
     "output_type": "stream",
     "text": [
      "Here are the top 20 most popular products ordered on Instacart:\n",
      "\n",
      "            product_name  product_id\n",
      "                  Banana       24852\n",
      "  Bag of Organic Bananas       13176\n",
      "    Organic Strawberries       21137\n",
      "    Organic Baby Spinach       21903\n",
      "    Organic Hass Avocado       47209\n",
      "         Organic Avocado       47766\n",
      "             Large Lemon       47626\n",
      "            Strawberries       16797\n",
      "                   Limes       26209\n",
      "      Organic Whole Milk       27845\n",
      "     Organic Raspberries       27966\n",
      "    Organic Yellow Onion       22935\n",
      "          Organic Garlic       24964\n",
      "        Organic Zucchini       45007\n",
      "     Organic Blueberries       39275\n",
      "          Cucumber Kirby       49683\n",
      "      Organic Fuji Apple       28204\n",
      "           Organic Lemon        5876\n",
      "Apple Honeycrisp Organic        8277\n",
      "  Organic Grape Tomatoes       40706\n"
     ]
    }
   ],
   "source": [
    "# get product name from products_df\n",
    "merged_orderprd_prd = order_products_df.merge(products_df,how='left',on='product_id')\n",
    "\n",
    "# drop unneccessary columns\n",
    "merged_orderprd_prd = merged_orderprd_prd.drop(['add_to_cart_order','reordered','aisle_id','department_id'], axis='columns')\n",
    "\n",
    "# get count of ordered products grouped by product\n",
    "prod_count = merged_orderprd_prd.groupby(['product_name','product_id'])['product_name'].count()\n",
    "\n",
    "# rename series column\n",
    "prod_count.name = 'count_ordered'\n",
    "\n",
    "# sort series in descending order by count ordered per product\n",
    "prod_count = prod_count.sort_values(ascending=False)\n",
    "\n",
    "# index to store top 20 product, turn series into DataFrame, and then reset the index\n",
    "output = prod_count.iloc[0:20].reset_index()\n",
    "\n",
    "print(\"Here are the top 20 most popular products ordered on Instacart:\\n\")\n",
    "# print only the product_name and product_id for the top 20 products\n",
    "print(output.loc[:,['product_name','product_id']].to_string(index=False))\n"
   ]
  },
  {
   "cell_type": "markdown",
   "id": "5a2a246c",
   "metadata": {},
   "source": [
    "With the exception of one dairy product (organic whole milk), the top 20 most popular products are produce. Bananas represent the top 2 most popular products with single bananas being the most popluar and bagged organic bananas being the second most popular."
   ]
  },
  {
   "cell_type": "markdown",
   "id": "romantic-deposit",
   "metadata": {},
   "source": [
    "### How many items do people typically buy in one order? What does the distribution look like?"
   ]
  },
  {
   "cell_type": "code",
   "execution_count": 39,
   "id": "virtual-punch",
   "metadata": {},
   "outputs": [
    {
     "name": "stdout",
     "output_type": "stream",
     "text": [
      "Describe cnt_odr_by_user:\n",
      "\n",
      "        total_item_count    order_count  avg_items_per_order\n",
      "count     149626.000000  149626.000000        149626.000000\n",
      "mean          30.375784       3.007806            10.036562\n",
      "std           35.873511       2.755336             6.735305\n",
      "min            1.000000       1.000000             1.000000\n",
      "25%            9.000000       1.000000             5.000000\n",
      "50%           18.000000       2.000000             8.750000\n",
      "75%           38.000000       4.000000            13.333333\n",
      "max          580.000000      28.000000            81.500000\n",
      "\n",
      "Instacart customers typically (on average) buy 10 items in one order.\n"
     ]
    },
    {
     "data": {
      "image/png": "[encoded data removed]",
      "text/plain": [
       "<Figure size 1000x500 with 1 Axes>"
      ]
     },
     "metadata": {},
     "output_type": "display_data"
    },
    {
     "name": "stdout",
     "output_type": "stream",
     "text": [
      "75% of customers place orders with less than 13.3 avg. items per order.\n"
     ]
    }
   ],
   "source": [
    "# get all products and orders for each user\n",
    "merged_odr_odrprod = orders_df.merge(order_products_df,on='order_id')\n",
    "\n",
    "# drop unnecessary columns\n",
    "merged_odr_odrprod = merged_odr_odrprod.drop(['add_to_cart_order','reordered','days_since_prior_order','order_hour_of_day','order_dow'], axis='columns')\n",
    "\n",
    "# make a dictionary for agg() method used below\n",
    "agg_dict = {'product_id': 'count', 'order_id': 'nunique'}\n",
    "\n",
    "# designate user_id as the groupby column\n",
    "grp = merged_odr_odrprod.groupby('user_id')\n",
    "\n",
    "# apply summary stats from agg_dict for user_id col\n",
    "cnt_odr_prods_by_user = grp.agg(agg_dict)\n",
    "\n",
    "# rename cols\n",
    "cnt_odr_prods_by_user.columns = ['total_item_count','order_count']\n",
    "\n",
    "# make new df col from calc to get the avg number of items each user ordered per order\n",
    "cnt_odr_prods_by_user['avg_items_per_order'] = cnt_odr_prods_by_user['total_item_count']/cnt_odr_prods_by_user['order_count']\n",
    "\n",
    "# describe cnt_odr_prods_by_user to understand min and max values of columns \n",
    "# and see if median or mean is a better measure of how many items people typically buy in one order\n",
    "print(\"Describe cnt_odr_by_user:\\n\\n\",cnt_odr_prods_by_user.describe()) \n",
    "\n",
    "# print answer to to question \"How many items do people typically buy in one order?\"\n",
    "print(f\"\\nInstacart customers typically (on average) buy {cnt_odr_prods_by_user['avg_items_per_order'].mean().astype('int')} items in one order.\")\n",
    "\n",
    "# plot distribution of order count per customer\n",
    "cnt_odr_prods_by_user['avg_items_per_order'].plot(\n",
    "    kind='hist',\n",
    "    figsize=(10,5),\n",
    "    color='green',\n",
    "    edgecolor='black',\n",
    "    bins=82,\n",
    "    xlim=[1,42]) \n",
    "\n",
    "# set y-axis label\n",
    "plt.ylabel('Count of Customers')\n",
    "\n",
    "# set x-axis label\n",
    "plt.xlabel('Avg. Number of Products Purchased per Order')\n",
    "\n",
    "# set title\n",
    "plt.title('Distribution of Customers by Avg. Number of Items per Order')\n",
    "\n",
    "plt.show()\n",
    "print(\"75% of customers place orders with less than 13.3 avg. items per order.\")\n"
   ]
  },
  {
   "cell_type": "markdown",
   "id": "c16a5177",
   "metadata": {},
   "source": [
    "Upon merging (how='left') the orders_df and order_products_df DataFrames together, it was clear that many orders did not have an associated product_id, therefore resulting in 0 total (known) items in those orders. I decided to exclude those orders and therefore did an inner merge instead.\n",
    "\n",
    "Although I purposely excluded the orders with 0 total (known) items, I saw that many (over 8k) customers only were associated with an order(s) with 0 items. These orders could potentially represent cancelled orders or orders where the customer placed an order for an item(s) that were out of stock. It could also point to an issue with the data in order_products_df--perhaps the product_ids were not being collected properly for some orders. Given the meaningful share of customers with an avg. of 0 items per order, I wanted to comment on this insight.\n",
    "\n",
    "I chose the mean value of my data, the avg. items per order each customer has, as the overall answer to this question since the mean (10.04) is hardly larger than the median value (8.75). I then converted the mean to an integer to simplify my answer for the reader.\n",
    "\n",
    "For the histogram representing the distribution of customers by their avg. number of items per order, I made the xlim for my graph 42 because results were not very visible or meaningful to the chart past that point. I made my bin size 82 based on the max value of avg_items_per_order for a user (81.5) so I had a bar to roughly represent each integer value and therefore, visually differentiate the amount of customers who placed orders with an avg. of only one item vs. any other number of items."
   ]
  },
  {
   "cell_type": "markdown",
   "id": "5e6b5537",
   "metadata": {},
   "source": [
    "### What are the top 20 items that are reordered most frequently? Display their names and product IDs."
   ]
  },
  {
   "cell_type": "code",
   "execution_count": 40,
   "id": "9374e55a",
   "metadata": {},
   "outputs": [
    {
     "name": "stdout",
     "output_type": "stream",
     "text": [
      "Here are the top 20 most reordered products ordered on Instacart:\n",
      "\n",
      "            product_name  product_id\n",
      "                  Banana       24852\n",
      "  Bag of Organic Bananas       13176\n",
      "    Organic Strawberries       21137\n",
      "    Organic Baby Spinach       21903\n",
      "    Organic Hass Avocado       47209\n",
      "         Organic Avocado       47766\n",
      "      Organic Whole Milk       27845\n",
      "             Large Lemon       47626\n",
      "     Organic Raspberries       27966\n",
      "            Strawberries       16797\n",
      "                   Limes       26209\n",
      "    Organic Yellow Onion       22935\n",
      "          Organic Garlic       24964\n",
      "        Organic Zucchini       45007\n",
      "          Cucumber Kirby       49683\n",
      "      Organic Fuji Apple       28204\n",
      "Apple Honeycrisp Organic        8277\n",
      "     Organic Blueberries       39275\n",
      "           Organic Lemon        5876\n",
      "     Organic Half & Half       49235\n"
     ]
    }
   ],
   "source": [
    "# group sum of reordered by product_id\n",
    "reord_cnt_by_prod = order_products_df.groupby('product_id')['reordered'].sum().sort_values(ascending=False)\n",
    "\n",
    "# reset index and convert into df\n",
    "reord_cnt_by_prod = reord_cnt_by_prod.reset_index()\n",
    "\n",
    "# get product name from products_df\n",
    "reord_cnt_prod_name = reord_cnt_by_prod.merge(products_df[['product_id','product_name']],on='product_id')\n",
    "\n",
    "print(\"Here are the top 20 most reordered products ordered on Instacart:\\n\")\n",
    "# print only the product_name and product_id for the top 20 reordered products\n",
    "print(reord_cnt_prod_name.loc[0:19,['product_name','product_id']].to_string(index=False))\n"
   ]
  },
  {
   "cell_type": "markdown",
   "id": "e1a017a7",
   "metadata": {},
   "source": [
    "Bananas are also the most reordered product! The top 20 most reordered items has quite a bit of overlap with the list of the top 20 popular items; people may be more likely to reorder popular items."
   ]
  },
  {
   "cell_type": "markdown",
   "id": "9d312b14",
   "metadata": {},
   "source": [
    "### For each product, what proportion of its orders are reorders?"
   ]
  },
  {
   "cell_type": "code",
   "execution_count": 41,
   "id": "8ae9f4b1",
   "metadata": {},
   "outputs": [
    {
     "data": {
      "text/html": [
       "<div>\n",
       "<style scoped>\n",
       "    .dataframe tbody tr th:only-of-type {\n",
       "        vertical-align: middle;\n",
       "    }\n",
       "\n",
       "    .dataframe tbody tr th {\n",
       "        vertical-align: top;\n",
       "    }\n",
       "\n",
       "    .dataframe thead th {\n",
       "        text-align: right;\n",
       "    }\n",
       "</style>\n",
       "<table border=\"1\" class=\"dataframe\">\n",
       "  <thead>\n",
       "    <tr style=\"text-align: right;\">\n",
       "      <th></th>\n",
       "      <th>product_id</th>\n",
       "      <th>product_name</th>\n",
       "      <th>% Reorders / Total Orders</th>\n",
       "    </tr>\n",
       "  </thead>\n",
       "  <tbody>\n",
       "    <tr>\n",
       "      <th>0</th>\n",
       "      <td>14721</td>\n",
       "      <td>Bone Strength Take Care</td>\n",
       "      <td>100.0</td>\n",
       "    </tr>\n",
       "    <tr>\n",
       "      <th>1</th>\n",
       "      <td>20949</td>\n",
       "      <td>Vanilla Sandwich Cookies</td>\n",
       "      <td>100.0</td>\n",
       "    </tr>\n",
       "    <tr>\n",
       "      <th>2</th>\n",
       "      <td>6723</td>\n",
       "      <td>Palmiers- Petite</td>\n",
       "      <td>100.0</td>\n",
       "    </tr>\n",
       "    <tr>\n",
       "      <th>3</th>\n",
       "      <td>6732</td>\n",
       "      <td>Naturally Sparkling Mineral Water</td>\n",
       "      <td>100.0</td>\n",
       "    </tr>\n",
       "    <tr>\n",
       "      <th>4</th>\n",
       "      <td>45088</td>\n",
       "      <td>California Dill Pollen &amp; Garlic Goat Cheese &amp; ...</td>\n",
       "      <td>100.0</td>\n",
       "    </tr>\n",
       "    <tr>\n",
       "      <th>...</th>\n",
       "      <td>...</td>\n",
       "      <td>...</td>\n",
       "      <td>...</td>\n",
       "    </tr>\n",
       "    <tr>\n",
       "      <th>45568</th>\n",
       "      <td>10485</td>\n",
       "      <td>Caramel Apple Pop</td>\n",
       "      <td>0.0</td>\n",
       "    </tr>\n",
       "    <tr>\n",
       "      <th>45569</th>\n",
       "      <td>37690</td>\n",
       "      <td>Calypso Fresh 2X Concentrated ScentSations 166...</td>\n",
       "      <td>0.0</td>\n",
       "    </tr>\n",
       "    <tr>\n",
       "      <th>45570</th>\n",
       "      <td>10484</td>\n",
       "      <td>Avocado And Greens</td>\n",
       "      <td>0.0</td>\n",
       "    </tr>\n",
       "    <tr>\n",
       "      <th>45571</th>\n",
       "      <td>10474</td>\n",
       "      <td>NuStevia White Stevia Powder</td>\n",
       "      <td>0.0</td>\n",
       "    </tr>\n",
       "    <tr>\n",
       "      <th>45572</th>\n",
       "      <td>42984</td>\n",
       "      <td>Salsa For All Seasons Half Guacamole Half Roas...</td>\n",
       "      <td>0.0</td>\n",
       "    </tr>\n",
       "  </tbody>\n",
       "</table>\n",
       "<p>45573 rows × 3 columns</p>\n",
       "</div>"
      ],
      "text/plain": [
       "       product_id                                       product_name  \\\n",
       "0           14721                            Bone Strength Take Care   \n",
       "1           20949                           Vanilla Sandwich Cookies   \n",
       "2            6723                                   Palmiers- Petite   \n",
       "3            6732                  Naturally Sparkling Mineral Water   \n",
       "4           45088  California Dill Pollen & Garlic Goat Cheese & ...   \n",
       "...           ...                                                ...   \n",
       "45568       10485                                  Caramel Apple Pop   \n",
       "45569       37690  Calypso Fresh 2X Concentrated ScentSations 166...   \n",
       "45570       10484                                 Avocado And Greens   \n",
       "45571       10474                       NuStevia White Stevia Powder   \n",
       "45572       42984  Salsa For All Seasons Half Guacamole Half Roas...   \n",
       "\n",
       "       % Reorders / Total Orders  \n",
       "0                          100.0  \n",
       "1                          100.0  \n",
       "2                          100.0  \n",
       "3                          100.0  \n",
       "4                          100.0  \n",
       "...                          ...  \n",
       "45568                        0.0  \n",
       "45569                        0.0  \n",
       "45570                        0.0  \n",
       "45571                        0.0  \n",
       "45572                        0.0  \n",
       "\n",
       "[45573 rows x 3 columns]"
      ]
     },
     "execution_count": 41,
     "metadata": {},
     "output_type": "execute_result"
    }
   ],
   "source": [
    "# get product name and calculate % reorder share\n",
    "reorder_share = order_products_df.merge(products_df,on='product_id').groupby(['product_id', 'product_name'])['reordered'].mean()*100\n",
    "\n",
    "# rename columns\n",
    "reorder_share.name = '% Reorders / Total Orders'\n",
    "\n",
    "# sort '% Reorders / Total Orders' in descending order for readability of output\n",
    "output_sorted = reorder_share.sort_values(ascending=False)\n",
    "\n",
    "# reset_index to turn into df\n",
    "output_sorted.reset_index()"
   ]
  },
  {
   "cell_type": "markdown",
   "id": "10f41c43",
   "metadata": {},
   "source": [
    "Some products have a 0% share of reorders out of total orders while other products have a 100% share of reorders out of total orders. It should in theory be impossible for a product to have a 100% share of reorders out of total orders since each product has to be ordered once to be able to be reordered and the first time it's ever ordered would not be a reorder.\n",
    "\n",
    "I looked at a few examples of products that had a 100% share of reorders out of total orders directly in order_products_df and confirmed they only had row where reordered = 1. The dataset must exclude previous instances of these products being ordered; otherwise, the reordered col values are being collected incorrectly in the data set (original csv files)."
   ]
  },
  {
   "cell_type": "markdown",
   "id": "subject-boxing",
   "metadata": {},
   "source": [
    "### For each customer, what proportion of their products ordered are reorders?"
   ]
  },
  {
   "cell_type": "code",
   "execution_count": 42,
   "id": "medical-couple",
   "metadata": {},
   "outputs": [
    {
     "data": {
      "text/html": [
       "<div>\n",
       "<style scoped>\n",
       "    .dataframe tbody tr th:only-of-type {\n",
       "        vertical-align: middle;\n",
       "    }\n",
       "\n",
       "    .dataframe tbody tr th {\n",
       "        vertical-align: top;\n",
       "    }\n",
       "\n",
       "    .dataframe thead th {\n",
       "        text-align: right;\n",
       "    }\n",
       "</style>\n",
       "<table border=\"1\" class=\"dataframe\">\n",
       "  <thead>\n",
       "    <tr style=\"text-align: right;\">\n",
       "      <th></th>\n",
       "      <th>user_id</th>\n",
       "      <th>% Reordered Products/Total Products</th>\n",
       "    </tr>\n",
       "  </thead>\n",
       "  <tbody>\n",
       "    <tr>\n",
       "      <th>0</th>\n",
       "      <td>137587</td>\n",
       "      <td>100.0</td>\n",
       "    </tr>\n",
       "    <tr>\n",
       "      <th>1</th>\n",
       "      <td>173474</td>\n",
       "      <td>100.0</td>\n",
       "    </tr>\n",
       "    <tr>\n",
       "      <th>2</th>\n",
       "      <td>13918</td>\n",
       "      <td>100.0</td>\n",
       "    </tr>\n",
       "    <tr>\n",
       "      <th>3</th>\n",
       "      <td>62300</td>\n",
       "      <td>100.0</td>\n",
       "    </tr>\n",
       "    <tr>\n",
       "      <th>4</th>\n",
       "      <td>62307</td>\n",
       "      <td>100.0</td>\n",
       "    </tr>\n",
       "    <tr>\n",
       "      <th>...</th>\n",
       "      <td>...</td>\n",
       "      <td>...</td>\n",
       "    </tr>\n",
       "    <tr>\n",
       "      <th>149621</th>\n",
       "      <td>190953</td>\n",
       "      <td>0.0</td>\n",
       "    </tr>\n",
       "    <tr>\n",
       "      <th>149622</th>\n",
       "      <td>119371</td>\n",
       "      <td>0.0</td>\n",
       "    </tr>\n",
       "    <tr>\n",
       "      <th>149623</th>\n",
       "      <td>63173</td>\n",
       "      <td>0.0</td>\n",
       "    </tr>\n",
       "    <tr>\n",
       "      <th>149624</th>\n",
       "      <td>63163</td>\n",
       "      <td>0.0</td>\n",
       "    </tr>\n",
       "    <tr>\n",
       "      <th>149625</th>\n",
       "      <td>165726</td>\n",
       "      <td>0.0</td>\n",
       "    </tr>\n",
       "  </tbody>\n",
       "</table>\n",
       "<p>149626 rows × 2 columns</p>\n",
       "</div>"
      ],
      "text/plain": [
       "        user_id  % Reordered Products/Total Products\n",
       "0        137587                                100.0\n",
       "1        173474                                100.0\n",
       "2         13918                                100.0\n",
       "3         62300                                100.0\n",
       "4         62307                                100.0\n",
       "...         ...                                  ...\n",
       "149621   190953                                  0.0\n",
       "149622   119371                                  0.0\n",
       "149623    63173                                  0.0\n",
       "149624    63163                                  0.0\n",
       "149625   165726                                  0.0\n",
       "\n",
       "[149626 rows x 2 columns]"
      ]
     },
     "execution_count": 42,
     "metadata": {},
     "output_type": "execute_result"
    }
   ],
   "source": [
    "# get product_id and reordered col from order_products_df with an inner merge on order_id\n",
    "cust_prods = orders_df.merge(order_products_df[['order_id','product_id','reordered']],on='order_id')\n",
    "\n",
    "\n",
    "# create a pivot table to get the mean of the reordered col\n",
    "cust_pivot = cust_prods.pivot_table(index='user_id',\n",
    "                            values='reordered',\n",
    "                            aggfunc='mean'\n",
    "                           )\n",
    "\n",
    "# rename cols\n",
    "cust_pivot.columns = ['% Reordered Products/Total Products']\n",
    "\n",
    "# get % values\n",
    "cust_pivot['% Reordered Products/Total Products'] = cust_pivot['% Reordered Products/Total Products']*100\n",
    "\n",
    "#sort output for readability in order of % Reordered Products/Total Products descending\n",
    "cust_pivot = cust_pivot.sort_values(by='% Reordered Products/Total Products',ascending=False)\n",
    "\n",
    "# reset index for output\n",
    "cust_pivot.reset_index()"
   ]
  },
  {
   "cell_type": "markdown",
   "id": "30da1911",
   "metadata": {},
   "source": [
    "While some users have never reordered an item, others have only ordered items that they have also reordered. It should theorhetically be impossible for a user to have a share of 100% reorders out of total orders since a user must order a product for a first time before being able to reorder it, but it's clear from checking a few examples that this dataset excludes historical data (it doesn't necessarily contain every user's first order)."
   ]
  },
  {
   "cell_type": "markdown",
   "id": "92d35137",
   "metadata": {},
   "source": [
    "### What are the top 20 items that people put in their carts first? "
   ]
  },
  {
   "cell_type": "code",
   "execution_count": 43,
   "id": "0ae57274",
   "metadata": {},
   "outputs": [
    {
     "data": {
      "text/html": [
       "<div>\n",
       "<style scoped>\n",
       "    .dataframe tbody tr th:only-of-type {\n",
       "        vertical-align: middle;\n",
       "    }\n",
       "\n",
       "    .dataframe tbody tr th {\n",
       "        vertical-align: top;\n",
       "    }\n",
       "\n",
       "    .dataframe thead th {\n",
       "        text-align: right;\n",
       "    }\n",
       "</style>\n",
       "<table border=\"1\" class=\"dataframe\">\n",
       "  <thead>\n",
       "    <tr style=\"text-align: right;\">\n",
       "      <th></th>\n",
       "      <th>Product ID</th>\n",
       "      <th>Product Name</th>\n",
       "      <th>Count - Added to Cart First</th>\n",
       "    </tr>\n",
       "  </thead>\n",
       "  <tbody>\n",
       "    <tr>\n",
       "      <th>1</th>\n",
       "      <td>24852</td>\n",
       "      <td>Banana</td>\n",
       "      <td>15562</td>\n",
       "    </tr>\n",
       "    <tr>\n",
       "      <th>2</th>\n",
       "      <td>13176</td>\n",
       "      <td>Bag of Organic Bananas</td>\n",
       "      <td>11026</td>\n",
       "    </tr>\n",
       "    <tr>\n",
       "      <th>3</th>\n",
       "      <td>27845</td>\n",
       "      <td>Organic Whole Milk</td>\n",
       "      <td>4363</td>\n",
       "    </tr>\n",
       "    <tr>\n",
       "      <th>4</th>\n",
       "      <td>21137</td>\n",
       "      <td>Organic Strawberries</td>\n",
       "      <td>3946</td>\n",
       "    </tr>\n",
       "    <tr>\n",
       "      <th>5</th>\n",
       "      <td>47209</td>\n",
       "      <td>Organic Hass Avocado</td>\n",
       "      <td>3390</td>\n",
       "    </tr>\n",
       "    <tr>\n",
       "      <th>6</th>\n",
       "      <td>21903</td>\n",
       "      <td>Organic Baby Spinach</td>\n",
       "      <td>3336</td>\n",
       "    </tr>\n",
       "    <tr>\n",
       "      <th>7</th>\n",
       "      <td>47766</td>\n",
       "      <td>Organic Avocado</td>\n",
       "      <td>3044</td>\n",
       "    </tr>\n",
       "    <tr>\n",
       "      <th>8</th>\n",
       "      <td>19660</td>\n",
       "      <td>Spring Water</td>\n",
       "      <td>2336</td>\n",
       "    </tr>\n",
       "    <tr>\n",
       "      <th>9</th>\n",
       "      <td>16797</td>\n",
       "      <td>Strawberries</td>\n",
       "      <td>2308</td>\n",
       "    </tr>\n",
       "    <tr>\n",
       "      <th>10</th>\n",
       "      <td>27966</td>\n",
       "      <td>Organic Raspberries</td>\n",
       "      <td>2024</td>\n",
       "    </tr>\n",
       "    <tr>\n",
       "      <th>11</th>\n",
       "      <td>44632</td>\n",
       "      <td>Sparkling Water Grapefruit</td>\n",
       "      <td>1914</td>\n",
       "    </tr>\n",
       "    <tr>\n",
       "      <th>12</th>\n",
       "      <td>49235</td>\n",
       "      <td>Organic Half &amp; Half</td>\n",
       "      <td>1797</td>\n",
       "    </tr>\n",
       "    <tr>\n",
       "      <th>13</th>\n",
       "      <td>47626</td>\n",
       "      <td>Large Lemon</td>\n",
       "      <td>1737</td>\n",
       "    </tr>\n",
       "    <tr>\n",
       "      <th>14</th>\n",
       "      <td>196</td>\n",
       "      <td>Soda</td>\n",
       "      <td>1733</td>\n",
       "    </tr>\n",
       "    <tr>\n",
       "      <th>15</th>\n",
       "      <td>38689</td>\n",
       "      <td>Organic Reduced Fat Milk</td>\n",
       "      <td>1397</td>\n",
       "    </tr>\n",
       "    <tr>\n",
       "      <th>16</th>\n",
       "      <td>26209</td>\n",
       "      <td>Limes</td>\n",
       "      <td>1370</td>\n",
       "    </tr>\n",
       "    <tr>\n",
       "      <th>17</th>\n",
       "      <td>12341</td>\n",
       "      <td>Hass Avocados</td>\n",
       "      <td>1340</td>\n",
       "    </tr>\n",
       "    <tr>\n",
       "      <th>18</th>\n",
       "      <td>5785</td>\n",
       "      <td>Organic Reduced Fat 2% Milk</td>\n",
       "      <td>1310</td>\n",
       "    </tr>\n",
       "    <tr>\n",
       "      <th>19</th>\n",
       "      <td>27086</td>\n",
       "      <td>Half &amp; Half</td>\n",
       "      <td>1309</td>\n",
       "    </tr>\n",
       "    <tr>\n",
       "      <th>20</th>\n",
       "      <td>43352</td>\n",
       "      <td>Raspberries</td>\n",
       "      <td>1246</td>\n",
       "    </tr>\n",
       "  </tbody>\n",
       "</table>\n",
       "</div>"
      ],
      "text/plain": [
       "    Product ID                 Product Name  Count - Added to Cart First\n",
       "1        24852                       Banana                        15562\n",
       "2        13176       Bag of Organic Bananas                        11026\n",
       "3        27845           Organic Whole Milk                         4363\n",
       "4        21137         Organic Strawberries                         3946\n",
       "5        47209         Organic Hass Avocado                         3390\n",
       "6        21903         Organic Baby Spinach                         3336\n",
       "7        47766              Organic Avocado                         3044\n",
       "8        19660                 Spring Water                         2336\n",
       "9        16797                 Strawberries                         2308\n",
       "10       27966          Organic Raspberries                         2024\n",
       "11       44632   Sparkling Water Grapefruit                         1914\n",
       "12       49235          Organic Half & Half                         1797\n",
       "13       47626                  Large Lemon                         1737\n",
       "14         196                         Soda                         1733\n",
       "15       38689     Organic Reduced Fat Milk                         1397\n",
       "16       26209                        Limes                         1370\n",
       "17       12341                Hass Avocados                         1340\n",
       "18        5785  Organic Reduced Fat 2% Milk                         1310\n",
       "19       27086                  Half & Half                         1309\n",
       "20       43352                  Raspberries                         1246"
      ]
     },
     "execution_count": 43,
     "metadata": {},
     "output_type": "execute_result"
    }
   ],
   "source": [
    "# filter df to get rows where product was added to cart first\n",
    "products_added_first = order_products_df[order_products_df['add_to_cart_order'] == 1.0]\n",
    "\n",
    "# sum total of times item was added to cart first by product_id\n",
    "count_first_adds_by_prod = products_added_first.groupby('product_id')['add_to_cart_order'].sum()\n",
    "count_first_adds_by_prod.name = 'count_added_to_cart_first'\n",
    "\n",
    "# reset index\n",
    "count_first_adds_by_prod = count_first_adds_by_prod.reset_index()\n",
    "\n",
    "# get product name from products_df via merge\n",
    "first_adds_by_prod_name = count_first_adds_by_prod.merge(products_df[['product_id','product_name']],on='product_id',how='left')\n",
    "\n",
    "\n",
    "# sort in desc order of count of times product was added to cart first\n",
    "output_sorted = first_adds_by_prod_name.sort_values(by='count_added_to_cart_first',ascending=False)\n",
    "\n",
    "# rename columns\n",
    "output_sorted.columns = ['Product ID','Count - Added to Cart First','Product Name']\n",
    "\n",
    "# reset index\n",
    "output_sorted = output_sorted.reset_index(drop=True)\n",
    "\n",
    "# grab top 20 items\n",
    "output_sorted = output_sorted.iloc[0:20]\n",
    "\n",
    "# set index to reflect desired range\n",
    "output_sorted.index = range(1,21)\n",
    "\n",
    "# print result in desired column order\n",
    "output_sorted[['Product ID','Product Name','Count - Added to Cart First']]"
   ]
  },
  {
   "cell_type": "markdown",
   "id": "dcad4149",
   "metadata": {},
   "source": [
    "Bananas are also added to the cart first most frequently! The top 20 items that are added to the cart first often is a mix of produce, dairy products, water, and carbonated water."
   ]
  },
  {
   "cell_type": "markdown",
   "id": "5acb1f75",
   "metadata": {},
   "source": [
    "# Project Conclusion\n",
    "\n",
    "This project resulted in some very interesting takeaways about consumer shopping behaviors on Instacart.\n",
    "\n",
    "#### High-level Takeaways:\n",
    "Instacart customers tend to shop earlier in the week between 9 AM - 5 PM. For customers with more than one order, most place a subseqent order about a month later, but otherwise a majority of customers place another order in a week or less. Produce and dairy milk products are among the most popular products a) in general, b) in terms of the products customers reorder, and c) in terms of the products customers add to their cart first. Notably, bananas took the top spot among all three of the proceeding categories!A high majority of customers place 5 of fewer orders while 35.2% of customers only place 1 order.\n",
    "\n",
    "\n",
    "#### Let’s take a look at a summary of the specific insights the analysis uncovered:\n",
    "\n",
    "- *When do consumers shop on Instacart?*\n",
    "\t- 10 AM was the most popular hour to place orders, however most orders occur between 9 AM and 5 PM in general.\n",
    "\t- Monday is the most popular day of the week to place orders, closely followed by Tuesday. \n",
    "\t- Most people wait 30 days (about a month) to place a subsequent order on Instacart, but 7 days (a week) later was the second most common amount of time between orders. Additionally, it’s more common to place a subsequent order within a week than it is to place a subsequent order anytime after a week but before a month.\n",
    "\t- Ordering behavior by time of day can vary slightly by the day of week the order was placed.\n",
    "    \n",
    "\n",
    "- *How frequently do customers place orders and how many products (items) do they buy per order?*\n",
    "  - 35.2% of users place 1 order while 86.2% (a high majority) of customers place 5 or fewer orders.\n",
    "  - On average, customers buy 10 items per order. 75% of customers place orders with less than 13.3 avg. items per order.\n",
    "  - Over 8k customers are associated with orders that have 0 associated products; this could represent orders that were not successfully fulfilled (perhaps the product(s) was out of stock or the order was cancelled) or could represent a data collection issue for the data set. \n",
    "  \n",
    "\n",
    "- *What products do customers order?*:\n",
    "  - The 20 most popular products customers ordered were mostly produce with the exception of organic whole milk. Bananas were the most popular product!\n",
    "  - Bananas are also the most reordered product. The top 20 most reordered items overlap quite a bit with the list of the top 20 popular items; Customers may be more likely to reorder popular items.\n",
    "  - Bananas yet again come in first among the top 20 items that are added to a customer’s cart first. The other products that are most often added to the cart first are a mix of produce, dairy products, water, and carbonated water.\n",
    "  \n",
    "#### Note about the limitations of the analysis:\n",
    "- The dataset used in this analysis clearly excluded some relevant historical data as evidenced by the fact that some products had a 100% proportion of the count of times they were reordered compared to the total count of times they were ordered. The same is true for the proportion of reordered items to total items that an individual customer could have. \n",
    "  - As a result, we cannot make accurate conclusions about related data. \n",
    "  - We could confirm the exclusion of missing historical data by looking at indivdual cases of missing historical data in the data; for example, the minimum value for the 'order_number' column in the orders file (which reflects the number of times this customer has placed an order) was 8. This tells us that data for orders 1-7 for this customer is not present in the data set.\n",
    "\n"
   ]
  }
 ],
 "metadata": {
  "kernelspec": {
   "display_name": "Python 3 (ipykernel)",
   "language": "python",
   "name": "python3"
  },
  "language_info": {
   "codemirror_mode": {
    "name": "ipython",
    "version": 3
   },
   "file_extension": ".py",
   "mimetype": "text/x-python",
   "name": "python",
   "nbconvert_exporter": "python",
   "pygments_lexer": "ipython3",
   "version": "3.12.2"
  },
  "toc": {
   "base_numbering": 1,
   "nav_menu": {},
   "number_sections": true,
   "sideBar": true,
   "skip_h1_title": true,
   "title_cell": "Table of Contents",
   "title_sidebar": "Contents",
   "toc_cell": false,
   "toc_position": {},
   "toc_section_display": true,
   "toc_window_display": true
  },
  "vscode": {
   "interpreter": {
    "hash": "01a7be9ec63e704a62cefc5fe7a4756944464ee731be31632bdf42a4cb4688cf"
   }
  }
 },
 "nbformat": 4,
 "nbformat_minor": 5
}
