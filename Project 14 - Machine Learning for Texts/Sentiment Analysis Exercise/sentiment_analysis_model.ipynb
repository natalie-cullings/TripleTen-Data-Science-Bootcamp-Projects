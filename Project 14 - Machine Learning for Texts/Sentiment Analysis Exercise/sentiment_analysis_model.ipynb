{
 "cells": [
  {
   "cell_type": "code",
   "execution_count": 1,
   "metadata": {},
   "outputs": [],
   "source": [
    "# import necessary libraries\n",
    "import pandas as pd\n",
    "from sklearn.linear_model import LogisticRegression\n",
    "import nltk\n",
    "from nltk.corpus import stopwords\n",
    "from sklearn.feature_extraction.text import TfidfVectorizer\n",
    "from sklearn.metrics import accuracy_score\n",
    "\n",
    "# import the train and test data to dataframes\n",
    "train = pd.read_csv('moved_imdb_reviews_small_lemm_train.tsv', sep='\\t')\n",
    "test = pd.read_csv('moved_imdb_reviews_small_lemm_test.tsv', sep='\\t')\n",
    "\n",
    "# specify train label and store the lemmatized reviews in the train_reviews variable\n",
    "train_reviews = train['review_lemm']\n",
    "y_train = train['pos']\n",
    "\n",
    "# store the lemmatized reviews in the test_reviews column\n",
    "test_reviews = test['review_lemm']\n",
    "\n",
    "# initialize the logistic regression model\n",
    "model = LogisticRegression()\n",
    "\n",
    "# specify the stop words to the Tfidf vectorizer\n",
    "count_tf_idf = TfidfVectorizer(stop_words='english')\n",
    "\n",
    "# train and transform the train reviews \n",
    "X_train = count_tf_idf.fit_transform(train_reviews)\n",
    "\n",
    "# transform the test reviews\n",
    "X_test = count_tf_idf.transform(test_reviews)\n",
    "\n",
    "# fit the model with the training data\n",
    "model.fit(X_train, y_train)\n",
    "\n",
    "# make predictions on the test features and store them in a new 'pos' column within the test dataframe\n",
    "test['pos'] = model.predict(X_test)\n",
    "\n",
    "# save the predictions to the predictions.csv file\n",
    "test.to_csv('predictions', index=False)\n"
   ]
  }
 ],
 "metadata": {
  "kernelspec": {
   "display_name": ".venv",
   "language": "python",
   "name": "python3"
  },
  "language_info": {
   "codemirror_mode": {
    "name": "ipython",
    "version": 3
   },
   "file_extension": ".py",
   "mimetype": "text/x-python",
   "name": "python",
   "nbconvert_exporter": "python",
   "pygments_lexer": "ipython3",
   "version": "3.12.2"
  }
 },
 "nbformat": 4,
 "nbformat_minor": 2
}
